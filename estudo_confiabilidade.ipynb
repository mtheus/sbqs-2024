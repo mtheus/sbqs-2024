{
 "cells": [
  {
   "cell_type": "code",
   "execution_count": 17,
   "id": "6e3ad7a368dd1cdd",
   "metadata": {
    "ExecuteTime": {
     "end_time": "2024-08-07T08:03:35.492391Z",
     "start_time": "2024-08-07T08:03:32.989549Z"
    }
   },
   "outputs": [],
   "source": [
    "!echo repos/*-logfile.log | xargs cat > logfile.log\n",
    "!awk '(NR == 1) || (FNR > 1)' repos/*-abs-churn.csv > abs-churn.csv\n",
    "!awk '(NR == 1) || (FNR > 1)' repos/*-age.csv > age.csv\n",
    "!awk '(NR == 1) || (FNR > 1)' repos/*-author-churn.csv > author-churn.csv\n",
    "!awk '(NR == 1) || (FNR > 1)' repos/*-authors.csv > authors.csv\n",
    "!awk '(NR == 1) || (FNR > 1)' repos/*-communication.csv > communication.csv\n",
    "!awk '(NR == 1) || (FNR > 1)' repos/*-coupling.csv > coupling.csv\n",
    "!awk '(NR == 1) || (FNR > 1)' repos/*-entity-churn.csv > entity-churn.csv\n",
    "!awk '(NR == 1) || (FNR > 1)' repos/*-entity-effort.csv > entity-effort.csv\n",
    "!awk '(NR == 1) || (FNR > 1)' repos/*-entity-ownership.csv > entity-ownership.csv\n",
    "!awk '(NR == 1) || (FNR > 1)' repos/*-fragmentation.csv > fragmentation.csv\n",
    "!awk '(NR == 1) || (FNR > 1)' repos/*-identity.csv > identity.csv\n",
    "!awk '(NR == 1) || (FNR > 1)' repos/*-main-dev.csv > main-dev.csv\n",
    "!awk '(NR == 1) || (FNR > 1)' repos/*-main-dev-by-revs.csv > main-dev-by-revs.csv\n",
    "#!awk '(NR == 1) || (FNR > 1)' repos/*-messages.csv > messages.csv\n",
    "!awk '(NR == 1) || (FNR > 1)' repos/*-refactoring-main-dev.csv > refactoring-main-dev.csv\n",
    "!awk '(NR == 1) || (FNR > 1)' repos/*-revisions.csv > revisions.csv\n",
    "!awk '(NR == 1) || (FNR > 1)' repos/*-soc.csv > soc.csv\n",
    "!awk '(NR == 1) || (FNR > 1)' repos/*-summary.csv > summary.csv"
   ]
  },
  {
   "cell_type": "code",
   "execution_count": 18,
   "id": "439364703a22faac",
   "metadata": {
    "ExecuteTime": {
     "end_time": "2024-08-07T08:03:35.840700Z",
     "start_time": "2024-08-07T08:03:35.496798Z"
    }
   },
   "outputs": [],
   "source": [
    "import pandas as pd\n",
    "import re\n",
    "\n",
    "def parse_git_log(file_path):\n",
    "    commit_pattern = re.compile(r'^\\[([a-f0-9]+)\\] (.+) (\\d{4}-\\d{2}-\\d{2} \\d{2}:\\d{2}:\\d{2} [+-]\\d{4}) (.+)$')\n",
    "    file_pattern = re.compile(r'^(\\d+)\\s+(\\d+)\\s+(.+)$')\n",
    "\n",
    "    commits = []\n",
    "    files = []\n",
    "\n",
    "    with open(file_path, 'r', encoding='utf-8') as file:\n",
    "        lines = file.readlines()\n",
    "    \n",
    "    current_commit = None\n",
    "\n",
    "    for line in lines:\n",
    "        commit_match = commit_pattern.match(line.strip())\n",
    "        if commit_match:\n",
    "            commit_id, author, date, message = commit_match.groups()\n",
    "            current_commit = {\n",
    "                'commit_id': commit_id,\n",
    "                'author': author,\n",
    "                'date': date,\n",
    "                'message': message\n",
    "            }\n",
    "            commits.append(current_commit)\n",
    "        else:\n",
    "            file_match = file_pattern.match(line.strip())\n",
    "            if file_match and current_commit:\n",
    "                added, deleted, filepath = file_match.groups()\n",
    "                files.append({\n",
    "                    'commit_id': current_commit['commit_id'],\n",
    "                    'added': int(added),\n",
    "                    'deleted': int(deleted),\n",
    "                    'filepath': filepath\n",
    "                })\n",
    "\n",
    "    return commits, files\n",
    "\n",
    "# Analisando o log\n",
    "commits, files = parse_git_log(\"logfile.log\")\n",
    "\n",
    "# Criando os DataFrames\n",
    "commits_df = pd.DataFrame(commits)\n",
    "files_df = pd.DataFrame(files)"
   ]
  },
  {
   "cell_type": "code",
   "execution_count": null,
   "id": "3a4587546d46561e",
   "metadata": {
    "ExecuteTime": {
     "end_time": "2024-08-07T08:03:35.885445Z",
     "start_time": "2024-08-07T08:03:35.843248Z"
    }
   },
   "outputs": [],
   "source": [
    "commits_df"
   ]
  },
  {
   "cell_type": "code",
   "execution_count": 20,
   "id": "1b85a45eccbf3b50",
   "metadata": {
    "ExecuteTime": {
     "end_time": "2024-08-07T08:03:35.900056Z",
     "start_time": "2024-08-07T08:03:35.888355Z"
    }
   },
   "outputs": [
    {
     "data": {
      "text/html": [
       "<div>\n",
       "<style scoped>\n",
       "    .dataframe tbody tr th:only-of-type {\n",
       "        vertical-align: middle;\n",
       "    }\n",
       "\n",
       "    .dataframe tbody tr th {\n",
       "        vertical-align: top;\n",
       "    }\n",
       "\n",
       "    .dataframe thead th {\n",
       "        text-align: right;\n",
       "    }\n",
       "</style>\n",
       "<table border=\"1\" class=\"dataframe\">\n",
       "  <thead>\n",
       "    <tr style=\"text-align: right;\">\n",
       "      <th></th>\n",
       "      <th>commit_id</th>\n",
       "      <th>added</th>\n",
       "      <th>deleted</th>\n",
       "      <th>filepath</th>\n",
       "    </tr>\n",
       "  </thead>\n",
       "  <tbody>\n",
       "    <tr>\n",
       "      <th>0</th>\n",
       "      <td>75223d48</td>\n",
       "      <td>7</td>\n",
       "      <td>0</td>\n",
       "      <td>CHANGELOG.md</td>\n",
       "    </tr>\n",
       "    <tr>\n",
       "      <th>1</th>\n",
       "      <td>75223d48</td>\n",
       "      <td>1</td>\n",
       "      <td>1</td>\n",
       "      <td>package.json</td>\n",
       "    </tr>\n",
       "    <tr>\n",
       "      <th>2</th>\n",
       "      <td>3144340c</td>\n",
       "      <td>13</td>\n",
       "      <td>0</td>\n",
       "      <td>src/common/utils/sort.ts</td>\n",
       "    </tr>\n",
       "    <tr>\n",
       "      <th>3</th>\n",
       "      <td>3144340c</td>\n",
       "      <td>2</td>\n",
       "      <td>5</td>\n",
       "      <td>src/containers/DrawerFilter/components/ReasonF...</td>\n",
       "    </tr>\n",
       "    <tr>\n",
       "      <th>4</th>\n",
       "      <td>3144340c</td>\n",
       "      <td>27</td>\n",
       "      <td>22</td>\n",
       "      <td>src/pages/UserControl/InputGroups.tsx</td>\n",
       "    </tr>\n",
       "    <tr>\n",
       "      <th>...</th>\n",
       "      <td>...</td>\n",
       "      <td>...</td>\n",
       "      <td>...</td>\n",
       "      <td>...</td>\n",
       "    </tr>\n",
       "    <tr>\n",
       "      <th>42139</th>\n",
       "      <td>447356fa</td>\n",
       "      <td>5</td>\n",
       "      <td>0</td>\n",
       "      <td>src/services/health.ts</td>\n",
       "    </tr>\n",
       "    <tr>\n",
       "      <th>42140</th>\n",
       "      <td>447356fa</td>\n",
       "      <td>5</td>\n",
       "      <td>0</td>\n",
       "      <td>src/setupTests.ts</td>\n",
       "    </tr>\n",
       "    <tr>\n",
       "      <th>42141</th>\n",
       "      <td>447356fa</td>\n",
       "      <td>8</td>\n",
       "      <td>0</td>\n",
       "      <td>src/styles.d.ts</td>\n",
       "    </tr>\n",
       "    <tr>\n",
       "      <th>42142</th>\n",
       "      <td>447356fa</td>\n",
       "      <td>27</td>\n",
       "      <td>0</td>\n",
       "      <td>tsconfig.json</td>\n",
       "    </tr>\n",
       "    <tr>\n",
       "      <th>42143</th>\n",
       "      <td>447356fa</td>\n",
       "      <td>13326</td>\n",
       "      <td>0</td>\n",
       "      <td>yarn.lock</td>\n",
       "    </tr>\n",
       "  </tbody>\n",
       "</table>\n",
       "<p>42144 rows × 4 columns</p>\n",
       "</div>"
      ],
      "text/plain": [
       "      commit_id  added  deleted  \\\n",
       "0      75223d48      7        0   \n",
       "1      75223d48      1        1   \n",
       "2      3144340c     13        0   \n",
       "3      3144340c      2        5   \n",
       "4      3144340c     27       22   \n",
       "...         ...    ...      ...   \n",
       "42139  447356fa      5        0   \n",
       "42140  447356fa      5        0   \n",
       "42141  447356fa      8        0   \n",
       "42142  447356fa     27        0   \n",
       "42143  447356fa  13326        0   \n",
       "\n",
       "                                                filepath  \n",
       "0                                           CHANGELOG.md  \n",
       "1                                           package.json  \n",
       "2                               src/common/utils/sort.ts  \n",
       "3      src/containers/DrawerFilter/components/ReasonF...  \n",
       "4                  src/pages/UserControl/InputGroups.tsx  \n",
       "...                                                  ...  \n",
       "42139                             src/services/health.ts  \n",
       "42140                                  src/setupTests.ts  \n",
       "42141                                    src/styles.d.ts  \n",
       "42142                                      tsconfig.json  \n",
       "42143                                          yarn.lock  \n",
       "\n",
       "[42144 rows x 4 columns]"
      ]
     },
     "execution_count": 20,
     "metadata": {},
     "output_type": "execute_result"
    }
   ],
   "source": [
    "files_df"
   ]
  },
  {
   "cell_type": "code",
   "execution_count": null,
   "id": "c7c6f717284e0383",
   "metadata": {
    "ExecuteTime": {
     "end_time": "2024-08-07T08:03:35.992644Z",
     "start_time": "2024-08-07T08:03:35.902196Z"
    }
   },
   "outputs": [],
   "source": [
    "import pandas as pd\n",
    "import re\n",
    "\n",
    "def classify_change(message):\n",
    "    if re.search(r'\\bfeat\\b|\\bfeat:\\b|\\bfeat\\(', message, re.IGNORECASE):\n",
    "        return 'feature'\n",
    "    elif re.search(r'chore\\(release\\):', message, re.IGNORECASE):\n",
    "        return 'release'\n",
    "    elif re.search(r'\\bfix\\b|\\bfix:\\b|\\bfix\\(', message, re.IGNORECASE):\n",
    "        return 'fix'\n",
    "    elif re.search(r'\\bchore\\b|\\bchore:\\b|\\bchore\\(', message, re.IGNORECASE):\n",
    "        return 'chore'\n",
    "    elif re.search(r'\\bmerge\\b|\\bmerge:\\b|\\bmerge\\(', message, re.IGNORECASE):\n",
    "        return 'merge'\n",
    "    else:\n",
    "        return 'other'\n",
    "\n",
    "def extract_release_number(message):\n",
    "    match = re.search(r'chore\\(release\\):\\s*(\\d+\\.\\d+\\.\\d+)', message, re.IGNORECASE)\n",
    "    if match:\n",
    "        return match.group(1)\n",
    "    else:\n",
    "        return None\n",
    "\n",
    "def classify_release(release_number):\n",
    "    if release_number:\n",
    "        version, major, minor = map(int, release_number.split('.'))\n",
    "        if minor == 0:\n",
    "            return 'major'\n",
    "        else:\n",
    "            return 'minor'\n",
    "    return None\n",
    "\n",
    "# Adicionando as novas colunas ao commits_df\n",
    "commits_df['change_type'] = commits_df['message'].apply(classify_change)\n",
    "commits_df['release_number'] = commits_df['message'].apply(extract_release_number)\n",
    "commits_df['release_class'] = commits_df['release_number'].apply(classify_release)\n",
    "\n",
    "commits_df\n"
   ]
  },
  {
   "cell_type": "code",
   "execution_count": 22,
   "id": "8ce9be66fd5465b2",
   "metadata": {
    "ExecuteTime": {
     "end_time": "2024-08-07T08:03:37.528780Z",
     "start_time": "2024-08-07T08:03:35.994827Z"
    }
   },
   "outputs": [
    {
     "data": {
      "text/html": [
       "<div>\n",
       "<style scoped>\n",
       "    .dataframe tbody tr th:only-of-type {\n",
       "        vertical-align: middle;\n",
       "    }\n",
       "\n",
       "    .dataframe tbody tr th {\n",
       "        vertical-align: top;\n",
       "    }\n",
       "\n",
       "    .dataframe thead th {\n",
       "        text-align: right;\n",
       "    }\n",
       "</style>\n",
       "<table border=\"1\" class=\"dataframe\">\n",
       "  <thead>\n",
       "    <tr style=\"text-align: right;\">\n",
       "      <th></th>\n",
       "      <th>commit_id</th>\n",
       "      <th>added</th>\n",
       "      <th>deleted</th>\n",
       "      <th>filepath</th>\n",
       "      <th>release_number</th>\n",
       "      <th>filename</th>\n",
       "    </tr>\n",
       "  </thead>\n",
       "  <tbody>\n",
       "    <tr>\n",
       "      <th>0</th>\n",
       "      <td>75223d48</td>\n",
       "      <td>7</td>\n",
       "      <td>0</td>\n",
       "      <td>CHANGELOG.md</td>\n",
       "      <td>0.109.0</td>\n",
       "      <td>CHANGELOG.md</td>\n",
       "    </tr>\n",
       "    <tr>\n",
       "      <th>1</th>\n",
       "      <td>75223d48</td>\n",
       "      <td>1</td>\n",
       "      <td>1</td>\n",
       "      <td>package.json</td>\n",
       "      <td>0.109.0</td>\n",
       "      <td>package.json</td>\n",
       "    </tr>\n",
       "    <tr>\n",
       "      <th>2</th>\n",
       "      <td>3144340c</td>\n",
       "      <td>13</td>\n",
       "      <td>0</td>\n",
       "      <td>src/common/utils/sort.ts</td>\n",
       "      <td>1.124.0</td>\n",
       "      <td>src/common/utils/sort.ts</td>\n",
       "    </tr>\n",
       "    <tr>\n",
       "      <th>3</th>\n",
       "      <td>3144340c</td>\n",
       "      <td>2</td>\n",
       "      <td>5</td>\n",
       "      <td>src/containers/DrawerFilter/components/ReasonF...</td>\n",
       "      <td>1.124.0</td>\n",
       "      <td>src/containers/DrawerFilter/components/ReasonF...</td>\n",
       "    </tr>\n",
       "    <tr>\n",
       "      <th>4</th>\n",
       "      <td>3144340c</td>\n",
       "      <td>27</td>\n",
       "      <td>22</td>\n",
       "      <td>src/pages/UserControl/InputGroups.tsx</td>\n",
       "      <td>1.124.0</td>\n",
       "      <td>src/pages/UserControl/InputGroups.tsx</td>\n",
       "    </tr>\n",
       "    <tr>\n",
       "      <th>...</th>\n",
       "      <td>...</td>\n",
       "      <td>...</td>\n",
       "      <td>...</td>\n",
       "      <td>...</td>\n",
       "      <td>...</td>\n",
       "      <td>...</td>\n",
       "    </tr>\n",
       "    <tr>\n",
       "      <th>42139</th>\n",
       "      <td>447356fa</td>\n",
       "      <td>5</td>\n",
       "      <td>0</td>\n",
       "      <td>src/services/health.ts</td>\n",
       "      <td>0.130.1</td>\n",
       "      <td>src/services/health.ts</td>\n",
       "    </tr>\n",
       "    <tr>\n",
       "      <th>42140</th>\n",
       "      <td>447356fa</td>\n",
       "      <td>5</td>\n",
       "      <td>0</td>\n",
       "      <td>src/setupTests.ts</td>\n",
       "      <td>0.130.1</td>\n",
       "      <td>src/setupTests.ts</td>\n",
       "    </tr>\n",
       "    <tr>\n",
       "      <th>42141</th>\n",
       "      <td>447356fa</td>\n",
       "      <td>8</td>\n",
       "      <td>0</td>\n",
       "      <td>src/styles.d.ts</td>\n",
       "      <td>0.130.1</td>\n",
       "      <td>src/styles.d.ts</td>\n",
       "    </tr>\n",
       "    <tr>\n",
       "      <th>42142</th>\n",
       "      <td>447356fa</td>\n",
       "      <td>27</td>\n",
       "      <td>0</td>\n",
       "      <td>tsconfig.json</td>\n",
       "      <td>0.130.1</td>\n",
       "      <td>tsconfig.json</td>\n",
       "    </tr>\n",
       "    <tr>\n",
       "      <th>42143</th>\n",
       "      <td>447356fa</td>\n",
       "      <td>13326</td>\n",
       "      <td>0</td>\n",
       "      <td>yarn.lock</td>\n",
       "      <td>0.130.1</td>\n",
       "      <td>yarn.lock</td>\n",
       "    </tr>\n",
       "  </tbody>\n",
       "</table>\n",
       "<p>42144 rows × 6 columns</p>\n",
       "</div>"
      ],
      "text/plain": [
       "      commit_id  added  deleted  \\\n",
       "0      75223d48      7        0   \n",
       "1      75223d48      1        1   \n",
       "2      3144340c     13        0   \n",
       "3      3144340c      2        5   \n",
       "4      3144340c     27       22   \n",
       "...         ...    ...      ...   \n",
       "42139  447356fa      5        0   \n",
       "42140  447356fa      5        0   \n",
       "42141  447356fa      8        0   \n",
       "42142  447356fa     27        0   \n",
       "42143  447356fa  13326        0   \n",
       "\n",
       "                                                filepath release_number  \\\n",
       "0                                           CHANGELOG.md        0.109.0   \n",
       "1                                           package.json        0.109.0   \n",
       "2                               src/common/utils/sort.ts        1.124.0   \n",
       "3      src/containers/DrawerFilter/components/ReasonF...        1.124.0   \n",
       "4                  src/pages/UserControl/InputGroups.tsx        1.124.0   \n",
       "...                                                  ...            ...   \n",
       "42139                             src/services/health.ts        0.130.1   \n",
       "42140                                  src/setupTests.ts        0.130.1   \n",
       "42141                                    src/styles.d.ts        0.130.1   \n",
       "42142                                      tsconfig.json        0.130.1   \n",
       "42143                                          yarn.lock        0.130.1   \n",
       "\n",
       "                                                filename  \n",
       "0                                           CHANGELOG.md  \n",
       "1                                           package.json  \n",
       "2                               src/common/utils/sort.ts  \n",
       "3      src/containers/DrawerFilter/components/ReasonF...  \n",
       "4                  src/pages/UserControl/InputGroups.tsx  \n",
       "...                                                  ...  \n",
       "42139                             src/services/health.ts  \n",
       "42140                                  src/setupTests.ts  \n",
       "42141                                    src/styles.d.ts  \n",
       "42142                                      tsconfig.json  \n",
       "42143                                          yarn.lock  \n",
       "\n",
       "[42144 rows x 6 columns]"
      ]
     },
     "execution_count": 22,
     "metadata": {},
     "output_type": "execute_result"
    }
   ],
   "source": [
    "import pandas as pd\n",
    "import re\n",
    "\n",
    "def classify_change(message):\n",
    "    if re.search(r'\\bfeat\\b|\\bfeat:\\b|\\bfeat\\(', message, re.IGNORECASE):\n",
    "        return 'feature'\n",
    "    elif re.search(r'chore\\(release\\):', message, re.IGNORECASE):\n",
    "        return 'release'\n",
    "    elif re.search(r'\\bfix\\b|\\bfix:\\b|\\bfix\\(', message, re.IGNORECASE):\n",
    "        return 'fix'\n",
    "    elif re.search(r'\\bchore\\b|\\bchore:\\b|\\bchore\\(', message, re.IGNORECASE):\n",
    "        return 'chore'\n",
    "    elif re.search(r'\\bmerge\\b|\\bmerge:\\b|\\bmerge\\(', message, re.IGNORECASE):\n",
    "        return 'merge'\n",
    "    else:\n",
    "        return 'other'\n",
    "\n",
    "def extract_release_number(message):\n",
    "    match = re.search(r'chore\\(release\\):\\s*(\\d+\\.\\d+\\.\\d+)', message, re.IGNORECASE)\n",
    "    if match:\n",
    "        return match.group(1)\n",
    "    else:\n",
    "        return None\n",
    "\n",
    "def classify_release(release_number):\n",
    "    if release_number:\n",
    "        major, minor, _ = map(int, release_number.split('.'))\n",
    "        if major > 0:\n",
    "            return 'major'\n",
    "        else:\n",
    "            return 'minor'\n",
    "    return None\n",
    "\n",
    "\n",
    "# Adicionando as novas colunas ao commits_df\n",
    "commits_df['change_type'] = commits_df['message'].apply(classify_change)\n",
    "commits_df['release_number'] = commits_df['message'].apply(extract_release_number)\n",
    "commits_df['release_class'] = commits_df['release_number'].apply(classify_release)\n",
    "\n",
    "# Convertendo a coluna de data para datetime\n",
    "commits_df['date'] = pd.to_datetime(commits_df['date'], format='%Y-%m-%d %H:%M:%S%z', utc=True)\n",
    "\n",
    "# Ordenando os commits por data\n",
    "commits_df = commits_df.sort_values(by='date')\n",
    "\n",
    "# Criando um dicionário de commit_id para release_number\n",
    "commit_to_release = {}\n",
    "current_release = None\n",
    "\n",
    "for _, row in commits_df.iterrows():\n",
    "    if row['release_number']:\n",
    "        current_release = row['release_number']\n",
    "    commit_to_release[row['commit_id']] = current_release\n",
    "\n",
    "# Adicionando a coluna release_number ao files_df\n",
    "files_df['release_number'] = files_df['commit_id'].map(commit_to_release)\n",
    "files_df['filename'] = files_df['filepath']\n",
    "\n",
    "files_df"
   ]
  },
  {
   "cell_type": "code",
   "execution_count": 23,
   "id": "ea58aa4e836c0449",
   "metadata": {
    "ExecuteTime": {
     "end_time": "2024-08-07T08:03:38.703713Z",
     "start_time": "2024-08-07T08:03:37.532146Z"
    }
   },
   "outputs": [
    {
     "data": {
      "text/html": [
       "<div>\n",
       "<style scoped>\n",
       "    .dataframe tbody tr th:only-of-type {\n",
       "        vertical-align: middle;\n",
       "    }\n",
       "\n",
       "    .dataframe tbody tr th {\n",
       "        vertical-align: top;\n",
       "    }\n",
       "\n",
       "    .dataframe thead th {\n",
       "        text-align: right;\n",
       "    }\n",
       "</style>\n",
       "<table border=\"1\" class=\"dataframe\">\n",
       "  <thead>\n",
       "    <tr style=\"text-align: right;\">\n",
       "      <th></th>\n",
       "      <th>commit_id</th>\n",
       "      <th>filepath</th>\n",
       "      <th>message</th>\n",
       "      <th>last_feature_commit_id</th>\n",
       "      <th>last_feature_message</th>\n",
       "      <th>last_commit_id</th>\n",
       "      <th>last_commit_message</th>\n",
       "      <th>TBI</th>\n",
       "      <th>TBF</th>\n",
       "      <th>TBF_CLASS</th>\n",
       "      <th>TBI_CLASS</th>\n",
       "      <th>TBF_CLASS_NAME</th>\n",
       "      <th>TBI_CLASS_NAME</th>\n",
       "      <th>TBF_CLASS_NAME_1W</th>\n",
       "      <th>TBI_CLASS_NAME_1W</th>\n",
       "      <th>TBF_CLASS_NAME_1M</th>\n",
       "      <th>TBI_CLASS_NAME_1M</th>\n",
       "    </tr>\n",
       "  </thead>\n",
       "  <tbody>\n",
       "    <tr>\n",
       "      <th>0</th>\n",
       "      <td>118c6cac</td>\n",
       "      <td>app/common/mapping/fields.py</td>\n",
       "      <td>fix: partner store errors</td>\n",
       "      <td>299ea94c</td>\n",
       "      <td>feat: universe minimal lead</td>\n",
       "      <td>e67a9230</td>\n",
       "      <td>fix: contact list min name length error</td>\n",
       "      <td>115</td>\n",
       "      <td>1</td>\n",
       "      <td>1</td>\n",
       "      <td>24</td>\n",
       "      <td>1w</td>\n",
       "      <td>+6m</td>\n",
       "      <td>1w</td>\n",
       "      <td>+</td>\n",
       "      <td>1m</td>\n",
       "      <td>+</td>\n",
       "    </tr>\n",
       "    <tr>\n",
       "      <th>1</th>\n",
       "      <td>65f4d295</td>\n",
       "      <td>src/containers/BulkAction/components/BulkActio...</td>\n",
       "      <td>fix(project): fix: max length bulk action form</td>\n",
       "      <td>9545c96f</td>\n",
       "      <td>feat(project): migracao maas-components v4</td>\n",
       "      <td>f43e9bc8</td>\n",
       "      <td>fix(project): fix: max length bulk action form</td>\n",
       "      <td>18</td>\n",
       "      <td>0</td>\n",
       "      <td>1</td>\n",
       "      <td>4</td>\n",
       "      <td>1w</td>\n",
       "      <td>1m</td>\n",
       "      <td>1w</td>\n",
       "      <td>+</td>\n",
       "      <td>1m</td>\n",
       "      <td>1m</td>\n",
       "    </tr>\n",
       "    <tr>\n",
       "      <th>2</th>\n",
       "      <td>5756f760</td>\n",
       "      <td>migrations/202305240857_get_risk_analysis_adju...</td>\n",
       "      <td>chore: treating invalid cpf</td>\n",
       "      <td>e29dc736</td>\n",
       "      <td>feat: utilizar a nova versao do ps-security cm01</td>\n",
       "      <td>58ac31f2</td>\n",
       "      <td>chore: ajustes code review</td>\n",
       "      <td>56</td>\n",
       "      <td>0</td>\n",
       "      <td>1</td>\n",
       "      <td>12</td>\n",
       "      <td>1w</td>\n",
       "      <td>+6m</td>\n",
       "      <td>1w</td>\n",
       "      <td>+</td>\n",
       "      <td>1m</td>\n",
       "      <td>+</td>\n",
       "    </tr>\n",
       "    <tr>\n",
       "      <th>3</th>\n",
       "      <td>167d2fff</td>\n",
       "      <td>migrations/202309140917_create_lead_mma.py</td>\n",
       "      <td>chore: change financial email</td>\n",
       "      <td>e29dc736</td>\n",
       "      <td>feat: utilizar a nova versao do ps-security cm01</td>\n",
       "      <td>7f88d565</td>\n",
       "      <td>chore: send empty string account name</td>\n",
       "      <td>62</td>\n",
       "      <td>47</td>\n",
       "      <td>12</td>\n",
       "      <td>12</td>\n",
       "      <td>+6m</td>\n",
       "      <td>+6m</td>\n",
       "      <td>+</td>\n",
       "      <td>+</td>\n",
       "      <td>+</td>\n",
       "      <td>+</td>\n",
       "    </tr>\n",
       "    <tr>\n",
       "      <th>4</th>\n",
       "      <td>5b131268</td>\n",
       "      <td>src/containers/ReportTableDisplay/ReportTableC...</td>\n",
       "      <td>Feature/remover aprovado por e agrupar canais</td>\n",
       "      <td>5fdd0de2</td>\n",
       "      <td>feat(project): feat: remove resultado da regra...</td>\n",
       "      <td>530bde49</td>\n",
       "      <td>fix(blocklist-new): removendo flag de acao manual</td>\n",
       "      <td>53</td>\n",
       "      <td>14</td>\n",
       "      <td>4</td>\n",
       "      <td>12</td>\n",
       "      <td>1m</td>\n",
       "      <td>+6m</td>\n",
       "      <td>+</td>\n",
       "      <td>+</td>\n",
       "      <td>1m</td>\n",
       "      <td>+</td>\n",
       "    </tr>\n",
       "    <tr>\n",
       "      <th>...</th>\n",
       "      <td>...</td>\n",
       "      <td>...</td>\n",
       "      <td>...</td>\n",
       "      <td>...</td>\n",
       "      <td>...</td>\n",
       "      <td>...</td>\n",
       "      <td>...</td>\n",
       "      <td>...</td>\n",
       "      <td>...</td>\n",
       "      <td>...</td>\n",
       "      <td>...</td>\n",
       "      <td>...</td>\n",
       "      <td>...</td>\n",
       "      <td>...</td>\n",
       "      <td>...</td>\n",
       "      <td>...</td>\n",
       "      <td>...</td>\n",
       "    </tr>\n",
       "    <tr>\n",
       "      <th>2368</th>\n",
       "      <td>55f47b30</td>\n",
       "      <td>requirements/base.txt</td>\n",
       "      <td>Initial commit</td>\n",
       "      <td>1d6bf8af</td>\n",
       "      <td>feat: add google re2</td>\n",
       "      <td>8190c6d2</td>\n",
       "      <td>Add blocklist rules CRUD APIs</td>\n",
       "      <td>298</td>\n",
       "      <td>10</td>\n",
       "      <td>4</td>\n",
       "      <td>24</td>\n",
       "      <td>1m</td>\n",
       "      <td>+6m</td>\n",
       "      <td>+</td>\n",
       "      <td>+</td>\n",
       "      <td>1m</td>\n",
       "      <td>+</td>\n",
       "    </tr>\n",
       "    <tr>\n",
       "      <th>2369</th>\n",
       "      <td>55f47b30</td>\n",
       "      <td>.gitignore</td>\n",
       "      <td>Initial commit</td>\n",
       "      <td>444ca5b2</td>\n",
       "      <td>feat(blocklist): traduzindo</td>\n",
       "      <td>08fc5581</td>\n",
       "      <td>Ci/Cd.</td>\n",
       "      <td>208</td>\n",
       "      <td>26</td>\n",
       "      <td>4</td>\n",
       "      <td>24</td>\n",
       "      <td>1m</td>\n",
       "      <td>+6m</td>\n",
       "      <td>+</td>\n",
       "      <td>+</td>\n",
       "      <td>1m</td>\n",
       "      <td>+</td>\n",
       "    </tr>\n",
       "    <tr>\n",
       "      <th>2370</th>\n",
       "      <td>55f47b30</td>\n",
       "      <td>run.py</td>\n",
       "      <td>Initial commit</td>\n",
       "      <td>7b9098b4</td>\n",
       "      <td>feat: add workflow routes</td>\n",
       "      <td>8190c6d2</td>\n",
       "      <td>Add blocklist rules CRUD APIs</td>\n",
       "      <td>562</td>\n",
       "      <td>10</td>\n",
       "      <td>4</td>\n",
       "      <td>24</td>\n",
       "      <td>1m</td>\n",
       "      <td>+6m</td>\n",
       "      <td>+</td>\n",
       "      <td>+</td>\n",
       "      <td>1m</td>\n",
       "      <td>+</td>\n",
       "    </tr>\n",
       "    <tr>\n",
       "      <th>2371</th>\n",
       "      <td>55f47b30</td>\n",
       "      <td>conftest.py</td>\n",
       "      <td>Initial commit</td>\n",
       "      <td>f22c579a</td>\n",
       "      <td>feat: add revalidate task</td>\n",
       "      <td>8190c6d2</td>\n",
       "      <td>Add blocklist rules CRUD APIs</td>\n",
       "      <td>285</td>\n",
       "      <td>10</td>\n",
       "      <td>4</td>\n",
       "      <td>24</td>\n",
       "      <td>1m</td>\n",
       "      <td>+6m</td>\n",
       "      <td>+</td>\n",
       "      <td>+</td>\n",
       "      <td>1m</td>\n",
       "      <td>+</td>\n",
       "    </tr>\n",
       "    <tr>\n",
       "      <th>2372</th>\n",
       "      <td>55f47b30</td>\n",
       "      <td>requirements/develop.txt</td>\n",
       "      <td>Initial commit</td>\n",
       "      <td>2e9c71ba</td>\n",
       "      <td>feat: add validation kind and source</td>\n",
       "      <td>04efd339</td>\n",
       "      <td>Correcao do make lint</td>\n",
       "      <td>515</td>\n",
       "      <td>47</td>\n",
       "      <td>12</td>\n",
       "      <td>24</td>\n",
       "      <td>+6m</td>\n",
       "      <td>+6m</td>\n",
       "      <td>+</td>\n",
       "      <td>+</td>\n",
       "      <td>+</td>\n",
       "      <td>+</td>\n",
       "    </tr>\n",
       "  </tbody>\n",
       "</table>\n",
       "<p>2373 rows × 17 columns</p>\n",
       "</div>"
      ],
      "text/plain": [
       "     commit_id                                           filepath  \\\n",
       "0     118c6cac                       app/common/mapping/fields.py   \n",
       "1     65f4d295  src/containers/BulkAction/components/BulkActio...   \n",
       "2     5756f760  migrations/202305240857_get_risk_analysis_adju...   \n",
       "3     167d2fff         migrations/202309140917_create_lead_mma.py   \n",
       "4     5b131268  src/containers/ReportTableDisplay/ReportTableC...   \n",
       "...        ...                                                ...   \n",
       "2368  55f47b30                              requirements/base.txt   \n",
       "2369  55f47b30                                         .gitignore   \n",
       "2370  55f47b30                                             run.py   \n",
       "2371  55f47b30                                        conftest.py   \n",
       "2372  55f47b30                           requirements/develop.txt   \n",
       "\n",
       "                                             message last_feature_commit_id  \\\n",
       "0                          fix: partner store errors               299ea94c   \n",
       "1     fix(project): fix: max length bulk action form               9545c96f   \n",
       "2                        chore: treating invalid cpf               e29dc736   \n",
       "3                      chore: change financial email               e29dc736   \n",
       "4      Feature/remover aprovado por e agrupar canais               5fdd0de2   \n",
       "...                                              ...                    ...   \n",
       "2368                                  Initial commit               1d6bf8af   \n",
       "2369                                  Initial commit               444ca5b2   \n",
       "2370                                  Initial commit               7b9098b4   \n",
       "2371                                  Initial commit               f22c579a   \n",
       "2372                                  Initial commit               2e9c71ba   \n",
       "\n",
       "                                   last_feature_message last_commit_id  \\\n",
       "0                           feat: universe minimal lead       e67a9230   \n",
       "1            feat(project): migracao maas-components v4       f43e9bc8   \n",
       "2      feat: utilizar a nova versao do ps-security cm01       58ac31f2   \n",
       "3      feat: utilizar a nova versao do ps-security cm01       7f88d565   \n",
       "4     feat(project): feat: remove resultado da regra...       530bde49   \n",
       "...                                                 ...            ...   \n",
       "2368                               feat: add google re2       8190c6d2   \n",
       "2369                        feat(blocklist): traduzindo       08fc5581   \n",
       "2370                          feat: add workflow routes       8190c6d2   \n",
       "2371                          feat: add revalidate task       8190c6d2   \n",
       "2372               feat: add validation kind and source       04efd339   \n",
       "\n",
       "                                    last_commit_message  TBI  TBF  TBF_CLASS  \\\n",
       "0               fix: contact list min name length error  115    1          1   \n",
       "1        fix(project): fix: max length bulk action form   18    0          1   \n",
       "2                            chore: ajustes code review   56    0          1   \n",
       "3                 chore: send empty string account name   62   47         12   \n",
       "4     fix(blocklist-new): removendo flag de acao manual   53   14          4   \n",
       "...                                                 ...  ...  ...        ...   \n",
       "2368                      Add blocklist rules CRUD APIs  298   10          4   \n",
       "2369                                             Ci/Cd.  208   26          4   \n",
       "2370                      Add blocklist rules CRUD APIs  562   10          4   \n",
       "2371                      Add blocklist rules CRUD APIs  285   10          4   \n",
       "2372                              Correcao do make lint  515   47         12   \n",
       "\n",
       "      TBI_CLASS TBF_CLASS_NAME TBI_CLASS_NAME TBF_CLASS_NAME_1W  \\\n",
       "0            24             1w            +6m                1w   \n",
       "1             4             1w             1m                1w   \n",
       "2            12             1w            +6m                1w   \n",
       "3            12            +6m            +6m                 +   \n",
       "4            12             1m            +6m                 +   \n",
       "...         ...            ...            ...               ...   \n",
       "2368         24             1m            +6m                 +   \n",
       "2369         24             1m            +6m                 +   \n",
       "2370         24             1m            +6m                 +   \n",
       "2371         24             1m            +6m                 +   \n",
       "2372         24            +6m            +6m                 +   \n",
       "\n",
       "     TBI_CLASS_NAME_1W TBF_CLASS_NAME_1M TBI_CLASS_NAME_1M  \n",
       "0                    +                1m                 +  \n",
       "1                    +                1m                1m  \n",
       "2                    +                1m                 +  \n",
       "3                    +                 +                 +  \n",
       "4                    +                1m                 +  \n",
       "...                ...               ...               ...  \n",
       "2368                 +                1m                 +  \n",
       "2369                 +                1m                 +  \n",
       "2370                 +                1m                 +  \n",
       "2371                 +                1m                 +  \n",
       "2372                 +                 +                 +  \n",
       "\n",
       "[2373 rows x 17 columns]"
      ]
     },
     "execution_count": 23,
     "metadata": {},
     "output_type": "execute_result"
    }
   ],
   "source": [
    "import duckdb\n",
    "\n",
    "# Pegar todas as changes que tiveram fix\n",
    "\n",
    "df_reliability = duckdb.query(\"\"\"\n",
    "    with files as (\n",
    "        SELECT f.commit_id, f.filepath, c.message, c.date, c.change_type,\n",
    "            row_number() OVER (PARTITION BY f.filepath, c.change_type ORDER BY c.date) as row_num,\n",
    "            row_number() OVER (PARTITION BY f.filepath ORDER BY c.date) as row_num_filepath\n",
    "        FROM files_df f\n",
    "        JOIN commits_df c on c.commit_id = f.commit_id\n",
    "    )\n",
    "    select *,\n",
    "        CASE WHEN TBF <= 7 THEN 1 WHEN TBF <= 28 THEN 4 WHEN TBF <= 84 THEN 12 ELSE 24 END AS TBF_CLASS,\n",
    "        CASE WHEN TBI <= 7 THEN 1 WHEN TBI <= 28 THEN 4 WHEN TBI <= 84 THEN 12 ELSE 24 END AS TBI_CLASS,\n",
    "        CASE WHEN TBF <= 7 THEN '1w' WHEN TBF <= 28 THEN '1m' WHEN TBF <= 12 THEN '3m' ELSE '+6m' END AS TBF_CLASS_NAME,\n",
    "        CASE WHEN TBI <= 7 THEN '1w' WHEN TBI <= 28 THEN '1m' WHEN TBI <= 12 THEN '3m' ELSE '+6m' END AS TBI_CLASS_NAME,\n",
    "        CASE WHEN TBF <= 7 THEN '1w' ELSE '+' END AS TBF_CLASS_NAME_1W,\n",
    "        CASE WHEN TBI <= 7 THEN '1w' ELSE '+' END AS TBI_CLASS_NAME_1W,\n",
    "        CASE WHEN TBF <= 28 THEN '1m' ELSE '+' END AS TBF_CLASS_NAME_1M,\n",
    "        CASE WHEN TBI <= 28 THEN '1m' ELSE '+' END AS TBI_CLASS_NAME_1M\n",
    "    from ( \n",
    "        select f.commit_id, f.filepath, f.message, lf.last_feature_commit_id, lf.last_feature_message, lc.last_commit_id, lc.last_commit_message,\n",
    "        --, f.change_type \n",
    "        date_diff('days', f.date, lf.last_feature_date) as TBI, date_diff('days', f.date, lc.last_commit_date) TBF,\n",
    "        from files f \n",
    "        left join ( select commit_id as last_feature_commit_id, message as last_feature_message, \n",
    "                    date as last_feature_date, filepath as last_feature_filepath \n",
    "                    from files \n",
    "                where change_type = 'feature' and row_num = 1 ) lf \n",
    "            on f.filepath = lf.last_feature_filepath and lf.last_feature_date >= f.date\n",
    "        left join ( select commit_id as last_commit_id, message as last_commit_message, \n",
    "                    date as last_commit_date, filepath as last_commit_filepath \n",
    "                    from files \n",
    "                where row_num_filepath = f.row_num_filepath+1 ) lc\n",
    "            on f.filepath = lc.last_commit_filepath and lc.last_commit_date >= f.date\n",
    "        where lc.last_commit_id is not null \n",
    "            and lc.last_commit_id != last_feature_commit_id\n",
    "            and f.change_type not in ( 'feature', 'release' )\n",
    "        order by f.date desc\n",
    "    )\n",
    "\n",
    "\"\"\").to_df()\n",
    "df_reliability"
   ]
  },
  {
   "cell_type": "code",
   "execution_count": 24,
   "id": "538ccec9cdb53ca2",
   "metadata": {
    "ExecuteTime": {
     "end_time": "2024-08-07T08:03:38.971451Z",
     "start_time": "2024-08-07T08:03:38.706781Z"
    }
   },
   "outputs": [
    {
     "data": {
      "text/html": [
       "<div>\n",
       "<style scoped>\n",
       "    .dataframe tbody tr th:only-of-type {\n",
       "        vertical-align: middle;\n",
       "    }\n",
       "\n",
       "    .dataframe tbody tr th {\n",
       "        vertical-align: top;\n",
       "    }\n",
       "\n",
       "    .dataframe thead th {\n",
       "        text-align: right;\n",
       "    }\n",
       "</style>\n",
       "<table border=\"1\" class=\"dataframe\">\n",
       "  <thead>\n",
       "    <tr style=\"text-align: right;\">\n",
       "      <th></th>\n",
       "      <th>commit_id</th>\n",
       "      <th>filepath</th>\n",
       "      <th>message</th>\n",
       "      <th>date</th>\n",
       "      <th>change_type</th>\n",
       "      <th>row_num</th>\n",
       "      <th>row_num_filepath</th>\n",
       "      <th>last_commit_id</th>\n",
       "      <th>last_commit_message</th>\n",
       "      <th>last_commit_date</th>\n",
       "      <th>last_commit_filepath</th>\n",
       "    </tr>\n",
       "  </thead>\n",
       "  <tbody>\n",
       "    <tr>\n",
       "      <th>0</th>\n",
       "      <td>f38b9e5a</td>\n",
       "      <td>.devcontainer/Dockerfile.workspace</td>\n",
       "      <td>chore: add devcontainer</td>\n",
       "      <td>2023-09-04 17:30:29-03:00</td>\n",
       "      <td>chore</td>\n",
       "      <td>1</td>\n",
       "      <td>1</td>\n",
       "      <td>504078e2</td>\n",
       "      <td>feat: archive workflow</td>\n",
       "      <td>2024-02-01 06:59:09-03:00</td>\n",
       "      <td>.devcontainer/Dockerfile.workspace</td>\n",
       "    </tr>\n",
       "    <tr>\n",
       "      <th>1</th>\n",
       "      <td>f38b9e5a</td>\n",
       "      <td>.devcontainer/devcontainer.json</td>\n",
       "      <td>chore: add devcontainer</td>\n",
       "      <td>2023-09-04 17:30:29-03:00</td>\n",
       "      <td>chore</td>\n",
       "      <td>1</td>\n",
       "      <td>2</td>\n",
       "      <td>ae15d413</td>\n",
       "      <td>feat(dev container): add</td>\n",
       "      <td>2023-10-09 11:58:52-03:00</td>\n",
       "      <td>.devcontainer/devcontainer.json</td>\n",
       "    </tr>\n",
       "    <tr>\n",
       "      <th>2</th>\n",
       "      <td>268cae64</td>\n",
       "      <td>.dockerignore</td>\n",
       "      <td>ci: deploy e rollback no argocd em stg e prod</td>\n",
       "      <td>2021-09-15 19:16:10-03:00</td>\n",
       "      <td>other</td>\n",
       "      <td>1</td>\n",
       "      <td>1</td>\n",
       "      <td>28c61c8c</td>\n",
       "      <td>feat: heathcheck</td>\n",
       "      <td>2022-10-27 14:12:25-03:00</td>\n",
       "      <td>.dockerignore</td>\n",
       "    </tr>\n",
       "    <tr>\n",
       "      <th>3</th>\n",
       "      <td>ffd4710c</td>\n",
       "      <td>.test.env</td>\n",
       "      <td>chore: keycloak variables adjustment</td>\n",
       "      <td>2022-01-24 08:51:22-03:00</td>\n",
       "      <td>chore</td>\n",
       "      <td>1</td>\n",
       "      <td>2</td>\n",
       "      <td>9bf2d364</td>\n",
       "      <td>refactor: camadas, adicionado cdi e kk</td>\n",
       "      <td>2022-02-10 12:41:45-03:00</td>\n",
       "      <td>.test.env</td>\n",
       "    </tr>\n",
       "    <tr>\n",
       "      <th>4</th>\n",
       "      <td>9695d306</td>\n",
       "      <td>app/api/exception_handler.py</td>\n",
       "      <td>docs(api docs): use new examples keyword</td>\n",
       "      <td>2023-10-09 14:11:34-03:00</td>\n",
       "      <td>other</td>\n",
       "      <td>1</td>\n",
       "      <td>1</td>\n",
       "      <td>118c6cac</td>\n",
       "      <td>fix: partner store errors</td>\n",
       "      <td>2024-02-26 21:12:50-03:00</td>\n",
       "      <td>app/api/exception_handler.py</td>\n",
       "    </tr>\n",
       "    <tr>\n",
       "      <th>...</th>\n",
       "      <td>...</td>\n",
       "      <td>...</td>\n",
       "      <td>...</td>\n",
       "      <td>...</td>\n",
       "      <td>...</td>\n",
       "      <td>...</td>\n",
       "      <td>...</td>\n",
       "      <td>...</td>\n",
       "      <td>...</td>\n",
       "      <td>...</td>\n",
       "      <td>...</td>\n",
       "    </tr>\n",
       "    <tr>\n",
       "      <th>16146</th>\n",
       "      <td>af846c9a</td>\n",
       "      <td>devtools/fintech/default.conf.template</td>\n",
       "      <td>ci: add auto pipeline</td>\n",
       "      <td>2024-05-28 10:21:12-03:00</td>\n",
       "      <td>other</td>\n",
       "      <td>1</td>\n",
       "      <td>3</td>\n",
       "      <td>None</td>\n",
       "      <td>None</td>\n",
       "      <td>NaT</td>\n",
       "      <td>None</td>\n",
       "    </tr>\n",
       "    <tr>\n",
       "      <th>16147</th>\n",
       "      <td>b3162e9e</td>\n",
       "      <td>src/components/FastDialog/__tests__/FastDialog...</td>\n",
       "      <td>[UST-CE0B] Ajustar mensagens na tela de config...</td>\n",
       "      <td>2023-12-15 17:06:44-03:00</td>\n",
       "      <td>other</td>\n",
       "      <td>1</td>\n",
       "      <td>1</td>\n",
       "      <td>None</td>\n",
       "      <td>None</td>\n",
       "      <td>NaT</td>\n",
       "      <td>None</td>\n",
       "    </tr>\n",
       "    <tr>\n",
       "      <th>16148</th>\n",
       "      <td>4e1b9fef</td>\n",
       "      <td>src/containers/Generic/components/VirtualizedT...</td>\n",
       "      <td>fix(bug-4897): ajuste filtro buscar por</td>\n",
       "      <td>2024-04-09 09:48:52-03:00</td>\n",
       "      <td>fix</td>\n",
       "      <td>1</td>\n",
       "      <td>7</td>\n",
       "      <td>None</td>\n",
       "      <td>None</td>\n",
       "      <td>NaT</td>\n",
       "      <td>None</td>\n",
       "    </tr>\n",
       "    <tr>\n",
       "      <th>16149</th>\n",
       "      <td>56a3f131</td>\n",
       "      <td>src/domain/Lead/utils/methods.ts</td>\n",
       "      <td>fix(hotfix): ajuste type workflows</td>\n",
       "      <td>2024-01-15 17:18:36-03:00</td>\n",
       "      <td>fix</td>\n",
       "      <td>2</td>\n",
       "      <td>16</td>\n",
       "      <td>None</td>\n",
       "      <td>None</td>\n",
       "      <td>NaT</td>\n",
       "      <td>None</td>\n",
       "    </tr>\n",
       "    <tr>\n",
       "      <th>16150</th>\n",
       "      <td>2802d2fa</td>\n",
       "      <td>src/ui/components/TagsInput/TagsInput.types.ts</td>\n",
       "      <td>fix: melhoria no input de pesquisa de leads</td>\n",
       "      <td>2024-04-08 09:21:00-03:00</td>\n",
       "      <td>fix</td>\n",
       "      <td>1</td>\n",
       "      <td>6</td>\n",
       "      <td>None</td>\n",
       "      <td>None</td>\n",
       "      <td>NaT</td>\n",
       "      <td>None</td>\n",
       "    </tr>\n",
       "  </tbody>\n",
       "</table>\n",
       "<p>16151 rows × 11 columns</p>\n",
       "</div>"
      ],
      "text/plain": [
       "      commit_id                                           filepath  \\\n",
       "0      f38b9e5a                 .devcontainer/Dockerfile.workspace   \n",
       "1      f38b9e5a                    .devcontainer/devcontainer.json   \n",
       "2      268cae64                                      .dockerignore   \n",
       "3      ffd4710c                                          .test.env   \n",
       "4      9695d306                       app/api/exception_handler.py   \n",
       "...         ...                                                ...   \n",
       "16146  af846c9a             devtools/fintech/default.conf.template   \n",
       "16147  b3162e9e  src/components/FastDialog/__tests__/FastDialog...   \n",
       "16148  4e1b9fef  src/containers/Generic/components/VirtualizedT...   \n",
       "16149  56a3f131                   src/domain/Lead/utils/methods.ts   \n",
       "16150  2802d2fa     src/ui/components/TagsInput/TagsInput.types.ts   \n",
       "\n",
       "                                                 message  \\\n",
       "0                                chore: add devcontainer   \n",
       "1                                chore: add devcontainer   \n",
       "2          ci: deploy e rollback no argocd em stg e prod   \n",
       "3                   chore: keycloak variables adjustment   \n",
       "4               docs(api docs): use new examples keyword   \n",
       "...                                                  ...   \n",
       "16146                              ci: add auto pipeline   \n",
       "16147  [UST-CE0B] Ajustar mensagens na tela de config...   \n",
       "16148            fix(bug-4897): ajuste filtro buscar por   \n",
       "16149                 fix(hotfix): ajuste type workflows   \n",
       "16150        fix: melhoria no input de pesquisa de leads   \n",
       "\n",
       "                           date change_type  row_num  row_num_filepath  \\\n",
       "0     2023-09-04 17:30:29-03:00       chore        1                 1   \n",
       "1     2023-09-04 17:30:29-03:00       chore        1                 2   \n",
       "2     2021-09-15 19:16:10-03:00       other        1                 1   \n",
       "3     2022-01-24 08:51:22-03:00       chore        1                 2   \n",
       "4     2023-10-09 14:11:34-03:00       other        1                 1   \n",
       "...                         ...         ...      ...               ...   \n",
       "16146 2024-05-28 10:21:12-03:00       other        1                 3   \n",
       "16147 2023-12-15 17:06:44-03:00       other        1                 1   \n",
       "16148 2024-04-09 09:48:52-03:00         fix        1                 7   \n",
       "16149 2024-01-15 17:18:36-03:00         fix        2                16   \n",
       "16150 2024-04-08 09:21:00-03:00         fix        1                 6   \n",
       "\n",
       "      last_commit_id                     last_commit_message  \\\n",
       "0           504078e2                  feat: archive workflow   \n",
       "1           ae15d413                feat(dev container): add   \n",
       "2           28c61c8c                        feat: heathcheck   \n",
       "3           9bf2d364  refactor: camadas, adicionado cdi e kk   \n",
       "4           118c6cac               fix: partner store errors   \n",
       "...              ...                                     ...   \n",
       "16146           None                                    None   \n",
       "16147           None                                    None   \n",
       "16148           None                                    None   \n",
       "16149           None                                    None   \n",
       "16150           None                                    None   \n",
       "\n",
       "               last_commit_date                last_commit_filepath  \n",
       "0     2024-02-01 06:59:09-03:00  .devcontainer/Dockerfile.workspace  \n",
       "1     2023-10-09 11:58:52-03:00     .devcontainer/devcontainer.json  \n",
       "2     2022-10-27 14:12:25-03:00                       .dockerignore  \n",
       "3     2022-02-10 12:41:45-03:00                           .test.env  \n",
       "4     2024-02-26 21:12:50-03:00        app/api/exception_handler.py  \n",
       "...                         ...                                 ...  \n",
       "16146                       NaT                                None  \n",
       "16147                       NaT                                None  \n",
       "16148                       NaT                                None  \n",
       "16149                       NaT                                None  \n",
       "16150                       NaT                                None  \n",
       "\n",
       "[16151 rows x 11 columns]"
      ]
     },
     "execution_count": 24,
     "metadata": {},
     "output_type": "execute_result"
    }
   ],
   "source": [
    "duckdb.query(\"\"\"\n",
    "    with files as (\n",
    "        SELECT f.commit_id, f.filepath, c.message, c.date, c.change_type,\n",
    "            row_number() OVER (PARTITION BY f.filepath, c.change_type ORDER BY c.date) as row_num,\n",
    "            row_number() OVER (PARTITION BY f.filepath ORDER BY c.date) as row_num_filepath\n",
    "        FROM files_df f\n",
    "        JOIN commits_df c on c.commit_id = f.commit_id\n",
    "    )\n",
    "    select *,\n",
    "    from files f \n",
    "        left join ( select commit_id as last_commit_id, message as last_commit_message, \n",
    "                    date as last_commit_date, filepath as last_commit_filepath \n",
    "                    from files \n",
    "                where row_num_filepath = f.row_num_filepath+1 ) lc\n",
    "        on f.filepath = lc.last_commit_filepath and lc.last_commit_date >= f.date\n",
    "        where f.change_type not in ( 'feature', 'release' )\n",
    "\"\"\").to_df()"
   ]
  },
  {
   "cell_type": "code",
   "execution_count": 25,
   "id": "670c2f381a7dc33e",
   "metadata": {
    "ExecuteTime": {
     "end_time": "2024-08-07T08:03:39.208221Z",
     "start_time": "2024-08-07T08:03:38.974129Z"
    }
   },
   "outputs": [
    {
     "data": {
      "text/plain": [
       "<AxesSubplot:>"
      ]
     },
     "execution_count": 25,
     "metadata": {},
     "output_type": "execute_result"
    },
    {
     "data": {
      "image/png": "[encoded data removed]",
      "text/plain": [
       "<Figure size 432x288 with 1 Axes>"
      ]
     },
     "metadata": {
      "needs_background": "light"
     },
     "output_type": "display_data"
    }
   ],
   "source": [
    "df_reliability['TBFn'] = df_reliability['TBF'].values.astype(\"int\")\n",
    "df_reliability['TBFn'].hist(bins=20)\n",
    "\n",
    "# .hist(bins=20))"
   ]
  },
  {
   "cell_type": "code",
   "execution_count": 26,
   "id": "c52ac786dc13fb6a",
   "metadata": {
    "ExecuteTime": {
     "end_time": "2024-08-07T08:03:39.402469Z",
     "start_time": "2024-08-07T08:03:39.212084Z"
    }
   },
   "outputs": [
    {
     "data": {
      "text/plain": [
       "<AxesSubplot:>"
      ]
     },
     "execution_count": 26,
     "metadata": {},
     "output_type": "execute_result"
    },
    {
     "data": {
      "image/png": "[encoded data removed]",
      "text/plain": [
       "<Figure size 432x288 with 1 Axes>"
      ]
     },
     "metadata": {
      "needs_background": "light"
     },
     "output_type": "display_data"
    }
   ],
   "source": [
    "df_reliability['TBIn'] = df_reliability['TBI'].values.astype(\"int\")\n",
    "df_reliability['TBIn'].hist(bins=20)"
   ]
  },
  {
   "cell_type": "code",
   "execution_count": null,
   "id": "11737e64d1e9d203",
   "metadata": {
    "ExecuteTime": {
     "end_time": "2024-08-07T08:03:40.511608Z",
     "start_time": "2024-08-07T08:03:40.511062Z"
    }
   },
   "outputs": [],
   "source": [
    "# df_estudo_fatores = duckdb.query(\"\"\"\n",
    "    select /*af.size,*/ af.filename, /*af.path,*/ mr.TBI, mr.TBF, \n",
    "        mr.TBI_CLASS, mr.TBF_CLASS, mr.TBI_CLASS_NAME, mr.TBF_CLASS_NAME, \n",
    "        mr.TBI_CLASS_NAME_1W, mr.TBF_CLASS_NAME_1W, mr.TBI_CLASS_NAME_1M, mr.TBF_CLASS_NAME_1M, \n",
    "        ag.\"age-months\", cp.\"coupling-degree\", cp.\"coupling-average-revs\",\n",
    "        ef.\"entity-effort-total-revs\", ec.added, ec.deleted, ec.commits, soc.soc,\n",
    "        md.\"main-dev\", md.added, md.\"total-added\", md.ownership, \n",
    "        mc.\"author-shared\", mc.\"author-average\", mc.\"author-strength\", \n",
    "        fg.\"fractal-value\", fg.\"total-revs\"\n",
    "    from files_df af \n",
    "    left join df_reliability mr on af.filename = mr.filepath\n",
    "    left join age.csv ag on af.filename = ag.entity\n",
    "    left join (select entity,avg(degree) as \"coupling-degree\" ,avg(\"average-revs\") as \"coupling-average-revs\" \n",
    "                from coupling.csv group by entity) cp on af.filename = cp.entity\n",
    "    left join (select entity,avg(\"total-revs\") as \"entity-effort-total-revs\"\n",
    "                from 'entity-effort.csv' group by entity) ef on af.filename = ef.entity \n",
    "    left join \"entity-churn.csv\" ec on af.filename = ec.entity\n",
    "    left join soc.csv soc on af.filename = soc.entity\n",
    "    left join \"main-dev.csv\" md on af.filename = md.entity\n",
    "    left join (select author, avg(shared) as \"author-shared\", avg(average) as \"author-average\", avg(strength) as \"author-strength\" \n",
    "                from 'communication.csv' group by author) mc on mc.author = md.\"main-dev\"\n",
    "    left join fragmentation.csv fg on af.filename = fg.entity\n",
    "    \n",
    "\"\"\").to_df()\n",
    "df_estudo_fatores.to_csv('estudo_fatores.csv')\n",
    "df_estudo_fatores"
   ]
  },
  {
   "cell_type": "code",
   "execution_count": 28,
   "id": "48d1ca66931c193f",
   "metadata": {
    "ExecuteTime": {
     "end_time": "2024-08-07T08:04:07.136587Z",
     "start_time": "2024-08-07T08:03:48.693373Z"
    }
   },
   "outputs": [],
   "source": [
    "df_estudo_fatores1 = duckdb.query(\"\"\"\n",
    "    select /*af.size,*/ af.filename, /*af.path,*/ mr.TBI, mr.TBF, \n",
    "        mr.TBI_CLASS, mr.TBF_CLASS, mr.TBI_CLASS_NAME, mr.TBF_CLASS_NAME, \n",
    "        mr.TBI_CLASS_NAME_1W, mr.TBF_CLASS_NAME_1W, mr.TBI_CLASS_NAME_1M, mr.TBF_CLASS_NAME_1M, \n",
    "        ag.\"age-months\", cp.\"coupling-degree\", cp.\"coupling-average-revs\",\n",
    "        ef.\"entity-effort-total-revs\", ec.added, ec.deleted, ec.commits, soc.soc,\n",
    "        md.\"main-dev\", md.added, md.\"total-added\", md.ownership, \n",
    "        mc.\"author-shared\", mc.\"author-average\", mc.\"author-strength\", \n",
    "        fg.\"fractal-value\", fg.\"total-revs\"\n",
    "    from files_df af \n",
    "    left join df_reliability mr on af.filename = mr.filepath\n",
    "    left join age.csv ag on af.filename = ag.entity\n",
    "    left join (select entity,avg(degree) as \"coupling-degree\" ,avg(\"average-revs\") as \"coupling-average-revs\" \n",
    "                from coupling.csv group by entity) cp on af.filename = cp.entity\n",
    "    left join (select entity,avg(\"total-revs\") as \"entity-effort-total-revs\"\n",
    "                from 'entity-effort.csv' group by entity) ef on af.filename = ef.entity \n",
    "    left join \"entity-churn.csv\" ec on af.filename = ec.entity\n",
    "    left join (\n",
    "        select entity, max(soc) as soc from soc.csv soc\n",
    "        left join df_reliability mr on mr.filepath = soc.entity\n",
    "        where mr.TBF is not null group by entity\n",
    "    ) soc on af.filename = soc.entity\n",
    "    left join (\n",
    "        select entity, max(\"main-dev\") as \"main-dev\", max(\"added\") as \"added\",\n",
    "        max(\"total-added\") as \"total-added\",max(\"ownership\") as \"ownership\" \n",
    "        from \"main-dev.csv\" md\n",
    "        left join df_reliability mr on mr.filepath = md.entity\n",
    "        where mr.TBF is not null group by entity\n",
    "    ) md on af.filename = md.entity\n",
    "    left join (\n",
    "        select entity, max(\"fractal-value\") as \"fractal-value\", max(\"total-revs\") as \"total-revs\"\n",
    "        from fragmentation.csv fg\n",
    "        left join df_reliability mr on mr.filepath = fg.entity\n",
    "        where mr.TBF is not null group by entity\n",
    "    ) fg on af.filename = fg.entity\n",
    "    left join (select author, avg(shared) as \"author-shared\", avg(average) as \"author-average\", avg(strength) as \"author-strength\" \n",
    "                from 'communication.csv' group by author) mc on mc.author = md.\"main-dev\"\n",
    "    where mr.TBF is not null\n",
    "\"\"\").to_df()\n",
    "df_estudo_fatores1.to_csv('estudo_fatores1.csv')\n"
   ]
  },
  {
   "cell_type": "code",
   "execution_count": 29,
   "id": "47f5f8a8d58e9b20",
   "metadata": {
    "ExecuteTime": {
     "end_time": "2024-08-07T08:04:32.633658Z",
     "start_time": "2024-08-07T08:04:14.595880Z"
    }
   },
   "outputs": [
    {
     "name": "stdout",
     "output_type": "stream",
     "text": [
      "                                filename   TBI  TBF  TBI_CLASS  TBF_CLASS  \\\n",
      "0                  contrib/migrations.py  1261   35         24         12   \n",
      "1            tests/api/test_user_rest.py     8    6          4          1   \n",
      "2                   devtools/dotenv.test     1    0          1          1   \n",
      "3      blocklist/businesses/validator.py    19    0          4          1   \n",
      "4  devtools/sonar-project.prd.properties    41   41         12         12   \n",
      "\n",
      "  TBI_CLASS_NAME TBF_CLASS_NAME TBI_CLASS_NAME_1W TBF_CLASS_NAME_1W  \\\n",
      "0            +6m            +6m                 +                 +   \n",
      "1             1m             1w                 +                1w   \n",
      "2             1w             1w                1w                1w   \n",
      "3             1m             1w                 +                1w   \n",
      "4            +6m            +6m                 +                 +   \n",
      "\n",
      "  TBI_CLASS_NAME_1M  ... added_1  total-added  ownership  author-shared  \\\n",
      "0                 +  ...     140          142       0.99      27.398438   \n",
      "1                1m  ...    1025         1295       0.79      11.619565   \n",
      "2                1m  ...     172          507       0.57       8.421053   \n",
      "3                1m  ...    1214         3654       0.45      27.398438   \n",
      "4                 +  ...      15           22       1.00       1.388889   \n",
      "\n",
      "   author-average  author-strength  fractal-value  total-revs  Score_People  \\\n",
      "0      346.468750         9.156250           0.44           3    662.482946   \n",
      "1      101.478261         9.847826           0.41          24   1396.713864   \n",
      "2       62.508772        14.947368           0.89         137   2548.659362   \n",
      "3      346.468750         9.156250           0.84         147   4836.109886   \n",
      "4       73.833333         6.833333           0.67           9    114.072056   \n",
      "\n",
      "  Score_Code  \n",
      "0        NaN  \n",
      "1        NaN  \n",
      "2        NaN  \n",
      "3        NaN  \n",
      "4        NaN  \n",
      "\n",
      "[5 rows x 30 columns]\n"
     ]
    }
   ],
   "source": [
    "import pandas as pd\n",
    "\n",
    "# Carregar o DataFrame a partir de um arquivo CSV\n",
    "df = df_estudo_fatores1\n",
    "\n",
    "# Calcular o primeiro Score de Confiabilidade\n",
    "df['Score_People'] = (\n",
    "    0.961 * df['author-shared'] +\n",
    "    0.981 * df['author-average'] -\n",
    "    0.473 * df['author-strength'] +\n",
    "    0.845 * df['soc'] +\n",
    "    0.945 * df['total-added'] -\n",
    "    0.911 * df['ownership']\n",
    ")\n",
    "\n",
    "# Calcular o segundo Score de Confiabilidade\n",
    "df['Score_Code'] = (\n",
    "    0.760 * df['coupling-degree'] +\n",
    "    0.975 * df['coupling-average-revs'] +\n",
    "    0.928 * df['entity-effort-total-revs'] +\n",
    "    0.792 * df['added'] +\n",
    "    0.923 * df['deleted'] +\n",
    "    0.852 * df['commits'] -\n",
    "    0.939 * df['fractal-value'] +\n",
    "    0.982 * df['total-revs'] -\n",
    "    0.329 * df['age-months']\n",
    ")\n",
    "\n",
    "# Exibir as primeiras linhas do DataFrame com os novos scores\n",
    "print(df.head())\n",
    "\n",
    "# Salvar o DataFrame resultante em um novo arquivo CSV\n",
    "df.to_csv('estudo_fatores2.csv')"
   ]
  },
  {
   "cell_type": "code",
   "execution_count": 43,
   "id": "6bff5bd572b0eabe",
   "metadata": {
    "ExecuteTime": {
     "end_time": "2024-08-07T08:22:26.753774Z",
     "start_time": "2024-08-07T08:22:26.748129Z"
    }
   },
   "outputs": [],
   "source": [
    "df_all_files = pd.read_csv('all_files2.csv')"
   ]
  },
  {
   "cell_type": "code",
   "execution_count": 46,
   "id": "406ac012e30226ea",
   "metadata": {
    "ExecuteTime": {
     "end_time": "2024-08-07T08:23:17.521988Z",
     "start_time": "2024-08-07T08:23:17.511834Z"
    }
   },
   "outputs": [
    {
     "data": {
      "text/html": [
       "<div>\n",
       "<style scoped>\n",
       "    .dataframe tbody tr th:only-of-type {\n",
       "        vertical-align: middle;\n",
       "    }\n",
       "\n",
       "    .dataframe tbody tr th {\n",
       "        vertical-align: top;\n",
       "    }\n",
       "\n",
       "    .dataframe thead th {\n",
       "        text-align: right;\n",
       "    }\n",
       "</style>\n",
       "<table border=\"1\" class=\"dataframe\">\n",
       "  <thead>\n",
       "    <tr style=\"text-align: right;\">\n",
       "      <th></th>\n",
       "      <th>size</th>\n",
       "      <th>filename</th>\n",
       "      <th>path</th>\n",
       "    </tr>\n",
       "  </thead>\n",
       "  <tbody>\n",
       "    <tr>\n",
       "      <th>0</th>\n",
       "      <td>0</td>\n",
       "      <td>.buildpacks</td>\n",
       "      <td>NaN</td>\n",
       "    </tr>\n",
       "    <tr>\n",
       "      <th>1</th>\n",
       "      <td>7</td>\n",
       "      <td>.coveragerc</td>\n",
       "      <td>NaN</td>\n",
       "    </tr>\n",
       "    <tr>\n",
       "      <th>2</th>\n",
       "      <td>14</td>\n",
       "      <td>.devcontainer/Dockerfile.workspace</td>\n",
       "      <td>.devcontainer</td>\n",
       "    </tr>\n",
       "    <tr>\n",
       "      <th>3</th>\n",
       "      <td>30</td>\n",
       "      <td>.devcontainer/devcontainer.json</td>\n",
       "      <td>.devcontainer</td>\n",
       "    </tr>\n",
       "    <tr>\n",
       "      <th>4</th>\n",
       "      <td>24</td>\n",
       "      <td>.devcontainer/docker-compose.workspace.yml</td>\n",
       "      <td>.devcontainer</td>\n",
       "    </tr>\n",
       "    <tr>\n",
       "      <th>...</th>\n",
       "      <td>...</td>\n",
       "      <td>...</td>\n",
       "      <td>...</td>\n",
       "    </tr>\n",
       "    <tr>\n",
       "      <th>1525</th>\n",
       "      <td>328</td>\n",
       "      <td>tests/lib/dict/anonymize</td>\n",
       "      <td>tests/lib/dict</td>\n",
       "    </tr>\n",
       "    <tr>\n",
       "      <th>1526</th>\n",
       "      <td>237</td>\n",
       "      <td>tests/lib/dict/diff</td>\n",
       "      <td>tests/lib/dict</td>\n",
       "    </tr>\n",
       "    <tr>\n",
       "      <th>1527</th>\n",
       "      <td>466</td>\n",
       "      <td>tests/utils</td>\n",
       "      <td>tests</td>\n",
       "    </tr>\n",
       "    <tr>\n",
       "      <th>1528</th>\n",
       "      <td>226</td>\n",
       "      <td>tests/utils/builders</td>\n",
       "      <td>tests/utils</td>\n",
       "    </tr>\n",
       "    <tr>\n",
       "      <th>1529</th>\n",
       "      <td>226</td>\n",
       "      <td>tests/utils/builders/domain</td>\n",
       "      <td>tests/utils/builders</td>\n",
       "    </tr>\n",
       "  </tbody>\n",
       "</table>\n",
       "<p>1530 rows × 3 columns</p>\n",
       "</div>"
      ],
      "text/plain": [
       "      size                                    filename                  path\n",
       "0        0                                 .buildpacks                   NaN\n",
       "1        7                                 .coveragerc                   NaN\n",
       "2       14          .devcontainer/Dockerfile.workspace         .devcontainer\n",
       "3       30             .devcontainer/devcontainer.json         .devcontainer\n",
       "4       24  .devcontainer/docker-compose.workspace.yml         .devcontainer\n",
       "...    ...                                         ...                   ...\n",
       "1525   328                    tests/lib/dict/anonymize        tests/lib/dict\n",
       "1526   237                         tests/lib/dict/diff        tests/lib/dict\n",
       "1527   466                                 tests/utils                 tests\n",
       "1528   226                        tests/utils/builders           tests/utils\n",
       "1529   226                 tests/utils/builders/domain  tests/utils/builders\n",
       "\n",
       "[1530 rows x 3 columns]"
      ]
     },
     "execution_count": 46,
     "metadata": {},
     "output_type": "execute_result"
    }
   ],
   "source": [
    "df_all_files"
   ]
  },
  {
   "cell_type": "code",
   "execution_count": null,
   "id": "1d7ce32a69cafe43",
   "metadata": {
    "ExecuteTime": {
     "end_time": "2024-08-07T08:26:03.464585Z",
     "start_time": "2024-08-07T08:26:03.408324Z"
    }
   },
   "outputs": [],
   "source": [
    "df_scores_file = duckdb.query(\"\"\"\n",
    "    select *\n",
    "    from df_all_files\n",
    "    left join \"ps-onboarding-api-main-dev.csv\" md on md.entity = df_all_files.filename\n",
    "    order by md.entity desc\n",
    "\"\"\").to_df()\n",
    "df_scores_file"
   ]
  },
  {
   "cell_type": "code",
   "execution_count": 55,
   "id": "7041828aa753b51b",
   "metadata": {
    "ExecuteTime": {
     "end_time": "2024-08-07T08:27:51.845037Z",
     "start_time": "2024-08-07T08:27:51.745058Z"
    }
   },
   "outputs": [
    {
     "data": {
      "application/vnd.plotly.v1+json": {
       "config": {
        "plotlyServerURL": "https://plot.ly"
       },
       "data": [
        {
         "customdata": [
          [
           ".buildpacks",
           "João Darcy Tinoco Sant'Anna Neto"
          ],
          [
           ".coveragerc",
           "João Darcy Tinoco Sant'Anna Neto"
          ],
          [
           ".devcontainer/Dockerfile.workspace",
           "Jose Tiago"
          ],
          [
           ".devcontainer/devcontainer.json",
           "João Darcy Tinoco Sant'Anna Neto"
          ],
          [
           ".devcontainer/docker-compose.workspace.yml",
           "João Darcy Tinoco Sant'Anna Neto"
          ],
          [
           ".devcontainer/proxy-services.sh",
           "João Darcy Tinoco Sant'Anna Neto"
          ],
          [
           ".dockerignore",
           "João Darcy Tinoco Sant'Anna Neto"
          ],
          [
           ".gitignore",
           "João Darcy Tinoco Sant'Anna Neto"
          ],
          [
           ".gitlab-ci.yml",
           "João Darcy Tinoco Sant'Anna Neto"
          ],
          [
           ".gitlab/merge_request_templates/BUGFIX.md",
           "João Darcy Tinoco Sant'Anna Neto"
          ],
          [
           ".gitlab/merge_request_templates/FEATURE.md",
           "João Darcy Tinoco Sant'Anna Neto"
          ],
          [
           ".gitlab/merge_request_templates/REFACTOR_CHORE.md",
           "João Darcy Tinoco Sant'Anna Neto"
          ],
          [
           ".gitlab/merge_request_templates/TEST.md",
           "JOSÉ TIAGO"
          ],
          [
           ".gitlab/merge_request_templates/default.md",
           "João Darcy Tinoco Sant'Anna Neto"
          ],
          [
           ".gitleaksignore",
           "João Darcy Tinoco Sant'Anna Neto"
          ],
          [
           ".pre-commit-config.yaml",
           "João Darcy Tinoco Sant'Anna Neto"
          ],
          [
           "CHANGELOG.md",
           "João Darcy Tinoco Sant'Anna Neto"
          ],
          [
           "HOPDB.md",
           "João Darcy Tinoco Sant'Anna Neto"
          ],
          [
           "LIB.md",
           "João Darcy Tinoco Sant'Anna Neto"
          ],
          [
           "Makefile",
           "João Darcy Tinoco Sant'Anna Neto"
          ],
          [
           "README.md",
           "João Darcy Tinoco Sant'Anna Neto"
          ],
          [
           "analytics/__init__.py",
           "João Darcy Tinoco Sant'Anna Neto"
          ],
          [
           "analytics/apis/fastapi/cdi.py",
           "João Darcy Tinoco Sant'Anna Neto"
          ],
          [
           "analytics/apis/fastapi/routes/base.py",
           "João Darcy Tinoco Sant'Anna Neto"
          ],
          [
           "analytics/apis/fastapi/routes/health_router.py",
           "João Darcy Tinoco Sant'Anna Neto"
          ],
          [
           "analytics/apis/fastapi/routes/lead_analytics_router.py",
           "João Darcy Tinoco Sant'Anna Neto"
          ],
          [
           "analytics/app.py",
           "João Darcy Tinoco Sant'Anna Neto"
          ],
          [
           "analytics/business/__init__.py",
           "João Darcy Tinoco Sant'Anna Neto"
          ],
          [
           "analytics/business/cdi.py",
           "João Darcy Tinoco Sant'Anna Neto"
          ],
          [
           "analytics/business/lazy.py",
           "João Darcy Tinoco Sant'Anna Neto"
          ],
          [
           "analytics/business/lead_analytics_bo.py",
           "Rafael Mendes"
          ],
          [
           "analytics/cdi.py",
           "Igor Alves"
          ],
          [
           "analytics/config/logging.py",
           "João Darcy Tinoco Sant'Anna Neto"
          ],
          [
           "analytics/config/pydantic.py",
           "João Darcy Tinoco Sant'Anna Neto"
          ],
          [
           "analytics/dto/base.py",
           "João Darcy Tinoco Sant'Anna Neto"
          ],
          [
           "analytics/dto/lead_analytics.py",
           "João Darcy Tinoco Sant'Anna Neto"
          ],
          [
           "analytics/integrations/cdi.py",
           "vinicius.taveira"
          ],
          [
           "analytics/integrations/database.py",
           "João Darcy Tinoco Sant'Anna Neto"
          ],
          [
           "analytics/integrations/database_reloader.py",
           "LEONARDO BALDUINO DA SILVA"
          ],
          [
           "analytics/repository/__init__.py",
           "João Darcy Tinoco Sant'Anna Neto"
          ],
          [
           "analytics/repository/cdi.py",
           "João Darcy Tinoco Sant'Anna Neto"
          ],
          [
           "analytics/repository/lead_analytics_repository.py",
           "João Darcy Tinoco Sant'Anna Neto"
          ],
          [
           "analytics/standalone/main.py",
           "João Darcy Tinoco Sant'Anna Neto"
          ],
          [
           "analytics/standalone/pages/1_lead_dashboard.py",
           "João Darcy Tinoco Sant'Anna Neto"
          ],
          [
           "analytics/standalone/pages/2_lead_classifiers.py",
           "José Tiago"
          ],
          [
           "analytics/standalone/pages/3_lead_workflows.py",
           "José Tiago"
          ],
          [
           "analytics/standalone/utils.py",
           "Igor Alves"
          ],
          [
           "analytics/utils/cdi.py",
           "José Tiago"
          ],
          [
           "analytics/utils/datetime.py",
           "João Darcy Tinoco Sant'Anna Neto"
          ],
          [
           "analytics/utils/operators.py",
           "João Darcy Tinoco Sant'Anna Neto"
          ],
          [
           "analytics/utils/settings.py",
           "João Darcy Tinoco Sant'Anna Neto"
          ],
          [
           "analytics/workers/index_job.py",
           "João Darcy Tinoco Sant'Anna Neto"
          ],
          [
           "analytics/workers/lead_incremental_indexer/__init__.py",
           "Alex Boa Morte"
          ],
          [
           "analytics/workers/lead_incremental_indexer/job.py",
           "guilherme.barroso"
          ],
          [
           "analytics/workers/lead_incremental_indexer/migrate.py",
           "João Darcy Tinoco Sant'Anna Neto"
          ],
          [
           "analytics/workers/lead_incremental_indexer/models.py",
           "Jose Tiago"
          ],
          [
           "analytics/workers/lead_incremental_indexer/projection.py",
           "vittoria.zago"
          ],
          [
           "analytics/workers/lead_incremental_indexer/transform.py",
           "Deivis Alves"
          ],
          [
           "analytics_api.py",
           "ricardo.carvalho"
          ],
          [
           "analytics_incremental_ingestion.py",
           "ricardo.carvalho"
          ],
          [
           "api_main.py",
           "Deivis Alves"
          ],
          [
           "app/__init__.py",
           "anderson.pereira"
          ],
          [
           "app/apis/common/workflow_acl.py",
           "anderson.pereira"
          ],
          [
           "app/apis/fastapi/__init__.py",
           "anderson.pereira"
          ],
          [
           "app/apis/fastapi/api_app.py",
           "Guilherme Alves"
          ],
          [
           "app/apis/fastapi/configs/__init__.py",
           "guilherme.barroso"
          ],
          [
           "app/apis/fastapi/configs/cors.py",
           "João Darcy Tinoco Sant'Anna Neto"
          ],
          [
           "app/apis/fastapi/configs/exception_handler.py",
           "guilherme.barroso"
          ],
          [
           "app/apis/fastapi/configs/request_context_middleware.py",
           "Rafael Vieira Mendes"
          ],
          [
           "app/apis/fastapi/openapi_description.md",
           "João Darcy Tinoco Sant'Anna Neto"
          ],
          [
           "app/apis/fastapi/routes/__init__.py",
           "João Darcy Tinoco Sant'Anna Neto"
          ],
          [
           "app/apis/fastapi/routes/action_rest.py",
           "João Darcy Tinoco Sant'Anna Neto"
          ],
          [
           "app/apis/fastapi/routes/analytics_rest.py",
           "João Darcy Tinoco Sant'Anna Neto"
          ],
          [
           "app/apis/fastapi/routes/auth_rest.py",
           "vittoria.zago"
          ],
          [
           "app/apis/fastapi/routes/base.py",
           "João Darcy Tinoco Sant'Anna Neto"
          ],
          [
           "app/apis/fastapi/routes/batch_data_object_rest.py",
           "Bruno Falbo"
          ],
          [
           "app/apis/fastapi/routes/cdi.py",
           "vinicius.taveira"
          ],
          [
           "app/apis/fastapi/routes/change_history_rest.py",
           "vinicius.taveira"
          ],
          [
           "app/apis/fastapi/routes/contact_rest.py",
           "marc.junior"
          ],
          [
           "app/apis/fastapi/routes/core_data_object_classifier_rest.py",
           "João Darcy Tinoco Sant'Anna Neto"
          ],
          [
           "app/apis/fastapi/routes/definition_rest.py",
           "João Darcy Tinoco Sant'Anna Neto"
          ],
          [
           "app/apis/fastapi/routes/health_rest.py",
           "José Tiago"
          ],
          [
           "app/apis/fastapi/routes/lead_analytics_rest.py",
           "José Tiago"
          ],
          [
           "app/apis/fastapi/routes/lead_legacy_rest.py",
           "José Tiago"
          ],
          [
           "app/apis/fastapi/routes/lead_rest.py",
           "marcsue"
          ],
          [
           "app/apis/fastapi/routes/partner_rest.py",
           "filipe rocha"
          ],
          [
           "app/apis/fastapi/routes/qa_rest.py",
           "guilherme.barroso"
          ],
          [
           "app/apis/fastapi/routes/router.py",
           "guilherme.barroso"
          ],
          [
           "app/apis/fastapi/routes/service_rest.py",
           "tulio.simoes"
          ],
          [
           "app/apis/fastapi/routes/user_rest.py",
           "guilherme.barroso"
          ],
          [
           "app/apis/fastapi/routes/vault_rest.py",
           "vittoria.zago"
          ],
          [
           "app/apis/fastapi/routes/workflow_rest.py",
           "Igor Alves"
          ],
          [
           "app/businesses/__init__.py",
           "João Darcy Tinoco Sant'Anna Neto"
          ],
          [
           "app/businesses/action_bo.py",
           "João Darcy Tinoco Sant'Anna Neto"
          ],
          [
           "app/businesses/auth_bo.py",
           "João Darcy Tinoco Sant'Anna Neto"
          ],
          [
           "app/businesses/bank_bo.py",
           "João Darcy Tinoco Sant'Anna Neto"
          ],
          [
           "app/businesses/bank_db.json",
           "João Darcy Tinoco Sant'Anna Neto"
          ],
          [
           "app/businesses/batch_data_object_bo.py",
           "João Darcy Tinoco Sant'Anna Neto"
          ],
          [
           "app/businesses/batch_data_object_row_bo.py",
           "João Darcy Tinoco Sant'Anna Neto"
          ],
          [
           "app/businesses/blocklist_bo.py",
           "José Tiago"
          ],
          [
           "app/businesses/cdi.py",
           "Eduardo de Souza Santos"
          ],
          [
           "app/businesses/change_history_bo.py",
           "José Tiago"
          ],
          [
           "app/businesses/communication_hub_bo.py",
           "guilherme.barroso"
          ],
          [
           "app/businesses/contact_bo.py",
           "guilherme.barroso"
          ],
          [
           "app/businesses/contact_history_bo.py",
           "Jose Tiago"
          ],
          [
           "app/businesses/core/data_object/classifier_bo.py",
           "Guilherme Alves"
          ],
          [
           "app/businesses/data_object_bo.py",
           "guilherme.barroso"
          ],
          [
           "app/businesses/definition_bo.py",
           "marcsue"
          ],
          [
           "app/businesses/exceptions/__init__.py",
           "marc.junior"
          ],
          [
           "app/businesses/exceptions/action_exceptions.py",
           "vinicius.taveira"
          ],
          [
           "app/businesses/exceptions/base.py",
           "guilherme.barroso"
          ],
          [
           "app/businesses/exceptions/batch_data_object_exceptions.py",
           "José Tiago"
          ],
          [
           "app/businesses/exceptions/contact_exceptions.py",
           "guilherme.barroso"
          ],
          [
           "app/businesses/exceptions/core_data_object_classifier.py",
           "guilherme.barroso"
          ],
          [
           "app/businesses/exceptions/data_object.py",
           "guilherme.barroso"
          ],
          [
           "app/businesses/exceptions/data_object_batch_exceptions.py",
           "JOSÉ TIAGO"
          ],
          [
           "app/businesses/exceptions/definition_exceptions.py",
           "JOSÉ TIAGO"
          ],
          [
           "app/businesses/exceptions/lead_exceptions.py",
           "Jose Tiago"
          ],
          [
           "app/businesses/exceptions/partner_exceptions.py",
           "João Darcy Tinoco Sant'Anna Neto"
          ],
          [
           "app/businesses/exceptions/purchase_order_exceptions.py",
           "João Darcy Tinoco Sant'Anna Neto"
          ],
          [
           "app/businesses/exceptions/service_exceptions.py",
           "João Darcy Tinoco Sant'Anna Neto"
          ],
          [
           "app/businesses/exceptions/users_exceptions.py",
           "João Darcy Tinoco Sant'Anna Neto"
          ],
          [
           "app/businesses/exceptions/vault_exceptions.py",
           "João Darcy Tinoco Sant'Anna Neto"
          ],
          [
           "app/businesses/exceptions/workflow_exceptions.py",
           "João Darcy Tinoco Sant'Anna Neto"
          ],
          [
           "app/businesses/generic_mapping_bo.py",
           "Jose Tiago"
          ],
          [
           "app/businesses/handlers/__init__.py",
           "Jose Tiago"
          ],
          [
           "app/businesses/handlers/assignment_handler.py",
           "João Darcy Tinoco Sant'Anna Neto"
          ],
          [
           "app/businesses/handlers/cdi.py",
           "João Darcy Tinoco Sant'Anna Neto"
          ],
          [
           "app/businesses/helena_bo.py",
           "João Darcy Tinoco Sant'Anna Neto"
          ],
          [
           "app/businesses/id_magalu_bo.py",
           "João Darcy Tinoco Sant'Anna Neto"
          ],
          [
           "app/businesses/integration_platform_bo.py",
           "João Darcy Tinoco Sant'Anna Neto"
          ],
          [
           "app/businesses/lazy.py",
           "João Darcy Tinoco Sant'Anna Neto"
          ],
          [
           "app/businesses/lead_analytics_bo.py",
           "vittoria.zago"
          ],
          [
           "app/businesses/lead_bo.py",
           "João Darcy Tinoco Sant'Anna Neto"
          ],
          [
           "app/businesses/lead_legacy_bo.py",
           "guilherme.barroso"
          ],
          [
           "app/businesses/lead_magalu_bo.py",
           "Tiago Ferreira"
          ],
          [
           "app/businesses/lead_workflow_bo.py",
           "João Darcy Tinoco Sant'Anna Neto"
          ],
          [
           "app/businesses/magalu_tax_bo.py",
           "José Tiago"
          ],
          [
           "app/businesses/magalu_test_purchase_bo.py",
           "João Darcy Tinoco Sant'Anna Neto"
          ],
          [
           "app/businesses/observers/cdi.py",
           "João Darcy Tinoco Sant'Anna Neto"
          ],
          [
           "app/businesses/observers/contact_observers.py",
           "João Darcy Tinoco Sant'Anna Neto"
          ],
          [
           "app/businesses/observers/default_observers.py",
           "João Darcy Tinoco Sant'Anna Neto"
          ],
          [
           "app/businesses/observers/lead_observers.py",
           "Carlos Bridi"
          ],
          [
           "app/businesses/observers/magalu/cdi.py",
           "João Darcy Tinoco Sant'Anna Neto"
          ],
          [
           "app/businesses/observers/magalu/dtos/lead_mma_schema.py",
           "Carlos Bridi"
          ],
          [
           "app/businesses/observers/magalu/lead_seller_orders_observers.py",
           "João Darcy Tinoco Sant'Anna Neto"
          ],
          [
           "app/businesses/observers/magalu/risk_analysis.py",
           "João Darcy Tinoco Sant'Anna Neto"
          ],
          [
           "app/businesses/observers/magalu/test_purchase/TestPurchaseService.py",
           "João Darcy Tinoco Sant'Anna Neto"
          ],
          [
           "app/businesses/observers/magalu_lead_observers.py",
           "filipe rocha"
          ],
          [
           "app/businesses/observers/ps_contract.py",
           "filipe rocha"
          ],
          [
           "app/businesses/observers/workflow_observers.py",
           "José Tiago"
          ],
          [
           "app/businesses/partner_bo.py",
           "João Darcy Tinoco Sant'Anna Neto"
          ],
          [
           "app/businesses/qa_bo.py",
           "Rafael Mendes"
          ],
          [
           "app/businesses/security_bo.py",
           "João Darcy Tinoco Sant'Anna Neto"
          ],
          [
           "app/businesses/securitys/__init__.py",
           "João Darcy Tinoco Sant'Anna Neto"
          ],
          [
           "app/businesses/securitys/workflow_security.py",
           "Igor Lucio Rocha Alves"
          ],
          [
           "app/businesses/seller_product_bo.py",
           "João Darcy Tinoco Sant'Anna Neto"
          ],
          [
           "app/businesses/service_bo.py",
           "João Darcy Tinoco Sant'Anna Neto"
          ],
          [
           "app/businesses/tag_bo.py",
           "João Darcy Tinoco Sant'Anna Neto"
          ],
          [
           "app/businesses/user_bo.py",
           "João Darcy Tinoco Sant'Anna Neto"
          ],
          [
           "app/businesses/vault_bo.py",
           "João Darcy Tinoco Sant'Anna Neto"
          ],
          [
           "app/businesses/workflow_bo.py",
           "João Darcy Tinoco Sant'Anna Neto"
          ],
          [
           "app/cdi.py",
           "João Darcy Tinoco Sant'Anna Neto"
          ],
          [
           "app/commons/__init__.py",
           "João Darcy Tinoco Sant'Anna Neto"
          ],
          [
           "app/commons/async_worker/__init__.py",
           "João Darcy Tinoco Sant'Anna Neto"
          ],
          [
           "app/commons/async_worker/application.py",
           "guilherme.barroso"
          ],
          [
           "app/commons/async_worker/pool/__init__.py",
           "João Darcy Tinoco Sant'Anna Neto"
          ],
          [
           "app/commons/async_worker/pool/base.py",
           "João Darcy Tinoco Sant'Anna Neto"
          ],
          [
           "app/commons/async_worker/pool/unmanaged.py",
           "João Darcy Tinoco Sant'Anna Neto"
          ],
          [
           "app/commons/async_worker/tasks/__init__.py",
           "João Darcy Tinoco Sant'Anna Neto"
          ],
          [
           "app/commons/async_worker/tasks/base.py",
           "João Darcy Tinoco Sant'Anna Neto"
          ],
          [
           "app/commons/async_worker/util.py",
           "João Darcy Tinoco Sant'Anna Neto"
          ],
          [
           "app/commons/cache/cdi.py",
           "João Darcy Tinoco Sant'Anna Neto"
          ],
          [
           "app/commons/cache/impl/__init__.py",
           "João Darcy Tinoco Sant'Anna Neto"
          ],
          [
           "app/commons/cache/impl/serializer/__init__.py",
           "João Darcy Tinoco Sant'Anna Neto"
          ],
          [
           "app/commons/cache/impl/serializer/json.py",
           "João Darcy Tinoco Sant'Anna Neto"
          ],
          [
           "app/commons/cache/impl/storage/internal/__init__.py",
           "Deivis Alves"
          ],
          [
           "app/commons/cache/impl/storage/internal/cachetools.py",
           "vittoria.zago"
          ],
          [
           "app/commons/cache/impl/storage/remote/__init__.py",
           "Bruno Falbo"
          ],
          [
           "app/commons/cache/impl/storage/remote/redis.py",
           "vittoria.zago"
          ],
          [
           "app/commons/cache/sdk/__init__.py",
           "João Darcy Tinoco Sant'Anna Neto"
          ],
          [
           "app/commons/cache/sdk/cache.py",
           "João Darcy Tinoco Sant'Anna Neto"
          ],
          [
           "app/commons/cache/sdk/serializer.py",
           "João Darcy Tinoco Sant'Anna Neto"
          ],
          [
           "app/commons/cache/sdk/storage.py",
           "João Darcy Tinoco Sant'Anna Neto"
          ],
          [
           "app/commons/cdi.py",
           "João Darcy Tinoco Sant'Anna Neto"
          ],
          [
           "app/commons/constants.py",
           "João Darcy Tinoco Sant'Anna Neto"
          ],
          [
           "app/commons/delay_strategies.py",
           "João Darcy Tinoco Sant'Anna Neto"
          ],
          [
           "app/commons/eventbus/__init__.py",
           "João Darcy Tinoco Sant'Anna Neto"
          ],
          [
           "app/commons/eventbus/eventbus.py",
           "João Darcy Tinoco Sant'Anna Neto"
          ],
          [
           "app/commons/eventbus/executor.py",
           "Eduardo de Souza Santos"
          ],
          [
           "app/commons/eventbus/registry.py",
           "João Darcy Tinoco Sant'Anna Neto"
          ],
          [
           "app/commons/exceptions.py",
           "João Darcy Tinoco Sant'Anna Neto"
          ],
          [
           "app/commons/feature_flag.py",
           "Rafael Vieira Mendes"
          ],
          [
           "app/commons/http/__init__.py",
           "Eduardo de Souza Santos"
          ],
          [
           "app/commons/http/cdi.py",
           "Alex Boa Morte"
          ],
          [
           "app/commons/http/client.py",
           "João Darcy Tinoco Sant'Anna Neto"
          ],
          [
           "app/commons/lock/__init__.py",
           "João Darcy Tinoco Sant'Anna Neto"
          ],
          [
           "app/commons/lock/base.py",
           "JOSÉ TIAGO"
          ],
          [
           "app/commons/lock/cdi.py",
           "João Darcy Tinoco Sant'Anna Neto"
          ],
          [
           "app/commons/lock/redis_lock.py",
           "Igor Alves"
          ],
          [
           "app/commons/mapping/__init__.py",
           "Igor Alves"
          ],
          [
           "app/commons/metrics.py",
           "Ettore Mitsueda"
          ],
          [
           "app/commons/models.py",
           "Jose Tiago"
          ],
          [
           "app/commons/patterns.py",
           "guilherme.barroso"
          ],
          [
           "app/commons/pubsub/__init__.py",
           "João Darcy Tinoco Sant'Anna Neto"
          ],
          [
           "app/commons/pubsub/message.py",
           "João Darcy Tinoco Sant'Anna Neto"
          ],
          [
           "app/commons/pydantic.py",
           "João Darcy Tinoco Sant'Anna Neto"
          ],
          [
           "app/commons/settings.py",
           "João Darcy Tinoco Sant'Anna Neto"
          ],
          [
           "app/commons/translations/pydantic/en_us.json",
           "João Darcy Tinoco Sant'Anna Neto"
          ],
          [
           "app/commons/translations/pydantic/pt_br.json",
           "Igor Alves"
          ],
          [
           "app/configs/__init__.py",
           "guilherme.barroso"
          ],
          [
           "app/configs/eventbus.py",
           "Rafael Vieira Mendes"
          ],
          [
           "app/configs/logging.py",
           "João Darcy Tinoco Sant'Anna Neto"
          ],
          [
           "app/configs/pydantic_config.py",
           "João Darcy Tinoco Sant'Anna Neto"
          ],
          [
           "app/domains/__init__.py",
           "João Darcy Tinoco Sant'Anna Neto"
          ],
          [
           "app/domains/actions_domain.py",
           "João Darcy Tinoco Sant'Anna Neto"
          ],
          [
           "app/domains/audit_domain.py",
           "LEONARDO BALDUINO DA SILVA"
          ],
          [
           "app/domains/auth_domain.py",
           "Rafael Vieira Mendes"
          ],
          [
           "app/domains/base.py",
           "João Darcy Tinoco Sant'Anna Neto"
          ],
          [
           "app/domains/base_external_reference.py",
           "João Darcy Tinoco Sant'Anna Neto"
          ],
          [
           "app/domains/batch_data_object_domain.py",
           "João Darcy Tinoco Sant'Anna Neto"
          ],
          [
           "app/domains/change_history_domain.py",
           "Rafael Mendes"
          ],
          [
           "app/domains/classifier_domain.py",
           "José Tiago"
          ],
          [
           "app/domains/contact_domain.py",
           "José Tiago"
          ],
          [
           "app/domains/contact_history_domain.py",
           "João Darcy Tinoco Sant'Anna Neto"
          ],
          [
           "app/domains/data_object_domain.py",
           "João Darcy Tinoco Sant'Anna Neto"
          ],
          [
           "app/domains/definitions_domain.py",
           "João Darcy Tinoco Sant'Anna Neto"
          ],
          [
           "app/domains/generic_mapping_domain.py",
           "João Darcy Tinoco Sant'Anna Neto"
          ],
          [
           "app/domains/integration_platform_domain.py",
           "João Darcy Tinoco Sant'Anna Neto"
          ],
          [
           "app/domains/leads_domain.py",
           "João Darcy Tinoco Sant'Anna Neto"
          ],
          [
           "app/domains/leads_projection_minimalist_domain.py",
           "João Darcy Tinoco Sant'Anna Neto"
          ],
          [
           "app/domains/leads_projection_pk_only_domain.py",
           "João Darcy Tinoco Sant'Anna Neto"
          ],
          [
           "app/domains/partners_domain.py",
           "guilherme.barroso"
          ],
          [
           "app/domains/script_domain.py",
           "João Darcy Tinoco Sant'Anna Neto"
          ],
          [
           "app/domains/seller_product.py",
           "Igor Lucio Rocha Alves"
          ],
          [
           "app/domains/services_domain.py",
           "José Tiago"
          ],
          [
           "app/domains/tags_domain.py",
           "João Darcy Tinoco Sant'Anna Neto"
          ],
          [
           "app/domains/users_domain.py",
           "João Darcy Tinoco Sant'Anna Neto"
          ],
          [
           "app/domains/vaults_domain.py",
           "José Tiago"
          ],
          [
           "app/domains/workflow_domain.py",
           "João Darcy Tinoco Sant'Anna Neto"
          ],
          [
           "app/dtos/__init__.py",
           "João Darcy Tinoco Sant'Anna Neto"
          ],
          [
           "app/dtos/action_schema.py",
           "João Darcy Tinoco Sant'Anna Neto"
          ],
          [
           "app/dtos/auth_schema.py",
           "João Darcy Tinoco Sant'Anna Neto"
          ],
          [
           "app/dtos/bank_information_domain.py",
           "João Darcy Tinoco Sant'Anna Neto"
          ],
          [
           "app/dtos/base.py",
           "Igor Lucio Rocha Alves"
          ],
          [
           "app/dtos/base_external_reference_schema.py",
           "Igor Lucio Rocha Alves"
          ],
          [
           "app/dtos/batch_data_object_schema.py",
           "Luiz Tibo"
          ],
          [
           "app/dtos/change_history_schema.py",
           "João Darcy Tinoco Sant'Anna Neto"
          ],
          [
           "app/dtos/classifier_schema.py",
           "João Darcy Tinoco Sant'Anna Neto"
          ],
          [
           "app/dtos/contact_history_schema.py",
           "João Darcy Tinoco Sant'Anna Neto"
          ],
          [
           "app/dtos/contact_schema.py",
           "João Darcy Tinoco Sant'Anna Neto"
          ],
          [
           "app/dtos/definition_schema.py",
           "João Darcy Tinoco Sant'Anna Neto"
          ],
          [
           "app/dtos/examples.py",
           "João Darcy Tinoco Sant'Anna Neto"
          ],
          [
           "app/dtos/health_schema.py",
           "João Darcy Tinoco Sant'Anna Neto"
          ],
          [
           "app/dtos/integration_platforms_schema.py",
           "João Darcy Tinoco Sant'Anna Neto"
          ],
          [
           "app/dtos/lead_analytics_schema.py",
           "João Darcy Tinoco Sant'Anna Neto"
          ],
          [
           "app/dtos/lead_projection_minimalist_schema.py",
           "João Darcy Tinoco Sant'Anna Neto"
          ],
          [
           "app/dtos/lead_projection_pk_only_schema.py",
           "João Darcy Tinoco Sant'Anna Neto"
          ],
          [
           "app/dtos/lead_schema.py",
           "guilherme.barroso"
          ],
          [
           "app/dtos/pagination_schema.py",
           "José Tiago"
          ],
          [
           "app/dtos/partner_schema.py",
           "João Darcy Tinoco Sant'Anna Neto"
          ],
          [
           "app/dtos/qa_schema.py",
           "João Darcy Tinoco Sant'Anna Neto"
          ],
          [
           "app/dtos/regulatory_data_schema.py",
           "Guilherme Alves"
          ],
          [
           "app/dtos/script_schema.py",
           "José Tiago"
          ],
          [
           "app/dtos/seller_product_schema.py",
           "Bruno Portis"
          ],
          [
           "app/dtos/service_schema.py",
           "guilherme.barroso"
          ],
          [
           "app/dtos/tag_schema.py",
           "João Darcy Tinoco Sant'Anna Neto"
          ],
          [
           "app/dtos/users_schema.py",
           "João Darcy Tinoco Sant'Anna Neto"
          ],
          [
           "app/dtos/vault_schema.py",
           "João Darcy Tinoco Sant'Anna Neto"
          ],
          [
           "app/dtos/workflow_schema.py",
           "guilherme.barroso"
          ],
          [
           "app/eventbus/__init__.py",
           "Guilherme Alves Borges"
          ],
          [
           "app/eventbus/event_bus_facade.py",
           "Guilherme Alves Borges"
          ],
          [
           "app/eventbus/events/__init__.py",
           "José Tiago"
          ],
          [
           "app/eventbus/events/application.py",
           "José Tiago"
          ],
          [
           "app/eventbus/events/base.py",
           "José Tiago"
          ],
          [
           "app/eventbus/events/data_object.py",
           "João Darcy Tinoco Sant'Anna Neto"
          ],
          [
           "app/eventbus/events/lead.py",
           "João Darcy Tinoco Sant'Anna Neto"
          ],
          [
           "app/eventbus/events/persistence.py",
           "João Darcy Tinoco Sant'Anna Neto"
          ],
          [
           "app/eventbus/events/seller_contact.py",
           "José Tiago"
          ],
          [
           "app/eventbus/events/workflow.py",
           "José Tiago"
          ],
          [
           "app/eventbus/events/workflow_engine.py",
           "José Tiago"
          ],
          [
           "app/integrations/__init__.py",
           "José Tiago"
          ],
          [
           "app/integrations/backends/__init__.py",
           "José Tiago"
          ],
          [
           "app/integrations/backends/apigee/backend.py",
           "José Tiago"
          ],
          [
           "app/integrations/backends/blocklist/backend.py",
           "José Tiago"
          ],
          [
           "app/integrations/backends/blocklist/constants.py",
           "José Tiago"
          ],
          [
           "app/integrations/backends/blocklist/models.py",
           "João Darcy Tinoco Sant'Anna Neto"
          ],
          [
           "app/integrations/backends/cdi.py",
           "guilherme.barroso"
          ],
          [
           "app/integrations/backends/client_v1_api/backend.py",
           "José Tiago"
          ],
          [
           "app/integrations/backends/client_v1_api/models.py",
           "João Darcy Tinoco Sant'Anna Neto"
          ],
          [
           "app/integrations/backends/communication_hub_api/backend.py",
           "João Darcy Tinoco Sant'Anna Neto"
          ],
          [
           "app/integrations/backends/communication_hub_api/models.py",
           "João Darcy Tinoco Sant'Anna Neto"
          ],
          [
           "app/integrations/backends/helena_api/backend.py",
           "José Tiago"
          ],
          [
           "app/integrations/backends/helena_api/models.py",
           "José Tiago"
          ],
          [
           "app/integrations/backends/id_magalu/backend.py",
           "guilherme.barroso"
          ],
          [
           "app/integrations/backends/id_magalu/models.py",
           "João Darcy Tinoco Sant'Anna Neto"
          ],
          [
           "app/integrations/backends/maas_integra_api/backend.py",
           "guilherme.barroso"
          ],
          [
           "app/integrations/backends/maas_integra_api/consumer.py",
           "guilherme.barroso"
          ],
          [
           "app/integrations/backends/maas_integra_api/models.py",
           "José Tiago"
          ],
          [
           "app/integrations/backends/maas_products_api/backend.py",
           "José Tiago"
          ],
          [
           "app/integrations/backends/maas_products_api/constants.py",
           "vinicius.taveira"
          ],
          [
           "app/integrations/backends/maas_products_api/models.py",
           "vinicius.taveira"
          ],
          [
           "app/integrations/backends/maestro/backend.py",
           "José Tiago"
          ],
          [
           "app/integrations/backends/maestro/models.py",
           "guilherme.barroso"
          ],
          [
           "app/integrations/backends/magalu_tax/backend.py",
           "João Darcy Tinoco Sant'Anna Neto"
          ],
          [
           "app/integrations/backends/magalu_tax/exceptions.py",
           "Eduardo de Souza Santos"
          ],
          [
           "app/integrations/backends/magalu_tax/models.py",
           "Eduardo de Souza Santos"
          ],
          [
           "app/integrations/backends/mp_security/backend.py",
           "José Tiago"
          ],
          [
           "app/integrations/backends/mp_security/models.py",
           "Rafael Mendes"
          ],
          [
           "app/integrations/backends/mp_seller_api/backend.py",
           "João Darcy Tinoco Sant'Anna Neto"
          ],
          [
           "app/integrations/backends/mp_seller_api/constants.py",
           "João Darcy Tinoco Sant'Anna Neto"
          ],
          [
           "app/integrations/backends/mp_seller_api/models.py",
           "João Darcy Tinoco Sant'Anna Neto"
          ],
          [
           "app/integrations/backends/open_id/backend.py",
           "João Darcy Tinoco Sant'Anna Neto"
          ],
          [
           "app/integrations/backends/p52_api/backend.py",
           "João Darcy Tinoco Sant'Anna Neto"
          ],
          [
           "app/integrations/backends/p52_api/models.py",
           "João Darcy Tinoco Sant'Anna Neto"
          ],
          [
           "app/integrations/backends/ps_account/backend.py",
           "Vinícius Vitoreli Figueiredo Taveira"
          ],
          [
           "app/integrations/backends/ps_account/business.py",
           "José Tiago"
          ],
          [
           "app/integrations/backends/ps_account/models.py",
           "JOSÉ TIAGO"
          ],
          [
           "app/integrations/backends/ps_contract_api/backend.py",
           "guilherme.barroso"
          ],
          [
           "app/integrations/backends/ps_contract_api/models.py",
           "Rafael Mendes"
          ],
          [
           "app/integrations/backends/ps_onboarding_analytics/backend.py",
           "JOSÉ TIAGO"
          ],
          [
           "app/integrations/backends/ps_onboarding_analytics/models.py",
           "JOSÉ TIAGO"
          ],
          [
           "app/integrations/backends/ps_order3p_api/backend.py",
           "Eduardo de Souza Santos"
          ],
          [
           "app/integrations/backends/ps_order3p_api/client.py",
           "JOSÉ TIAGO"
          ],
          [
           "app/integrations/backends/ps_order3p_api/models.py",
           "JOSÉ TIAGO"
          ],
          [
           "app/integrations/backends/sebastian_api/backend.py",
           "JOSÉ TIAGO"
          ],
          [
           "app/integrations/backends/sebastian_api/base.py",
           "JOSÉ TIAGO"
          ],
          [
           "app/integrations/backends/sebastian_api/emulated.py",
           "JOSÉ TIAGO"
          ],
          [
           "app/integrations/backends/sebastian_api/exceptions.py",
           "JOSÉ TIAGO"
          ],
          [
           "app/integrations/backends/sebastian_api/models.py",
           "José Tiago"
          ],
          [
           "app/integrations/backends/zendesk_api/backend.py",
           "guilherme.barroso"
          ],
          [
           "app/integrations/backends/zendesk_api/client.py",
           "guilherme.barroso"
          ],
          [
           "app/integrations/backends/zendesk_api/models.py",
           "José Tiago"
          ],
          [
           "app/integrations/cdi.py",
           "José Tiago"
          ],
          [
           "app/integrations/datalake/__init__.py",
           "José Tiago"
          ],
          [
           "app/integrations/datalake/backends/__init__.py",
           "José Tiago"
          ],
          [
           "app/integrations/datalake/backends/base.py",
           "guilherme.barroso"
          ],
          [
           "app/integrations/datalake/backends/tetrix_kafka/core.py",
           "JOSÉ TIAGO"
          ],
          [
           "app/integrations/datalake/backends/tetrix_kafka/handlers.py",
           "Igor Alves"
          ],
          [
           "app/integrations/datalake/backends/tetrix_kafka/messages.py",
           "guilherme.barroso"
          ],
          [
           "app/integrations/datalake/cdi.py",
           "JOSÉ TIAGO"
          ],
          [
           "app/integrations/datalake/constants.py",
           "guilherme.barroso"
          ],
          [
           "app/integrations/datalake/core.py",
           "Guilherme Alves"
          ],
          [
           "app/integrations/db/__init__.py",
           "José Tiago"
          ],
          [
           "app/integrations/db/mongo/__init__.py",
           "José Tiago"
          ],
          [
           "app/integrations/db/mongo/cdi.py",
           "guilherme.barroso"
          ],
          [
           "app/integrations/db/mongo/encoders.py",
           "guilherme.barroso"
          ],
          [
           "app/integrations/db/mongo/fields.py",
           "JOSÉ TIAGO"
          ],
          [
           "app/integrations/db/mongo/mongo.py",
           "guilherme.barroso"
          ],
          [
           "app/integrations/db/mongo/types.py",
           "Marcelo Bastos Ribeiro"
          ],
          [
           "app/integrations/pubsub/__init__.py",
           "Marcelo Bastos Ribeiro"
          ],
          [
           "app/integrations/pubsub/backend.py",
           "JOSÉ TIAGO"
          ],
          [
           "app/integrations/pubsub/cdi.py",
           "JOSÉ TIAGO"
          ],
          [
           "app/integrations/pubsub/consumer.py",
           "JOSÉ TIAGO"
          ],
          [
           "app/integrations/pubsub/encoder.py",
           "JOSÉ TIAGO"
          ],
          [
           "app/integrations/pubsub/google_pubsub/__init__.py",
           "João Darcy Tinoco Sant'Anna Neto"
          ],
          [
           "app/integrations/pubsub/google_pubsub/consumer.py",
           "Marcelo Bastos Ribeiro"
          ],
          [
           "app/integrations/pubsub/google_pubsub/message.py",
           "JOSÉ TIAGO"
          ],
          [
           "app/integrations/pubsub/kafka/__init__.py",
           "José Tiago"
          ],
          [
           "app/integrations/pubsub/kafka/consumer.py",
           "José Tiago"
          ],
          [
           "app/integrations/pubsub/kafka/message.py",
           "JOSÉ TIAGO"
          ],
          [
           "app/integrations/pubsub/kafka/producer.py",
           "Igor Alves"
          ],
          [
           "app/integrations/pubsub/kafka/retry.py",
           "LEONARDO BALDUINO DA SILVA"
          ],
          [
           "app/integrations/pubsub/message.py",
           "LEONARDO BALDUINO DA SILVA"
          ],
          [
           "app/integrations/pubsub/producer.py",
           "JOSÉ TIAGO"
          ],
          [
           "app/integrations/pubsub/retry.py",
           "José Tiago"
          ],
          [
           "app/integrations/risk_analysis/__init__.py",
           "JOSÉ TIAGO"
          ],
          [
           "app/integrations/risk_analysis/cdi.py",
           "LEONARDO BALDUINO DA SILVA"
          ],
          [
           "app/integrations/risk_analysis/core.py",
           "guilherme.barroso"
          ],
          [
           "app/integrations/risk_analysis/fake/impl.py",
           "guilherme.barroso"
          ],
          [
           "app/integrations/risk_analysis/models.py",
           "marcsue"
          ],
          [
           "app/integrations/risk_analysis/zaig/impl.py",
           "José Tiago"
          ],
          [
           "app/integrations/scheduler/__init__.py",
           "Rafael Vieira Mendes"
          ],
          [
           "app/integrations/scheduler/base.py",
           "José Tiago"
          ],
          [
           "app/integrations/scheduler/cdi.py",
           "José Tiago"
          ],
          [
           "app/integrations/scheduler/impl/cdi.py",
           "Marcelo Bastos Ribeiro"
          ],
          [
           "app/integrations/scheduler/impl/lite/__init__.py",
           "guilherme.barroso"
          ],
          [
           "app/integrations/scheduler/impl/lite/executors/__init__.py",
           "guilherme.barroso"
          ],
          [
           "app/integrations/scheduler/impl/lite/executors/asyncio.py",
           "José Tiago"
          ],
          [
           "app/integrations/scheduler/impl/lite/executors/base.py",
           "LEONARDO BALDUINO DA SILVA"
          ],
          [
           "app/integrations/scheduler/impl/lite/job.py",
           "marcsue"
          ],
          [
           "app/integrations/scheduler/impl/lite/jobstores/__init__.py",
           "guilherme.barroso"
          ],
          [
           "app/integrations/scheduler/impl/lite/jobstores/base.py",
           "guilherme.barroso"
          ],
          [
           "app/integrations/scheduler/impl/lite/jobstores/mongo.py",
           "Jose Tiago"
          ],
          [
           "app/integrations/scheduler/impl/lite/scheduler.py",
           "LEONARDO BALDUINO DA SILVA"
          ],
          [
           "app/integrations/scheduler/impl/noscheduler.py",
           "LEONARDO BALDUINO DA SILVA"
          ],
          [
           "app/integrations/seller_product_info/__init__.py",
           "Jose Tiago"
          ],
          [
           "app/integrations/seller_product_info/base.py",
           "Jose Tiago"
          ],
          [
           "app/integrations/seller_product_info/cdi.py",
           "guilherme.barroso"
          ],
          [
           "app/integrations/seller_product_info/local_seller_product_info.py",
           "Jose Tiago"
          ],
          [
           "app/lazy/magalu_marketplace.py",
           "guilherme.barroso"
          ],
          [
           "app/pubsub/messages/__init__.py",
           "João Darcy Tinoco Sant'Anna Neto"
          ],
          [
           "app/pubsub/messages/base.py",
           "marc.junior"
          ],
          [
           "app/pubsub/messages/data_object_row_batch.py",
           "marc.junior"
          ],
          [
           "app/pubsub/messages/seller_contract.py",
           "Jose Tiago"
          ],
          [
           "app/pubsub/messages/seller_order.py",
           "Jose Tiago"
          ],
          [
           "app/pubsub/messages/tag.py",
           "Jose Tiago"
          ],
          [
           "app/pubsub/messages/webhook.py",
           "Jose Tiago"
          ],
          [
           "app/pubsub/messages/workflow_retry.py",
           "Guilherme Alves Borges"
          ],
          [
           "app/pubsub/messages/workflow_wakeup.py",
           "Jose Tiago"
          ],
          [
           "app/repositories/__init__.py",
           "guilherme.barroso"
          ],
          [
           "app/repositories/action_repository.py",
           "guilherme.barroso"
          ],
          [
           "app/repositories/auth_repository.py",
           "tulio.simoes"
          ],
          [
           "app/repositories/base.py",
           "guilherme.barroso"
          ],
          [
           "app/repositories/batch_data_object_repository.py",
           "guilherme.barroso"
          ],
          [
           "app/repositories/batch_data_object_row_repository.py",
           "vinicius.taveira"
          ],
          [
           "app/repositories/cdi.py",
           "João Darcy Tinoco Sant'Anna Neto"
          ],
          [
           "app/repositories/change_history_repository.py",
           "guilherme.barroso"
          ],
          [
           "app/repositories/contact_history_repository.py",
           "João Darcy Tinoco Sant'Anna Neto"
          ],
          [
           "app/repositories/contact_repository.py",
           "Jose Tiago"
          ],
          [
           "app/repositories/core_data_object_classifier.py",
           "guilherme.barroso"
          ],
          [
           "app/repositories/definition_repository.py",
           "guilherme.barroso"
          ],
          [
           "app/repositories/generic_mapping_repository.py",
           "João Darcy Tinoco Sant'Anna Neto"
          ],
          [
           "app/repositories/integration_platform_repository.py",
           "João Darcy Tinoco Sant'Anna Neto"
          ],
          [
           "app/repositories/lead_repository.py",
           "João Darcy Tinoco Sant'Anna Neto"
          ],
          [
           "app/repositories/partner_repository.py",
           "guilherme.barroso"
          ],
          [
           "app/repositories/seller_product_repository.py",
           "guilherme.barroso"
          ],
          [
           "app/repositories/service_repository.py",
           "vinicius.taveira"
          ],
          [
           "app/repositories/tag_repository.py",
           "Jose Tiago"
          ],
          [
           "app/repositories/user_repository.py",
           "guilherme.barroso"
          ],
          [
           "app/repositories/vault_repository.py",
           "Jose Tiago"
          ],
          [
           "app/repositories/workflow_repository.py",
           "guilherme.barroso"
          ],
          [
           "app/script/__init__.py",
           "guilherme.barroso"
          ],
          [
           "app/script/cdi.py",
           "Jose Tiago"
          ],
          [
           "app/script/engine.py",
           "João Darcy Tinoco Sant'Anna Neto"
          ],
          [
           "app/script/factory.py",
           "guilherme.barroso"
          ],
          [
           "app/script/impl/eql.py",
           "marc.junior"
          ],
          [
           "app/script/impl/python/functions.py",
           "marc.junior"
          ],
          [
           "app/script/impl/python/policy.py",
           "João Darcy Tinoco Sant'Anna Neto"
          ],
          [
           "app/script/impl/python/python_eval.py",
           "marc.junior"
          ],
          [
           "app/script/impl/python/python_exec.py",
           "Marcelo Bastos Ribeiro"
          ],
          [
           "app/script/impl/python/util.py",
           "Marcelo Bastos Ribeiro"
          ],
          [
           "app/utils/__init__.py",
           "guilherme.barroso"
          ],
          [
           "app/utils/apm.py",
           "João Darcy Tinoco Sant'Anna Neto"
          ],
          [
           "app/utils/asyncio.py",
           "guilherme.barroso"
          ],
          [
           "app/utils/benchmark.py",
           "guilherme.barroso"
          ],
          [
           "app/utils/cdi.py",
           "João Darcy Tinoco Sant'Anna Neto"
          ],
          [
           "app/utils/constants.py",
           "guilherme.barroso"
          ],
          [
           "app/utils/cryptography.py",
           "guilherme.barroso"
          ],
          [
           "app/utils/datetime.py",
           "guilherme.barroso"
          ],
          [
           "app/utils/encoders.py",
           "João Darcy Tinoco Sant'Anna Neto"
          ],
          [
           "app/utils/exception.py",
           "guilherme.barroso"
          ],
          [
           "app/utils/fields.py",
           "João Darcy Tinoco Sant'Anna Neto"
          ],
          [
           "app/utils/filter_permission.py",
           "João Darcy Tinoco Sant'Anna Neto"
          ],
          [
           "app/utils/freezing.py",
           "João Darcy Tinoco Sant'Anna Neto"
          ],
          [
           "app/utils/hash.py",
           "João Darcy Tinoco Sant'Anna Neto"
          ],
          [
           "app/utils/lazy.py",
           "Jose Tiago"
          ],
          [
           "app/utils/logging/__init__.py",
           "Igor Alves"
          ],
          [
           "app/utils/logging/anonimizer.py",
           "João Darcy Tinoco Sant'Anna Neto"
          ],
          [
           "app/utils/logging/configure.py",
           "João Darcy Tinoco Sant'Anna Neto"
          ],
          [
           "app/utils/open_id.py",
           "Igor Alves"
          ],
          [
           "app/utils/pydantic.py",
           "João Darcy Tinoco Sant'Anna Neto"
          ],
          [
           "app/utils/pydash.py",
           "Igor Alves"
          ],
          [
           "app/utils/resource_permission.py",
           "guilherme.barroso"
          ],
          [
           "app/utils/security.py",
           "Igor Alves"
          ],
          [
           "app/utils/sentinel.py",
           "João Darcy Tinoco Sant'Anna Neto"
          ],
          [
           "app/utils/settings.py",
           "George Silva"
          ],
          [
           "app/utils/token.py",
           "Igor Alves"
          ],
          [
           "app/utils/types.py",
           "guilherme.barroso"
          ],
          [
           "app/utils/util.py",
           "João Darcy Tinoco Sant'Anna Neto"
          ],
          [
           "app/utils/uuid.py",
           "guilherme.barroso"
          ],
          [
           "app/utils/validators.py",
           "guilherme.barroso"
          ],
          [
           "app/workers/__init__.py",
           "João Darcy Tinoco Sant'Anna Neto"
          ],
          [
           "app/workers/app.py",
           "João Darcy Tinoco Sant'Anna Neto"
          ],
          [
           "app/workers/cdi.py",
           "guilherme.barroso"
          ],
          [
           "app/workers/common.py",
           "José Tiago"
          ],
          [
           "app/workers/data_object_batch/app.py",
           "João Darcy Tinoco Sant'Anna Neto"
          ],
          [
           "app/workers/data_object_batch/batch_handlers/__init__.py",
           "João Darcy Tinoco Sant'Anna Neto"
          ],
          [
           "app/workers/data_object_batch/batch_handlers/data_object_batch.py",
           "José Tiago"
          ],
          [
           "app/workers/data_object_batch/batch_handlers/data_object_row_batch.py",
           "guilherme.barroso"
          ],
          [
           "app/workers/data_object_batch/cdi.py",
           "João Darcy Tinoco Sant'Anna Neto"
          ],
          [
           "app/workers/data_object_batch/handlers/__init__.py",
           "João Darcy Tinoco Sant'Anna Neto"
          ],
          [
           "app/workers/data_object_batch/handlers/data_object_batch_context_handler.py",
           "João Darcy Tinoco Sant'Anna Neto"
          ],
          [
           "app/workers/data_object_batch/handlers/data_object_batch_lead_handler.py",
           "João Darcy Tinoco Sant'Anna Neto"
          ],
          [
           "app/workers/data_object_batch/message_processor_data_object.py",
           "Igor Alves"
          ],
          [
           "app/workers/data_object_batch/tasks/__init__.py",
           "guilherme.barroso"
          ],
          [
           "app/workers/data_object_batch/tasks/data_object_batch_action_task.py",
           "guilherme.barroso"
          ],
          [
           "app/workers/data_object_batch/tasks/data_object_row_batch_action_task.py",
           "Ylgner Becton"
          ],
          [
           "app/workers/data_object_batch/tasks/models.py",
           "Igor Alves"
          ],
          [
           "app/workers/freight/app.py",
           "Igor Lucio Rocha Alves"
          ],
          [
           "app/workers/freight/cdi.py",
           "João Darcy Tinoco Sant'Anna Neto"
          ],
          [
           "app/workers/freight/settings.py",
           "João Darcy Tinoco Sant'Anna Neto"
          ],
          [
           "app/workers/freight/tasks/__init__.py",
           "João Darcy Tinoco Sant'Anna Neto"
          ],
          [
           "app/workers/freight/tasks/freight_task.py",
           "João Darcy Tinoco Sant'Anna Neto"
          ],
          [
           "app/workers/freight/tasks/models.py",
           "João Darcy Tinoco Sant'Anna Neto"
          ],
          [
           "app/workers/lead/app.py",
           "João Darcy Tinoco Sant'Anna Neto"
          ],
          [
           "app/workers/lead/cdi.py",
           "João Darcy Tinoco Sant'Anna Neto"
          ],
          [
           "app/workers/lead/tasks/events.py",
           "João Darcy Tinoco Sant'Anna Neto"
          ],
          [
           "app/workers/lead/tasks/risk_analysis_response_observers.py",
           "João Darcy Tinoco Sant'Anna Neto"
          ],
          [
           "app/workers/lead/tasks/risk_analysis_response_task.py",
           "João Darcy Tinoco Sant'Anna Neto"
          ],
          [
           "app/workers/netshoes/app.py",
           "JOSÉ TIAGO"
          ],
          [
           "app/workers/netshoes/cdi.py",
           "JOSÉ TIAGO"
          ],
          [
           "app/workers/netshoes/tasks/__init__.py",
           "João Darcy Tinoco Sant'Anna Neto"
          ],
          [
           "app/workers/netshoes/tasks/models/base.py",
           "João Darcy Tinoco Sant'Anna Neto"
          ],
          [
           "app/workers/netshoes/tasks/models/constants.py",
           "João Darcy Tinoco Sant'Anna Neto"
          ],
          [
           "app/workers/netshoes/tasks/models/seller_freight.py",
           "João Darcy Tinoco Sant'Anna Neto"
          ],
          [
           "app/workers/netshoes/tasks/models/seller_user.py",
           "João Darcy Tinoco Sant'Anna Neto"
          ],
          [
           "app/workers/netshoes/tasks/models/sellers.py",
           "João Darcy Tinoco Sant'Anna Neto"
          ],
          [
           "app/workers/netshoes/tasks/netshoes_lead_mapper.py",
           "João Darcy Tinoco Sant'Anna Neto"
          ],
          [
           "app/workers/netshoes/tasks/netshoes_task.py",
           "João Darcy Tinoco Sant'Anna Neto"
          ],
          [
           "app/workers/product/app.py",
           "João Darcy Tinoco Sant'Anna Neto"
          ],
          [
           "app/workers/product/cdi.py",
           "João Darcy Tinoco Sant'Anna Neto"
          ],
          [
           "app/workers/product/settings.py",
           "João Darcy Tinoco Sant'Anna Neto"
          ],
          [
           "app/workers/product/tasks/__init__.py",
           "João Darcy Tinoco Sant'Anna Neto"
          ],
          [
           "app/workers/product/tasks/models.py",
           "João Darcy Tinoco Sant'Anna Neto"
          ],
          [
           "app/workers/product/tasks/product_task.py",
           "João Darcy Tinoco Sant'Anna Neto"
          ],
          [
           "app/workers/risk_analysis/app.py",
           "João Darcy Tinoco Sant'Anna Neto"
          ],
          [
           "app/workers/risk_analysis/cdi.py",
           "João Darcy Tinoco Sant'Anna Neto"
          ],
          [
           "app/workers/risk_analysis/tasks/request_risk_analysis_task.py",
           "João Darcy Tinoco Sant'Anna Neto"
          ],
          [
           "app/workers/sebastian_integration/app.py",
           "João Darcy Tinoco Sant'Anna Neto"
          ],
          [
           "app/workers/seller_account/app.py",
           "João Darcy Tinoco Sant'Anna Neto"
          ],
          [
           "app/workers/seller_account/cdi.py",
           "João Darcy Tinoco Sant'Anna Neto"
          ],
          [
           "app/workers/seller_account/settings.py",
           "João Darcy Tinoco Sant'Anna Neto"
          ],
          [
           "app/workers/seller_account/tasks/__init__.py",
           "João Darcy Tinoco Sant'Anna Neto"
          ],
          [
           "app/workers/seller_account/tasks/models.py",
           "João Darcy Tinoco Sant'Anna Neto"
          ],
          [
           "app/workers/seller_account/tasks/seller_account_task.py",
           "João Darcy Tinoco Sant'Anna Neto"
          ],
          [
           "app/workers/seller_contract/app.py",
           "João Darcy Tinoco Sant'Anna Neto"
          ],
          [
           "app/workers/seller_contract/cdi.py",
           "João Darcy Tinoco Sant'Anna Neto"
          ],
          [
           "app/workers/seller_contract/settings.py",
           "João Darcy Tinoco Sant'Anna Neto"
          ],
          [
           "app/workers/seller_contract/tasks/__init__.py",
           "João Darcy Tinoco Sant'Anna Neto"
          ],
          [
           "app/workers/seller_contract/tasks/models.py",
           "João Darcy Tinoco Sant'Anna Neto"
          ],
          [
           "app/workers/seller_contract/tasks/ps_contract_task.py",
           "João Darcy Tinoco Sant'Anna Neto"
          ],
          [
           "app/workers/seller_contract/tasks/sync_seller_contract_task.py",
           "João Darcy Tinoco Sant'Anna Neto"
          ],
          [
           "app/workers/seller_orders/app.py",
           "João Darcy Tinoco Sant'Anna Neto"
          ],
          [
           "app/workers/seller_orders/cdi.py",
           "João Darcy Tinoco Sant'Anna Neto"
          ],
          [
           "app/workers/seller_orders/models.py",
           "João Darcy Tinoco Sant'Anna Neto"
          ],
          [
           "app/workers/seller_orders/settings.py",
           "João Darcy Tinoco Sant'Anna Neto"
          ],
          [
           "app/workers/seller_orders/tasks/__init__.py",
           "João Darcy Tinoco Sant'Anna Neto"
          ],
          [
           "app/workers/seller_orders/tasks/models.py",
           "guilherme.barroso"
          ],
          [
           "app/workers/seller_orders/tasks/notify_order_by_uuid_task.py",
           "João Darcy Tinoco Sant'Anna Neto"
          ],
          [
           "app/workers/seller_orders/tasks/purchase_order_task.py",
           "João Darcy Tinoco Sant'Anna Neto"
          ],
          [
           "app/workers/seller_orders/tasks/seller_orders_task.py",
           "João Darcy Tinoco Sant'Anna Neto"
          ],
          [
           "app/workers/tags/app.py",
           "João Darcy Tinoco Sant'Anna Neto"
          ],
          [
           "app/workers/tags/tasks/__init__.py",
           "João Darcy Tinoco Sant'Anna Neto"
          ],
          [
           "app/workers/tags/tasks/tags_task.py",
           "João Darcy Tinoco Sant'Anna Neto"
          ],
          [
           "app/workers/tasks.py",
           "João Darcy Tinoco Sant'Anna Neto"
          ],
          [
           "app/workers/webhook/app.py",
           "João Darcy Tinoco Sant'Anna Neto"
          ],
          [
           "app/workers/webhook/cdi.py",
           "João Darcy Tinoco Sant'Anna Neto"
          ],
          [
           "app/workers/webhook/settings.py",
           "João Darcy Tinoco Sant'Anna Neto"
          ],
          [
           "app/workers/webhook/tasks/__init__.py",
           "João Darcy Tinoco Sant'Anna Neto"
          ],
          [
           "app/workers/webhook/tasks/webhook_global/data_object_merge_webhook_handler.py",
           "João Darcy Tinoco Sant'Anna Neto"
          ],
          [
           "app/workers/webhook/tasks/webhook_global/data_object_webhook_handler.py",
           "João Darcy Tinoco Sant'Anna Neto"
          ],
          [
           "app/workers/webhook/tasks/webhook_global/models.py",
           "João Darcy Tinoco Sant'Anna Neto"
          ],
          [
           "app/workers/webhook/tasks/webhook_global/provisioner_risk_analysis_response_handler.py",
           "João Darcy Tinoco Sant'Anna Neto"
          ],
          [
           "app/workers/webhook/tasks/webhook_global/sdk/__init__.py",
           "João Darcy Tinoco Sant'Anna Neto"
          ],
          [
           "app/workers/webhook/tasks/webhook_global/sdk/models.py",
           "João Darcy Tinoco Sant'Anna Neto"
          ],
          [
           "app/workers/webhook/tasks/webhook_global/sdk/webhook_handler.py",
           "João Darcy Tinoco Sant'Anna Neto"
          ],
          [
           "app/workers/webhook/tasks/webhook_global/sdk/webhook_handler_manager.py",
           "João Darcy Tinoco Sant'Anna Neto"
          ],
          [
           "app/workers/webhook/tasks/webhook_global_task.py",
           "João Darcy Tinoco Sant'Anna Neto"
          ],
          [
           "app/workers/workflow_retry/app.py",
           "João Darcy Tinoco Sant'Anna Neto"
          ],
          [
           "app/workers/workflow_retry/cdi.py",
           "João Darcy Tinoco Sant'Anna Neto"
          ],
          [
           "app/workers/workflow_retry/tasks/data_object_workflow_retry_task.py",
           "João Darcy Tinoco Sant'Anna Neto"
          ],
          [
           "app/workers/workflow_wakeup/app.py",
           "filipe rocha"
          ],
          [
           "app/workers/workflow_wakeup/cdi.py",
           "Eduardo de Souza Santos"
          ],
          [
           "app/workers/workflow_wakeup/tasks/data_object_workflow_wakeup_task.py",
           "João Darcy Tinoco Sant'Anna Neto"
          ],
          [
           "app/workflow/__init__.py",
           "João Darcy Tinoco Sant'Anna Neto"
          ],
          [
           "app/workflow/addon.py",
           "João Darcy Tinoco Sant'Anna Neto"
          ],
          [
           "app/workflow/addons/__init__.py",
           "Eduardo de Souza Santos"
          ],
          [
           "app/workflow/addons/workflow_core.py",
           "João Darcy Tinoco Sant'Anna Neto"
          ],
          [
           "app/workflow/addons/workflow_responsibles.py",
           "João Darcy Tinoco Sant'Anna Neto"
          ],
          [
           "app/workflow/addons/workflow_retry.py",
           "João Darcy Tinoco Sant'Anna Neto"
          ],
          [
           "app/workflow/addons/workflow_sla.py",
           "João Darcy Tinoco Sant'Anna Neto"
          ],
          [
           "app/workflow/addons/workflow_stop.py",
           "João Darcy Tinoco Sant'Anna Neto"
          ],
          [
           "app/workflow/addons/workflow_wake_up.py",
           "Igor Lucio Rocha Alves"
          ],
          [
           "app/workflow/cache.py",
           "Igor Lucio Rocha Alves"
          ],
          [
           "app/workflow/cdi.py",
           "Igor Lucio Rocha Alves"
          ],
          [
           "app/workflow/core.py",
           "João Darcy Tinoco Sant'Anna Neto"
          ],
          [
           "app/workflow/engine.py",
           "João Darcy Tinoco Sant'Anna Neto"
          ],
          [
           "app/workflow/errors.py",
           "João Darcy Tinoco Sant'Anna Neto"
          ],
          [
           "app/workflow/events.py",
           "João Darcy Tinoco Sant'Anna Neto"
          ],
          [
           "app/workflow/http_client.py",
           "João Darcy Tinoco Sant'Anna Neto"
          ],
          [
           "app/workflow/http_client_mock.py",
           "João Darcy Tinoco Sant'Anna Neto"
          ],
          [
           "app/workflow/retry/__init__.py",
           "José Tiago"
          ],
          [
           "app/workflow/retry/base.py",
           "José Tiago"
          ],
          [
           "app/workflow/retry/ignore_retry.py",
           "José Tiago"
          ],
          [
           "app/workflow/retry/kafka_retry.py",
           "José Tiago"
          ],
          [
           "app/workflow/runners/base.py",
           "José Tiago"
          ],
          [
           "app/workflow/runners/local.py",
           "José Tiago"
          ],
          [
           "app/workflow/vault.py",
           "José Tiago"
          ],
          [
           "data_object_batch_worker.py",
           "José Tiago"
          ],
          [
           "dependency.yaml",
           "guilherme.barroso"
          ],
          [
           "devtools/action_scripts/gui/action_add_remove_relationship_management_comment.py",
           "Guilherme Alves"
          ],
          [
           "devtools/action_scripts/gui/action_migrate_pme_marketplace.py",
           "José Tiago"
          ],
          [
           "devtools/action_scripts/gui/action_put_lead_referral_code.py",
           "José Tiago"
          ],
          [
           "devtools/action_scripts/gui/action_put_service_categories.py",
           "guilherme.barroso"
          ],
          [
           "devtools/action_scripts/gui/action_redistribute_responsibles.py",
           "guilherme.barroso"
          ],
          [
           "devtools/action_scripts/troubleshoot/action_del_referral_code.py",
           "guilherme.barroso"
          ],
          [
           "devtools/action_scripts/troubleshoot/action_get_employee_info.py",
           "José Tiago"
          ],
          [
           "devtools/action_scripts/troubleshoot/action_put_force_risk_analysis.py",
           "Igor Lucio Rocha Alves"
          ],
          [
           "devtools/action_scripts/troubleshoot/action_resume_creation_denied.py",
           "Igor Lucio Rocha Alves"
          ],
          [
           "devtools/action_scripts/troubleshoot/action_send_to_mma.py",
           "Rafael Mendes"
          ],
          [
           "devtools/action_scripts/troubleshoot/action_start_action_panel.py",
           "João Darcy Tinoco Sant'Anna Neto"
          ],
          [
           "devtools/action_scripts/universe_cards/action_flag_integrator_setup_done.py",
           "João Darcy Tinoco Sant'Anna Neto"
          ],
          [
           "devtools/action_scripts/universe_cards/action_magalu_agency.py",
           "João Darcy Tinoco Sant'Anna Neto"
          ],
          [
           "devtools/action_scripts/universe_cards/action_products.py",
           "João Darcy Tinoco Sant'Anna Neto"
          ],
          [
           "devtools/action_scripts/universe_cards/action_put_regulatory_data.py",
           "João Darcy Tinoco Sant'Anna Neto"
          ],
          [
           "devtools/action_scripts/universe_cards/action_replace_bank_account.py",
           "Igor Lucio Rocha Alves"
          ],
          [
           "devtools/action_scripts/universe_cards/action_sign_contracts.py",
           "guilherme.barroso"
          ],
          [
           "devtools/action_scripts/universe_form/action_put_company_legal_representative.py",
           "Igor Lucio Rocha Alves"
          ],
          [
           "devtools/action_scripts/universe_form/action_put_sells_to_company.py",
           "Igor Lucio Rocha Alves"
          ],
          [
           "devtools/action_scripts/universe_form/action_put_sold_by.py",
           "Igor Lucio Rocha Alves"
          ],
          [
           "devtools/action_scripts/universe_form/action_put_sold_by_website_sells_to_legal_person.py",
           "Igor Lucio Rocha Alves"
          ],
          [
           "devtools/action_scripts/universe_form/action_put_state_registration.py",
           "Igor Lucio Rocha Alves"
          ],
          [
           "devtools/action_scripts/universe_form/action_put_website.py",
           "José Tiago"
          ],
          [
           "devtools/action_scripts/universe_form/script_action_create_change_address_universo_magalu.py",
           "João Darcy Tinoco Sant'Anna Neto"
          ],
          [
           "devtools/action_scripts/universe_form/script_action_create_change_bank_details.py",
           "João Darcy Tinoco Sant'Anna Neto"
          ],
          [
           "devtools/action_scripts/universe_form/script_action_create_change_cash_payment_data.py",
           "João Darcy Tinoco Sant'Anna Neto"
          ],
          [
           "devtools/action_scripts/universe_form/script_action_create_change_integrators.py",
           "João Darcy Tinoco Sant'Anna Neto"
          ],
          [
           "devtools/action_scripts/universe_form/script_action_create_change_lead_completion.py",
           "João Darcy Tinoco Sant'Anna Neto"
          ],
          [
           "devtools/action_scripts/universe_form/script_action_create_change_legal_representative_data.py",
           "João Darcy Tinoco Sant'Anna Neto"
          ],
          [
           "devtools/action_scripts/universe_form/script_action_create_change_postal_address.py",
           "João Darcy Tinoco Sant'Anna Neto"
          ],
          [
           "devtools/action_scripts/universe_form/script_action_create_change_shipping_address.py",
           "João Darcy Tinoco Sant'Anna Neto"
          ],
          [
           "devtools/action_scripts/universe_form/script_action_import_lead_data.py",
           "João Darcy Tinoco Sant'Anna Neto"
          ],
          [
           "devtools/action_scripts/universe_form/script_action_lead_services.py",
           "João Darcy Tinoco Sant'Anna Neto"
          ],
          [
           "devtools/action_scripts/universe_form/script_action_run_tax_data_configuration.py",
           "João Darcy Tinoco Sant'Anna Neto"
          ],
          [
           "devtools/action_scripts/universe_form/script_action_update_lead_tax_data.py",
           "João Darcy Tinoco Sant'Anna Neto"
          ],
          [
           "devtools/action_scripts/update/action_copy_bureau_data.py",
           "João Darcy Tinoco Sant'Anna Neto"
          ],
          [
           "devtools/action_scripts/update/action_fetch_bureau_data.py",
           "João Darcy Tinoco Sant'Anna Neto"
          ],
          [
           "devtools/action_scripts/voip_service/action_block_voip_service.py",
           "João Darcy Tinoco Sant'Anna Neto"
          ],
          [
           "devtools/action_scripts/voip_service/action_disable_voip_service.py",
           "João Darcy Tinoco Sant'Anna Neto"
          ],
          [
           "devtools/action_scripts/voip_service/action_enable_voip_service.py",
           "João Darcy Tinoco Sant'Anna Neto"
          ],
          [
           "devtools/action_scripts/voip_service/action_unblock_voip_service.py",
           "LEONARDO BALDUINO DA SILVA"
          ],
          [
           "devtools/argocd/.dockerignore",
           "João Darcy Tinoco Sant'Anna Neto"
          ],
          [
           "devtools/argocd/Dockerfile",
           "João Darcy Tinoco Sant'Anna Neto"
          ],
          [
           "devtools/check_migrations.py",
           "João Darcy Tinoco Sant'Anna Neto"
          ],
          [
           "devtools/cicd/aptfile.sh",
           "João Darcy Tinoco Sant'Anna Neto"
          ],
          [
           "devtools/cicd/build-venv.sh",
           "João Darcy Tinoco Sant'Anna Neto"
          ],
          [
           "devtools/cicd/common.sh",
           "José Tiago"
          ],
          [
           "devtools/cicd/coverage.sh",
           "Igor Alves"
          ],
          [
           "devtools/config.ini",
           "Jose Tiago"
          ],
          [
           "devtools/config.toml",
           "Igor Alves"
          ],
          [
           "devtools/config_gcp_emulator.py",
           "João Darcy Tinoco Sant'Anna Neto"
          ],
          [
           "devtools/dotenv.dev",
           "João Darcy Tinoco Sant'Anna Neto"
          ],
          [
           "devtools/dotenv.empty",
           "João Darcy Tinoco Sant'Anna Neto"
          ],
          [
           "devtools/dotenv.test",
           "João Darcy Tinoco Sant'Anna Neto"
          ],
          [
           "devtools/export_pydantic_errors.py",
           "João Darcy Tinoco Sant'Anna Neto"
          ],
          [
           "devtools/gchatbot.py",
           "João Darcy Tinoco Sant'Anna Neto"
          ],
          [
           "devtools/gunicorn_config.py",
           "João Darcy Tinoco Sant'Anna Neto"
          ],
          [
           "devtools/kk_get_token.py",
           "João Darcy Tinoco Sant'Anna Neto"
          ],
          [
           "devtools/migration_scripts/script_create_contact_helena.py",
           "João Darcy Tinoco Sant'Anna Neto"
          ],
          [
           "devtools/migration_scripts/script_create_fees_helena.py",
           "João Darcy Tinoco Sant'Anna Neto"
          ],
          [
           "devtools/migration_scripts/script_create_or_update_lead_freedom.py",
           "João Darcy Tinoco Sant'Anna Neto"
          ],
          [
           "devtools/migration_scripts/script_create_or_update_lead_helena.py",
           "João Darcy Tinoco Sant'Anna Neto"
          ],
          [
           "devtools/migration_scripts/script_create_ticket_zendesk.py",
           "João Darcy Tinoco Sant'Anna Neto"
          ],
          [
           "devtools/migration_scripts/script_integration_freshdesk.py",
           "João Darcy Tinoco Sant'Anna Neto"
          ],
          [
           "devtools/migration_scripts/script_rollout_order_account.py",
           "João Darcy Tinoco Sant'Anna Neto"
          ],
          [
           "devtools/migration_scripts/script_update_lead_helena.py",
           "João Darcy Tinoco Sant'Anna Neto"
          ],
          [
           "devtools/migration_scripts/script_update_message_task_63584be8b6e5dc1bc0dda581.py",
           "João Darcy Tinoco Sant'Anna Neto"
          ],
          [
           "devtools/migration_scripts/script_update_message_task_63c68a9a13db1b45a10255aa.py",
           "João Darcy Tinoco Sant'Anna Neto"
          ],
          [
           "devtools/migration_scripts/script_update_message_task_63f3960a0d9fa305fb56cebe.py",
           "João Darcy Tinoco Sant'Anna Neto"
          ],
          [
           "devtools/migration_scripts/script_update_message_task_63f3aea71a46678bdca2bfa1.py",
           "João Darcy Tinoco Sant'Anna Neto"
          ],
          [
           "devtools/migration_scripts/script_update_message_task_64a40d3109dd3f5c1cec7892.py",
           "João Darcy Tinoco Sant'Anna Neto"
          ],
          [
           "devtools/migration_scripts/script_update_message_task_653972eee314dd67908ea21c.py",
           "João Darcy Tinoco Sant'Anna Neto"
          ],
          [
           "devtools/migration_scripts/script_update_message_task_653a80c886f29d2882a02e61.py",
           "João Darcy Tinoco Sant'Anna Neto"
          ],
          [
           "devtools/migration_scripts/script_update_message_task_653a8924b29a5a34b3b5f6e7.py",
           "João Darcy Tinoco Sant'Anna Neto"
          ],
          [
           "devtools/mongo/002-sync-lead-workflows.js",
           "João Darcy Tinoco Sant'Anna Neto"
          ],
          [
           "devtools/mongo/003-generate-sellers-without-pending-leads.js",
           "João Darcy Tinoco Sant'Anna Neto"
          ],
          [
           "devtools/mongo/004-clear-products-from-sellers-without-pending-leads.js",
           "João Darcy Tinoco Sant'Anna Neto"
          ],
          [
           "devtools/mongo/005-seller-with-more-products.js",
           "João Darcy Tinoco Sant'Anna Neto"
          ],
          [
           "devtools/mongo/006-clear-products-from-sellers.js",
           "João Darcy Tinoco Sant'Anna Neto"
          ],
          [
           "devtools/pocs/poc_product_storage.py",
           "João Darcy Tinoco Sant'Anna Neto"
          ],
          [
           "devtools/scripts/migration-generator.sh",
           "João Darcy Tinoco Sant'Anna Neto"
          ],
          [
           "devtools/scripts/migration_example.py",
           "João Darcy Tinoco Sant'Anna Neto"
          ],
          [
           "docker-compose.yml",
           "João Darcy Tinoco Sant'Anna Neto"
          ],
          [
           "docs/Makefile",
           "João Darcy Tinoco Sant'Anna Neto"
          ],
          [
           "docs/compressed-signed-pickle.bytefield",
           "João Darcy Tinoco Sant'Anna Neto"
          ],
          [
           "docs/docker-compose.yml",
           "João Darcy Tinoco Sant'Anna Neto"
          ],
          [
           "docs/magalu_pay.md",
           "João Darcy Tinoco Sant'Anna Neto"
          ],
          [
           "docs/signed-pickle.bytefield",
           "João Darcy Tinoco Sant'Anna Neto"
          ],
          [
           "docs/state-diagram-tasks.svg",
           "Jose Tiago"
          ],
          [
           "docs/svgs/compressed-signed-pickle.svg",
           "Jose Tiago"
          ],
          [
           "docs/svgs/signed-pickle.svg",
           "Jose Tiago"
          ],
          [
           "docs/universe_form/forms.md",
           "Jose Tiago"
          ],
          [
           "docs/workflow.md",
           "João Darcy Tinoco Sant'Anna Neto"
          ],
          [
           "freight_worker.py",
           "guilherme.barroso"
          ],
          [
           "hopdb/__init__.py",
           "guilherme.barroso"
          ],
          [
           "hopdb/collection.py",
           "guilherme.barroso"
          ],
          [
           "hopdb/collection_storage/__init__.py",
           "João Darcy Tinoco Sant'Anna Neto"
          ],
          [
           "hopdb/collection_storage/in_memory.py",
           "João Darcy Tinoco Sant'Anna Neto"
          ],
          [
           "hopdb/collection_storage/sqlite_storage.py",
           "João Darcy Tinoco Sant'Anna Neto"
          ],
          [
           "hopdb/collection_storage/storage.py",
           "Igor Alves"
          ],
          [
           "hopdb/correlation_table/__init__.py",
           "João Darcy Tinoco Sant'Anna Neto"
          ],
          [
           "hopdb/correlation_table/correlation_table.py",
           "João Darcy Tinoco Sant'Anna Neto"
          ],
          [
           "hopdb/correlation_table/in_memory.py",
           "João Darcy Tinoco Sant'Anna Neto"
          ],
          [
           "hopdb/correlation_table/sqlite.py",
           "João Darcy Tinoco Sant'Anna Neto"
          ],
          [
           "hopdb/database.py",
           "João Darcy Tinoco Sant'Anna Neto"
          ],
          [
           "hopdb/document.py",
           "João Darcy Tinoco Sant'Anna Neto"
          ],
          [
           "hopdb/document_encoder/__init__.py",
           "Tiago Ferreira"
          ],
          [
           "hopdb/document_encoder/document_encoder.py",
           "Tiago Ferreira"
          ],
          [
           "hopdb/hopdb.py",
           "João Darcy Tinoco Sant'Anna Neto"
          ],
          [
           "hopdb/index/__init__.py",
           "João Darcy Tinoco Sant'Anna Neto"
          ],
          [
           "hopdb/index/bitmap.py",
           "João Darcy Tinoco Sant'Anna Neto"
          ],
          [
           "hopdb/index/btree.py",
           "João Darcy Tinoco Sant'Anna Neto"
          ],
          [
           "hopdb/logging.py",
           "José Tiago"
          ],
          [
           "hopdb/metadata.py",
           "José Tiago"
          ],
          [
           "hopdb/persistence.py",
           "José Tiago"
          ],
          [
           "hopdb/resource_monitor.py",
           "João Darcy Tinoco Sant'Anna Neto"
          ],
          [
           "hopdb/sequence.py",
           "João Darcy Tinoco Sant'Anna Neto"
          ],
          [
           "hopdb/thirdparty/sqlite3_wrapper.py",
           "José Tiago"
          ],
          [
           "lead_worker.py",
           "João Darcy Tinoco Sant'Anna Neto"
          ],
          [
           "lib/__init__.py",
           "João Darcy Tinoco Sant'Anna Neto"
          ],
          [
           "lib/cdi/__init__.py",
           "João Darcy Tinoco Sant'Anna Neto"
          ],
          [
           "lib/cdi/injector.py",
           "João Darcy Tinoco Sant'Anna Neto"
          ],
          [
           "lib/common/constants/__init__.py",
           "João Darcy Tinoco Sant'Anna Neto"
          ],
          [
           "lib/common/constants/python.py",
           "guilherme.barroso"
          ],
          [
           "lib/common/copy.py",
           "guilherme.barroso"
          ],
          [
           "lib/common/encoder/__init__.py",
           "João Darcy Tinoco Sant'Anna Neto"
          ],
          [
           "lib/common/encoder/bson_encoder.py",
           "João Darcy Tinoco Sant'Anna Neto"
          ],
          [
           "lib/common/encoder/encoder.py",
           "João Darcy Tinoco Sant'Anna Neto"
          ],
          [
           "lib/common/encoder/extended_json.py",
           "João Darcy Tinoco Sant'Anna Neto"
          ],
          [
           "lib/common/encoder/signed_pickle.py",
           "João Darcy Tinoco Sant'Anna Neto"
          ],
          [
           "lib/common/fastapi/__init__.py",
           "João Darcy Tinoco Sant'Anna Neto"
          ],
          [
           "lib/common/fastapi/dependencies.py",
           "Carlos Bridi"
          ],
          [
           "lib/common/fields/__init__.py",
           "João Darcy Tinoco Sant'Anna Neto"
          ],
          [
           "lib/common/fields/bytes.py",
           "João Darcy Tinoco Sant'Anna Neto"
          ],
          [
           "lib/common/fields/mongo.py",
           "João Darcy Tinoco Sant'Anna Neto"
          ],
          [
           "lib/common/fields/timezone.py",
           "Carlos Bridi"
          ],
          [
           "lib/common/file/__init__.py",
           "Carlos Bridi"
          ],
          [
           "lib/common/file/utils.py",
           "Carlos Bridi"
          ],
          [
           "lib/common/humanize.py",
           "João Darcy Tinoco Sant'Anna Neto"
          ],
          [
           "lib/common/lock/__init__.py",
           "João Darcy Tinoco Sant'Anna Neto"
          ],
          [
           "lib/common/lock/named_lock.py",
           "João Darcy Tinoco Sant'Anna Neto"
          ],
          [
           "lib/common/mapping/__init__.py",
           "João Darcy Tinoco Sant'Anna Neto"
          ],
          [
           "lib/common/mapping/base_model.py",
           "guilherme.barroso"
          ],
          [
           "lib/common/mapping/fields.py",
           "filipe rocha"
          ],
          [
           "lib/common/object_storage/__init__.py",
           "filipe rocha"
          ],
          [
           "lib/common/object_storage/default_factory.py",
           "filipe rocha"
          ],
          [
           "lib/common/object_storage/factory.py",
           "filipe rocha"
          ],
          [
           "lib/common/object_storage/in_memory.py",
           "filipe rocha"
          ],
          [
           "lib/common/object_storage/local_storage.py",
           "filipe rocha"
          ],
          [
           "lib/common/object_storage/object_storage.py",
           "José Tiago"
          ],
          [
           "lib/common/object_storage/redis_storage.py",
           "José Tiago"
          ],
          [
           "lib/common/pickle.py",
           "José Tiago"
          ],
          [
           "lib/common/redis_channel/__init__.py",
           "José Tiago"
          ],
          [
           "lib/common/redis_channel/redis_channel.py",
           "José Tiago"
          ],
          [
           "lib/common/typing.py",
           "José Tiago"
          ],
          [
           "lib/dict/anonymize/sdk.py",
           "José Tiago"
          ],
          [
           "lib/dict/anonymize/simple.py",
           "Jose Tiago"
          ],
          [
           "lib/dict/diff/deep_diff.py",
           "Jose Tiago"
          ],
          [
           "lib/dict/diff/sdk.py",
           "José Tiago"
          ],
          [
           "lib/dict/diff/simple.py",
           "José Tiago"
          ],
          [
           "lib/dict/dotnotation/pydash.py",
           "JOSÉ TIAGO"
          ],
          [
           "lib/dict/dotnotation/sdk.py",
           "Jose Tiago"
          ],
          [
           "lib/dict/patch/mongo.py",
           "João Darcy Tinoco Sant'Anna Neto"
          ],
          [
           "lib/dict/patch/sdk.py",
           "João Darcy Tinoco Sant'Anna Neto"
          ],
          [
           "lib/dict/patch/simple.py",
           "João Darcy Tinoco Sant'Anna Neto"
          ],
          [
           "lib/logging/__init__.py",
           "guilherme.barroso"
          ],
          [
           "lib/logging/impl_lulogger.py",
           "Jose Tiago"
          ],
          [
           "lib/logging/wrapper.py",
           "João Darcy Tinoco Sant'Anna Neto"
          ],
          [
           "migrations/202201120205_create_collection_definitions.py",
           "Igor Lucio Rocha Alves"
          ],
          [
           "migrations/202202150210_create_collection_leads.py",
           "João Darcy Tinoco Sant'Anna Neto"
          ],
          [
           "migrations/202202181023_create_collection_worflows.py",
           "João Darcy Tinoco Sant'Anna Neto"
          ],
          [
           "migrations/202203021137_create_collection_statistics.py",
           "João Darcy Tinoco Sant'Anna Neto"
          ],
          [
           "migrations/202203111210_seed_definition.py",
           "João Darcy Tinoco Sant'Anna Neto"
          ],
          [
           "migrations/202203140210_add_leads_index.py",
           "João Darcy Tinoco Sant'Anna Neto"
          ],
          [
           "migrations/202203211623_lead_workflows.py",
           "Igor Alves"
          ],
          [
           "migrations/202203251549_create_workflow_statistics.py",
           "João Darcy Tinoco Sant'Anna Neto"
          ],
          [
           "migrations/202204041528_lead_completion.py",
           "João Darcy Tinoco Sant'Anna Neto"
          ],
          [
           "migrations/202204121405_lead_counters.py",
           "Marcelo Bastos Ribeiro"
          ],
          [
           "migrations/202204131441_add_sort_leads_index.py",
           "João Darcy Tinoco Sant'Anna Neto"
          ],
          [
           "migrations/202204191718_add_leads_index_seller_external.py",
           "João Darcy Tinoco Sant'Anna Neto"
          ],
          [
           "migrations/202204200918_workflow_actions.py",
           "Ylgner Becton"
          ],
          [
           "migrations/202204250741_add_new_workflow_actions.py",
           "LEONARDO BALDUINO DA SILVA"
          ],
          [
           "migrations/202204251807_create_collection_stocks.py",
           "João Darcy Tinoco Sant'Anna Neto"
          ],
          [
           "migrations/202204261623_add_external_service_definition.py",
           "Eduardo de Souza Santos"
          ],
          [
           "migrations/202205031426_create_seller_stocks_collection.py",
           "Jose Tiago"
          ],
          [
           "migrations/202205031626_workflow_seller_stock.py",
           "João Darcy Tinoco Sant'Anna Neto"
          ],
          [
           "migrations/202205041718_create_collection_tags.py",
           "João Darcy Tinoco Sant'Anna Neto"
          ],
          [
           "migrations/202205042014_seed_tags.py",
           "João Darcy Tinoco Sant'Anna Neto"
          ],
          [
           "migrations/202205091025_lead_workflow_initial_state.py",
           "João Darcy Tinoco Sant'Anna Neto"
          ],
          [
           "migrations/202205091133_add_tags_index.py",
           "Igor Alves"
          ],
          [
           "migrations/202205181049_seed_users.py",
           "semantic-release-bot"
          ],
          [
           "migrations/202205231809_add_responsible_index.py",
           "João Darcy Tinoco Sant'Anna Neto"
          ],
          [
           "migrations/202205271433_sync_definition.py",
           "João Darcy Tinoco Sant'Anna Neto"
          ],
          [
           "migrations/202205301115_create_lead_classification.py",
           "Ylgner Becton"
          ],
          [
           "migrations/202205311802_add_lead_last_observation_index.py",
           "João Darcy Tinoco Sant'Anna Neto"
          ],
          [
           "migrations/202206011601_update_lead_classification.py",
           "João Darcy Tinoco Sant'Anna Neto"
          ],
          [
           "migrations/202206131218_create_collection_secrets.py",
           "João Darcy Tinoco Sant'Anna Neto"
          ],
          [
           "migrations/202206290420_update_seller_product_index.py",
           "João Darcy Tinoco Sant'Anna Neto"
          ],
          [
           "migrations/202206301146_add_lead_observation_tags_index.py",
           "João Darcy Tinoco Sant'Anna Neto"
          ],
          [
           "migrations/202207081619_start_lead_finalization_early.py",
           "João Darcy Tinoco Sant'Anna Neto"
          ],
          [
           "migrations/202207111127_on_test_order_finish_workflows.py",
           "João Darcy Tinoco Sant'Anna Neto"
          ],
          [
           "migrations/202207121915_seed_tecnical_definition.py",
           "João Darcy Tinoco Sant'Anna Neto"
          ],
          [
           "migrations/202207161816_update_lead_status_definition.py",
           "João Darcy Tinoco Sant'Anna Neto"
          ],
          [
           "migrations/202207270857_finish_financial_analysis_on_sebastian_event.py",
           "João Darcy Tinoco Sant'Anna Neto"
          ],
          [
           "migrations/202208020837_blocklist_seller_lock_and_unlock.py",
           "João Darcy Tinoco Sant'Anna Neto"
          ],
          [
           "migrations/202208110922_lead_wf_fix.py",
           "João Darcy Tinoco Sant'Anna Neto"
          ],
          [
           "migrations/202208221806_communication_hub_welcome_message.py",
           "João Darcy Tinoco Sant'Anna Neto"
          ],
          [
           "migrations/202208291716_comunication_hub_create_optin.py",
           "Igor Alves"
          ],
          [
           "migrations/202208301552_call_employees.py",
           "Jose Tiago"
          ],
          [
           "migrations/202209011719_create_optin_email_whatsapp.py",
           "guilherme.barroso"
          ],
          [
           "migrations/202209061739_get_more_info_employee.py",
           "guilherme.barroso"
          ],
          [
           "migrations/202209150845_provision_analysis.py",
           "João Darcy Tinoco Sant'Anna Neto"
          ],
          [
           "migrations/202209201413_task_affinities.py",
           "José Tiago"
          ],
          [
           "migrations/202209211647_get_sso_id_account.py",
           "João Darcy Tinoco Sant'Anna Neto"
          ],
          [
           "migrations/202209261903_add_lead_analysis_front.py",
           "João Darcy Tinoco Sant'Anna Neto"
          ],
          [
           "migrations/202210031209_remove_pips_task_from_automatic_rollout.py",
           "João Darcy Tinoco Sant'Anna Neto"
          ],
          [
           "migrations/202210041139_add_legal_to_endpoint_provision.py",
           "Igor Lucio Rocha Alves"
          ],
          [
           "migrations/202210041547_create_get_sso_id_account.py",
           "João Darcy Tinoco Sant'Anna Neto"
          ],
          [
           "migrations/202210041711_get_data_to_pj_account.py",
           "LEONARDO BALDUINO DA SILVA"
          ],
          [
           "migrations/202210041813_alter_endpoint_get_data_pj.py",
           "LEONARDO BALDUINO DA SILVA"
          ],
          [
           "migrations/202210051002_update_tasks_events.py",
           "João Darcy Tinoco Sant'Anna Neto"
          ],
          [
           "migrations/202210061852_post_persons_pj_account.py",
           "João Darcy Tinoco Sant'Anna Neto"
          ],
          [
           "migrations/202210101628_add_users_manually.py",
           "Igor Alves"
          ],
          [
           "migrations/202210111714_move_tasks_to_provisioner.py",
           "João Darcy Tinoco Sant'Anna Neto"
          ],
          [
           "migrations/202210140929_add_lead_integration_platforms.py",
           "João Darcy Tinoco Sant'Anna Neto"
          ],
          [
           "migrations/202210140930_pj_account_creation_call.py",
           "Rafael Vieira Mendes"
          ],
          [
           "migrations/202210191006_add_retry_tasks.py",
           "guilherme.barroso"
          ],
          [
           "migrations/202210310909_move_task_provisioner.py",
           "Igor Alves"
          ],
          [
           "migrations/202211031722_update_users_permissions.py",
           "João Darcy Tinoco Sant'Anna Neto"
          ],
          [
           "migrations/202211151130_legal_representative_adjustment.py",
           "João Darcy Tinoco Sant'Anna Neto"
          ],
          [
           "migrations/202211160943_update_on_create_account_pj.py",
           "João Darcy Tinoco Sant'Anna Neto"
          ],
          [
           "migrations/202211221645_register_lead_id_magalu.py",
           "guilherme.barroso"
          ],
          [
           "migrations/202212081519_provisioner_adjustments.py",
           "João Darcy Tinoco Sant'Anna Neto"
          ],
          [
           "migrations/202212130912_add_update_provisioner.py",
           "João Darcy Tinoco Sant'Anna Neto"
          ],
          [
           "migrations/202212140917_magalupay_sebastian_sync.py",
           "José Tiago"
          ],
          [
           "migrations/202212151151_pj_account_new_flow.py",
           "João Darcy Tinoco Sant'Anna Neto"
          ],
          [
           "migrations/202212151154_add_message_workflow.py",
           "João Darcy Tinoco Sant'Anna Neto"
          ],
          [
           "migrations/202212160730_returns_provisioner_reason.py",
           "João Darcy Tinoco Sant'Anna Neto"
          ],
          [
           "migrations/202212161954_create_action_panel_workflow.py",
           "João Darcy Tinoco Sant'Anna Neto"
          ],
          [
           "migrations/202212171114_send_email_account_information_wf.py",
           "João Darcy Tinoco Sant'Anna Neto"
          ],
          [
           "migrations/202212171416_risk_analysis_actions.py",
           "João Darcy Tinoco Sant'Anna Neto"
          ],
          [
           "migrations/202212191644_change_conditions_to_start_message_wf.py",
           "João Darcy Tinoco Sant'Anna Neto"
          ],
          [
           "migrations/202212211706_zaig_10_percente_risk_analysis.py",
           "João Darcy Tinoco Sant'Anna Neto"
          ],
          [
           "migrations/202212220900_lead_create_param_list_consents_integrators.py",
           "João Darcy Tinoco Sant'Anna Neto"
          ],
          [
           "migrations/202212231131_cnpj_situation_translation.py",
           "João Darcy Tinoco Sant'Anna Neto"
          ],
          [
           "migrations/202212261635_add_condition_to_create_inconsistency_check.py",
           "João Darcy Tinoco Sant'Anna Neto"
          ],
          [
           "migrations/202212291016_setup_eddie_onboarding.py",
           "João Darcy Tinoco Sant'Anna Neto"
          ],
          [
           "migrations/202301041721_changing_action_panel_task_name.py",
           "João Darcy Tinoco Sant'Anna Neto"
          ],
          [
           "migrations/202301051748_get_bureau_data.py",
           "João Darcy Tinoco Sant'Anna Neto"
          ],
          [
           "migrations/202301111030_copy_ssoid_and_email_to_owner.py",
           "João Darcy Tinoco Sant'Anna Neto"
          ],
          [
           "migrations/202301300900_update_condition_lead_create_param_list_consents_integrators.py",
           "João Darcy Tinoco Sant'Anna Neto"
          ],
          [
           "migrations/202301301359_create_collection_actions.py",
           "João Darcy Tinoco Sant'Anna Neto"
          ],
          [
           "migrations/202301441754_check_pj_account_was_reproved.py",
           "João Darcy Tinoco Sant'Anna Neto"
          ],
          [
           "migrations/202301441755_create_task_update_pj_account.py",
           "João Darcy Tinoco Sant'Anna Neto"
          ],
          [
           "migrations/202301451053_sending_email_asking_update_account.py",
           "João Darcy Tinoco Sant'Anna Neto"
          ],
          [
           "migrations/202301541754_adjusting_cond_to_synchronize_pj_account.py",
           "João Darcy Tinoco Sant'Anna Neto"
          ],
          [
           "migrations/202302161152_legacy_callback.py",
           "guilherme.barroso"
          ],
          [
           "migrations/202302261809_adjustment_product_block_message.py",
           "João Darcy Tinoco Sant'Anna Neto"
          ],
          [
           "migrations/202303020938_create_index_analysisId.py",
           "João Darcy Tinoco Sant'Anna Neto"
          ],
          [
           "migrations/202303081521_send_mma.py",
           "João Darcy Tinoco Sant'Anna Neto"
          ],
          [
           "migrations/202303081548_risk_validation.py",
           "João Darcy Tinoco Sant'Anna Neto"
          ],
          [
           "migrations/202303081568_adjust_email_sending_rule.py",
           "João Darcy Tinoco Sant'Anna Neto"
          ],
          [
           "migrations/202303161439_updates_seller_state_to_v2_and_adds_contract_signature.py",
           "João Darcy Tinoco Sant'Anna Neto"
          ],
          [
           "migrations/202303161440_create_collection_data_object_batch_actions.py",
           "João Darcy Tinoco Sant'Anna Neto"
          ],
          [
           "migrations/202303211639_update_seller_state_v3_product.py",
           "João Darcy Tinoco Sant'Anna Neto"
          ],
          [
           "migrations/202303221627_create_collection_contacts.py",
           "João Darcy Tinoco Sant'Anna Neto"
          ],
          [
           "migrations/202303241020_create_unique_index_contact.py",
           "João Darcy Tinoco Sant'Anna Neto"
          ],
          [
           "migrations/202303291036_remove_task_bureau_pj_account.py",
           "João Darcy Tinoco Sant'Anna Neto"
          ],
          [
           "migrations/202303300749_change_source_mma.py",
           "João Darcy Tinoco Sant'Anna Neto"
          ],
          [
           "migrations/202304031628_removing_bureau_from_creation_analysis.py",
           "João Darcy Tinoco Sant'Anna Neto"
          ],
          [
           "migrations/202304031803_send_activate_magalu_deliveries.py",
           "Eduardo de Souza Santos"
          ],
          [
           "migrations/202304060920_create_index_contacts_history.py",
           "João Darcy Tinoco Sant'Anna Neto"
          ],
          [
           "migrations/202304061438_automatically_create_pj_account.py",
           "João Darcy Tinoco Sant'Anna Neto"
          ],
          [
           "migrations/202304111412_change_name_mma.py",
           "João Darcy Tinoco Sant'Anna Neto"
          ],
          [
           "migrations/202304241428_get_seller_mma.py",
           "João Darcy Tinoco Sant'Anna Neto"
          ],
          [
           "migrations/202304271536_legal_representative_adjustments.py",
           "João Darcy Tinoco Sant'Anna Neto"
          ],
          [
           "migrations/202305041109_update_register_lead_id_magalu.py",
           "João Darcy Tinoco Sant'Anna Neto"
          ],
          [
           "migrations/202305041440_create_collection_processed_data_object_message.py",
           "João Darcy Tinoco Sant'Anna Neto"
          ],
          [
           "migrations/202305171137_create_partners_indexes.py",
           "João Darcy Tinoco Sant'Anna Neto"
          ],
          [
           "migrations/202305181425_create_org_zendesk.py",
           "João Darcy Tinoco Sant'Anna Neto"
          ],
          [
           "migrations/202305221501_add_index_and_set_corporate_name_lower.py",
           "João Darcy Tinoco Sant'Anna Neto"
          ],
          [
           "migrations/202305240857_get_risk_analysis_adjustments.py",
           "João Darcy Tinoco Sant'Anna Neto"
          ],
          [
           "migrations/202305291631_add_recap_field.py",
           "João Darcy Tinoco Sant'Anna Neto"
          ],
          [
           "migrations/202305308003_create_index_contacts_seller_id_source.py",
           "João Darcy Tinoco Sant'Anna Neto"
          ],
          [
           "migrations/202305311433_add_index_processed_data_object_recreate.py",
           "João Darcy Tinoco Sant'Anna Neto"
          ],
          [
           "migrations/202306051856_update_org_zendesk.py",
           "João Darcy Tinoco Sant'Anna Neto"
          ],
          [
           "migrations/202306120807_pj_account_email_change.py",
           "João Darcy Tinoco Sant'Anna Neto"
          ],
          [
           "migrations/202306141620_migrate_lead_contact_to_contacts.py",
           "João Darcy Tinoco Sant'Anna Neto"
          ],
          [
           "migrations/202306141621_generate_contacts_history_create.py",
           "João Darcy Tinoco Sant'Anna Neto"
          ],
          [
           "migrations/202306231127_update_magalu_deliveries_activate.py",
           "João Darcy Tinoco Sant'Anna Neto"
          ],
          [
           "migrations/202306270852_lead_assignee_reassignment_task.py",
           "João Darcy Tinoco Sant'Anna Neto"
          ],
          [
           "migrations/202306300951_send_email_lead_reproved.py",
           "João Darcy Tinoco Sant'Anna Neto"
          ],
          [
           "migrations/202307030822_send_email_signature_contract.py",
           "João Darcy Tinoco Sant'Anna Neto"
          ],
          [
           "migrations/202307111758_change_actions_to_virtual.py",
           "João Darcy Tinoco Sant'Anna Neto"
          ],
          [
           "migrations/202307181643_add_seller_state_magalu_agency.py",
           "João Darcy Tinoco Sant'Anna Neto"
          ],
          [
           "migrations/202307191527_adjustmet_tasks_to_create_basic_lead.py",
           "José Tiago"
          ],
          [
           "migrations/202307191710_fixing_duplicate_workflow.py",
           "José Tiago"
          ],
          [
           "migrations/202307201719_update_old_zendesk_leads.py",
           "João Darcy Tinoco Sant'Anna Neto"
          ],
          [
           "migrations/202307211533_zendesk_adjusting_workflow_retry.py",
           "João Darcy Tinoco Sant'Anna Neto"
          ],
          [
           "migrations/202307251921_ajusting_send_email_reproved.py",
           "João Darcy Tinoco Sant'Anna Neto"
          ],
          [
           "migrations/202307261431_add_realm_users.py",
           "João Darcy Tinoco Sant'Anna Neto"
          ],
          [
           "migrations/202308020935_add_service_account_sso_migrated.py",
           "João Darcy Tinoco Sant'Anna Neto"
          ],
          [
           "migrations/202308021030_remove_service_account_sso_migrated.py",
           "João Darcy Tinoco Sant'Anna Neto"
          ],
          [
           "migrations/202308021214_create_collection_services.py",
           "João Darcy Tinoco Sant'Anna Neto"
          ],
          [
           "migrations/202308080847_update_zendesk_user_observer.py",
           "João Darcy Tinoco Sant'Anna Neto"
          ],
          [
           "migrations/202308111746_create_wf_netshoes.py",
           "João Darcy Tinoco Sant'Anna Neto"
          ],
          [
           "migrations/202308111747_adjustment_tasks_to_netshoes.py",
           "João Darcy Tinoco Sant'Anna Neto"
          ],
          [
           "migrations/202308141129_rename_task_aproved_and_pj_account.py",
           "Alex Boa Morte"
          ],
          [
           "migrations/202308161520_update_pj_account_new_flow.py",
           "Alex Boa Morte"
          ],
          [
           "migrations/202308171134_adding_source_field.py",
           "João Darcy Tinoco Sant'Anna Neto"
          ],
          [
           "migrations/202308241540_add_service_type_index.py",
           "João Darcy Tinoco Sant'Anna Neto"
          ],
          [
           "migrations/202308301156_create_indice_lead_status_lead_weight.py",
           "Deivis Alves"
          ],
          [
           "migrations/202308301555_adding_new_netshoes_tasks.py",
           "anderson.pereira"
          ],
          [
           "migrations/202309051913_create_batch_data_objects_collections.py",
           "guilherme.barroso"
          ],
          [
           "migrations/202309081730_adjustment_email_new_flow.py",
           "guilherme.barroso"
          ],
          [
           "migrations/202309140917_create_lead_mma.py",
           "João Darcy Tinoco Sant'Anna Neto"
          ],
          [
           "migrations/202309200900_adjustment_id_message_contract.py",
           "João Darcy Tinoco Sant'Anna Neto"
          ],
          [
           "migrations/202309251524_skip_rephrasing_diff_disapproved_lead.py",
           "João Darcy Tinoco Sant'Anna Neto"
          ],
          [
           "migrations/202310041428_adjustment_tasks_to_source_magalu_universe.py",
           "Rafael Vieira Mendes"
          ],
          [
           "migrations/202310051706_copy_data_channel_id.py",
           "Rafael Vieira Mendes"
          ],
          [
           "migrations/202310051707_create_index_seller_id_and_channel.py",
           "Rafael Vieira Mendes"
          ],
          [
           "migrations/202310091148_create_wf_store_configuration_netshoes.py",
           "João Darcy Tinoco Sant'Anna Neto"
          ],
          [
           "migrations/202310091149_create_task_mp_seller.py",
           "João Darcy Tinoco Sant'Anna Neto"
          ],
          [
           "migrations/202310181749_adjustment_analysis_process_links.py",
           "vittoria.zago"
          ],
          [
           "migrations/202310241106_adjustment_email_registration.py",
           "vittoria.zago"
          ],
          [
           "migrations/202310241551_adjust_approval_message_no_pj_account.py",
           "vittoria.zago"
          ],
          [
           "migrations/202310241552_adjust_approval_message_reproved_pj_account.py",
           "João Darcy Tinoco Sant'Anna Neto"
          ],
          [
           "migrations/202310251650_add_tasks_messages_wa_reproved.py",
           "João Darcy Tinoco Sant'Anna Neto"
          ],
          [
           "migrations/202310251651_add_tasks_messages_wa_registration_completed.py",
           "João Darcy Tinoco Sant'Anna Neto"
          ],
          [
           "migrations/202310251652_add_tasks_messages_wa_approved_completed.py",
           "João Darcy Tinoco Sant'Anna Neto"
          ],
          [
           "migrations/202310311020_add_source_channel_and_origin_index_to_lead.py",
           "João Darcy Tinoco Sant'Anna Neto"
          ],
          [
           "migrations/202311241511_add_verification_seller_state_contract_signing.py",
           "guilherme.barroso"
          ],
          [
           "migrations/202311241512_adjusting_business_condition_contract_pme.py",
           "LEONARDO BALDUINO DA SILVA"
          ],
          [
           "migrations/202311242223_create_wf_automatic_creation_reproval.py",
           "guilherme.barroso"
          ],
          [
           "migrations/202311251552_add_task_mp_security.py",
           "guilherme.barroso"
          ],
          [
           "migrations/202311251554_add_task_set_up_integrator.py",
           "vittoria.zago"
          ],
          [
           "migrations/202311251555_adjustment_close_task_contract_signing.py",
           "vittoria.zago"
          ],
          [
           "migrations/202311251556_update_task_remove_service_account_to_add_publish_date.py",
           "João Darcy Tinoco Sant'Anna Neto"
          ],
          [
           "migrations/202311300831_integration_platform_normalization.py",
           "João Darcy Tinoco Sant'Anna Neto"
          ],
          [
           "migrations/202311301145_add_lead_owner_sso_ids.py",
           "filipe rocha"
          ],
          [
           "migrations/202311301258_populate_lead_owners.py",
           "Bruno Falbo"
          ],
          [
           "migrations/202311301259_adjustment_tasks_netshoes.py",
           "João Darcy Tinoco Sant'Anna Neto"
          ],
          [
           "migrations/202312041018_mapping_table.py",
           "João Darcy Tinoco Sant'Anna Neto"
          ],
          [
           "migrations/202312050850_multi_source_integration_platform.py",
           "João Darcy Tinoco Sant'Anna Neto"
          ],
          [
           "migrations/202312051032_add_lead_indexes_for_checking_document_availability.py",
           "João Darcy Tinoco Sant'Anna Neto"
          ],
          [
           "migrations/202312051638_create_index_external_reference_sellerid.py",
           "João Darcy Tinoco Sant'Anna Neto"
          ],
          [
           "migrations/202312191145_update_tasks_types.py",
           "João Darcy Tinoco Sant'Anna Neto"
          ],
          [
           "migrations/202312191146_update_tasks_slas.py",
           "João Darcy Tinoco Sant'Anna Neto"
          ],
          [
           "migrations/202401151339_update_virtual_action_allowed_roles.py",
           "João Darcy Tinoco Sant'Anna Neto"
          ],
          [
           "migrations/202401151340_create_lead_helena.py",
           "João Darcy Tinoco Sant'Anna Neto"
          ],
          [
           "migrations/202401151458_add_task_update_contact.py",
           "João Darcy Tinoco Sant'Anna Neto"
          ],
          [
           "migrations/202401181033_update_task_account_catalog_service_with_feature_flag.py",
           "João Darcy Tinoco Sant'Anna Neto"
          ],
          [
           "migrations/202401181034_update_task_seller_migrated.py",
           "João Darcy Tinoco Sant'Anna Neto"
          ],
          [
           "migrations/202401230516_create_index_source_partner.py",
           "João Darcy Tinoco Sant'Anna Neto"
          ],
          [
           "migrations/202401230517_populate_source_partner_by_external_reference.py",
           "João Darcy Tinoco Sant'Anna Neto"
          ],
          [
           "migrations/202402060847_create_fees_helena.py",
           "João Darcy Tinoco Sant'Anna Neto"
          ],
          [
           "migrations/202402141555_update_lead_helena.py",
           "Igor Alves"
          ],
          [
           "migrations/202402160808_change_source_partner_index.py",
           "Jose Tiago"
          ],
          [
           "migrations/202402231719_send_lead_freedom.py",
           "guilherme.barroso"
          ],
          [
           "migrations/202402241509_last_observation_and_others_index.py",
           "guilherme.barroso"
          ],
          [
           "migrations/202403170800_create_freshdesk.py",
           "João Darcy Tinoco Sant'Anna Neto"
          ],
          [
           "migrations/202403291339_create_core_data_object_classifier.py",
           "João Darcy Tinoco Sant'Anna Neto"
          ],
          [
           "migrations/202403291345_marketplace_publish_classifier.py",
           "LEONARDO BALDUINO DA SILVA"
          ],
          [
           "migrations/202404011258_data_object_classifier_index.py",
           "João Darcy Tinoco Sant'Anna Neto"
          ],
          [
           "migrations/202404020813_create_index_completed_at.py",
           "Rafael Mendes"
          ],
          [
           "migrations/202404020946_index_partial_integration_platform_available.py",
           "João Darcy Tinoco Sant'Anna Neto"
          ],
          [
           "migrations/202404021929_normalize_models.py",
           "João Darcy Tinoco Sant'Anna Neto"
          ],
          [
           "migrations/202404031356_condition_msg_approved_registration_wa_mkt.py",
           "João Darcy Tinoco Sant'Anna Neto"
          ],
          [
           "migrations/202404031357_condition_msg_registration_wa_mkt.py",
           "João Darcy Tinoco Sant'Anna Neto"
          ],
          [
           "migrations/202404031358_condition_msg_reproved_registration_wa_mkt.py",
           "João Darcy Tinoco Sant'Anna Neto"
          ],
          [
           "migrations/202404031359_condition_msg_approved_registration.py",
           "João Darcy Tinoco Sant'Anna Neto"
          ],
          [
           "migrations/202404031360_condition_approved_registration_no_pj_account.py",
           "João Darcy Tinoco Sant'Anna Neto"
          ],
          [
           "migrations/202404031361_condition_approved_registration_update_pj_account.py",
           "João Darcy Tinoco Sant'Anna Neto"
          ],
          [
           "migrations/202404031362_condition_analysis_process.py",
           "João Darcy Tinoco Sant'Anna Neto"
          ],
          [
           "migrations/202404031363_condition_contract_signing.py",
           "LEONARDO BALDUINO DA SILVA"
          ],
          [
           "migrations/202404160825_lead_updated_at_index.py",
           "LEONARDO BALDUINO DA SILVA"
          ],
          [
           "migrations/202404180927_lead_actions_needed_index.py",
           "João Darcy Tinoco Sant'Anna Neto"
          ],
          [
           "migrations/202404220816_universe_form_classifier.py",
           "João Darcy Tinoco Sant'Anna Neto"
          ],
          [
           "migrations/202404240800_create_ticket_zendesk.py",
           "José Tiago"
          ],
          [
           "migrations/202405080813_create_index_source_origin_completed_at.py",
           "João Darcy Tinoco Sant'Anna Neto"
          ],
          [
           "migrations/202405131017_disable_zendesk_already_ticket.py",
           "João Darcy Tinoco Sant'Anna Neto"
          ],
          [
           "migrations/202405140912_add_test_purchase_order_action.py",
           "João Darcy Tinoco Sant'Anna Neto"
          ],
          [
           "migrations/202405161046_remove_set_order_test_date_to_account_from_finalization_workflow.py",
           "Rafael Vieira Mendes"
          ],
          [
           "migrations/202405161047_set_order_test_date_to_account.py",
           "guilherme.barroso"
          ],
          [
           "migrations/202405201125_create_task_set_order_test_date_account_workflows.py",
           "João Darcy Tinoco Sant'Anna Neto"
          ],
          [
           "migrations/202405221611_add_completed_at_netshoes.py",
           "João Darcy Tinoco Sant'Anna Neto"
          ],
          [
           "migrations/202405221612_commercial_contract_monitor.py",
           "Igor Alves"
          ],
          [
           "migrations/202405240916_universe_form_classifier_update.py",
           "Jose Tiago"
          ],
          [
           "migrations/202405241013_marketplace_publish_classifier_update.py",
           "guilherme.barroso"
          ],
          [
           "migrations/202405241234_netshoes_and_marketplace_services.py",
           "guilherme.barroso"
          ],
          [
           "migrations/202405291456_add_completed_at_netshoes_to_legacy_wf.py",
           "João Darcy Tinoco Sant'Anna Neto"
          ],
          [
           "migrations/202405291745_commercial_contract_monitor_update.py",
           "João Darcy Tinoco Sant'Anna Neto"
          ],
          [
           "migrations/202406031639_create_index_integrator_platform.py",
           "João Darcy Tinoco Sant'Anna Neto"
          ],
          [
           "migrations/202406131515_rollout_order_account.py",
           "João Darcy Tinoco Sant'Anna Neto"
          ],
          [
           "migrations/202407041755_universe_form_classifier_update.py",
           "João Darcy Tinoco Sant'Anna Neto"
          ],
          [
           "migrations/202407041756_marketplace_publish_classifier_update.py",
           "João Darcy Tinoco Sant'Anna Neto"
          ],
          [
           "migrations/utils/__init__.py",
           "João Darcy Tinoco Sant'Anna Neto"
          ],
          [
           "migrations/utils/util.py",
           "João Darcy Tinoco Sant'Anna Neto"
          ],
          [
           "migrations_util/classifiers.py",
           "João Darcy Tinoco Sant'Anna Neto"
          ],
          [
           "migrations_util/cli.py",
           "João Darcy Tinoco Sant'Anna Neto"
          ],
          [
           "migrations_util/datetime.py",
           "LEONARDO BALDUINO DA SILVA"
          ],
          [
           "migrations_util/model_normalizer.py",
           "LEONARDO BALDUINO DA SILVA"
          ],
          [
           "migrations_util/script_sign.py",
           "João Darcy Tinoco Sant'Anna Neto"
          ],
          [
           "migrations_util/settings.py",
           "João Darcy Tinoco Sant'Anna Neto"
          ],
          [
           "migrations_util/virtual_actions.py",
           "Igor Alves"
          ],
          [
           "mypy.ini",
           "João Darcy Tinoco Sant'Anna Neto"
          ],
          [
           "netshoes_lead_worker.py",
           "João Darcy Tinoco Sant'Anna Neto"
          ],
          [
           "product_worker.py",
           "Rafael Vieira Mendes"
          ],
          [
           "pyproject.toml",
           "João Darcy Tinoco Sant'Anna Neto"
          ],
          [
           "pytest.ini",
           "guilherme.barroso"
          ],
          [
           "release-replacements.json",
           "João Darcy Tinoco Sant'Anna Neto"
          ],
          [
           "requirements.txt",
           "Igor Lucio Rocha Alves"
          ],
          [
           "requirements/base.txt",
           "João Darcy Tinoco Sant'Anna Neto"
          ],
          [
           "requirements/develop.txt",
           "João Darcy Tinoco Sant'Anna Neto"
          ],
          [
           "risk_analysis_worker.py",
           "Igor Lucio Rocha Alves"
          ],
          [
           "run-migrate.sh",
           "João Darcy Tinoco Sant'Anna Neto"
          ],
          [
           "sebastian_integration_worker.py",
           "João Darcy Tinoco Sant'Anna Neto"
          ],
          [
           "seller_account_worker.py",
           "João Darcy Tinoco Sant'Anna Neto"
          ],
          [
           "seller_contract_worker.py",
           "João Darcy Tinoco Sant'Anna Neto"
          ],
          [
           "seller_orders_worker.py",
           "João Darcy Tinoco Sant'Anna Neto"
          ],
          [
           "sonar-project.properties",
           "João Darcy Tinoco Sant'Anna Neto"
          ],
          [
           "start-gunicorn.sh",
           "Igor Lucio Rocha Alves"
          ],
          [
           "start-worker.sh",
           "João Darcy Tinoco Sant'Anna Neto"
          ],
          [
           "tag_worker.py",
           "João Darcy Tinoco Sant'Anna Neto"
          ],
          [
           "tests/analytics/apis/fastapi/routes/test_health_router.py",
           "João Darcy Tinoco Sant'Anna Neto"
          ],
          [
           "tests/analytics/apis/fastapi/routes/test_lead_analytics_router.py",
           "João Darcy Tinoco Sant'Anna Neto"
          ],
          [
           "tests/analytics/business/test_lead_analytics_bo.py",
           "João Darcy Tinoco Sant'Anna Neto"
          ],
          [
           "tests/analytics/conftest.py",
           "João Darcy Tinoco Sant'Anna Neto"
          ],
          [
           "tests/analytics/fixtures/dataset/lead_analytics_fixture.py",
           "Ylgner Becton"
          ],
          [
           "tests/analytics/fixtures/dataset/lead_dashboard_data.json",
           "João Darcy Tinoco Sant'Anna Neto"
          ],
          [
           "tests/analytics/fixtures/extended_json.py",
           "João Darcy Tinoco Sant'Anna Neto"
          ],
          [
           "tests/analytics/test_utils.py",
           "João Darcy Tinoco Sant'Anna Neto"
          ],
          [
           "tests/app/actions/test_lead_action_change_bank_account.py",
           "João Darcy Tinoco Sant'Anna Neto"
          ],
          [
           "tests/app/actions/test_lead_action_migrate_pme_to_mktplace.py",
           "Igor Lucio Rocha Alves"
          ],
          [
           "tests/app/actions/test_lead_action_relationship_management.py",
           "João Darcy Tinoco Sant'Anna Neto"
          ],
          [
           "tests/app/actions/test_lead_action_update_referral_code.py",
           "João Darcy Tinoco Sant'Anna Neto"
          ],
          [
           "tests/app/actions/test_lead_universe_actions.py",
           "João Darcy Tinoco Sant'Anna Neto"
          ],
          [
           "tests/app/apis/fastapi/exception_handler_test.py",
           "João Darcy Tinoco Sant'Anna Neto"
          ],
          [
           "tests/app/apis/fastapi/routes/__init__.py",
           "João Darcy Tinoco Sant'Anna Neto"
          ],
          [
           "tests/app/apis/fastapi/routes/auth_rest_test.py",
           "João Darcy Tinoco Sant'Anna Neto"
          ],
          [
           "tests/app/apis/fastapi/routes/contact_rest_test.py",
           "João Darcy Tinoco Sant'Anna Neto"
          ],
          [
           "tests/app/apis/fastapi/routes/definition_rest_test.py",
           "João Darcy Tinoco Sant'Anna Neto"
          ],
          [
           "tests/app/apis/fastapi/routes/health_rest_test.py",
           "João Darcy Tinoco Sant'Anna Neto"
          ],
          [
           "tests/app/apis/fastapi/routes/lead_analytics_rest_test.py",
           "João Darcy Tinoco Sant'Anna Neto"
          ],
          [
           "tests/app/apis/fastapi/routes/lead_rest_test.py",
           "João Darcy Tinoco Sant'Anna Neto"
          ],
          [
           "tests/app/apis/fastapi/routes/openapi_test.py",
           "João Darcy Tinoco Sant'Anna Neto"
          ],
          [
           "tests/app/apis/fastapi/routes/partner_rest_test.py",
           "João Darcy Tinoco Sant'Anna Neto"
          ],
          [
           "tests/app/apis/fastapi/routes/test_action_rest.py",
           "João Darcy Tinoco Sant'Anna Neto"
          ],
          [
           "tests/app/apis/fastapi/routes/test_batch_data_object_rest.py",
           "João Darcy Tinoco Sant'Anna Neto"
          ],
          [
           "tests/app/apis/fastapi/routes/test_change_history_rest.py",
           "João Darcy Tinoco Sant'Anna Neto"
          ],
          [
           "tests/app/apis/fastapi/routes/test_core_data_object_classifier_rest.py",
           "João Darcy Tinoco Sant'Anna Neto"
          ],
          [
           "tests/app/apis/fastapi/routes/test_lead_legacy_rest_test.py",
           "João Darcy Tinoco Sant'Anna Neto"
          ],
          [
           "tests/app/apis/fastapi/routes/test_misc_rest_test.py",
           "João Darcy Tinoco Sant'Anna Neto"
          ],
          [
           "tests/app/apis/fastapi/routes/test_qa_rest.py",
           "João Darcy Tinoco Sant'Anna Neto"
          ],
          [
           "tests/app/apis/fastapi/routes/test_service_rest.py",
           "João Darcy Tinoco Sant'Anna Neto"
          ],
          [
           "tests/app/apis/fastapi/routes/user_permission_rest_test.py",
           "João Darcy Tinoco Sant'Anna Neto"
          ],
          [
           "tests/app/apis/fastapi/routes/user_rest_test.py",
           "João Darcy Tinoco Sant'Anna Neto"
          ],
          [
           "tests/app/apis/fastapi/routes/vault_rest_test.py",
           "Igor Alves"
          ],
          [
           "tests/app/apis/fastapi/routes/workflow_rest_test.py",
           "Jose Tiago"
          ],
          [
           "tests/app/business_rule/universe_form/test_universe_form.py",
           "guilherme.barroso"
          ],
          [
           "tests/app/businesses/handlers/test_assignment_handler.py",
           "guilherme.barroso"
          ],
          [
           "tests/app/businesses/observers/magalu/test_forbid_bank_change_after_sync.py",
           "José Tiago"
          ],
          [
           "tests/app/businesses/observers/magalu/test_risk_analysis.py",
           "Jose Tiago"
          ],
          [
           "tests/app/businesses/observers/test_contract_create_ps_contract_observer.py",
           "Jose Tiago"
          ],
          [
           "tests/app/businesses/observers/test_lead_observers.py",
           "José Tiago"
          ],
          [
           "tests/app/businesses/observers/test_lead_update_magalu_tax_observer.py",
           "João Darcy Tinoco Sant'Anna Neto"
          ],
          [
           "tests/app/businesses/observers/test_lead_update_ps_contract_observer.py",
           "Rafael Vieira Mendes"
          ],
          [
           "tests/app/businesses/observers/test_lead_workflow_observers_validators.py",
           "guilherme.barroso"
          ],
          [
           "tests/app/businesses/observers/test_magalu_lead_observers.py",
           "João Darcy Tinoco Sant'Anna Neto"
          ],
          [
           "tests/app/businesses/test_change_history_bo.py",
           "João Darcy Tinoco Sant'Anna Neto"
          ],
          [
           "tests/app/businesses/test_id_magalu_bo.py",
           "João Darcy Tinoco Sant'Anna Neto"
          ],
          [
           "tests/app/businesses/test_lead_workflow_bo.py",
           "João Darcy Tinoco Sant'Anna Neto"
          ],
          [
           "tests/app/businesses/test_seller_product_bo.py",
           "João Darcy Tinoco Sant'Anna Neto"
          ],
          [
           "tests/app/businesses/test_workflow_bo.py",
           "guilherme.barroso"
          ],
          [
           "tests/app/domains/test_lead_domain.py",
           "João Darcy Tinoco Sant'Anna Neto"
          ],
          [
           "tests/app/domains/test_workflow_domain.py",
           "João Darcy Tinoco Sant'Anna Neto"
          ],
          [
           "tests/app/integrations/backends/sebastian_api/test_models.py",
           "João Darcy Tinoco Sant'Anna Neto"
          ],
          [
           "tests/app/integrations/backends/test_apigee_backend.py",
           "LEONARDO BALDUINO DA SILVA"
          ],
          [
           "tests/app/integrations/backends/test_client_v1_backend.py",
           "João Darcy Tinoco Sant'Anna Neto"
          ],
          [
           "tests/app/integrations/backends/test_maas_blocklist_backend.py",
           "vittoria.zago"
          ],
          [
           "tests/app/integrations/backends/test_maas_products_backend.py",
           "Rafael Vieira Mendes"
          ],
          [
           "tests/app/integrations/backends/test_p52_backend.py",
           "João Darcy Tinoco Sant'Anna Neto"
          ],
          [
           "tests/app/integrations/datalake/backends/tetrix_kafka/handlers/test_lead_tetrix_dataset_handler.py",
           "João Darcy Tinoco Sant'Anna Neto"
          ],
          [
           "tests/app/integrations/datalake/backends/tetrix_kafka/handlers/test_workflow_tetrix_dataset_handler.py",
           "João Darcy Tinoco Sant'Anna Neto"
          ],
          [
           "tests/app/integrations/datalake/test_core.py",
           "João Darcy Tinoco Sant'Anna Neto"
          ],
          [
           "tests/app/integrations/db/mongo/pyobjectid_test.py",
           "João Darcy Tinoco Sant'Anna Neto"
          ],
          [
           "tests/app/integrations/pubsub/encoder/test_json_binary_encoder.py",
           "João Darcy Tinoco Sant'Anna Neto"
          ],
          [
           "tests/app/integrations/pubsub/kafka/test_kafka_producer_backend.py",
           "João Darcy Tinoco Sant'Anna Neto"
          ],
          [
           "tests/app/integrations/pubsub/kafka/test_kafka_pubsub_consumer_integrated.py",
           "João Darcy Tinoco Sant'Anna Neto"
          ],
          [
           "tests/app/integrations/pubsub/kafka/test_kafka_pubsub_consumer_mocked.py",
           "LEONARDO BALDUINO DA SILVA"
          ],
          [
           "tests/app/integrations/pubsub/kafka/test_kafka_pubsub_message.py",
           "JOSÉ TIAGO"
          ],
          [
           "tests/app/integrations/pubsub/test_pubsub_consumer.py",
           "JOSÉ TIAGO"
          ],
          [
           "tests/app/integrations/pubsub/test_pubsub_producer.py",
           "JOSÉ TIAGO"
          ],
          [
           "tests/app/integrations/risk_analysis/test_fake_risk_analysis.py",
           "João Darcy Tinoco Sant'Anna Neto"
          ],
          [
           "tests/app/integrations/risk_analysis/test_risk_analysis_validation.py",
           "Igor Alves"
          ],
          [
           "tests/app/integrations/scheduler/impl/lite/jobstores/test_mongo.py",
           "Igor Alves"
          ],
          [
           "tests/app/integrations/scheduler/impl/lite/test_job_delay_strategies.py",
           "Jose Tiago"
          ],
          [
           "tests/app/integrations/seller_stock_info/test_local_seller_product_info.py",
           "guilherme.barroso"
          ],
          [
           "tests/app/repositories/test_base_repository.py",
           "vittoria.zago"
          ],
          [
           "tests/app/repositories/test_lead_repository.py",
           "Rafael Vieira Mendes"
          ],
          [
           "tests/app/script/impl/python/test_functions.py",
           "João Darcy Tinoco Sant'Anna Neto"
          ],
          [
           "tests/app/script/test_eql_script_engine.py",
           "João Darcy Tinoco Sant'Anna Neto"
          ],
          [
           "tests/app/script/test_pyeval_script_engine.py",
           "Igor Alves"
          ],
          [
           "tests/app/script/test_pyexec_script_engine.py",
           "João Darcy Tinoco Sant'Anna Neto"
          ],
          [
           "tests/app/test_cdi.py",
           "João Darcy Tinoco Sant'Anna Neto"
          ],
          [
           "tests/app/utils/datetime_test.py",
           "LEONARDO BALDUINO DA SILVA"
          ],
          [
           "tests/app/utils/test_custom_log_anonymizer.py",
           "Ylgner Becton"
          ],
          [
           "tests/app/utils/test_fields_cronformat.py",
           "guilherme.barroso"
          ],
          [
           "tests/app/utils/test_fields_owner_sso_id.py",
           "João Darcy Tinoco Sant'Anna Neto"
          ],
          [
           "tests/app/utils/test_fields_secret_base64str.py",
           "João Darcy Tinoco Sant'Anna Neto"
          ],
          [
           "tests/app/workers/data_object_batch/tasks/test_data_object_batch_action_task.py",
           "João Darcy Tinoco Sant'Anna Neto"
          ],
          [
           "tests/app/workers/data_object_batch/tasks/test_data_object_row_batch_action_task.py",
           "João Darcy Tinoco Sant'Anna Neto"
          ],
          [
           "tests/app/workers/data_object_batch/test_data_object_batch_app.py",
           "LEONARDO BALDUINO DA SILVA"
          ],
          [
           "tests/app/workers/freight/tasks/test_freight_task.py",
           "LEONARDO BALDUINO DA SILVA"
          ],
          [
           "tests/app/workers/freight/test_freight_app.py",
           "guilherme.barroso"
          ],
          [
           "tests/app/workers/lead/tasks/test_risk_analysis_response_task.py",
           "João Darcy Tinoco Sant'Anna Neto"
          ],
          [
           "tests/app/workers/lead/test_lead_app.py",
           "João Darcy Tinoco Sant'Anna Neto"
          ],
          [
           "tests/app/workers/netshoes/tasks/netshoes_lead_mapper/test_netshoes_bank.py",
           "Bruno Falbo"
          ],
          [
           "tests/app/workers/netshoes/tasks/netshoes_lead_mapper/test_netshoes_company_address.py",
           "José Tiago"
          ],
          [
           "tests/app/workers/netshoes/tasks/netshoes_lead_mapper/test_netshoes_contact.py",
           "Igor Alves"
          ],
          [
           "tests/app/workers/netshoes/tasks/test_netshoes_task.py",
           "João Darcy Tinoco Sant'Anna Neto"
          ],
          [
           "tests/app/workers/netshoes/test_netshoes_app.py",
           "João Darcy Tinoco Sant'Anna Neto"
          ],
          [
           "tests/app/workers/product/tasks/test_product_task.py",
           "Rafael Vieira Mendes"
          ],
          [
           "tests/app/workers/product/test_product_app.py",
           "guilherme.barroso"
          ],
          [
           "tests/app/workers/risk_analysis/test_request_risk_analysis_task.py",
           "Igor Lucio Rocha Alves"
          ],
          [
           "tests/app/workers/risk_analysis/test_risk_analysis_app.py",
           "João Darcy Tinoco Sant'Anna Neto"
          ],
          [
           "tests/app/workers/seller_account/tasks/test_process_seller_account.py",
           "Igor Alves"
          ],
          [
           "tests/app/workers/seller_account/test_seller_account_app.py",
           "Jose Tiago"
          ],
          [
           "tests/app/workers/seller_contracts/tasks/test_ps_contract_task.py",
           "guilherme.barroso"
          ],
          [
           "tests/app/workers/seller_contracts/tasks/test_sync_seller_contract_task.py",
           "João Darcy Tinoco Sant'Anna Neto"
          ],
          [
           "tests/app/workers/seller_contracts/test_seller_contract_app.py",
           "João Darcy Tinoco Sant'Anna Neto"
          ],
          [
           "tests/app/workers/seller_orders/tasks/test_marketplace_purchase_task.py",
           "Rafael Vieira Mendes"
          ],
          [
           "tests/app/workers/seller_orders/tasks/test_notify_order_by_uuid_task.py",
           "João Darcy Tinoco Sant'Anna Neto"
          ],
          [
           "tests/app/workers/seller_orders/tasks/test_seller_orders_task.py",
           "João Darcy Tinoco Sant'Anna Neto"
          ],
          [
           "tests/app/workers/seller_orders/test_seller_orders_app.py",
           "João Darcy Tinoco Sant'Anna Neto"
          ],
          [
           "tests/app/workers/test_app.py",
           "João Darcy Tinoco Sant'Anna Neto"
          ],
          [
           "tests/app/workers/test_tasks.py",
           "João Darcy Tinoco Sant'Anna Neto"
          ],
          [
           "tests/app/workers/webhook/tasks/test_data_object_merge_webhook_task.py",
           "João Darcy Tinoco Sant'Anna Neto"
          ],
          [
           "tests/app/workers/webhook/tasks/test_webhook_global_task.py",
           "LEONARDO BALDUINO DA SILVA"
          ],
          [
           "tests/app/workers/webhook/test_webhook_app.py",
           "João Darcy Tinoco Sant'Anna Neto"
          ],
          [
           "tests/app/workers/workflow_retry/tasks/test_data_object_workflow_retry_task.py",
           "Igor Alves"
          ],
          [
           "tests/app/workers/workflow_retry/test_workflow_retry_app.py",
           "Igor Alves"
          ],
          [
           "tests/app/workers/workflow_wakeup/tasks/test_data_object_workflow_wakeup_task.py",
           "João Darcy Tinoco Sant'Anna Neto"
          ],
          [
           "tests/app/workers/workflow_wakeup/test_workflow_wakeup_app.py",
           "Rafael Vieira Mendes"
          ],
          [
           "tests/app/workflow/addons/test_workflow_wake_up.py",
           "João Darcy Tinoco Sant'Anna Neto"
          ],
          [
           "tests/app/workflow/test_http_client.py",
           "guilherme.barroso"
          ],
          [
           "tests/app/workflows/test_action_panel_workflow.py",
           "João Darcy Tinoco Sant'Anna Neto"
          ],
          [
           "tests/app/workflows/test_anonymized_safe_workflow.py",
           "João Darcy Tinoco Sant'Anna Neto"
          ],
          [
           "tests/app/workflows/test_assignment_engine.py",
           "João Darcy Tinoco Sant'Anna Neto"
          ],
          [
           "tests/app/workflows/test_call_employees.py",
           "João Darcy Tinoco Sant'Anna Neto"
          ],
          [
           "tests/app/workflows/test_communication_hub.py",
           "João Darcy Tinoco Sant'Anna Neto"
          ],
          [
           "tests/app/workflows/test_freedom.py",
           "João Darcy Tinoco Sant'Anna Neto"
          ],
          [
           "tests/app/workflows/test_freshdesk.py",
           "João Darcy Tinoco Sant'Anna Neto"
          ],
          [
           "tests/app/workflows/test_helena.py",
           "Igor Lucio Rocha Alves"
          ],
          [
           "tests/app/workflows/test_lead_workflow.py",
           "João Darcy Tinoco Sant'Anna Neto"
          ],
          [
           "tests/app/workflows/test_legacy_callback.py",
           "João Darcy Tinoco Sant'Anna Neto"
          ],
          [
           "tests/app/workflows/test_magalu_deliveries.py",
           "João Darcy Tinoco Sant'Anna Neto"
          ],
          [
           "tests/app/workflows/test_mma.py",
           "João Darcy Tinoco Sant'Anna Neto"
          ],
          [
           "tests/app/workflows/test_order3p_functionality_activation.py",
           "João Darcy Tinoco Sant'Anna Neto"
          ],
          [
           "tests/app/workflows/test_pj_account.py",
           "João Darcy Tinoco Sant'Anna Neto"
          ],
          [
           "tests/app/workflows/test_provision.py",
           "João Darcy Tinoco Sant'Anna Neto"
          ],
          [
           "tests/app/workflows/test_seller_account.py",
           "João Darcy Tinoco Sant'Anna Neto"
          ],
          [
           "tests/app/workflows/test_send_communication_messages.py",
           "João Darcy Tinoco Sant'Anna Neto"
          ],
          [
           "tests/app/workflows/test_workflow_engine.py",
           "João Darcy Tinoco Sant'Anna Neto"
          ],
          [
           "tests/app/workflows/test_zendesk_integration.py",
           "João Darcy Tinoco Sant'Anna Neto"
          ],
          [
           "tests/commons/async_worker/test_application.py",
           "João Darcy Tinoco Sant'Anna Neto"
          ],
          [
           "tests/commons/cache/storage/test_cache_storage.py",
           "João Darcy Tinoco Sant'Anna Neto"
          ],
          [
           "tests/commons/cache/test_multilayer_cache.py",
           "João Darcy Tinoco Sant'Anna Neto"
          ],
          [
           "tests/commons/lock/test_lock.py",
           "João Darcy Tinoco Sant'Anna Neto"
          ],
          [
           "tests/conftest.py",
           "João Darcy Tinoco Sant'Anna Neto"
          ],
          [
           "tests/fixtures/aioresponses.py",
           "João Darcy Tinoco Sant'Anna Neto"
          ],
          [
           "tests/fixtures/asyncio.py",
           "João Darcy Tinoco Sant'Anna Neto"
          ],
          [
           "tests/fixtures/backends/apigee_mock.py",
           "João Darcy Tinoco Sant'Anna Neto"
          ],
          [
           "tests/fixtures/backends/babel_api_mock.py",
           "João Darcy Tinoco Sant'Anna Neto"
          ],
          [
           "tests/fixtures/backends/client_v1_api_mock.py",
           "João Darcy Tinoco Sant'Anna Neto"
          ],
          [
           "tests/fixtures/backends/communication_hub_api_mock.py",
           "João Darcy Tinoco Sant'Anna Neto"
          ],
          [
           "tests/fixtures/backends/eddie_api_mock.py",
           "João Darcy Tinoco Sant'Anna Neto"
          ],
          [
           "tests/fixtures/backends/employees_api_mock.py",
           "João Darcy Tinoco Sant'Anna Neto"
          ],
          [
           "tests/fixtures/backends/freedom_api_mock.py",
           "João Darcy Tinoco Sant'Anna Neto"
          ],
          [
           "tests/fixtures/backends/freight-seller-info.json",
           "João Darcy Tinoco Sant'Anna Neto"
          ],
          [
           "tests/fixtures/backends/freight_api_mock.py",
           "João Darcy Tinoco Sant'Anna Neto"
          ],
          [
           "tests/fixtures/backends/freshdesk_api_get_sucess.json",
           "João Darcy Tinoco Sant'Anna Neto"
          ],
          [
           "tests/fixtures/backends/freshdesk_api_mock.py",
           "João Darcy Tinoco Sant'Anna Neto"
          ],
          [
           "tests/fixtures/backends/freshdesk_api_post_sucess.json",
           "João Darcy Tinoco Sant'Anna Neto"
          ],
          [
           "tests/fixtures/backends/helena_api_mock.py",
           "João Darcy Tinoco Sant'Anna Neto"
          ],
          [
           "tests/fixtures/backends/idmagalu_mock.py",
           "João Darcy Tinoco Sant'Anna Neto"
          ],
          [
           "tests/fixtures/backends/legacy_callback.py",
           "João Darcy Tinoco Sant'Anna Neto"
          ],
          [
           "tests/fixtures/backends/maas-integra-api-id-magalu-test.json",
           "João Darcy Tinoco Sant'Anna Neto"
          ],
          [
           "tests/fixtures/backends/maas_account_api_mock.py",
           "João Darcy Tinoco Sant'Anna Neto"
          ],
          [
           "tests/fixtures/backends/maas_blocklist_api_mock.py",
           "João Darcy Tinoco Sant'Anna Neto"
          ],
          [
           "tests/fixtures/backends/maas_integra_api_mock.py",
           "João Darcy Tinoco Sant'Anna Neto"
          ],
          [
           "tests/fixtures/backends/maas_product_api_mock.py",
           "João Darcy Tinoco Sant'Anna Neto"
          ],
          [
           "tests/fixtures/backends/maestro-order-common.json",
           "João Darcy Tinoco Sant'Anna Neto"
          ],
          [
           "tests/fixtures/backends/maestro-order-not-found.json",
           "João Darcy Tinoco Sant'Anna Neto"
          ],
          [
           "tests/fixtures/backends/maestro-order-test.json",
           "Igor Lucio Rocha Alves"
          ],
          [
           "tests/fixtures/backends/maestro_api_mock.py",
           "João Darcy Tinoco Sant'Anna Neto"
          ],
          [
           "tests/fixtures/backends/magalu_tax_api_mock.py",
           "João Darcy Tinoco Sant'Anna Neto"
          ],
          [
           "tests/fixtures/backends/mma_api_mock.py",
           "João Darcy Tinoco Sant'Anna Neto"
          ],
          [
           "tests/fixtures/backends/mp_security_mock.py",
           "semantic-release-bot"
          ],
          [
           "tests/fixtures/backends/mp_sellers_api_mock.py",
           "Igor Lucio Rocha Alves"
          ],
          [
           "tests/fixtures/backends/open_id_api_mock.py",
           "José Tiago"
          ],
          [
           "tests/fixtures/backends/order3p_api_mock.py",
           "José Tiago"
          ],
          [
           "tests/fixtures/backends/p52-cart-common.json",
           "Igor Lucio Rocha Alves"
          ],
          [
           "tests/fixtures/backends/p52-cart-token.json",
           "Igor Lucio Rocha Alves"
          ],
          [
           "tests/fixtures/backends/p52-cart-token_invalid_client.json",
           "Igor Lucio Rocha Alves"
          ],
          [
           "tests/fixtures/backends/p52-cart-with-client-and-freight.json",
           "Igor Lucio Rocha Alves"
          ],
          [
           "tests/fixtures/backends/p52-shipping-calc-cart-unavailable.json",
           "Igor Lucio Rocha Alves"
          ],
          [
           "tests/fixtures/backends/p52-shipping-calc-cart.json",
           "Igor Lucio Rocha Alves"
          ],
          [
           "tests/fixtures/backends/p52_api_mock.py",
           "João Darcy Tinoco Sant'Anna Neto"
          ],
          [
           "tests/fixtures/backends/p52_close_cart_order.json",
           "João Darcy Tinoco Sant'Anna Neto"
          ],
          [
           "tests/fixtures/backends/pj_account_creation_mock.py",
           "João Darcy Tinoco Sant'Anna Neto"
          ],
          [
           "tests/fixtures/backends/product-validation-approved.json",
           "João Darcy Tinoco Sant'Anna Neto"
          ],
          [
           "tests/fixtures/backends/product-validation-autoreprove.json",
           "João Darcy Tinoco Sant'Anna Neto"
          ],
          [
           "tests/fixtures/backends/product-validation-reproved.json",
           "Igor Lucio Rocha Alves"
          ],
          [
           "tests/fixtures/backends/provision_api_mock.py",
           null
          ],
          [
           "tests/fixtures/backends/ps_contract_api_mock.py",
           null
          ],
          [
           "tests/fixtures/backends/ps_onboarding_analytics_backend.py",
           null
          ],
          [
           "tests/fixtures/backends/sebastian-post-v1-lead-create-success.json",
           null
          ],
          [
           "tests/fixtures/backends/sebastian_api_mock.py",
           null
          ],
          [
           "tests/fixtures/backends/seller-account-no-ii.json",
           null
          ],
          [
           "tests/fixtures/backends/seller-account.json",
           null
          ],
          [
           "tests/fixtures/backends/seller-orders.json",
           null
          ],
          [
           "tests/fixtures/backends/zendesk_api_mock.py",
           null
          ],
          [
           "tests/fixtures/backends/zendesk_ticket_create_success.json",
           null
          ],
          [
           "tests/fixtures/businesses.py",
           null
          ],
          [
           "tests/fixtures/cdi.py",
           null
          ],
          [
           "tests/fixtures/commons.py",
           null
          ],
          [
           "tests/fixtures/domains/batch_data_object.py",
           null
          ],
          [
           "tests/fixtures/domains/change_history.py",
           null
          ],
          [
           "tests/fixtures/domains/contact.py",
           null
          ],
          [
           "tests/fixtures/domains/data_object_helper.py",
           null
          ],
          [
           "tests/fixtures/domains/definition.py",
           null
          ],
          [
           "tests/fixtures/domains/integration_platform.py",
           null
          ],
          [
           "tests/fixtures/domains/integration_platforms_data.json",
           null
          ],
          [
           "tests/fixtures/domains/lead.py",
           null
          ],
          [
           "tests/fixtures/domains/lead_service.py",
           null
          ],
          [
           "tests/fixtures/domains/user.py",
           null
          ],
          [
           "tests/fixtures/domains/vault.py",
           null
          ],
          [
           "tests/fixtures/domains/virtual_actions.py",
           null
          ],
          [
           "tests/fixtures/domains/workflow.py",
           null
          ],
          [
           "tests/fixtures/google_pubsub.py",
           null
          ],
          [
           "tests/fixtures/kafka.py",
           null
          ],
          [
           "tests/fixtures/migrations.py",
           null
          ],
          [
           "tests/fixtures/mongo.py",
           null
          ],
          [
           "tests/fixtures/netshoes_seller_payloads.py",
           null
          ],
          [
           "tests/fixtures/open_id_fixture.py",
           null
          ],
          [
           "tests/fixtures/pubsub.py",
           null
          ],
          [
           "tests/fixtures/repositories.py",
           null
          ],
          [
           "tests/fixtures/sebastian_token.py",
           null
          ],
          [
           "tests/fixtures/settings.py",
           null
          ],
          [
           "tests/hopdb/index/test_btree.py",
           null
          ],
          [
           "tests/hopdb/test_collection_storage.py",
           null
          ],
          [
           "tests/hopdb/test_correlation_table.py",
           null
          ],
          [
           "tests/hopdb/test_sequence.py",
           null
          ],
          [
           "tests/lib/common/encoder/test_safe_pickle.py",
           null
          ],
          [
           "tests/lib/common/fields/test_fields_pytimezone.py",
           null
          ],
          [
           "tests/lib/common/object_storage/test_object_storage.py",
           null
          ],
          [
           "tests/lib/dict/anonymize/test_anonymize_dict.py",
           null
          ],
          [
           "tests/lib/dict/diff/test_deep_dict_diff.py",
           null
          ],
          [
           "tests/lib/dict/diff/test_simple_dict_diff.py",
           null
          ],
          [
           "tests/utils/builders/domain/__init__.py",
           null
          ],
          [
           "tests/utils/builders/domain/user_builder.py",
           null
          ],
          [
           "tests/utils/constants.py",
           null
          ],
          [
           "tests/utils/context.py",
           null
          ],
          [
           "tests/utils/threading.py",
           null
          ],
          [
           "tests/utils/universe_form.py",
           null
          ],
          [
           "tests/utils/workflows.py",
           null
          ],
          [
           "webhook_worker.py",
           null
          ],
          [
           "workflow_retry_worker.py",
           null
          ],
          [
           "workflow_wakeup_worker.py",
           null
          ],
          [
           null,
           null
          ],
          [
           ".devcontainer",
           null
          ],
          [
           ".gitlab",
           null
          ],
          [
           ".gitlab/merge_request_templates",
           null
          ],
          [
           "analytics",
           null
          ],
          [
           "analytics/apis",
           null
          ],
          [
           "analytics/apis/fastapi",
           null
          ],
          [
           "analytics/apis/fastapi/routes",
           null
          ],
          [
           "analytics/business",
           null
          ],
          [
           "analytics/config",
           null
          ],
          [
           "analytics/dto",
           null
          ],
          [
           "analytics/integrations",
           null
          ],
          [
           "analytics/repository",
           null
          ],
          [
           "analytics/standalone",
           null
          ],
          [
           "analytics/standalone/pages",
           null
          ],
          [
           "analytics/utils",
           null
          ],
          [
           "analytics/workers",
           null
          ],
          [
           "analytics/workers/lead_incremental_indexer",
           null
          ],
          [
           "app",
           null
          ],
          [
           "app/apis",
           null
          ],
          [
           "app/apis/common",
           null
          ],
          [
           "app/apis/fastapi",
           null
          ],
          [
           "app/apis/fastapi/configs",
           null
          ],
          [
           "app/apis/fastapi/routes",
           null
          ],
          [
           "app/businesses",
           null
          ],
          [
           "app/businesses/core",
           null
          ],
          [
           "app/businesses/core/data_object",
           null
          ],
          [
           "app/businesses/exceptions",
           null
          ],
          [
           "app/businesses/handlers",
           null
          ],
          [
           "app/businesses/observers",
           null
          ],
          [
           "app/businesses/observers/magalu",
           null
          ],
          [
           "app/businesses/observers/magalu/dtos",
           null
          ],
          [
           "app/businesses/observers/magalu/test_purchase",
           null
          ],
          [
           "app/businesses/securitys",
           null
          ],
          [
           "app/commons",
           null
          ],
          [
           "app/commons/async_worker",
           null
          ],
          [
           "app/commons/async_worker/pool",
           null
          ],
          [
           "app/commons/async_worker/tasks",
           null
          ],
          [
           "app/commons/cache",
           null
          ],
          [
           "app/commons/cache/impl",
           null
          ],
          [
           "app/commons/cache/impl/serializer",
           null
          ],
          [
           "app/commons/cache/impl/storage",
           null
          ],
          [
           "app/commons/cache/impl/storage/internal",
           null
          ],
          [
           "app/commons/cache/impl/storage/remote",
           null
          ],
          [
           "app/commons/cache/sdk",
           null
          ],
          [
           "app/commons/eventbus",
           null
          ],
          [
           "app/commons/http",
           null
          ],
          [
           "app/commons/lock",
           null
          ],
          [
           "app/commons/mapping",
           null
          ],
          [
           "app/commons/pubsub",
           null
          ],
          [
           "app/commons/translations",
           null
          ],
          [
           "app/commons/translations/pydantic",
           null
          ],
          [
           "app/configs",
           null
          ],
          [
           "app/domains",
           null
          ],
          [
           "app/dtos",
           null
          ],
          [
           "app/eventbus",
           null
          ],
          [
           "app/eventbus/events",
           null
          ],
          [
           "app/integrations",
           null
          ],
          [
           "app/integrations/backends",
           null
          ],
          [
           "app/integrations/backends/apigee",
           null
          ],
          [
           "app/integrations/backends/blocklist",
           null
          ],
          [
           "app/integrations/backends/client_v1_api",
           null
          ],
          [
           "app/integrations/backends/communication_hub_api",
           null
          ],
          [
           "app/integrations/backends/helena_api",
           null
          ],
          [
           "app/integrations/backends/id_magalu",
           null
          ],
          [
           "app/integrations/backends/maas_integra_api",
           null
          ],
          [
           "app/integrations/backends/maas_products_api",
           null
          ],
          [
           "app/integrations/backends/maestro",
           null
          ],
          [
           "app/integrations/backends/magalu_tax",
           null
          ],
          [
           "app/integrations/backends/mp_security",
           null
          ],
          [
           "app/integrations/backends/mp_seller_api",
           null
          ],
          [
           "app/integrations/backends/open_id",
           null
          ],
          [
           "app/integrations/backends/p52_api",
           null
          ],
          [
           "app/integrations/backends/ps_account",
           null
          ],
          [
           "app/integrations/backends/ps_contract_api",
           null
          ],
          [
           "app/integrations/backends/ps_onboarding_analytics",
           null
          ],
          [
           "app/integrations/backends/ps_order3p_api",
           null
          ],
          [
           "app/integrations/backends/sebastian_api",
           null
          ],
          [
           "app/integrations/backends/zendesk_api",
           null
          ],
          [
           "app/integrations/datalake",
           null
          ],
          [
           "app/integrations/datalake/backends",
           null
          ],
          [
           "app/integrations/datalake/backends/tetrix_kafka",
           null
          ],
          [
           "app/integrations/db",
           null
          ],
          [
           "app/integrations/db/mongo",
           null
          ],
          [
           "app/integrations/pubsub",
           null
          ],
          [
           "app/integrations/pubsub/google_pubsub",
           null
          ],
          [
           "app/integrations/pubsub/kafka",
           null
          ],
          [
           "app/integrations/risk_analysis",
           null
          ],
          [
           "app/integrations/risk_analysis/fake",
           null
          ],
          [
           "app/integrations/risk_analysis/zaig",
           null
          ],
          [
           "app/integrations/scheduler",
           null
          ],
          [
           "app/integrations/scheduler/impl",
           null
          ],
          [
           "app/integrations/scheduler/impl/lite",
           null
          ],
          [
           "app/integrations/scheduler/impl/lite/executors",
           null
          ],
          [
           "app/integrations/scheduler/impl/lite/jobstores",
           null
          ],
          [
           "app/integrations/seller_product_info",
           null
          ],
          [
           "app/lazy",
           null
          ],
          [
           "app/pubsub",
           null
          ],
          [
           "app/pubsub/messages",
           null
          ],
          [
           "app/repositories",
           null
          ],
          [
           "app/script",
           null
          ],
          [
           "app/script/impl",
           null
          ],
          [
           "app/script/impl/python",
           null
          ],
          [
           "app/utils",
           null
          ],
          [
           "app/utils/logging",
           null
          ],
          [
           "app/workers",
           null
          ],
          [
           "app/workers/data_object_batch",
           null
          ],
          [
           "app/workers/data_object_batch/batch_handlers",
           null
          ],
          [
           "app/workers/data_object_batch/handlers",
           null
          ],
          [
           "app/workers/data_object_batch/tasks",
           null
          ],
          [
           "app/workers/freight",
           null
          ],
          [
           "app/workers/freight/tasks",
           null
          ],
          [
           "app/workers/lead",
           null
          ],
          [
           "app/workers/lead/tasks",
           null
          ],
          [
           "app/workers/netshoes",
           null
          ],
          [
           "app/workers/netshoes/tasks",
           null
          ],
          [
           "app/workers/netshoes/tasks/models",
           null
          ],
          [
           "app/workers/product",
           null
          ],
          [
           "app/workers/product/tasks",
           null
          ],
          [
           "app/workers/risk_analysis",
           null
          ],
          [
           "app/workers/risk_analysis/tasks",
           null
          ],
          [
           "app/workers/sebastian_integration",
           null
          ],
          [
           "app/workers/seller_account",
           null
          ],
          [
           "app/workers/seller_account/tasks",
           null
          ],
          [
           "app/workers/seller_contract",
           null
          ],
          [
           "app/workers/seller_contract/tasks",
           null
          ],
          [
           "app/workers/seller_orders",
           null
          ],
          [
           "app/workers/seller_orders/tasks",
           null
          ],
          [
           "app/workers/tags",
           null
          ],
          [
           "app/workers/tags/tasks",
           null
          ],
          [
           "app/workers/webhook",
           null
          ],
          [
           "app/workers/webhook/tasks",
           null
          ],
          [
           "app/workers/webhook/tasks/webhook_global",
           null
          ],
          [
           "app/workers/webhook/tasks/webhook_global/sdk",
           null
          ],
          [
           "app/workers/workflow_retry",
           null
          ],
          [
           "app/workers/workflow_retry/tasks",
           null
          ],
          [
           "app/workers/workflow_wakeup",
           null
          ],
          [
           "app/workers/workflow_wakeup/tasks",
           null
          ],
          [
           "app/workflow",
           null
          ],
          [
           "app/workflow/addons",
           null
          ],
          [
           "app/workflow/retry",
           null
          ],
          [
           "app/workflow/runners",
           null
          ],
          [
           "devtools",
           null
          ],
          [
           "devtools/action_scripts",
           null
          ],
          [
           "devtools/action_scripts/gui",
           null
          ],
          [
           "devtools/action_scripts/troubleshoot",
           null
          ],
          [
           "devtools/action_scripts/universe_cards",
           null
          ],
          [
           "devtools/action_scripts/universe_form",
           null
          ],
          [
           "devtools/action_scripts/update",
           null
          ],
          [
           "devtools/action_scripts/voip_service",
           null
          ],
          [
           "devtools/argocd",
           null
          ],
          [
           "devtools/cicd",
           null
          ],
          [
           "devtools/migration_scripts",
           null
          ],
          [
           "devtools/mongo",
           null
          ],
          [
           "devtools/pocs",
           null
          ],
          [
           "devtools/scripts",
           null
          ],
          [
           "docs",
           null
          ],
          [
           "docs/svgs",
           null
          ],
          [
           "docs/universe_form",
           null
          ],
          [
           "hopdb",
           null
          ],
          [
           "hopdb/collection_storage",
           null
          ],
          [
           "hopdb/correlation_table",
           null
          ],
          [
           "hopdb/document_encoder",
           null
          ],
          [
           "hopdb/index",
           null
          ],
          [
           "hopdb/thirdparty",
           null
          ],
          [
           "lib",
           null
          ],
          [
           "lib/cdi",
           null
          ],
          [
           "lib/common",
           null
          ],
          [
           "lib/common/constants",
           null
          ],
          [
           "lib/common/encoder",
           null
          ],
          [
           "lib/common/fastapi",
           null
          ],
          [
           "lib/common/fields",
           null
          ],
          [
           "lib/common/file",
           null
          ],
          [
           "lib/common/lock",
           null
          ],
          [
           "lib/common/mapping",
           null
          ],
          [
           "lib/common/object_storage",
           null
          ],
          [
           "lib/common/redis_channel",
           null
          ],
          [
           "lib/dict",
           null
          ],
          [
           "lib/dict/anonymize",
           null
          ],
          [
           "lib/dict/diff",
           null
          ],
          [
           "lib/dict/dotnotation",
           null
          ],
          [
           "lib/dict/patch",
           null
          ],
          [
           "lib/logging",
           null
          ],
          [
           "migrations",
           null
          ],
          [
           "migrations/utils",
           null
          ],
          [
           "migrations_util",
           null
          ],
          [
           "requirements",
           null
          ],
          [
           "tests",
           null
          ],
          [
           "tests/analytics",
           null
          ],
          [
           "tests/analytics/apis",
           null
          ],
          [
           "tests/analytics/apis/fastapi",
           null
          ],
          [
           "tests/analytics/apis/fastapi/routes",
           null
          ],
          [
           "tests/analytics/business",
           null
          ],
          [
           "tests/analytics/fixtures",
           null
          ],
          [
           "tests/analytics/fixtures/dataset",
           null
          ],
          [
           "tests/app",
           null
          ],
          [
           "tests/app/actions",
           null
          ],
          [
           "tests/app/apis",
           null
          ],
          [
           "tests/app/apis/fastapi",
           null
          ],
          [
           "tests/app/apis/fastapi/routes",
           null
          ],
          [
           "tests/app/business_rule",
           null
          ],
          [
           "tests/app/business_rule/universe_form",
           null
          ],
          [
           "tests/app/businesses",
           null
          ],
          [
           "tests/app/businesses/handlers",
           null
          ],
          [
           "tests/app/businesses/observers",
           null
          ],
          [
           "tests/app/businesses/observers/magalu",
           null
          ],
          [
           "tests/app/domains",
           null
          ],
          [
           "tests/app/integrations",
           null
          ],
          [
           "tests/app/integrations/backends",
           null
          ],
          [
           "tests/app/integrations/backends/sebastian_api",
           null
          ],
          [
           "tests/app/integrations/datalake",
           null
          ],
          [
           "tests/app/integrations/datalake/backends",
           null
          ],
          [
           "tests/app/integrations/datalake/backends/tetrix_kafka",
           null
          ],
          [
           "tests/app/integrations/datalake/backends/tetrix_kafka/handlers",
           null
          ],
          [
           "tests/app/integrations/db",
           null
          ],
          [
           "tests/app/integrations/db/mongo",
           null
          ],
          [
           "tests/app/integrations/pubsub",
           null
          ],
          [
           "tests/app/integrations/pubsub/encoder",
           null
          ],
          [
           "tests/app/integrations/pubsub/kafka",
           null
          ],
          [
           "tests/app/integrations/risk_analysis",
           null
          ],
          [
           "tests/app/integrations/scheduler",
           null
          ],
          [
           "tests/app/integrations/scheduler/impl",
           null
          ],
          [
           "tests/app/integrations/scheduler/impl/lite",
           null
          ],
          [
           "tests/app/integrations/scheduler/impl/lite/jobstores",
           null
          ],
          [
           "tests/app/integrations/seller_stock_info",
           null
          ],
          [
           "tests/app/repositories",
           null
          ],
          [
           "tests/app/script",
           null
          ],
          [
           "tests/app/script/impl",
           null
          ],
          [
           "tests/app/script/impl/python",
           null
          ],
          [
           "tests/app/utils",
           null
          ],
          [
           "tests/app/workers",
           null
          ],
          [
           "tests/app/workers/data_object_batch",
           null
          ],
          [
           "tests/app/workers/data_object_batch/tasks",
           null
          ],
          [
           "tests/app/workers/freight",
           null
          ],
          [
           "tests/app/workers/freight/tasks",
           null
          ],
          [
           "tests/app/workers/lead",
           null
          ],
          [
           "tests/app/workers/lead/tasks",
           null
          ],
          [
           "tests/app/workers/netshoes",
           null
          ],
          [
           "tests/app/workers/netshoes/tasks",
           null
          ],
          [
           "tests/app/workers/netshoes/tasks/netshoes_lead_mapper",
           null
          ],
          [
           "tests/app/workers/product",
           null
          ],
          [
           "tests/app/workers/product/tasks",
           null
          ],
          [
           "tests/app/workers/risk_analysis",
           null
          ],
          [
           "tests/app/workers/seller_account",
           null
          ],
          [
           "tests/app/workers/seller_account/tasks",
           null
          ],
          [
           "tests/app/workers/seller_contracts",
           null
          ],
          [
           "tests/app/workers/seller_contracts/tasks",
           null
          ],
          [
           "tests/app/workers/seller_orders",
           null
          ],
          [
           "tests/app/workers/seller_orders/tasks",
           null
          ],
          [
           "tests/app/workers/webhook",
           null
          ],
          [
           "tests/app/workers/webhook/tasks",
           null
          ],
          [
           "tests/app/workers/workflow_retry",
           null
          ],
          [
           "tests/app/workers/workflow_retry/tasks",
           null
          ],
          [
           "tests/app/workers/workflow_wakeup",
           null
          ],
          [
           "tests/app/workers/workflow_wakeup/tasks",
           null
          ],
          [
           "tests/app/workflow",
           null
          ],
          [
           "tests/app/workflow/addons",
           null
          ],
          [
           "tests/app/workflows",
           null
          ],
          [
           "tests/commons",
           null
          ],
          [
           "tests/commons/async_worker",
           null
          ],
          [
           "tests/commons/cache",
           null
          ],
          [
           "tests/commons/cache/storage",
           null
          ],
          [
           "tests/commons/lock",
           null
          ],
          [
           "tests/fixtures",
           null
          ],
          [
           "tests/fixtures/backends",
           null
          ],
          [
           "tests/fixtures/domains",
           null
          ],
          [
           "tests/hopdb",
           null
          ],
          [
           "tests/hopdb/index",
           null
          ],
          [
           "tests/lib",
           null
          ],
          [
           "tests/lib/common",
           null
          ],
          [
           "tests/lib/common/encoder",
           null
          ],
          [
           "tests/lib/common/fields",
           null
          ],
          [
           "tests/lib/common/object_storage",
           null
          ],
          [
           "tests/lib/dict",
           null
          ],
          [
           "tests/lib/dict/anonymize",
           null
          ],
          [
           "tests/lib/dict/diff",
           null
          ],
          [
           "tests/utils",
           null
          ],
          [
           "tests/utils/builders",
           null
          ],
          [
           "tests/utils/builders/domain",
           null
          ]
         ],
         "domain": {
          "x": [
           0,
           1
          ],
          "y": [
           0,
           1
          ]
         },
         "hovertemplate": "label=%{label}<br>parent=%{parent}<br>hover_data_0=%{customdata[0]}<br>hover_data_1=%{customdata[1]}<br>color=%{color}<extra></extra>",
         "labels": [
          ".buildpacks",
          ".coveragerc",
          ".devcontainer/Dockerfile.workspace",
          ".devcontainer/devcontainer.json",
          ".devcontainer/docker-compose.workspace.yml",
          ".devcontainer/proxy-services.sh",
          ".dockerignore",
          ".gitignore",
          ".gitlab-ci.yml",
          ".gitlab/merge_request_templates/BUGFIX.md",
          ".gitlab/merge_request_templates/FEATURE.md",
          ".gitlab/merge_request_templates/REFACTOR_CHORE.md",
          ".gitlab/merge_request_templates/TEST.md",
          ".gitlab/merge_request_templates/default.md",
          ".gitleaksignore",
          ".pre-commit-config.yaml",
          "CHANGELOG.md",
          "HOPDB.md",
          "LIB.md",
          "Makefile",
          "README.md",
          "analytics/__init__.py",
          "analytics/apis/fastapi/cdi.py",
          "analytics/apis/fastapi/routes/base.py",
          "analytics/apis/fastapi/routes/health_router.py",
          "analytics/apis/fastapi/routes/lead_analytics_router.py",
          "analytics/app.py",
          "analytics/business/__init__.py",
          "analytics/business/cdi.py",
          "analytics/business/lazy.py",
          "analytics/business/lead_analytics_bo.py",
          "analytics/cdi.py",
          "analytics/config/logging.py",
          "analytics/config/pydantic.py",
          "analytics/dto/base.py",
          "analytics/dto/lead_analytics.py",
          "analytics/integrations/cdi.py",
          "analytics/integrations/database.py",
          "analytics/integrations/database_reloader.py",
          "analytics/repository/__init__.py",
          "analytics/repository/cdi.py",
          "analytics/repository/lead_analytics_repository.py",
          "analytics/standalone/main.py",
          "analytics/standalone/pages/1_lead_dashboard.py",
          "analytics/standalone/pages/2_lead_classifiers.py",
          "analytics/standalone/pages/3_lead_workflows.py",
          "analytics/standalone/utils.py",
          "analytics/utils/cdi.py",
          "analytics/utils/datetime.py",
          "analytics/utils/operators.py",
          "analytics/utils/settings.py",
          "analytics/workers/index_job.py",
          "analytics/workers/lead_incremental_indexer/__init__.py",
          "analytics/workers/lead_incremental_indexer/job.py",
          "analytics/workers/lead_incremental_indexer/migrate.py",
          "analytics/workers/lead_incremental_indexer/models.py",
          "analytics/workers/lead_incremental_indexer/projection.py",
          "analytics/workers/lead_incremental_indexer/transform.py",
          "analytics_api.py",
          "analytics_incremental_ingestion.py",
          "api_main.py",
          "app/__init__.py",
          "app/apis/common/workflow_acl.py",
          "app/apis/fastapi/__init__.py",
          "app/apis/fastapi/api_app.py",
          "app/apis/fastapi/configs/__init__.py",
          "app/apis/fastapi/configs/cors.py",
          "app/apis/fastapi/configs/exception_handler.py",
          "app/apis/fastapi/configs/request_context_middleware.py",
          "app/apis/fastapi/openapi_description.md",
          "app/apis/fastapi/routes/__init__.py",
          "app/apis/fastapi/routes/action_rest.py",
          "app/apis/fastapi/routes/analytics_rest.py",
          "app/apis/fastapi/routes/auth_rest.py",
          "app/apis/fastapi/routes/base.py",
          "app/apis/fastapi/routes/batch_data_object_rest.py",
          "app/apis/fastapi/routes/cdi.py",
          "app/apis/fastapi/routes/change_history_rest.py",
          "app/apis/fastapi/routes/contact_rest.py",
          "app/apis/fastapi/routes/core_data_object_classifier_rest.py",
          "app/apis/fastapi/routes/definition_rest.py",
          "app/apis/fastapi/routes/health_rest.py",
          "app/apis/fastapi/routes/lead_analytics_rest.py",
          "app/apis/fastapi/routes/lead_legacy_rest.py",
          "app/apis/fastapi/routes/lead_rest.py",
          "app/apis/fastapi/routes/partner_rest.py",
          "app/apis/fastapi/routes/qa_rest.py",
          "app/apis/fastapi/routes/router.py",
          "app/apis/fastapi/routes/service_rest.py",
          "app/apis/fastapi/routes/user_rest.py",
          "app/apis/fastapi/routes/vault_rest.py",
          "app/apis/fastapi/routes/workflow_rest.py",
          "app/businesses/__init__.py",
          "app/businesses/action_bo.py",
          "app/businesses/auth_bo.py",
          "app/businesses/bank_bo.py",
          "app/businesses/bank_db.json",
          "app/businesses/batch_data_object_bo.py",
          "app/businesses/batch_data_object_row_bo.py",
          "app/businesses/blocklist_bo.py",
          "app/businesses/cdi.py",
          "app/businesses/change_history_bo.py",
          "app/businesses/communication_hub_bo.py",
          "app/businesses/contact_bo.py",
          "app/businesses/contact_history_bo.py",
          "app/businesses/core/data_object/classifier_bo.py",
          "app/businesses/data_object_bo.py",
          "app/businesses/definition_bo.py",
          "app/businesses/exceptions/__init__.py",
          "app/businesses/exceptions/action_exceptions.py",
          "app/businesses/exceptions/base.py",
          "app/businesses/exceptions/batch_data_object_exceptions.py",
          "app/businesses/exceptions/contact_exceptions.py",
          "app/businesses/exceptions/core_data_object_classifier.py",
          "app/businesses/exceptions/data_object.py",
          "app/businesses/exceptions/data_object_batch_exceptions.py",
          "app/businesses/exceptions/definition_exceptions.py",
          "app/businesses/exceptions/lead_exceptions.py",
          "app/businesses/exceptions/partner_exceptions.py",
          "app/businesses/exceptions/purchase_order_exceptions.py",
          "app/businesses/exceptions/service_exceptions.py",
          "app/businesses/exceptions/users_exceptions.py",
          "app/businesses/exceptions/vault_exceptions.py",
          "app/businesses/exceptions/workflow_exceptions.py",
          "app/businesses/generic_mapping_bo.py",
          "app/businesses/handlers/__init__.py",
          "app/businesses/handlers/assignment_handler.py",
          "app/businesses/handlers/cdi.py",
          "app/businesses/helena_bo.py",
          "app/businesses/id_magalu_bo.py",
          "app/businesses/integration_platform_bo.py",
          "app/businesses/lazy.py",
          "app/businesses/lead_analytics_bo.py",
          "app/businesses/lead_bo.py",
          "app/businesses/lead_legacy_bo.py",
          "app/businesses/lead_magalu_bo.py",
          "app/businesses/lead_workflow_bo.py",
          "app/businesses/magalu_tax_bo.py",
          "app/businesses/magalu_test_purchase_bo.py",
          "app/businesses/observers/cdi.py",
          "app/businesses/observers/contact_observers.py",
          "app/businesses/observers/default_observers.py",
          "app/businesses/observers/lead_observers.py",
          "app/businesses/observers/magalu/cdi.py",
          "app/businesses/observers/magalu/dtos/lead_mma_schema.py",
          "app/businesses/observers/magalu/lead_seller_orders_observers.py",
          "app/businesses/observers/magalu/risk_analysis.py",
          "app/businesses/observers/magalu/test_purchase/TestPurchaseService.py",
          "app/businesses/observers/magalu_lead_observers.py",
          "app/businesses/observers/ps_contract.py",
          "app/businesses/observers/workflow_observers.py",
          "app/businesses/partner_bo.py",
          "app/businesses/qa_bo.py",
          "app/businesses/security_bo.py",
          "app/businesses/securitys/__init__.py",
          "app/businesses/securitys/workflow_security.py",
          "app/businesses/seller_product_bo.py",
          "app/businesses/service_bo.py",
          "app/businesses/tag_bo.py",
          "app/businesses/user_bo.py",
          "app/businesses/vault_bo.py",
          "app/businesses/workflow_bo.py",
          "app/cdi.py",
          "app/commons/__init__.py",
          "app/commons/async_worker/__init__.py",
          "app/commons/async_worker/application.py",
          "app/commons/async_worker/pool/__init__.py",
          "app/commons/async_worker/pool/base.py",
          "app/commons/async_worker/pool/unmanaged.py",
          "app/commons/async_worker/tasks/__init__.py",
          "app/commons/async_worker/tasks/base.py",
          "app/commons/async_worker/util.py",
          "app/commons/cache/cdi.py",
          "app/commons/cache/impl/__init__.py",
          "app/commons/cache/impl/serializer/__init__.py",
          "app/commons/cache/impl/serializer/json.py",
          "app/commons/cache/impl/storage/internal/__init__.py",
          "app/commons/cache/impl/storage/internal/cachetools.py",
          "app/commons/cache/impl/storage/remote/__init__.py",
          "app/commons/cache/impl/storage/remote/redis.py",
          "app/commons/cache/sdk/__init__.py",
          "app/commons/cache/sdk/cache.py",
          "app/commons/cache/sdk/serializer.py",
          "app/commons/cache/sdk/storage.py",
          "app/commons/cdi.py",
          "app/commons/constants.py",
          "app/commons/delay_strategies.py",
          "app/commons/eventbus/__init__.py",
          "app/commons/eventbus/eventbus.py",
          "app/commons/eventbus/executor.py",
          "app/commons/eventbus/registry.py",
          "app/commons/exceptions.py",
          "app/commons/feature_flag.py",
          "app/commons/http/__init__.py",
          "app/commons/http/cdi.py",
          "app/commons/http/client.py",
          "app/commons/lock/__init__.py",
          "app/commons/lock/base.py",
          "app/commons/lock/cdi.py",
          "app/commons/lock/redis_lock.py",
          "app/commons/mapping/__init__.py",
          "app/commons/metrics.py",
          "app/commons/models.py",
          "app/commons/patterns.py",
          "app/commons/pubsub/__init__.py",
          "app/commons/pubsub/message.py",
          "app/commons/pydantic.py",
          "app/commons/settings.py",
          "app/commons/translations/pydantic/en_us.json",
          "app/commons/translations/pydantic/pt_br.json",
          "app/configs/__init__.py",
          "app/configs/eventbus.py",
          "app/configs/logging.py",
          "app/configs/pydantic_config.py",
          "app/domains/__init__.py",
          "app/domains/actions_domain.py",
          "app/domains/audit_domain.py",
          "app/domains/auth_domain.py",
          "app/domains/base.py",
          "app/domains/base_external_reference.py",
          "app/domains/batch_data_object_domain.py",
          "app/domains/change_history_domain.py",
          "app/domains/classifier_domain.py",
          "app/domains/contact_domain.py",
          "app/domains/contact_history_domain.py",
          "app/domains/data_object_domain.py",
          "app/domains/definitions_domain.py",
          "app/domains/generic_mapping_domain.py",
          "app/domains/integration_platform_domain.py",
          "app/domains/leads_domain.py",
          "app/domains/leads_projection_minimalist_domain.py",
          "app/domains/leads_projection_pk_only_domain.py",
          "app/domains/partners_domain.py",
          "app/domains/script_domain.py",
          "app/domains/seller_product.py",
          "app/domains/services_domain.py",
          "app/domains/tags_domain.py",
          "app/domains/users_domain.py",
          "app/domains/vaults_domain.py",
          "app/domains/workflow_domain.py",
          "app/dtos/__init__.py",
          "app/dtos/action_schema.py",
          "app/dtos/auth_schema.py",
          "app/dtos/bank_information_domain.py",
          "app/dtos/base.py",
          "app/dtos/base_external_reference_schema.py",
          "app/dtos/batch_data_object_schema.py",
          "app/dtos/change_history_schema.py",
          "app/dtos/classifier_schema.py",
          "app/dtos/contact_history_schema.py",
          "app/dtos/contact_schema.py",
          "app/dtos/definition_schema.py",
          "app/dtos/examples.py",
          "app/dtos/health_schema.py",
          "app/dtos/integration_platforms_schema.py",
          "app/dtos/lead_analytics_schema.py",
          "app/dtos/lead_projection_minimalist_schema.py",
          "app/dtos/lead_projection_pk_only_schema.py",
          "app/dtos/lead_schema.py",
          "app/dtos/pagination_schema.py",
          "app/dtos/partner_schema.py",
          "app/dtos/qa_schema.py",
          "app/dtos/regulatory_data_schema.py",
          "app/dtos/script_schema.py",
          "app/dtos/seller_product_schema.py",
          "app/dtos/service_schema.py",
          "app/dtos/tag_schema.py",
          "app/dtos/users_schema.py",
          "app/dtos/vault_schema.py",
          "app/dtos/workflow_schema.py",
          "app/eventbus/__init__.py",
          "app/eventbus/event_bus_facade.py",
          "app/eventbus/events/__init__.py",
          "app/eventbus/events/application.py",
          "app/eventbus/events/base.py",
          "app/eventbus/events/data_object.py",
          "app/eventbus/events/lead.py",
          "app/eventbus/events/persistence.py",
          "app/eventbus/events/seller_contact.py",
          "app/eventbus/events/workflow.py",
          "app/eventbus/events/workflow_engine.py",
          "app/integrations/__init__.py",
          "app/integrations/backends/__init__.py",
          "app/integrations/backends/apigee/backend.py",
          "app/integrations/backends/blocklist/backend.py",
          "app/integrations/backends/blocklist/constants.py",
          "app/integrations/backends/blocklist/models.py",
          "app/integrations/backends/cdi.py",
          "app/integrations/backends/client_v1_api/backend.py",
          "app/integrations/backends/client_v1_api/models.py",
          "app/integrations/backends/communication_hub_api/backend.py",
          "app/integrations/backends/communication_hub_api/models.py",
          "app/integrations/backends/helena_api/backend.py",
          "app/integrations/backends/helena_api/models.py",
          "app/integrations/backends/id_magalu/backend.py",
          "app/integrations/backends/id_magalu/models.py",
          "app/integrations/backends/maas_integra_api/backend.py",
          "app/integrations/backends/maas_integra_api/consumer.py",
          "app/integrations/backends/maas_integra_api/models.py",
          "app/integrations/backends/maas_products_api/backend.py",
          "app/integrations/backends/maas_products_api/constants.py",
          "app/integrations/backends/maas_products_api/models.py",
          "app/integrations/backends/maestro/backend.py",
          "app/integrations/backends/maestro/models.py",
          "app/integrations/backends/magalu_tax/backend.py",
          "app/integrations/backends/magalu_tax/exceptions.py",
          "app/integrations/backends/magalu_tax/models.py",
          "app/integrations/backends/mp_security/backend.py",
          "app/integrations/backends/mp_security/models.py",
          "app/integrations/backends/mp_seller_api/backend.py",
          "app/integrations/backends/mp_seller_api/constants.py",
          "app/integrations/backends/mp_seller_api/models.py",
          "app/integrations/backends/open_id/backend.py",
          "app/integrations/backends/p52_api/backend.py",
          "app/integrations/backends/p52_api/models.py",
          "app/integrations/backends/ps_account/backend.py",
          "app/integrations/backends/ps_account/business.py",
          "app/integrations/backends/ps_account/models.py",
          "app/integrations/backends/ps_contract_api/backend.py",
          "app/integrations/backends/ps_contract_api/models.py",
          "app/integrations/backends/ps_onboarding_analytics/backend.py",
          "app/integrations/backends/ps_onboarding_analytics/models.py",
          "app/integrations/backends/ps_order3p_api/backend.py",
          "app/integrations/backends/ps_order3p_api/client.py",
          "app/integrations/backends/ps_order3p_api/models.py",
          "app/integrations/backends/sebastian_api/backend.py",
          "app/integrations/backends/sebastian_api/base.py",
          "app/integrations/backends/sebastian_api/emulated.py",
          "app/integrations/backends/sebastian_api/exceptions.py",
          "app/integrations/backends/sebastian_api/models.py",
          "app/integrations/backends/zendesk_api/backend.py",
          "app/integrations/backends/zendesk_api/client.py",
          "app/integrations/backends/zendesk_api/models.py",
          "app/integrations/cdi.py",
          "app/integrations/datalake/__init__.py",
          "app/integrations/datalake/backends/__init__.py",
          "app/integrations/datalake/backends/base.py",
          "app/integrations/datalake/backends/tetrix_kafka/core.py",
          "app/integrations/datalake/backends/tetrix_kafka/handlers.py",
          "app/integrations/datalake/backends/tetrix_kafka/messages.py",
          "app/integrations/datalake/cdi.py",
          "app/integrations/datalake/constants.py",
          "app/integrations/datalake/core.py",
          "app/integrations/db/__init__.py",
          "app/integrations/db/mongo/__init__.py",
          "app/integrations/db/mongo/cdi.py",
          "app/integrations/db/mongo/encoders.py",
          "app/integrations/db/mongo/fields.py",
          "app/integrations/db/mongo/mongo.py",
          "app/integrations/db/mongo/types.py",
          "app/integrations/pubsub/__init__.py",
          "app/integrations/pubsub/backend.py",
          "app/integrations/pubsub/cdi.py",
          "app/integrations/pubsub/consumer.py",
          "app/integrations/pubsub/encoder.py",
          "app/integrations/pubsub/google_pubsub/__init__.py",
          "app/integrations/pubsub/google_pubsub/consumer.py",
          "app/integrations/pubsub/google_pubsub/message.py",
          "app/integrations/pubsub/kafka/__init__.py",
          "app/integrations/pubsub/kafka/consumer.py",
          "app/integrations/pubsub/kafka/message.py",
          "app/integrations/pubsub/kafka/producer.py",
          "app/integrations/pubsub/kafka/retry.py",
          "app/integrations/pubsub/message.py",
          "app/integrations/pubsub/producer.py",
          "app/integrations/pubsub/retry.py",
          "app/integrations/risk_analysis/__init__.py",
          "app/integrations/risk_analysis/cdi.py",
          "app/integrations/risk_analysis/core.py",
          "app/integrations/risk_analysis/fake/impl.py",
          "app/integrations/risk_analysis/models.py",
          "app/integrations/risk_analysis/zaig/impl.py",
          "app/integrations/scheduler/__init__.py",
          "app/integrations/scheduler/base.py",
          "app/integrations/scheduler/cdi.py",
          "app/integrations/scheduler/impl/cdi.py",
          "app/integrations/scheduler/impl/lite/__init__.py",
          "app/integrations/scheduler/impl/lite/executors/__init__.py",
          "app/integrations/scheduler/impl/lite/executors/asyncio.py",
          "app/integrations/scheduler/impl/lite/executors/base.py",
          "app/integrations/scheduler/impl/lite/job.py",
          "app/integrations/scheduler/impl/lite/jobstores/__init__.py",
          "app/integrations/scheduler/impl/lite/jobstores/base.py",
          "app/integrations/scheduler/impl/lite/jobstores/mongo.py",
          "app/integrations/scheduler/impl/lite/scheduler.py",
          "app/integrations/scheduler/impl/noscheduler.py",
          "app/integrations/seller_product_info/__init__.py",
          "app/integrations/seller_product_info/base.py",
          "app/integrations/seller_product_info/cdi.py",
          "app/integrations/seller_product_info/local_seller_product_info.py",
          "app/lazy/magalu_marketplace.py",
          "app/pubsub/messages/__init__.py",
          "app/pubsub/messages/base.py",
          "app/pubsub/messages/data_object_row_batch.py",
          "app/pubsub/messages/seller_contract.py",
          "app/pubsub/messages/seller_order.py",
          "app/pubsub/messages/tag.py",
          "app/pubsub/messages/webhook.py",
          "app/pubsub/messages/workflow_retry.py",
          "app/pubsub/messages/workflow_wakeup.py",
          "app/repositories/__init__.py",
          "app/repositories/action_repository.py",
          "app/repositories/auth_repository.py",
          "app/repositories/base.py",
          "app/repositories/batch_data_object_repository.py",
          "app/repositories/batch_data_object_row_repository.py",
          "app/repositories/cdi.py",
          "app/repositories/change_history_repository.py",
          "app/repositories/contact_history_repository.py",
          "app/repositories/contact_repository.py",
          "app/repositories/core_data_object_classifier.py",
          "app/repositories/definition_repository.py",
          "app/repositories/generic_mapping_repository.py",
          "app/repositories/integration_platform_repository.py",
          "app/repositories/lead_repository.py",
          "app/repositories/partner_repository.py",
          "app/repositories/seller_product_repository.py",
          "app/repositories/service_repository.py",
          "app/repositories/tag_repository.py",
          "app/repositories/user_repository.py",
          "app/repositories/vault_repository.py",
          "app/repositories/workflow_repository.py",
          "app/script/__init__.py",
          "app/script/cdi.py",
          "app/script/engine.py",
          "app/script/factory.py",
          "app/script/impl/eql.py",
          "app/script/impl/python/functions.py",
          "app/script/impl/python/policy.py",
          "app/script/impl/python/python_eval.py",
          "app/script/impl/python/python_exec.py",
          "app/script/impl/python/util.py",
          "app/utils/__init__.py",
          "app/utils/apm.py",
          "app/utils/asyncio.py",
          "app/utils/benchmark.py",
          "app/utils/cdi.py",
          "app/utils/constants.py",
          "app/utils/cryptography.py",
          "app/utils/datetime.py",
          "app/utils/encoders.py",
          "app/utils/exception.py",
          "app/utils/fields.py",
          "app/utils/filter_permission.py",
          "app/utils/freezing.py",
          "app/utils/hash.py",
          "app/utils/lazy.py",
          "app/utils/logging/__init__.py",
          "app/utils/logging/anonimizer.py",
          "app/utils/logging/configure.py",
          "app/utils/open_id.py",
          "app/utils/pydantic.py",
          "app/utils/pydash.py",
          "app/utils/resource_permission.py",
          "app/utils/security.py",
          "app/utils/sentinel.py",
          "app/utils/settings.py",
          "app/utils/token.py",
          "app/utils/types.py",
          "app/utils/util.py",
          "app/utils/uuid.py",
          "app/utils/validators.py",
          "app/workers/__init__.py",
          "app/workers/app.py",
          "app/workers/cdi.py",
          "app/workers/common.py",
          "app/workers/data_object_batch/app.py",
          "app/workers/data_object_batch/batch_handlers/__init__.py",
          "app/workers/data_object_batch/batch_handlers/data_object_batch.py",
          "app/workers/data_object_batch/batch_handlers/data_object_row_batch.py",
          "app/workers/data_object_batch/cdi.py",
          "app/workers/data_object_batch/handlers/__init__.py",
          "app/workers/data_object_batch/handlers/data_object_batch_context_handler.py",
          "app/workers/data_object_batch/handlers/data_object_batch_lead_handler.py",
          "app/workers/data_object_batch/message_processor_data_object.py",
          "app/workers/data_object_batch/tasks/__init__.py",
          "app/workers/data_object_batch/tasks/data_object_batch_action_task.py",
          "app/workers/data_object_batch/tasks/data_object_row_batch_action_task.py",
          "app/workers/data_object_batch/tasks/models.py",
          "app/workers/freight/app.py",
          "app/workers/freight/cdi.py",
          "app/workers/freight/settings.py",
          "app/workers/freight/tasks/__init__.py",
          "app/workers/freight/tasks/freight_task.py",
          "app/workers/freight/tasks/models.py",
          "app/workers/lead/app.py",
          "app/workers/lead/cdi.py",
          "app/workers/lead/tasks/events.py",
          "app/workers/lead/tasks/risk_analysis_response_observers.py",
          "app/workers/lead/tasks/risk_analysis_response_task.py",
          "app/workers/netshoes/app.py",
          "app/workers/netshoes/cdi.py",
          "app/workers/netshoes/tasks/__init__.py",
          "app/workers/netshoes/tasks/models/base.py",
          "app/workers/netshoes/tasks/models/constants.py",
          "app/workers/netshoes/tasks/models/seller_freight.py",
          "app/workers/netshoes/tasks/models/seller_user.py",
          "app/workers/netshoes/tasks/models/sellers.py",
          "app/workers/netshoes/tasks/netshoes_lead_mapper.py",
          "app/workers/netshoes/tasks/netshoes_task.py",
          "app/workers/product/app.py",
          "app/workers/product/cdi.py",
          "app/workers/product/settings.py",
          "app/workers/product/tasks/__init__.py",
          "app/workers/product/tasks/models.py",
          "app/workers/product/tasks/product_task.py",
          "app/workers/risk_analysis/app.py",
          "app/workers/risk_analysis/cdi.py",
          "app/workers/risk_analysis/tasks/request_risk_analysis_task.py",
          "app/workers/sebastian_integration/app.py",
          "app/workers/seller_account/app.py",
          "app/workers/seller_account/cdi.py",
          "app/workers/seller_account/settings.py",
          "app/workers/seller_account/tasks/__init__.py",
          "app/workers/seller_account/tasks/models.py",
          "app/workers/seller_account/tasks/seller_account_task.py",
          "app/workers/seller_contract/app.py",
          "app/workers/seller_contract/cdi.py",
          "app/workers/seller_contract/settings.py",
          "app/workers/seller_contract/tasks/__init__.py",
          "app/workers/seller_contract/tasks/models.py",
          "app/workers/seller_contract/tasks/ps_contract_task.py",
          "app/workers/seller_contract/tasks/sync_seller_contract_task.py",
          "app/workers/seller_orders/app.py",
          "app/workers/seller_orders/cdi.py",
          "app/workers/seller_orders/models.py",
          "app/workers/seller_orders/settings.py",
          "app/workers/seller_orders/tasks/__init__.py",
          "app/workers/seller_orders/tasks/models.py",
          "app/workers/seller_orders/tasks/notify_order_by_uuid_task.py",
          "app/workers/seller_orders/tasks/purchase_order_task.py",
          "app/workers/seller_orders/tasks/seller_orders_task.py",
          "app/workers/tags/app.py",
          "app/workers/tags/tasks/__init__.py",
          "app/workers/tags/tasks/tags_task.py",
          "app/workers/tasks.py",
          "app/workers/webhook/app.py",
          "app/workers/webhook/cdi.py",
          "app/workers/webhook/settings.py",
          "app/workers/webhook/tasks/__init__.py",
          "app/workers/webhook/tasks/webhook_global/data_object_merge_webhook_handler.py",
          "app/workers/webhook/tasks/webhook_global/data_object_webhook_handler.py",
          "app/workers/webhook/tasks/webhook_global/models.py",
          "app/workers/webhook/tasks/webhook_global/provisioner_risk_analysis_response_handler.py",
          "app/workers/webhook/tasks/webhook_global/sdk/__init__.py",
          "app/workers/webhook/tasks/webhook_global/sdk/models.py",
          "app/workers/webhook/tasks/webhook_global/sdk/webhook_handler.py",
          "app/workers/webhook/tasks/webhook_global/sdk/webhook_handler_manager.py",
          "app/workers/webhook/tasks/webhook_global_task.py",
          "app/workers/workflow_retry/app.py",
          "app/workers/workflow_retry/cdi.py",
          "app/workers/workflow_retry/tasks/data_object_workflow_retry_task.py",
          "app/workers/workflow_wakeup/app.py",
          "app/workers/workflow_wakeup/cdi.py",
          "app/workers/workflow_wakeup/tasks/data_object_workflow_wakeup_task.py",
          "app/workflow/__init__.py",
          "app/workflow/addon.py",
          "app/workflow/addons/__init__.py",
          "app/workflow/addons/workflow_core.py",
          "app/workflow/addons/workflow_responsibles.py",
          "app/workflow/addons/workflow_retry.py",
          "app/workflow/addons/workflow_sla.py",
          "app/workflow/addons/workflow_stop.py",
          "app/workflow/addons/workflow_wake_up.py",
          "app/workflow/cache.py",
          "app/workflow/cdi.py",
          "app/workflow/core.py",
          "app/workflow/engine.py",
          "app/workflow/errors.py",
          "app/workflow/events.py",
          "app/workflow/http_client.py",
          "app/workflow/http_client_mock.py",
          "app/workflow/retry/__init__.py",
          "app/workflow/retry/base.py",
          "app/workflow/retry/ignore_retry.py",
          "app/workflow/retry/kafka_retry.py",
          "app/workflow/runners/base.py",
          "app/workflow/runners/local.py",
          "app/workflow/vault.py",
          "data_object_batch_worker.py",
          "dependency.yaml",
          "devtools/action_scripts/gui/action_add_remove_relationship_management_comment.py",
          "devtools/action_scripts/gui/action_migrate_pme_marketplace.py",
          "devtools/action_scripts/gui/action_put_lead_referral_code.py",
          "devtools/action_scripts/gui/action_put_service_categories.py",
          "devtools/action_scripts/gui/action_redistribute_responsibles.py",
          "devtools/action_scripts/troubleshoot/action_del_referral_code.py",
          "devtools/action_scripts/troubleshoot/action_get_employee_info.py",
          "devtools/action_scripts/troubleshoot/action_put_force_risk_analysis.py",
          "devtools/action_scripts/troubleshoot/action_resume_creation_denied.py",
          "devtools/action_scripts/troubleshoot/action_send_to_mma.py",
          "devtools/action_scripts/troubleshoot/action_start_action_panel.py",
          "devtools/action_scripts/universe_cards/action_flag_integrator_setup_done.py",
          "devtools/action_scripts/universe_cards/action_magalu_agency.py",
          "devtools/action_scripts/universe_cards/action_products.py",
          "devtools/action_scripts/universe_cards/action_put_regulatory_data.py",
          "devtools/action_scripts/universe_cards/action_replace_bank_account.py",
          "devtools/action_scripts/universe_cards/action_sign_contracts.py",
          "devtools/action_scripts/universe_form/action_put_company_legal_representative.py",
          "devtools/action_scripts/universe_form/action_put_sells_to_company.py",
          "devtools/action_scripts/universe_form/action_put_sold_by.py",
          "devtools/action_scripts/universe_form/action_put_sold_by_website_sells_to_legal_person.py",
          "devtools/action_scripts/universe_form/action_put_state_registration.py",
          "devtools/action_scripts/universe_form/action_put_website.py",
          "devtools/action_scripts/universe_form/script_action_create_change_address_universo_magalu.py",
          "devtools/action_scripts/universe_form/script_action_create_change_bank_details.py",
          "devtools/action_scripts/universe_form/script_action_create_change_cash_payment_data.py",
          "devtools/action_scripts/universe_form/script_action_create_change_integrators.py",
          "devtools/action_scripts/universe_form/script_action_create_change_lead_completion.py",
          "devtools/action_scripts/universe_form/script_action_create_change_legal_representative_data.py",
          "devtools/action_scripts/universe_form/script_action_create_change_postal_address.py",
          "devtools/action_scripts/universe_form/script_action_create_change_shipping_address.py",
          "devtools/action_scripts/universe_form/script_action_import_lead_data.py",
          "devtools/action_scripts/universe_form/script_action_lead_services.py",
          "devtools/action_scripts/universe_form/script_action_run_tax_data_configuration.py",
          "devtools/action_scripts/universe_form/script_action_update_lead_tax_data.py",
          "devtools/action_scripts/update/action_copy_bureau_data.py",
          "devtools/action_scripts/update/action_fetch_bureau_data.py",
          "devtools/action_scripts/voip_service/action_block_voip_service.py",
          "devtools/action_scripts/voip_service/action_disable_voip_service.py",
          "devtools/action_scripts/voip_service/action_enable_voip_service.py",
          "devtools/action_scripts/voip_service/action_unblock_voip_service.py",
          "devtools/argocd/.dockerignore",
          "devtools/argocd/Dockerfile",
          "devtools/check_migrations.py",
          "devtools/cicd/aptfile.sh",
          "devtools/cicd/build-venv.sh",
          "devtools/cicd/common.sh",
          "devtools/cicd/coverage.sh",
          "devtools/config.ini",
          "devtools/config.toml",
          "devtools/config_gcp_emulator.py",
          "devtools/dotenv.dev",
          "devtools/dotenv.empty",
          "devtools/dotenv.test",
          "devtools/export_pydantic_errors.py",
          "devtools/gchatbot.py",
          "devtools/gunicorn_config.py",
          "devtools/kk_get_token.py",
          "devtools/migration_scripts/script_create_contact_helena.py",
          "devtools/migration_scripts/script_create_fees_helena.py",
          "devtools/migration_scripts/script_create_or_update_lead_freedom.py",
          "devtools/migration_scripts/script_create_or_update_lead_helena.py",
          "devtools/migration_scripts/script_create_ticket_zendesk.py",
          "devtools/migration_scripts/script_integration_freshdesk.py",
          "devtools/migration_scripts/script_rollout_order_account.py",
          "devtools/migration_scripts/script_update_lead_helena.py",
          "devtools/migration_scripts/script_update_message_task_63584be8b6e5dc1bc0dda581.py",
          "devtools/migration_scripts/script_update_message_task_63c68a9a13db1b45a10255aa.py",
          "devtools/migration_scripts/script_update_message_task_63f3960a0d9fa305fb56cebe.py",
          "devtools/migration_scripts/script_update_message_task_63f3aea71a46678bdca2bfa1.py",
          "devtools/migration_scripts/script_update_message_task_64a40d3109dd3f5c1cec7892.py",
          "devtools/migration_scripts/script_update_message_task_653972eee314dd67908ea21c.py",
          "devtools/migration_scripts/script_update_message_task_653a80c886f29d2882a02e61.py",
          "devtools/migration_scripts/script_update_message_task_653a8924b29a5a34b3b5f6e7.py",
          "devtools/mongo/002-sync-lead-workflows.js",
          "devtools/mongo/003-generate-sellers-without-pending-leads.js",
          "devtools/mongo/004-clear-products-from-sellers-without-pending-leads.js",
          "devtools/mongo/005-seller-with-more-products.js",
          "devtools/mongo/006-clear-products-from-sellers.js",
          "devtools/pocs/poc_product_storage.py",
          "devtools/scripts/migration-generator.sh",
          "devtools/scripts/migration_example.py",
          "docker-compose.yml",
          "docs/Makefile",
          "docs/compressed-signed-pickle.bytefield",
          "docs/docker-compose.yml",
          "docs/magalu_pay.md",
          "docs/signed-pickle.bytefield",
          "docs/state-diagram-tasks.svg",
          "docs/svgs/compressed-signed-pickle.svg",
          "docs/svgs/signed-pickle.svg",
          "docs/universe_form/forms.md",
          "docs/workflow.md",
          "freight_worker.py",
          "hopdb/__init__.py",
          "hopdb/collection.py",
          "hopdb/collection_storage/__init__.py",
          "hopdb/collection_storage/in_memory.py",
          "hopdb/collection_storage/sqlite_storage.py",
          "hopdb/collection_storage/storage.py",
          "hopdb/correlation_table/__init__.py",
          "hopdb/correlation_table/correlation_table.py",
          "hopdb/correlation_table/in_memory.py",
          "hopdb/correlation_table/sqlite.py",
          "hopdb/database.py",
          "hopdb/document.py",
          "hopdb/document_encoder/__init__.py",
          "hopdb/document_encoder/document_encoder.py",
          "hopdb/hopdb.py",
          "hopdb/index/__init__.py",
          "hopdb/index/bitmap.py",
          "hopdb/index/btree.py",
          "hopdb/logging.py",
          "hopdb/metadata.py",
          "hopdb/persistence.py",
          "hopdb/resource_monitor.py",
          "hopdb/sequence.py",
          "hopdb/thirdparty/sqlite3_wrapper.py",
          "lead_worker.py",
          "lib/__init__.py",
          "lib/cdi/__init__.py",
          "lib/cdi/injector.py",
          "lib/common/constants/__init__.py",
          "lib/common/constants/python.py",
          "lib/common/copy.py",
          "lib/common/encoder/__init__.py",
          "lib/common/encoder/bson_encoder.py",
          "lib/common/encoder/encoder.py",
          "lib/common/encoder/extended_json.py",
          "lib/common/encoder/signed_pickle.py",
          "lib/common/fastapi/__init__.py",
          "lib/common/fastapi/dependencies.py",
          "lib/common/fields/__init__.py",
          "lib/common/fields/bytes.py",
          "lib/common/fields/mongo.py",
          "lib/common/fields/timezone.py",
          "lib/common/file/__init__.py",
          "lib/common/file/utils.py",
          "lib/common/humanize.py",
          "lib/common/lock/__init__.py",
          "lib/common/lock/named_lock.py",
          "lib/common/mapping/__init__.py",
          "lib/common/mapping/base_model.py",
          "lib/common/mapping/fields.py",
          "lib/common/object_storage/__init__.py",
          "lib/common/object_storage/default_factory.py",
          "lib/common/object_storage/factory.py",
          "lib/common/object_storage/in_memory.py",
          "lib/common/object_storage/local_storage.py",
          "lib/common/object_storage/object_storage.py",
          "lib/common/object_storage/redis_storage.py",
          "lib/common/pickle.py",
          "lib/common/redis_channel/__init__.py",
          "lib/common/redis_channel/redis_channel.py",
          "lib/common/typing.py",
          "lib/dict/anonymize/sdk.py",
          "lib/dict/anonymize/simple.py",
          "lib/dict/diff/deep_diff.py",
          "lib/dict/diff/sdk.py",
          "lib/dict/diff/simple.py",
          "lib/dict/dotnotation/pydash.py",
          "lib/dict/dotnotation/sdk.py",
          "lib/dict/patch/mongo.py",
          "lib/dict/patch/sdk.py",
          "lib/dict/patch/simple.py",
          "lib/logging/__init__.py",
          "lib/logging/impl_lulogger.py",
          "lib/logging/wrapper.py",
          "migrations/202201120205_create_collection_definitions.py",
          "migrations/202202150210_create_collection_leads.py",
          "migrations/202202181023_create_collection_worflows.py",
          "migrations/202203021137_create_collection_statistics.py",
          "migrations/202203111210_seed_definition.py",
          "migrations/202203140210_add_leads_index.py",
          "migrations/202203211623_lead_workflows.py",
          "migrations/202203251549_create_workflow_statistics.py",
          "migrations/202204041528_lead_completion.py",
          "migrations/202204121405_lead_counters.py",
          "migrations/202204131441_add_sort_leads_index.py",
          "migrations/202204191718_add_leads_index_seller_external.py",
          "migrations/202204200918_workflow_actions.py",
          "migrations/202204250741_add_new_workflow_actions.py",
          "migrations/202204251807_create_collection_stocks.py",
          "migrations/202204261623_add_external_service_definition.py",
          "migrations/202205031426_create_seller_stocks_collection.py",
          "migrations/202205031626_workflow_seller_stock.py",
          "migrations/202205041718_create_collection_tags.py",
          "migrations/202205042014_seed_tags.py",
          "migrations/202205091025_lead_workflow_initial_state.py",
          "migrations/202205091133_add_tags_index.py",
          "migrations/202205181049_seed_users.py",
          "migrations/202205231809_add_responsible_index.py",
          "migrations/202205271433_sync_definition.py",
          "migrations/202205301115_create_lead_classification.py",
          "migrations/202205311802_add_lead_last_observation_index.py",
          "migrations/202206011601_update_lead_classification.py",
          "migrations/202206131218_create_collection_secrets.py",
          "migrations/202206290420_update_seller_product_index.py",
          "migrations/202206301146_add_lead_observation_tags_index.py",
          "migrations/202207081619_start_lead_finalization_early.py",
          "migrations/202207111127_on_test_order_finish_workflows.py",
          "migrations/202207121915_seed_tecnical_definition.py",
          "migrations/202207161816_update_lead_status_definition.py",
          "migrations/202207270857_finish_financial_analysis_on_sebastian_event.py",
          "migrations/202208020837_blocklist_seller_lock_and_unlock.py",
          "migrations/202208110922_lead_wf_fix.py",
          "migrations/202208221806_communication_hub_welcome_message.py",
          "migrations/202208291716_comunication_hub_create_optin.py",
          "migrations/202208301552_call_employees.py",
          "migrations/202209011719_create_optin_email_whatsapp.py",
          "migrations/202209061739_get_more_info_employee.py",
          "migrations/202209150845_provision_analysis.py",
          "migrations/202209201413_task_affinities.py",
          "migrations/202209211647_get_sso_id_account.py",
          "migrations/202209261903_add_lead_analysis_front.py",
          "migrations/202210031209_remove_pips_task_from_automatic_rollout.py",
          "migrations/202210041139_add_legal_to_endpoint_provision.py",
          "migrations/202210041547_create_get_sso_id_account.py",
          "migrations/202210041711_get_data_to_pj_account.py",
          "migrations/202210041813_alter_endpoint_get_data_pj.py",
          "migrations/202210051002_update_tasks_events.py",
          "migrations/202210061852_post_persons_pj_account.py",
          "migrations/202210101628_add_users_manually.py",
          "migrations/202210111714_move_tasks_to_provisioner.py",
          "migrations/202210140929_add_lead_integration_platforms.py",
          "migrations/202210140930_pj_account_creation_call.py",
          "migrations/202210191006_add_retry_tasks.py",
          "migrations/202210310909_move_task_provisioner.py",
          "migrations/202211031722_update_users_permissions.py",
          "migrations/202211151130_legal_representative_adjustment.py",
          "migrations/202211160943_update_on_create_account_pj.py",
          "migrations/202211221645_register_lead_id_magalu.py",
          "migrations/202212081519_provisioner_adjustments.py",
          "migrations/202212130912_add_update_provisioner.py",
          "migrations/202212140917_magalupay_sebastian_sync.py",
          "migrations/202212151151_pj_account_new_flow.py",
          "migrations/202212151154_add_message_workflow.py",
          "migrations/202212160730_returns_provisioner_reason.py",
          "migrations/202212161954_create_action_panel_workflow.py",
          "migrations/202212171114_send_email_account_information_wf.py",
          "migrations/202212171416_risk_analysis_actions.py",
          "migrations/202212191644_change_conditions_to_start_message_wf.py",
          "migrations/202212211706_zaig_10_percente_risk_analysis.py",
          "migrations/202212220900_lead_create_param_list_consents_integrators.py",
          "migrations/202212231131_cnpj_situation_translation.py",
          "migrations/202212261635_add_condition_to_create_inconsistency_check.py",
          "migrations/202212291016_setup_eddie_onboarding.py",
          "migrations/202301041721_changing_action_panel_task_name.py",
          "migrations/202301051748_get_bureau_data.py",
          "migrations/202301111030_copy_ssoid_and_email_to_owner.py",
          "migrations/202301300900_update_condition_lead_create_param_list_consents_integrators.py",
          "migrations/202301301359_create_collection_actions.py",
          "migrations/202301441754_check_pj_account_was_reproved.py",
          "migrations/202301441755_create_task_update_pj_account.py",
          "migrations/202301451053_sending_email_asking_update_account.py",
          "migrations/202301541754_adjusting_cond_to_synchronize_pj_account.py",
          "migrations/202302161152_legacy_callback.py",
          "migrations/202302261809_adjustment_product_block_message.py",
          "migrations/202303020938_create_index_analysisId.py",
          "migrations/202303081521_send_mma.py",
          "migrations/202303081548_risk_validation.py",
          "migrations/202303081568_adjust_email_sending_rule.py",
          "migrations/202303161439_updates_seller_state_to_v2_and_adds_contract_signature.py",
          "migrations/202303161440_create_collection_data_object_batch_actions.py",
          "migrations/202303211639_update_seller_state_v3_product.py",
          "migrations/202303221627_create_collection_contacts.py",
          "migrations/202303241020_create_unique_index_contact.py",
          "migrations/202303291036_remove_task_bureau_pj_account.py",
          "migrations/202303300749_change_source_mma.py",
          "migrations/202304031628_removing_bureau_from_creation_analysis.py",
          "migrations/202304031803_send_activate_magalu_deliveries.py",
          "migrations/202304060920_create_index_contacts_history.py",
          "migrations/202304061438_automatically_create_pj_account.py",
          "migrations/202304111412_change_name_mma.py",
          "migrations/202304241428_get_seller_mma.py",
          "migrations/202304271536_legal_representative_adjustments.py",
          "migrations/202305041109_update_register_lead_id_magalu.py",
          "migrations/202305041440_create_collection_processed_data_object_message.py",
          "migrations/202305171137_create_partners_indexes.py",
          "migrations/202305181425_create_org_zendesk.py",
          "migrations/202305221501_add_index_and_set_corporate_name_lower.py",
          "migrations/202305240857_get_risk_analysis_adjustments.py",
          "migrations/202305291631_add_recap_field.py",
          "migrations/202305308003_create_index_contacts_seller_id_source.py",
          "migrations/202305311433_add_index_processed_data_object_recreate.py",
          "migrations/202306051856_update_org_zendesk.py",
          "migrations/202306120807_pj_account_email_change.py",
          "migrations/202306141620_migrate_lead_contact_to_contacts.py",
          "migrations/202306141621_generate_contacts_history_create.py",
          "migrations/202306231127_update_magalu_deliveries_activate.py",
          "migrations/202306270852_lead_assignee_reassignment_task.py",
          "migrations/202306300951_send_email_lead_reproved.py",
          "migrations/202307030822_send_email_signature_contract.py",
          "migrations/202307111758_change_actions_to_virtual.py",
          "migrations/202307181643_add_seller_state_magalu_agency.py",
          "migrations/202307191527_adjustmet_tasks_to_create_basic_lead.py",
          "migrations/202307191710_fixing_duplicate_workflow.py",
          "migrations/202307201719_update_old_zendesk_leads.py",
          "migrations/202307211533_zendesk_adjusting_workflow_retry.py",
          "migrations/202307251921_ajusting_send_email_reproved.py",
          "migrations/202307261431_add_realm_users.py",
          "migrations/202308020935_add_service_account_sso_migrated.py",
          "migrations/202308021030_remove_service_account_sso_migrated.py",
          "migrations/202308021214_create_collection_services.py",
          "migrations/202308080847_update_zendesk_user_observer.py",
          "migrations/202308111746_create_wf_netshoes.py",
          "migrations/202308111747_adjustment_tasks_to_netshoes.py",
          "migrations/202308141129_rename_task_aproved_and_pj_account.py",
          "migrations/202308161520_update_pj_account_new_flow.py",
          "migrations/202308171134_adding_source_field.py",
          "migrations/202308241540_add_service_type_index.py",
          "migrations/202308301156_create_indice_lead_status_lead_weight.py",
          "migrations/202308301555_adding_new_netshoes_tasks.py",
          "migrations/202309051913_create_batch_data_objects_collections.py",
          "migrations/202309081730_adjustment_email_new_flow.py",
          "migrations/202309140917_create_lead_mma.py",
          "migrations/202309200900_adjustment_id_message_contract.py",
          "migrations/202309251524_skip_rephrasing_diff_disapproved_lead.py",
          "migrations/202310041428_adjustment_tasks_to_source_magalu_universe.py",
          "migrations/202310051706_copy_data_channel_id.py",
          "migrations/202310051707_create_index_seller_id_and_channel.py",
          "migrations/202310091148_create_wf_store_configuration_netshoes.py",
          "migrations/202310091149_create_task_mp_seller.py",
          "migrations/202310181749_adjustment_analysis_process_links.py",
          "migrations/202310241106_adjustment_email_registration.py",
          "migrations/202310241551_adjust_approval_message_no_pj_account.py",
          "migrations/202310241552_adjust_approval_message_reproved_pj_account.py",
          "migrations/202310251650_add_tasks_messages_wa_reproved.py",
          "migrations/202310251651_add_tasks_messages_wa_registration_completed.py",
          "migrations/202310251652_add_tasks_messages_wa_approved_completed.py",
          "migrations/202310311020_add_source_channel_and_origin_index_to_lead.py",
          "migrations/202311241511_add_verification_seller_state_contract_signing.py",
          "migrations/202311241512_adjusting_business_condition_contract_pme.py",
          "migrations/202311242223_create_wf_automatic_creation_reproval.py",
          "migrations/202311251552_add_task_mp_security.py",
          "migrations/202311251554_add_task_set_up_integrator.py",
          "migrations/202311251555_adjustment_close_task_contract_signing.py",
          "migrations/202311251556_update_task_remove_service_account_to_add_publish_date.py",
          "migrations/202311300831_integration_platform_normalization.py",
          "migrations/202311301145_add_lead_owner_sso_ids.py",
          "migrations/202311301258_populate_lead_owners.py",
          "migrations/202311301259_adjustment_tasks_netshoes.py",
          "migrations/202312041018_mapping_table.py",
          "migrations/202312050850_multi_source_integration_platform.py",
          "migrations/202312051032_add_lead_indexes_for_checking_document_availability.py",
          "migrations/202312051638_create_index_external_reference_sellerid.py",
          "migrations/202312191145_update_tasks_types.py",
          "migrations/202312191146_update_tasks_slas.py",
          "migrations/202401151339_update_virtual_action_allowed_roles.py",
          "migrations/202401151340_create_lead_helena.py",
          "migrations/202401151458_add_task_update_contact.py",
          "migrations/202401181033_update_task_account_catalog_service_with_feature_flag.py",
          "migrations/202401181034_update_task_seller_migrated.py",
          "migrations/202401230516_create_index_source_partner.py",
          "migrations/202401230517_populate_source_partner_by_external_reference.py",
          "migrations/202402060847_create_fees_helena.py",
          "migrations/202402141555_update_lead_helena.py",
          "migrations/202402160808_change_source_partner_index.py",
          "migrations/202402231719_send_lead_freedom.py",
          "migrations/202402241509_last_observation_and_others_index.py",
          "migrations/202403170800_create_freshdesk.py",
          "migrations/202403291339_create_core_data_object_classifier.py",
          "migrations/202403291345_marketplace_publish_classifier.py",
          "migrations/202404011258_data_object_classifier_index.py",
          "migrations/202404020813_create_index_completed_at.py",
          "migrations/202404020946_index_partial_integration_platform_available.py",
          "migrations/202404021929_normalize_models.py",
          "migrations/202404031356_condition_msg_approved_registration_wa_mkt.py",
          "migrations/202404031357_condition_msg_registration_wa_mkt.py",
          "migrations/202404031358_condition_msg_reproved_registration_wa_mkt.py",
          "migrations/202404031359_condition_msg_approved_registration.py",
          "migrations/202404031360_condition_approved_registration_no_pj_account.py",
          "migrations/202404031361_condition_approved_registration_update_pj_account.py",
          "migrations/202404031362_condition_analysis_process.py",
          "migrations/202404031363_condition_contract_signing.py",
          "migrations/202404160825_lead_updated_at_index.py",
          "migrations/202404180927_lead_actions_needed_index.py",
          "migrations/202404220816_universe_form_classifier.py",
          "migrations/202404240800_create_ticket_zendesk.py",
          "migrations/202405080813_create_index_source_origin_completed_at.py",
          "migrations/202405131017_disable_zendesk_already_ticket.py",
          "migrations/202405140912_add_test_purchase_order_action.py",
          "migrations/202405161046_remove_set_order_test_date_to_account_from_finalization_workflow.py",
          "migrations/202405161047_set_order_test_date_to_account.py",
          "migrations/202405201125_create_task_set_order_test_date_account_workflows.py",
          "migrations/202405221611_add_completed_at_netshoes.py",
          "migrations/202405221612_commercial_contract_monitor.py",
          "migrations/202405240916_universe_form_classifier_update.py",
          "migrations/202405241013_marketplace_publish_classifier_update.py",
          "migrations/202405241234_netshoes_and_marketplace_services.py",
          "migrations/202405291456_add_completed_at_netshoes_to_legacy_wf.py",
          "migrations/202405291745_commercial_contract_monitor_update.py",
          "migrations/202406031639_create_index_integrator_platform.py",
          "migrations/202406131515_rollout_order_account.py",
          "migrations/202407041755_universe_form_classifier_update.py",
          "migrations/202407041756_marketplace_publish_classifier_update.py",
          "migrations/utils/__init__.py",
          "migrations/utils/util.py",
          "migrations_util/classifiers.py",
          "migrations_util/cli.py",
          "migrations_util/datetime.py",
          "migrations_util/model_normalizer.py",
          "migrations_util/script_sign.py",
          "migrations_util/settings.py",
          "migrations_util/virtual_actions.py",
          "mypy.ini",
          "netshoes_lead_worker.py",
          "product_worker.py",
          "pyproject.toml",
          "pytest.ini",
          "release-replacements.json",
          "requirements.txt",
          "requirements/base.txt",
          "requirements/develop.txt",
          "risk_analysis_worker.py",
          "run-migrate.sh",
          "sebastian_integration_worker.py",
          "seller_account_worker.py",
          "seller_contract_worker.py",
          "seller_orders_worker.py",
          "sonar-project.properties",
          "start-gunicorn.sh",
          "start-worker.sh",
          "tag_worker.py",
          "tests/analytics/apis/fastapi/routes/test_health_router.py",
          "tests/analytics/apis/fastapi/routes/test_lead_analytics_router.py",
          "tests/analytics/business/test_lead_analytics_bo.py",
          "tests/analytics/conftest.py",
          "tests/analytics/fixtures/dataset/lead_analytics_fixture.py",
          "tests/analytics/fixtures/dataset/lead_dashboard_data.json",
          "tests/analytics/fixtures/extended_json.py",
          "tests/analytics/test_utils.py",
          "tests/app/actions/test_lead_action_change_bank_account.py",
          "tests/app/actions/test_lead_action_migrate_pme_to_mktplace.py",
          "tests/app/actions/test_lead_action_relationship_management.py",
          "tests/app/actions/test_lead_action_update_referral_code.py",
          "tests/app/actions/test_lead_universe_actions.py",
          "tests/app/apis/fastapi/exception_handler_test.py",
          "tests/app/apis/fastapi/routes/__init__.py",
          "tests/app/apis/fastapi/routes/auth_rest_test.py",
          "tests/app/apis/fastapi/routes/contact_rest_test.py",
          "tests/app/apis/fastapi/routes/definition_rest_test.py",
          "tests/app/apis/fastapi/routes/health_rest_test.py",
          "tests/app/apis/fastapi/routes/lead_analytics_rest_test.py",
          "tests/app/apis/fastapi/routes/lead_rest_test.py",
          "tests/app/apis/fastapi/routes/openapi_test.py",
          "tests/app/apis/fastapi/routes/partner_rest_test.py",
          "tests/app/apis/fastapi/routes/test_action_rest.py",
          "tests/app/apis/fastapi/routes/test_batch_data_object_rest.py",
          "tests/app/apis/fastapi/routes/test_change_history_rest.py",
          "tests/app/apis/fastapi/routes/test_core_data_object_classifier_rest.py",
          "tests/app/apis/fastapi/routes/test_lead_legacy_rest_test.py",
          "tests/app/apis/fastapi/routes/test_misc_rest_test.py",
          "tests/app/apis/fastapi/routes/test_qa_rest.py",
          "tests/app/apis/fastapi/routes/test_service_rest.py",
          "tests/app/apis/fastapi/routes/user_permission_rest_test.py",
          "tests/app/apis/fastapi/routes/user_rest_test.py",
          "tests/app/apis/fastapi/routes/vault_rest_test.py",
          "tests/app/apis/fastapi/routes/workflow_rest_test.py",
          "tests/app/business_rule/universe_form/test_universe_form.py",
          "tests/app/businesses/handlers/test_assignment_handler.py",
          "tests/app/businesses/observers/magalu/test_forbid_bank_change_after_sync.py",
          "tests/app/businesses/observers/magalu/test_risk_analysis.py",
          "tests/app/businesses/observers/test_contract_create_ps_contract_observer.py",
          "tests/app/businesses/observers/test_lead_observers.py",
          "tests/app/businesses/observers/test_lead_update_magalu_tax_observer.py",
          "tests/app/businesses/observers/test_lead_update_ps_contract_observer.py",
          "tests/app/businesses/observers/test_lead_workflow_observers_validators.py",
          "tests/app/businesses/observers/test_magalu_lead_observers.py",
          "tests/app/businesses/test_change_history_bo.py",
          "tests/app/businesses/test_id_magalu_bo.py",
          "tests/app/businesses/test_lead_workflow_bo.py",
          "tests/app/businesses/test_seller_product_bo.py",
          "tests/app/businesses/test_workflow_bo.py",
          "tests/app/domains/test_lead_domain.py",
          "tests/app/domains/test_workflow_domain.py",
          "tests/app/integrations/backends/sebastian_api/test_models.py",
          "tests/app/integrations/backends/test_apigee_backend.py",
          "tests/app/integrations/backends/test_client_v1_backend.py",
          "tests/app/integrations/backends/test_maas_blocklist_backend.py",
          "tests/app/integrations/backends/test_maas_products_backend.py",
          "tests/app/integrations/backends/test_p52_backend.py",
          "tests/app/integrations/datalake/backends/tetrix_kafka/handlers/test_lead_tetrix_dataset_handler.py",
          "tests/app/integrations/datalake/backends/tetrix_kafka/handlers/test_workflow_tetrix_dataset_handler.py",
          "tests/app/integrations/datalake/test_core.py",
          "tests/app/integrations/db/mongo/pyobjectid_test.py",
          "tests/app/integrations/pubsub/encoder/test_json_binary_encoder.py",
          "tests/app/integrations/pubsub/kafka/test_kafka_producer_backend.py",
          "tests/app/integrations/pubsub/kafka/test_kafka_pubsub_consumer_integrated.py",
          "tests/app/integrations/pubsub/kafka/test_kafka_pubsub_consumer_mocked.py",
          "tests/app/integrations/pubsub/kafka/test_kafka_pubsub_message.py",
          "tests/app/integrations/pubsub/test_pubsub_consumer.py",
          "tests/app/integrations/pubsub/test_pubsub_producer.py",
          "tests/app/integrations/risk_analysis/test_fake_risk_analysis.py",
          "tests/app/integrations/risk_analysis/test_risk_analysis_validation.py",
          "tests/app/integrations/scheduler/impl/lite/jobstores/test_mongo.py",
          "tests/app/integrations/scheduler/impl/lite/test_job_delay_strategies.py",
          "tests/app/integrations/seller_stock_info/test_local_seller_product_info.py",
          "tests/app/repositories/test_base_repository.py",
          "tests/app/repositories/test_lead_repository.py",
          "tests/app/script/impl/python/test_functions.py",
          "tests/app/script/test_eql_script_engine.py",
          "tests/app/script/test_pyeval_script_engine.py",
          "tests/app/script/test_pyexec_script_engine.py",
          "tests/app/test_cdi.py",
          "tests/app/utils/datetime_test.py",
          "tests/app/utils/test_custom_log_anonymizer.py",
          "tests/app/utils/test_fields_cronformat.py",
          "tests/app/utils/test_fields_owner_sso_id.py",
          "tests/app/utils/test_fields_secret_base64str.py",
          "tests/app/workers/data_object_batch/tasks/test_data_object_batch_action_task.py",
          "tests/app/workers/data_object_batch/tasks/test_data_object_row_batch_action_task.py",
          "tests/app/workers/data_object_batch/test_data_object_batch_app.py",
          "tests/app/workers/freight/tasks/test_freight_task.py",
          "tests/app/workers/freight/test_freight_app.py",
          "tests/app/workers/lead/tasks/test_risk_analysis_response_task.py",
          "tests/app/workers/lead/test_lead_app.py",
          "tests/app/workers/netshoes/tasks/netshoes_lead_mapper/test_netshoes_bank.py",
          "tests/app/workers/netshoes/tasks/netshoes_lead_mapper/test_netshoes_company_address.py",
          "tests/app/workers/netshoes/tasks/netshoes_lead_mapper/test_netshoes_contact.py",
          "tests/app/workers/netshoes/tasks/test_netshoes_task.py",
          "tests/app/workers/netshoes/test_netshoes_app.py",
          "tests/app/workers/product/tasks/test_product_task.py",
          "tests/app/workers/product/test_product_app.py",
          "tests/app/workers/risk_analysis/test_request_risk_analysis_task.py",
          "tests/app/workers/risk_analysis/test_risk_analysis_app.py",
          "tests/app/workers/seller_account/tasks/test_process_seller_account.py",
          "tests/app/workers/seller_account/test_seller_account_app.py",
          "tests/app/workers/seller_contracts/tasks/test_ps_contract_task.py",
          "tests/app/workers/seller_contracts/tasks/test_sync_seller_contract_task.py",
          "tests/app/workers/seller_contracts/test_seller_contract_app.py",
          "tests/app/workers/seller_orders/tasks/test_marketplace_purchase_task.py",
          "tests/app/workers/seller_orders/tasks/test_notify_order_by_uuid_task.py",
          "tests/app/workers/seller_orders/tasks/test_seller_orders_task.py",
          "tests/app/workers/seller_orders/test_seller_orders_app.py",
          "tests/app/workers/test_app.py",
          "tests/app/workers/test_tasks.py",
          "tests/app/workers/webhook/tasks/test_data_object_merge_webhook_task.py",
          "tests/app/workers/webhook/tasks/test_webhook_global_task.py",
          "tests/app/workers/webhook/test_webhook_app.py",
          "tests/app/workers/workflow_retry/tasks/test_data_object_workflow_retry_task.py",
          "tests/app/workers/workflow_retry/test_workflow_retry_app.py",
          "tests/app/workers/workflow_wakeup/tasks/test_data_object_workflow_wakeup_task.py",
          "tests/app/workers/workflow_wakeup/test_workflow_wakeup_app.py",
          "tests/app/workflow/addons/test_workflow_wake_up.py",
          "tests/app/workflow/test_http_client.py",
          "tests/app/workflows/test_action_panel_workflow.py",
          "tests/app/workflows/test_anonymized_safe_workflow.py",
          "tests/app/workflows/test_assignment_engine.py",
          "tests/app/workflows/test_call_employees.py",
          "tests/app/workflows/test_communication_hub.py",
          "tests/app/workflows/test_freedom.py",
          "tests/app/workflows/test_freshdesk.py",
          "tests/app/workflows/test_helena.py",
          "tests/app/workflows/test_lead_workflow.py",
          "tests/app/workflows/test_legacy_callback.py",
          "tests/app/workflows/test_magalu_deliveries.py",
          "tests/app/workflows/test_mma.py",
          "tests/app/workflows/test_order3p_functionality_activation.py",
          "tests/app/workflows/test_pj_account.py",
          "tests/app/workflows/test_provision.py",
          "tests/app/workflows/test_seller_account.py",
          "tests/app/workflows/test_send_communication_messages.py",
          "tests/app/workflows/test_workflow_engine.py",
          "tests/app/workflows/test_zendesk_integration.py",
          "tests/commons/async_worker/test_application.py",
          "tests/commons/cache/storage/test_cache_storage.py",
          "tests/commons/cache/test_multilayer_cache.py",
          "tests/commons/lock/test_lock.py",
          "tests/conftest.py",
          "tests/fixtures/aioresponses.py",
          "tests/fixtures/asyncio.py",
          "tests/fixtures/backends/apigee_mock.py",
          "tests/fixtures/backends/babel_api_mock.py",
          "tests/fixtures/backends/client_v1_api_mock.py",
          "tests/fixtures/backends/communication_hub_api_mock.py",
          "tests/fixtures/backends/eddie_api_mock.py",
          "tests/fixtures/backends/employees_api_mock.py",
          "tests/fixtures/backends/freedom_api_mock.py",
          "tests/fixtures/backends/freight-seller-info.json",
          "tests/fixtures/backends/freight_api_mock.py",
          "tests/fixtures/backends/freshdesk_api_get_sucess.json",
          "tests/fixtures/backends/freshdesk_api_mock.py",
          "tests/fixtures/backends/freshdesk_api_post_sucess.json",
          "tests/fixtures/backends/helena_api_mock.py",
          "tests/fixtures/backends/idmagalu_mock.py",
          "tests/fixtures/backends/legacy_callback.py",
          "tests/fixtures/backends/maas-integra-api-id-magalu-test.json",
          "tests/fixtures/backends/maas_account_api_mock.py",
          "tests/fixtures/backends/maas_blocklist_api_mock.py",
          "tests/fixtures/backends/maas_integra_api_mock.py",
          "tests/fixtures/backends/maas_product_api_mock.py",
          "tests/fixtures/backends/maestro-order-common.json",
          "tests/fixtures/backends/maestro-order-not-found.json",
          "tests/fixtures/backends/maestro-order-test.json",
          "tests/fixtures/backends/maestro_api_mock.py",
          "tests/fixtures/backends/magalu_tax_api_mock.py",
          "tests/fixtures/backends/mma_api_mock.py",
          "tests/fixtures/backends/mp_security_mock.py",
          "tests/fixtures/backends/mp_sellers_api_mock.py",
          "tests/fixtures/backends/open_id_api_mock.py",
          "tests/fixtures/backends/order3p_api_mock.py",
          "tests/fixtures/backends/p52-cart-common.json",
          "tests/fixtures/backends/p52-cart-token.json",
          "tests/fixtures/backends/p52-cart-token_invalid_client.json",
          "tests/fixtures/backends/p52-cart-with-client-and-freight.json",
          "tests/fixtures/backends/p52-shipping-calc-cart-unavailable.json",
          "tests/fixtures/backends/p52-shipping-calc-cart.json",
          "tests/fixtures/backends/p52_api_mock.py",
          "tests/fixtures/backends/p52_close_cart_order.json",
          "tests/fixtures/backends/pj_account_creation_mock.py",
          "tests/fixtures/backends/product-validation-approved.json",
          "tests/fixtures/backends/product-validation-autoreprove.json",
          "tests/fixtures/backends/product-validation-reproved.json",
          "tests/fixtures/backends/provision_api_mock.py",
          "tests/fixtures/backends/ps_contract_api_mock.py",
          "tests/fixtures/backends/ps_onboarding_analytics_backend.py",
          "tests/fixtures/backends/sebastian-post-v1-lead-create-success.json",
          "tests/fixtures/backends/sebastian_api_mock.py",
          "tests/fixtures/backends/seller-account-no-ii.json",
          "tests/fixtures/backends/seller-account.json",
          "tests/fixtures/backends/seller-orders.json",
          "tests/fixtures/backends/zendesk_api_mock.py",
          "tests/fixtures/backends/zendesk_ticket_create_success.json",
          "tests/fixtures/businesses.py",
          "tests/fixtures/cdi.py",
          "tests/fixtures/commons.py",
          "tests/fixtures/domains/batch_data_object.py",
          "tests/fixtures/domains/change_history.py",
          "tests/fixtures/domains/contact.py",
          "tests/fixtures/domains/data_object_helper.py",
          "tests/fixtures/domains/definition.py",
          "tests/fixtures/domains/integration_platform.py",
          "tests/fixtures/domains/integration_platforms_data.json",
          "tests/fixtures/domains/lead.py",
          "tests/fixtures/domains/lead_service.py",
          "tests/fixtures/domains/user.py",
          "tests/fixtures/domains/vault.py",
          "tests/fixtures/domains/virtual_actions.py",
          "tests/fixtures/domains/workflow.py",
          "tests/fixtures/google_pubsub.py",
          "tests/fixtures/kafka.py",
          "tests/fixtures/migrations.py",
          "tests/fixtures/mongo.py",
          "tests/fixtures/netshoes_seller_payloads.py",
          "tests/fixtures/open_id_fixture.py",
          "tests/fixtures/pubsub.py",
          "tests/fixtures/repositories.py",
          "tests/fixtures/sebastian_token.py",
          "tests/fixtures/settings.py",
          "tests/hopdb/index/test_btree.py",
          "tests/hopdb/test_collection_storage.py",
          "tests/hopdb/test_correlation_table.py",
          "tests/hopdb/test_sequence.py",
          "tests/lib/common/encoder/test_safe_pickle.py",
          "tests/lib/common/fields/test_fields_pytimezone.py",
          "tests/lib/common/object_storage/test_object_storage.py",
          "tests/lib/dict/anonymize/test_anonymize_dict.py",
          "tests/lib/dict/diff/test_deep_dict_diff.py",
          "tests/lib/dict/diff/test_simple_dict_diff.py",
          "tests/utils/builders/domain/__init__.py",
          "tests/utils/builders/domain/user_builder.py",
          "tests/utils/constants.py",
          "tests/utils/context.py",
          "tests/utils/threading.py",
          "tests/utils/universe_form.py",
          "tests/utils/workflows.py",
          "webhook_worker.py",
          "workflow_retry_worker.py",
          "workflow_wakeup_worker.py",
          null,
          ".devcontainer",
          ".gitlab",
          ".gitlab/merge_request_templates",
          "analytics",
          "analytics/apis",
          "analytics/apis/fastapi",
          "analytics/apis/fastapi/routes",
          "analytics/business",
          "analytics/config",
          "analytics/dto",
          "analytics/integrations",
          "analytics/repository",
          "analytics/standalone",
          "analytics/standalone/pages",
          "analytics/utils",
          "analytics/workers",
          "analytics/workers/lead_incremental_indexer",
          "app",
          "app/apis",
          "app/apis/common",
          "app/apis/fastapi",
          "app/apis/fastapi/configs",
          "app/apis/fastapi/routes",
          "app/businesses",
          "app/businesses/core",
          "app/businesses/core/data_object",
          "app/businesses/exceptions",
          "app/businesses/handlers",
          "app/businesses/observers",
          "app/businesses/observers/magalu",
          "app/businesses/observers/magalu/dtos",
          "app/businesses/observers/magalu/test_purchase",
          "app/businesses/securitys",
          "app/commons",
          "app/commons/async_worker",
          "app/commons/async_worker/pool",
          "app/commons/async_worker/tasks",
          "app/commons/cache",
          "app/commons/cache/impl",
          "app/commons/cache/impl/serializer",
          "app/commons/cache/impl/storage",
          "app/commons/cache/impl/storage/internal",
          "app/commons/cache/impl/storage/remote",
          "app/commons/cache/sdk",
          "app/commons/eventbus",
          "app/commons/http",
          "app/commons/lock",
          "app/commons/mapping",
          "app/commons/pubsub",
          "app/commons/translations",
          "app/commons/translations/pydantic",
          "app/configs",
          "app/domains",
          "app/dtos",
          "app/eventbus",
          "app/eventbus/events",
          "app/integrations",
          "app/integrations/backends",
          "app/integrations/backends/apigee",
          "app/integrations/backends/blocklist",
          "app/integrations/backends/client_v1_api",
          "app/integrations/backends/communication_hub_api",
          "app/integrations/backends/helena_api",
          "app/integrations/backends/id_magalu",
          "app/integrations/backends/maas_integra_api",
          "app/integrations/backends/maas_products_api",
          "app/integrations/backends/maestro",
          "app/integrations/backends/magalu_tax",
          "app/integrations/backends/mp_security",
          "app/integrations/backends/mp_seller_api",
          "app/integrations/backends/open_id",
          "app/integrations/backends/p52_api",
          "app/integrations/backends/ps_account",
          "app/integrations/backends/ps_contract_api",
          "app/integrations/backends/ps_onboarding_analytics",
          "app/integrations/backends/ps_order3p_api",
          "app/integrations/backends/sebastian_api",
          "app/integrations/backends/zendesk_api",
          "app/integrations/datalake",
          "app/integrations/datalake/backends",
          "app/integrations/datalake/backends/tetrix_kafka",
          "app/integrations/db",
          "app/integrations/db/mongo",
          "app/integrations/pubsub",
          "app/integrations/pubsub/google_pubsub",
          "app/integrations/pubsub/kafka",
          "app/integrations/risk_analysis",
          "app/integrations/risk_analysis/fake",
          "app/integrations/risk_analysis/zaig",
          "app/integrations/scheduler",
          "app/integrations/scheduler/impl",
          "app/integrations/scheduler/impl/lite",
          "app/integrations/scheduler/impl/lite/executors",
          "app/integrations/scheduler/impl/lite/jobstores",
          "app/integrations/seller_product_info",
          "app/lazy",
          "app/pubsub",
          "app/pubsub/messages",
          "app/repositories",
          "app/script",
          "app/script/impl",
          "app/script/impl/python",
          "app/utils",
          "app/utils/logging",
          "app/workers",
          "app/workers/data_object_batch",
          "app/workers/data_object_batch/batch_handlers",
          "app/workers/data_object_batch/handlers",
          "app/workers/data_object_batch/tasks",
          "app/workers/freight",
          "app/workers/freight/tasks",
          "app/workers/lead",
          "app/workers/lead/tasks",
          "app/workers/netshoes",
          "app/workers/netshoes/tasks",
          "app/workers/netshoes/tasks/models",
          "app/workers/product",
          "app/workers/product/tasks",
          "app/workers/risk_analysis",
          "app/workers/risk_analysis/tasks",
          "app/workers/sebastian_integration",
          "app/workers/seller_account",
          "app/workers/seller_account/tasks",
          "app/workers/seller_contract",
          "app/workers/seller_contract/tasks",
          "app/workers/seller_orders",
          "app/workers/seller_orders/tasks",
          "app/workers/tags",
          "app/workers/tags/tasks",
          "app/workers/webhook",
          "app/workers/webhook/tasks",
          "app/workers/webhook/tasks/webhook_global",
          "app/workers/webhook/tasks/webhook_global/sdk",
          "app/workers/workflow_retry",
          "app/workers/workflow_retry/tasks",
          "app/workers/workflow_wakeup",
          "app/workers/workflow_wakeup/tasks",
          "app/workflow",
          "app/workflow/addons",
          "app/workflow/retry",
          "app/workflow/runners",
          "devtools",
          "devtools/action_scripts",
          "devtools/action_scripts/gui",
          "devtools/action_scripts/troubleshoot",
          "devtools/action_scripts/universe_cards",
          "devtools/action_scripts/universe_form",
          "devtools/action_scripts/update",
          "devtools/action_scripts/voip_service",
          "devtools/argocd",
          "devtools/cicd",
          "devtools/migration_scripts",
          "devtools/mongo",
          "devtools/pocs",
          "devtools/scripts",
          "docs",
          "docs/svgs",
          "docs/universe_form",
          "hopdb",
          "hopdb/collection_storage",
          "hopdb/correlation_table",
          "hopdb/document_encoder",
          "hopdb/index",
          "hopdb/thirdparty",
          "lib",
          "lib/cdi",
          "lib/common",
          "lib/common/constants",
          "lib/common/encoder",
          "lib/common/fastapi",
          "lib/common/fields",
          "lib/common/file",
          "lib/common/lock",
          "lib/common/mapping",
          "lib/common/object_storage",
          "lib/common/redis_channel",
          "lib/dict",
          "lib/dict/anonymize",
          "lib/dict/diff",
          "lib/dict/dotnotation",
          "lib/dict/patch",
          "lib/logging",
          "migrations",
          "migrations/utils",
          "migrations_util",
          "requirements",
          "tests",
          "tests/analytics",
          "tests/analytics/apis",
          "tests/analytics/apis/fastapi",
          "tests/analytics/apis/fastapi/routes",
          "tests/analytics/business",
          "tests/analytics/fixtures",
          "tests/analytics/fixtures/dataset",
          "tests/app",
          "tests/app/actions",
          "tests/app/apis",
          "tests/app/apis/fastapi",
          "tests/app/apis/fastapi/routes",
          "tests/app/business_rule",
          "tests/app/business_rule/universe_form",
          "tests/app/businesses",
          "tests/app/businesses/handlers",
          "tests/app/businesses/observers",
          "tests/app/businesses/observers/magalu",
          "tests/app/domains",
          "tests/app/integrations",
          "tests/app/integrations/backends",
          "tests/app/integrations/backends/sebastian_api",
          "tests/app/integrations/datalake",
          "tests/app/integrations/datalake/backends",
          "tests/app/integrations/datalake/backends/tetrix_kafka",
          "tests/app/integrations/datalake/backends/tetrix_kafka/handlers",
          "tests/app/integrations/db",
          "tests/app/integrations/db/mongo",
          "tests/app/integrations/pubsub",
          "tests/app/integrations/pubsub/encoder",
          "tests/app/integrations/pubsub/kafka",
          "tests/app/integrations/risk_analysis",
          "tests/app/integrations/scheduler",
          "tests/app/integrations/scheduler/impl",
          "tests/app/integrations/scheduler/impl/lite",
          "tests/app/integrations/scheduler/impl/lite/jobstores",
          "tests/app/integrations/seller_stock_info",
          "tests/app/repositories",
          "tests/app/script",
          "tests/app/script/impl",
          "tests/app/script/impl/python",
          "tests/app/utils",
          "tests/app/workers",
          "tests/app/workers/data_object_batch",
          "tests/app/workers/data_object_batch/tasks",
          "tests/app/workers/freight",
          "tests/app/workers/freight/tasks",
          "tests/app/workers/lead",
          "tests/app/workers/lead/tasks",
          "tests/app/workers/netshoes",
          "tests/app/workers/netshoes/tasks",
          "tests/app/workers/netshoes/tasks/netshoes_lead_mapper",
          "tests/app/workers/product",
          "tests/app/workers/product/tasks",
          "tests/app/workers/risk_analysis",
          "tests/app/workers/seller_account",
          "tests/app/workers/seller_account/tasks",
          "tests/app/workers/seller_contracts",
          "tests/app/workers/seller_contracts/tasks",
          "tests/app/workers/seller_orders",
          "tests/app/workers/seller_orders/tasks",
          "tests/app/workers/webhook",
          "tests/app/workers/webhook/tasks",
          "tests/app/workers/workflow_retry",
          "tests/app/workers/workflow_retry/tasks",
          "tests/app/workers/workflow_wakeup",
          "tests/app/workers/workflow_wakeup/tasks",
          "tests/app/workflow",
          "tests/app/workflow/addons",
          "tests/app/workflows",
          "tests/commons",
          "tests/commons/async_worker",
          "tests/commons/cache",
          "tests/commons/cache/storage",
          "tests/commons/lock",
          "tests/fixtures",
          "tests/fixtures/backends",
          "tests/fixtures/domains",
          "tests/hopdb",
          "tests/hopdb/index",
          "tests/lib",
          "tests/lib/common",
          "tests/lib/common/encoder",
          "tests/lib/common/fields",
          "tests/lib/common/object_storage",
          "tests/lib/dict",
          "tests/lib/dict/anonymize",
          "tests/lib/dict/diff",
          "tests/utils",
          "tests/utils/builders",
          "tests/utils/builders/domain"
         ],
         "marker": {
          "coloraxis": "coloraxis",
          "colors": [
           1,
           1,
           0.95,
           0.94,
           1,
           1,
           1,
           0.97,
           0.99,
           1,
           1,
           1,
           0.85,
           1,
           1,
           1,
           1,
           1,
           1,
           0.81,
           1,
           0.72,
           1,
           1,
           1,
           1,
           0.93,
           1,
           1,
           1,
           0.85,
           0.48,
           1,
           0.73,
           1,
           0.89,
           0.6,
           1,
           0.55,
           1,
           0.98,
           0.93,
           0.66,
           0.88,
           1,
           0.78,
           0.99,
           1,
           1,
           1,
           1,
           1,
           0.8,
           0.59,
           0.97,
           0.56,
           1,
           0.35,
           0.87,
           1,
           1,
           1,
           1,
           1,
           0.6,
           0.62,
           0.99,
           0.9,
           1,
           1,
           1,
           1,
           1,
           0.76,
           0.8,
           0.39,
           0.46,
           0.6,
           0.77,
           1,
           0.5,
           1,
           1,
           1,
           0.82,
           1,
           1,
           0.87,
           0.94,
           0.92,
           1,
           0.67,
           1,
           1,
           1,
           0.52,
           1,
           1,
           1,
           0.52,
           0.43,
           0.7,
           0.82,
           0.6,
           0.59,
           0.75,
           0.99,
           0.85,
           0.57,
           0.42,
           0.75,
           1,
           0.99,
           0.87,
           0.53,
           1,
           0.88,
           0.7,
           1,
           1,
           1,
           1,
           1,
           1,
           1,
           0.82,
           0.99,
           1,
           1,
           0.92,
           0.59,
           1,
           0.63,
           0.97,
           0.55,
           0.76,
           1,
           0.46,
           1,
           0.99,
           1,
           0.45,
           1,
           0.76,
           0.95,
           1,
           0.97,
           0.6,
           1,
           1,
           1,
           0.83,
           1,
           1,
           1,
           0.96,
           1,
           0.65,
           1,
           1,
           1,
           1,
           1,
           1,
           0.78,
           0.56,
           1,
           1,
           1,
           1,
           1,
           1,
           1,
           1,
           1,
           0.45,
           0.66,
           0.91,
           0.53,
           0.73,
           1,
           1,
           0.98,
           0.83,
           0.79,
           0.95,
           1,
           1,
           1,
           0.55,
           1,
           0.57,
           0.9,
           0.59,
           0.67,
           1,
           1,
           1,
           1,
           0.5,
           0.96,
           0.38,
           0.97,
           0.98,
           0.96,
           0.92,
           0.92,
           1,
           0.97,
           0.97,
           0.47,
           0.59,
           1,
           0.29,
           1,
           0.55,
           0.65,
           0.93,
           0,
           0.93,
           0.68,
           0.77,
           0.9,
           1,
           1,
           1,
           1,
           1,
           1,
           1,
           1,
           1,
           0.74,
           1,
           0.79,
           0.56,
           1,
           1,
           0.88,
           1,
           1,
           1,
           0.65,
           0.73,
           1,
           0.7,
           0.5,
           1,
           1,
           1,
           0.68,
           1,
           1,
           1,
           1,
           1,
           1,
           1,
           0.93,
           0,
           1,
           1,
           0.99,
           1,
           1,
           1,
           1,
           1,
           1,
           1,
           1,
           1,
           1,
           1,
           1,
           1,
           1,
           1,
           1,
           1,
           1,
           1,
           1,
           1,
           1,
           1,
           1,
           1,
           1,
           1,
           1,
           1,
           1,
           1,
           1,
           1,
           1,
           1,
           1,
           1,
           1,
           1,
           0.99,
           1,
           1,
           1,
           1,
           1,
           1,
           1,
           1,
           1,
           1,
           1,
           1,
           0.97,
           1,
           0.96,
           0.88,
           1,
           1,
           1,
           1,
           0.98,
           0.98,
           0.98,
           0.98,
           0.98,
           0.98,
           0.98,
           0.64,
           0.95,
           1,
           0.69,
           1,
           0.99,
           0.97,
           0.79,
           1,
           1,
           1,
           1,
           1,
           0.77,
           1,
           0.9,
           0.98,
           1,
           1,
           1,
           1,
           1,
           1,
           1,
           1,
           1,
           0.75,
           1,
           0.99,
           0.99,
           1,
           0.98,
           1,
           1,
           0.99,
           1,
           0.91,
           1,
           1,
           0.97,
           1,
           0.98,
           1,
           1,
           0.63,
           1,
           0.99,
           0.99,
           0.98,
           1,
           0.98,
           0.98,
           0.99,
           0.97,
           1,
           1,
           1,
           1,
           1,
           0.99,
           0.99,
           0.93,
           0.94,
           1,
           1,
           0.99,
           0.9,
           0.6,
           1,
           1,
           0.99,
           1,
           0.98,
           1,
           1,
           0.96,
           1,
           1,
           1,
           0.98,
           0.94,
           1,
           0.57,
           0.5,
           0.99,
           0.99,
           0.99,
           0.97,
           0.96,
           1,
           0.99,
           1,
           0.99,
           0.93,
           1,
           0.67,
           0.89,
           0.98,
           1,
           0.98,
           1,
           1,
           0.98,
           1,
           0.98,
           0.95,
           1,
           0.94,
           0.61,
           0.97,
           1,
           0.96,
           0.57,
           0.97,
           0.77,
           1,
           0.62,
           0.75,
           0.99,
           1,
           1,
           1,
           1,
           1,
           0.99,
           1,
           1,
           0.99,
           1,
           0.96,
           1,
           1,
           1,
           1,
           1,
           1,
           1,
           0.97,
           1,
           1,
           1,
           1,
           1,
           1,
           0.7,
           0.58,
           1,
           0.77,
           1,
           0.9,
           1,
           1,
           1,
           1,
           1,
           1,
           1,
           1,
           1,
           1,
           0.81,
           1,
           1,
           1,
           1,
           1,
           1,
           1,
           1,
           1,
           1,
           1,
           1,
           1,
           1,
           1,
           1,
           1,
           1,
           1,
           1,
           1,
           1,
           1,
           1,
           1,
           1,
           1,
           1,
           1,
           1,
           1,
           1,
           1,
           1,
           1,
           1,
           0,
           0.72,
           1,
           1,
           1,
           1,
           1,
           1,
           1,
           1,
           1,
           1,
           1,
           1,
           1,
           1,
           1,
           1,
           1,
           1,
           1,
           1,
           1,
           1,
           1,
           0.91,
           1,
           0.94,
           1,
           1,
           1,
           1,
           1,
           1,
           1,
           1,
           0.46,
           1,
           1,
           0.76,
           1,
           1,
           1,
           1,
           1,
           1,
           1,
           1,
           1,
           1,
           1,
           1,
           1,
           0.73,
           0.66,
           1,
           1,
           0.76,
           1,
           0.77,
           0.85,
           0.78,
           0.46,
           1,
           0.84,
           0.34,
           0,
           0.28,
           0.83,
           0.56,
           0.48,
           0.89,
           0.95,
           0.7,
           1,
           1,
           0.92,
           1,
           1,
           1,
           1,
           1,
           1,
           1,
           1,
           1,
           1,
           1,
           1,
           1,
           1,
           1,
           1,
           1,
           1,
           1,
           1,
           1,
           1,
           1,
           1,
           0.53,
           0.95,
           0.63,
           0.99,
           0.99,
           1,
           1,
           1,
           1,
           1,
           1,
           1,
           1,
           0.84,
           0.98,
           1,
           1,
           1,
           1,
           0.87,
           1,
           1,
           1,
           1,
           1,
           1,
           1,
           1,
           1,
           1,
           1,
           1,
           0.64,
           1,
           1,
           1,
           1,
           1,
           1,
           1,
           1,
           1,
           0.66,
           0.58,
           1,
           1,
           0.61,
           1,
           0.97,
           0.64,
           0.6,
           1,
           0.85,
           0.67,
           0.63,
           1,
           0.99,
           1,
           1,
           0.75,
           0.62,
           0.5,
           0.68,
           0.84,
           1,
           0.75,
           0.85,
           1,
           1,
           0.64,
           0.82,
           0.93,
           1,
           1,
           1,
           0.53,
           0.8,
           1,
           1,
           1,
           1,
           0.72,
           0.66,
           0.9,
           0.55,
           0.56,
           1,
           1,
           1,
           1,
           0.91,
           0.92,
           0.68,
           1,
           0.82,
           0.65,
           0.9,
           0.96,
           1,
           1,
           1,
           1,
           0.86,
           0.97,
           0.59,
           0.75,
           0.67,
           0.52,
           0.93,
           0,
           0.44,
           0.76,
           0.78,
           0,
           1,
           1,
           0.51,
           1,
           0.46,
           1,
           1,
           0.39,
           1,
           1,
           0.54,
           1,
           1,
           1,
           1,
           1,
           1,
           1,
           1,
           0.5,
           1,
           1,
           1,
           0.7,
           0.78,
           1,
           1,
           0.67,
           1,
           0.98,
           0.6,
           1,
           0.88,
           0.91,
           0.71,
           0.82,
           0.91,
           1,
           1,
           0.45,
           0.95,
           1,
           0.82,
           0.92,
           1,
           0.6,
           0.97,
           0.49,
           0.83,
           1,
           0.85,
           0.58,
           0.34,
           0.65,
           1,
           0.45,
           1,
           0.54,
           1,
           1,
           0.58,
           1,
           0.52,
           0.89,
           1,
           0.93,
           0.28,
           1,
           1,
           1,
           1,
           1,
           1,
           0.84,
           1,
           0.67,
           1,
           1,
           1,
           1,
           1,
           0.86,
           0.92,
           0.96,
           0.89,
           1,
           1,
           1,
           1,
           1,
           1,
           0.98,
           1,
           0.86,
           1,
           0.73,
           0.96,
           0.71,
           1,
           0.9,
           1,
           1,
           0.65,
           1,
           1,
           1,
           1,
           0.77,
           1,
           0.56,
           0.63,
           1,
           1,
           1,
           1,
           1,
           1,
           1,
           0.67,
           1,
           1,
           1,
           1,
           1,
           0.89,
           1,
           1,
           0.45,
           0.5,
           1,
           1,
           1,
           1,
           0.9,
           0.94,
           0.86,
           0.86,
           1,
           1,
           1,
           0.64,
           1,
           1,
           1,
           1,
           1,
           0.52,
           0.8,
           1,
           1,
           0.48,
           0.39,
           0.75,
           1,
           1,
           1,
           1,
           0.96,
           1,
           0.97,
           1,
           1,
           0.9,
           1,
           0.92,
           0.99,
           0.85,
           1,
           1,
           1,
           0.75,
           0.76,
           0.87,
           0.91,
           0.62,
           1,
           0.53,
           0.38,
           0.54,
           0.69,
           0.98,
           0.73,
           0.58,
           1,
           1,
           1,
           1,
           1,
           1,
           1,
           1,
           0,
           1,
           0,
           0.6,
           0.96,
           0.36,
           1,
           1,
           0.71,
           1,
           1,
           1,
           0.4,
           1,
           0.5,
           1,
           1,
           1,
           0.63,
           1,
           0.98,
           0.81,
           0.55,
           0.93,
           1,
           1,
           0.55,
           1,
           0.76,
           1,
           0.96,
           0.74,
           0,
           0.74,
           0.88,
           0.48,
           1,
           0.85,
           1,
           1,
           0.35,
           1,
           0.99,
           0.4,
           0.89,
           1,
           0.67,
           1,
           0.96,
           0.98,
           1,
           1,
           0.91,
           1,
           0.62,
           0.9,
           1,
           1,
           0.43,
           0.92,
           0.6,
           0.86,
           0.5,
           1,
           1,
           1,
           1,
           1,
           1,
           0.4,
           0.81,
           1,
           1,
           1,
           0.84,
           0.72,
           0.5,
           0.92,
           1,
           1,
           1,
           0.67,
           1,
           1,
           1,
           1,
           1,
           0.48,
           0.96,
           1,
           1,
           1,
           0,
           1,
           1,
           1,
           1,
           1,
           1,
           1,
           1,
           0.86,
           0.93,
           0.91,
           0.61,
           0.64,
           0.54,
           0.74,
           1,
           0.44,
           0.97,
           0,
           1,
           1,
           0.84,
           0.46,
           0.76,
           0.54,
           0.98,
           1,
           1,
           0.68,
           1,
           0.36,
           1,
           0.92,
           0.53,
           0.96,
           1,
           0.84,
           0.95,
           0.87,
           0.5,
           1,
           0.88,
           0.97,
           1,
           1,
           1,
           1,
           1,
           1,
           0.41,
           0.91,
           0.92,
           0.88,
           1,
           0.72,
           0.64,
           1,
           1,
           1,
           1,
           0.89,
           0.4,
           0.71,
           0.36,
           0.4,
           0.9,
           1,
           0.99,
           0.82,
           1,
           1,
           0.69,
           0.68,
           0.58,
           0.79,
           1,
           1,
           1,
           0.92,
           1,
           0.52,
           0.79,
           0.37,
           0.83,
           0.83,
           0.94,
           0.72,
           0.34,
           0.98,
           1,
           1,
           0.61,
           0.94,
           0.7,
           0.89,
           0.56,
           0.86,
           0.73,
           0.83,
           1,
           0.82,
           1,
           0.98,
           1,
           0.83,
           0.74,
           1,
           1,
           1,
           0.52,
           1,
           1,
           1,
           1,
           1,
           1,
           1,
           1,
           1,
           1,
           1,
           1,
           1,
           1,
           1,
           1,
           1,
           1,
           1,
           1,
           1,
           1,
           1,
           1,
           1,
           1,
           1,
           1,
           1,
           1,
           1,
           1,
           1,
           1,
           1,
           1,
           1,
           1,
           0,
           0.73,
           0.48,
           1,
           1,
           0.99,
           0.93,
           1,
           1,
           1,
           1,
           1,
           1,
           0.57,
           0.88,
           1,
           1,
           1,
           0.94,
           1,
           1,
           null,
           null,
           null,
           null,
           null,
           null,
           null,
           null,
           null,
           null,
           null,
           null,
           null,
           null,
           null,
           null,
           null,
           null,
           null,
           null,
           null,
           null,
           null,
           null,
           null,
           null,
           null,
           null,
           null,
           null,
           null,
           null,
           null,
           null,
           null,
           null,
           null,
           null,
           null,
           null,
           null,
           null,
           null,
           null,
           null,
           null,
           null,
           null,
           null,
           null,
           null,
           null,
           null,
           null,
           null,
           null,
           null,
           null,
           null,
           null,
           null,
           null,
           null,
           null,
           null,
           null,
           null,
           null,
           null,
           null,
           null,
           null,
           null,
           null,
           null,
           null,
           null,
           null,
           null,
           null,
           null,
           null,
           null,
           null,
           null,
           null,
           null,
           null,
           null,
           null,
           null,
           null,
           null,
           null,
           null,
           null,
           null,
           null,
           null,
           null,
           null,
           null,
           null,
           null,
           null,
           null,
           null,
           null,
           null,
           null,
           null,
           null,
           null,
           null,
           null,
           null,
           null,
           null,
           null,
           null,
           null,
           null,
           null,
           null,
           null,
           null,
           null,
           null,
           null,
           null,
           null,
           null,
           null,
           null,
           null,
           null,
           null,
           null,
           null,
           null,
           null,
           null,
           null,
           null,
           null,
           null,
           null,
           null,
           null,
           null,
           null,
           null,
           null,
           null,
           null,
           null,
           null,
           null,
           null,
           null,
           null,
           null,
           null,
           null,
           null,
           null,
           null,
           null,
           null,
           null,
           null,
           null,
           null,
           null,
           null,
           null,
           null,
           null,
           null,
           null,
           null,
           null,
           null,
           null,
           null,
           null,
           null,
           null,
           null,
           null,
           null,
           null,
           null,
           null,
           null,
           null,
           null,
           null,
           null,
           null,
           null,
           null,
           null,
           null,
           null,
           null,
           null,
           null,
           null,
           null,
           null,
           null,
           null,
           null,
           null,
           null,
           null,
           null,
           null,
           null,
           null,
           null,
           null,
           null,
           null,
           null,
           null,
           null,
           null,
           null,
           null,
           null,
           null,
           null,
           null,
           null,
           null,
           null,
           null,
           null,
           null,
           null,
           null,
           null,
           null,
           null,
           null,
           null,
           null,
           null,
           null,
           null,
           null,
           null,
           null,
           null,
           null,
           null,
           null,
           null,
           null,
           null,
           null,
           null,
           null,
           null,
           null,
           null,
           null,
           null,
           null,
           null,
           null,
           null,
           null,
           null,
           null,
           null,
           null,
           null,
           null,
           null,
           null,
           null,
           null,
           null,
           null,
           null,
           null,
           null,
           null,
           null,
           null,
           null,
           null,
           null,
           null,
           null,
           null,
           null,
           null,
           null,
           null,
           null,
           null,
           null,
           null,
           null,
           null,
           null,
           null,
           null,
           null,
           null,
           null,
           null,
           null,
           null,
           null,
           null,
           null,
           null,
           null,
           null,
           null,
           null,
           null,
           null,
           null,
           null,
           null,
           null,
           null,
           null,
           null
          ]
         },
         "name": "",
         "parents": [
          null,
          null,
          ".devcontainer",
          ".devcontainer",
          ".devcontainer",
          ".devcontainer",
          null,
          null,
          null,
          ".gitlab/merge_request_templates",
          ".gitlab/merge_request_templates",
          ".gitlab/merge_request_templates",
          ".gitlab/merge_request_templates",
          ".gitlab/merge_request_templates",
          null,
          null,
          null,
          null,
          null,
          null,
          null,
          "analytics",
          "analytics/apis/fastapi",
          "analytics/apis/fastapi/routes",
          "analytics/apis/fastapi/routes",
          "analytics/apis/fastapi/routes",
          "analytics",
          "analytics/business",
          "analytics/business",
          "analytics/business",
          "analytics/business",
          "analytics",
          "analytics/config",
          "analytics/config",
          "analytics/dto",
          "analytics/dto",
          "analytics/integrations",
          "analytics/integrations",
          "analytics/integrations",
          "analytics/repository",
          "analytics/repository",
          "analytics/repository",
          "analytics/standalone",
          "analytics/standalone/pages",
          "analytics/standalone/pages",
          "analytics/standalone/pages",
          "analytics/standalone",
          "analytics/utils",
          "analytics/utils",
          "analytics/utils",
          "analytics/utils",
          "analytics/workers",
          "analytics/workers/lead_incremental_indexer",
          "analytics/workers/lead_incremental_indexer",
          "analytics/workers/lead_incremental_indexer",
          "analytics/workers/lead_incremental_indexer",
          "analytics/workers/lead_incremental_indexer",
          "analytics/workers/lead_incremental_indexer",
          null,
          null,
          null,
          "app",
          "app/apis/common",
          "app/apis/fastapi",
          "app/apis/fastapi",
          "app/apis/fastapi/configs",
          "app/apis/fastapi/configs",
          "app/apis/fastapi/configs",
          "app/apis/fastapi/configs",
          "app/apis/fastapi",
          "app/apis/fastapi/routes",
          "app/apis/fastapi/routes",
          "app/apis/fastapi/routes",
          "app/apis/fastapi/routes",
          "app/apis/fastapi/routes",
          "app/apis/fastapi/routes",
          "app/apis/fastapi/routes",
          "app/apis/fastapi/routes",
          "app/apis/fastapi/routes",
          "app/apis/fastapi/routes",
          "app/apis/fastapi/routes",
          "app/apis/fastapi/routes",
          "app/apis/fastapi/routes",
          "app/apis/fastapi/routes",
          "app/apis/fastapi/routes",
          "app/apis/fastapi/routes",
          "app/apis/fastapi/routes",
          "app/apis/fastapi/routes",
          "app/apis/fastapi/routes",
          "app/apis/fastapi/routes",
          "app/apis/fastapi/routes",
          "app/apis/fastapi/routes",
          "app/businesses",
          "app/businesses",
          "app/businesses",
          "app/businesses",
          "app/businesses",
          "app/businesses",
          "app/businesses",
          "app/businesses",
          "app/businesses",
          "app/businesses",
          "app/businesses",
          "app/businesses",
          "app/businesses",
          "app/businesses/core/data_object",
          "app/businesses",
          "app/businesses",
          "app/businesses/exceptions",
          "app/businesses/exceptions",
          "app/businesses/exceptions",
          "app/businesses/exceptions",
          "app/businesses/exceptions",
          "app/businesses/exceptions",
          "app/businesses/exceptions",
          "app/businesses/exceptions",
          "app/businesses/exceptions",
          "app/businesses/exceptions",
          "app/businesses/exceptions",
          "app/businesses/exceptions",
          "app/businesses/exceptions",
          "app/businesses/exceptions",
          "app/businesses/exceptions",
          "app/businesses/exceptions",
          "app/businesses",
          "app/businesses/handlers",
          "app/businesses/handlers",
          "app/businesses/handlers",
          "app/businesses",
          "app/businesses",
          "app/businesses",
          "app/businesses",
          "app/businesses",
          "app/businesses",
          "app/businesses",
          "app/businesses",
          "app/businesses",
          "app/businesses",
          "app/businesses",
          "app/businesses/observers",
          "app/businesses/observers",
          "app/businesses/observers",
          "app/businesses/observers",
          "app/businesses/observers/magalu",
          "app/businesses/observers/magalu/dtos",
          "app/businesses/observers/magalu",
          "app/businesses/observers/magalu",
          "app/businesses/observers/magalu/test_purchase",
          "app/businesses/observers",
          "app/businesses/observers",
          "app/businesses/observers",
          "app/businesses",
          "app/businesses",
          "app/businesses",
          "app/businesses/securitys",
          "app/businesses/securitys",
          "app/businesses",
          "app/businesses",
          "app/businesses",
          "app/businesses",
          "app/businesses",
          "app/businesses",
          "app",
          "app/commons",
          "app/commons/async_worker",
          "app/commons/async_worker",
          "app/commons/async_worker/pool",
          "app/commons/async_worker/pool",
          "app/commons/async_worker/pool",
          "app/commons/async_worker/tasks",
          "app/commons/async_worker/tasks",
          "app/commons/async_worker",
          "app/commons/cache",
          "app/commons/cache/impl",
          "app/commons/cache/impl/serializer",
          "app/commons/cache/impl/serializer",
          "app/commons/cache/impl/storage/internal",
          "app/commons/cache/impl/storage/internal",
          "app/commons/cache/impl/storage/remote",
          "app/commons/cache/impl/storage/remote",
          "app/commons/cache/sdk",
          "app/commons/cache/sdk",
          "app/commons/cache/sdk",
          "app/commons/cache/sdk",
          "app/commons",
          "app/commons",
          "app/commons",
          "app/commons/eventbus",
          "app/commons/eventbus",
          "app/commons/eventbus",
          "app/commons/eventbus",
          "app/commons",
          "app/commons",
          "app/commons/http",
          "app/commons/http",
          "app/commons/http",
          "app/commons/lock",
          "app/commons/lock",
          "app/commons/lock",
          "app/commons/lock",
          "app/commons/mapping",
          "app/commons",
          "app/commons",
          "app/commons",
          "app/commons/pubsub",
          "app/commons/pubsub",
          "app/commons",
          "app/commons",
          "app/commons/translations/pydantic",
          "app/commons/translations/pydantic",
          "app/configs",
          "app/configs",
          "app/configs",
          "app/configs",
          "app/domains",
          "app/domains",
          "app/domains",
          "app/domains",
          "app/domains",
          "app/domains",
          "app/domains",
          "app/domains",
          "app/domains",
          "app/domains",
          "app/domains",
          "app/domains",
          "app/domains",
          "app/domains",
          "app/domains",
          "app/domains",
          "app/domains",
          "app/domains",
          "app/domains",
          "app/domains",
          "app/domains",
          "app/domains",
          "app/domains",
          "app/domains",
          "app/domains",
          "app/domains",
          "app/dtos",
          "app/dtos",
          "app/dtos",
          "app/dtos",
          "app/dtos",
          "app/dtos",
          "app/dtos",
          "app/dtos",
          "app/dtos",
          "app/dtos",
          "app/dtos",
          "app/dtos",
          "app/dtos",
          "app/dtos",
          "app/dtos",
          "app/dtos",
          "app/dtos",
          "app/dtos",
          "app/dtos",
          "app/dtos",
          "app/dtos",
          "app/dtos",
          "app/dtos",
          "app/dtos",
          "app/dtos",
          "app/dtos",
          "app/dtos",
          "app/dtos",
          "app/dtos",
          "app/dtos",
          "app/eventbus",
          "app/eventbus",
          "app/eventbus/events",
          "app/eventbus/events",
          "app/eventbus/events",
          "app/eventbus/events",
          "app/eventbus/events",
          "app/eventbus/events",
          "app/eventbus/events",
          "app/eventbus/events",
          "app/eventbus/events",
          "app/integrations",
          "app/integrations/backends",
          "app/integrations/backends/apigee",
          "app/integrations/backends/blocklist",
          "app/integrations/backends/blocklist",
          "app/integrations/backends/blocklist",
          "app/integrations/backends",
          "app/integrations/backends/client_v1_api",
          "app/integrations/backends/client_v1_api",
          "app/integrations/backends/communication_hub_api",
          "app/integrations/backends/communication_hub_api",
          "app/integrations/backends/helena_api",
          "app/integrations/backends/helena_api",
          "app/integrations/backends/id_magalu",
          "app/integrations/backends/id_magalu",
          "app/integrations/backends/maas_integra_api",
          "app/integrations/backends/maas_integra_api",
          "app/integrations/backends/maas_integra_api",
          "app/integrations/backends/maas_products_api",
          "app/integrations/backends/maas_products_api",
          "app/integrations/backends/maas_products_api",
          "app/integrations/backends/maestro",
          "app/integrations/backends/maestro",
          "app/integrations/backends/magalu_tax",
          "app/integrations/backends/magalu_tax",
          "app/integrations/backends/magalu_tax",
          "app/integrations/backends/mp_security",
          "app/integrations/backends/mp_security",
          "app/integrations/backends/mp_seller_api",
          "app/integrations/backends/mp_seller_api",
          "app/integrations/backends/mp_seller_api",
          "app/integrations/backends/open_id",
          "app/integrations/backends/p52_api",
          "app/integrations/backends/p52_api",
          "app/integrations/backends/ps_account",
          "app/integrations/backends/ps_account",
          "app/integrations/backends/ps_account",
          "app/integrations/backends/ps_contract_api",
          "app/integrations/backends/ps_contract_api",
          "app/integrations/backends/ps_onboarding_analytics",
          "app/integrations/backends/ps_onboarding_analytics",
          "app/integrations/backends/ps_order3p_api",
          "app/integrations/backends/ps_order3p_api",
          "app/integrations/backends/ps_order3p_api",
          "app/integrations/backends/sebastian_api",
          "app/integrations/backends/sebastian_api",
          "app/integrations/backends/sebastian_api",
          "app/integrations/backends/sebastian_api",
          "app/integrations/backends/sebastian_api",
          "app/integrations/backends/zendesk_api",
          "app/integrations/backends/zendesk_api",
          "app/integrations/backends/zendesk_api",
          "app/integrations",
          "app/integrations/datalake",
          "app/integrations/datalake/backends",
          "app/integrations/datalake/backends",
          "app/integrations/datalake/backends/tetrix_kafka",
          "app/integrations/datalake/backends/tetrix_kafka",
          "app/integrations/datalake/backends/tetrix_kafka",
          "app/integrations/datalake",
          "app/integrations/datalake",
          "app/integrations/datalake",
          "app/integrations/db",
          "app/integrations/db/mongo",
          "app/integrations/db/mongo",
          "app/integrations/db/mongo",
          "app/integrations/db/mongo",
          "app/integrations/db/mongo",
          "app/integrations/db/mongo",
          "app/integrations/pubsub",
          "app/integrations/pubsub",
          "app/integrations/pubsub",
          "app/integrations/pubsub",
          "app/integrations/pubsub",
          "app/integrations/pubsub/google_pubsub",
          "app/integrations/pubsub/google_pubsub",
          "app/integrations/pubsub/google_pubsub",
          "app/integrations/pubsub/kafka",
          "app/integrations/pubsub/kafka",
          "app/integrations/pubsub/kafka",
          "app/integrations/pubsub/kafka",
          "app/integrations/pubsub/kafka",
          "app/integrations/pubsub",
          "app/integrations/pubsub",
          "app/integrations/pubsub",
          "app/integrations/risk_analysis",
          "app/integrations/risk_analysis",
          "app/integrations/risk_analysis",
          "app/integrations/risk_analysis/fake",
          "app/integrations/risk_analysis",
          "app/integrations/risk_analysis/zaig",
          "app/integrations/scheduler",
          "app/integrations/scheduler",
          "app/integrations/scheduler",
          "app/integrations/scheduler/impl",
          "app/integrations/scheduler/impl/lite",
          "app/integrations/scheduler/impl/lite/executors",
          "app/integrations/scheduler/impl/lite/executors",
          "app/integrations/scheduler/impl/lite/executors",
          "app/integrations/scheduler/impl/lite",
          "app/integrations/scheduler/impl/lite/jobstores",
          "app/integrations/scheduler/impl/lite/jobstores",
          "app/integrations/scheduler/impl/lite/jobstores",
          "app/integrations/scheduler/impl/lite",
          "app/integrations/scheduler/impl",
          "app/integrations/seller_product_info",
          "app/integrations/seller_product_info",
          "app/integrations/seller_product_info",
          "app/integrations/seller_product_info",
          "app/lazy",
          "app/pubsub/messages",
          "app/pubsub/messages",
          "app/pubsub/messages",
          "app/pubsub/messages",
          "app/pubsub/messages",
          "app/pubsub/messages",
          "app/pubsub/messages",
          "app/pubsub/messages",
          "app/pubsub/messages",
          "app/repositories",
          "app/repositories",
          "app/repositories",
          "app/repositories",
          "app/repositories",
          "app/repositories",
          "app/repositories",
          "app/repositories",
          "app/repositories",
          "app/repositories",
          "app/repositories",
          "app/repositories",
          "app/repositories",
          "app/repositories",
          "app/repositories",
          "app/repositories",
          "app/repositories",
          "app/repositories",
          "app/repositories",
          "app/repositories",
          "app/repositories",
          "app/repositories",
          "app/script",
          "app/script",
          "app/script",
          "app/script",
          "app/script/impl",
          "app/script/impl/python",
          "app/script/impl/python",
          "app/script/impl/python",
          "app/script/impl/python",
          "app/script/impl/python",
          "app/utils",
          "app/utils",
          "app/utils",
          "app/utils",
          "app/utils",
          "app/utils",
          "app/utils",
          "app/utils",
          "app/utils",
          "app/utils",
          "app/utils",
          "app/utils",
          "app/utils",
          "app/utils",
          "app/utils",
          "app/utils/logging",
          "app/utils/logging",
          "app/utils/logging",
          "app/utils",
          "app/utils",
          "app/utils",
          "app/utils",
          "app/utils",
          "app/utils",
          "app/utils",
          "app/utils",
          "app/utils",
          "app/utils",
          "app/utils",
          "app/utils",
          "app/workers",
          "app/workers",
          "app/workers",
          "app/workers",
          "app/workers/data_object_batch",
          "app/workers/data_object_batch/batch_handlers",
          "app/workers/data_object_batch/batch_handlers",
          "app/workers/data_object_batch/batch_handlers",
          "app/workers/data_object_batch",
          "app/workers/data_object_batch/handlers",
          "app/workers/data_object_batch/handlers",
          "app/workers/data_object_batch/handlers",
          "app/workers/data_object_batch",
          "app/workers/data_object_batch/tasks",
          "app/workers/data_object_batch/tasks",
          "app/workers/data_object_batch/tasks",
          "app/workers/data_object_batch/tasks",
          "app/workers/freight",
          "app/workers/freight",
          "app/workers/freight",
          "app/workers/freight/tasks",
          "app/workers/freight/tasks",
          "app/workers/freight/tasks",
          "app/workers/lead",
          "app/workers/lead",
          "app/workers/lead/tasks",
          "app/workers/lead/tasks",
          "app/workers/lead/tasks",
          "app/workers/netshoes",
          "app/workers/netshoes",
          "app/workers/netshoes/tasks",
          "app/workers/netshoes/tasks/models",
          "app/workers/netshoes/tasks/models",
          "app/workers/netshoes/tasks/models",
          "app/workers/netshoes/tasks/models",
          "app/workers/netshoes/tasks/models",
          "app/workers/netshoes/tasks",
          "app/workers/netshoes/tasks",
          "app/workers/product",
          "app/workers/product",
          "app/workers/product",
          "app/workers/product/tasks",
          "app/workers/product/tasks",
          "app/workers/product/tasks",
          "app/workers/risk_analysis",
          "app/workers/risk_analysis",
          "app/workers/risk_analysis/tasks",
          "app/workers/sebastian_integration",
          "app/workers/seller_account",
          "app/workers/seller_account",
          "app/workers/seller_account",
          "app/workers/seller_account/tasks",
          "app/workers/seller_account/tasks",
          "app/workers/seller_account/tasks",
          "app/workers/seller_contract",
          "app/workers/seller_contract",
          "app/workers/seller_contract",
          "app/workers/seller_contract/tasks",
          "app/workers/seller_contract/tasks",
          "app/workers/seller_contract/tasks",
          "app/workers/seller_contract/tasks",
          "app/workers/seller_orders",
          "app/workers/seller_orders",
          "app/workers/seller_orders",
          "app/workers/seller_orders",
          "app/workers/seller_orders/tasks",
          "app/workers/seller_orders/tasks",
          "app/workers/seller_orders/tasks",
          "app/workers/seller_orders/tasks",
          "app/workers/seller_orders/tasks",
          "app/workers/tags",
          "app/workers/tags/tasks",
          "app/workers/tags/tasks",
          "app/workers",
          "app/workers/webhook",
          "app/workers/webhook",
          "app/workers/webhook",
          "app/workers/webhook/tasks",
          "app/workers/webhook/tasks/webhook_global",
          "app/workers/webhook/tasks/webhook_global",
          "app/workers/webhook/tasks/webhook_global",
          "app/workers/webhook/tasks/webhook_global",
          "app/workers/webhook/tasks/webhook_global/sdk",
          "app/workers/webhook/tasks/webhook_global/sdk",
          "app/workers/webhook/tasks/webhook_global/sdk",
          "app/workers/webhook/tasks/webhook_global/sdk",
          "app/workers/webhook/tasks",
          "app/workers/workflow_retry",
          "app/workers/workflow_retry",
          "app/workers/workflow_retry/tasks",
          "app/workers/workflow_wakeup",
          "app/workers/workflow_wakeup",
          "app/workers/workflow_wakeup/tasks",
          "app/workflow",
          "app/workflow",
          "app/workflow/addons",
          "app/workflow/addons",
          "app/workflow/addons",
          "app/workflow/addons",
          "app/workflow/addons",
          "app/workflow/addons",
          "app/workflow/addons",
          "app/workflow",
          "app/workflow",
          "app/workflow",
          "app/workflow",
          "app/workflow",
          "app/workflow",
          "app/workflow",
          "app/workflow",
          "app/workflow/retry",
          "app/workflow/retry",
          "app/workflow/retry",
          "app/workflow/retry",
          "app/workflow/runners",
          "app/workflow/runners",
          "app/workflow",
          null,
          null,
          "devtools/action_scripts/gui",
          "devtools/action_scripts/gui",
          "devtools/action_scripts/gui",
          "devtools/action_scripts/gui",
          "devtools/action_scripts/gui",
          "devtools/action_scripts/troubleshoot",
          "devtools/action_scripts/troubleshoot",
          "devtools/action_scripts/troubleshoot",
          "devtools/action_scripts/troubleshoot",
          "devtools/action_scripts/troubleshoot",
          "devtools/action_scripts/troubleshoot",
          "devtools/action_scripts/universe_cards",
          "devtools/action_scripts/universe_cards",
          "devtools/action_scripts/universe_cards",
          "devtools/action_scripts/universe_cards",
          "devtools/action_scripts/universe_cards",
          "devtools/action_scripts/universe_cards",
          "devtools/action_scripts/universe_form",
          "devtools/action_scripts/universe_form",
          "devtools/action_scripts/universe_form",
          "devtools/action_scripts/universe_form",
          "devtools/action_scripts/universe_form",
          "devtools/action_scripts/universe_form",
          "devtools/action_scripts/universe_form",
          "devtools/action_scripts/universe_form",
          "devtools/action_scripts/universe_form",
          "devtools/action_scripts/universe_form",
          "devtools/action_scripts/universe_form",
          "devtools/action_scripts/universe_form",
          "devtools/action_scripts/universe_form",
          "devtools/action_scripts/universe_form",
          "devtools/action_scripts/universe_form",
          "devtools/action_scripts/universe_form",
          "devtools/action_scripts/universe_form",
          "devtools/action_scripts/universe_form",
          "devtools/action_scripts/update",
          "devtools/action_scripts/update",
          "devtools/action_scripts/voip_service",
          "devtools/action_scripts/voip_service",
          "devtools/action_scripts/voip_service",
          "devtools/action_scripts/voip_service",
          "devtools/argocd",
          "devtools/argocd",
          "devtools",
          "devtools/cicd",
          "devtools/cicd",
          "devtools/cicd",
          "devtools/cicd",
          "devtools",
          "devtools",
          "devtools",
          "devtools",
          "devtools",
          "devtools",
          "devtools",
          "devtools",
          "devtools",
          "devtools",
          "devtools/migration_scripts",
          "devtools/migration_scripts",
          "devtools/migration_scripts",
          "devtools/migration_scripts",
          "devtools/migration_scripts",
          "devtools/migration_scripts",
          "devtools/migration_scripts",
          "devtools/migration_scripts",
          "devtools/migration_scripts",
          "devtools/migration_scripts",
          "devtools/migration_scripts",
          "devtools/migration_scripts",
          "devtools/migration_scripts",
          "devtools/migration_scripts",
          "devtools/migration_scripts",
          "devtools/migration_scripts",
          "devtools/mongo",
          "devtools/mongo",
          "devtools/mongo",
          "devtools/mongo",
          "devtools/mongo",
          "devtools/pocs",
          "devtools/scripts",
          "devtools/scripts",
          null,
          "docs",
          "docs",
          "docs",
          "docs",
          "docs",
          "docs",
          "docs/svgs",
          "docs/svgs",
          "docs/universe_form",
          "docs",
          null,
          "hopdb",
          "hopdb",
          "hopdb/collection_storage",
          "hopdb/collection_storage",
          "hopdb/collection_storage",
          "hopdb/collection_storage",
          "hopdb/correlation_table",
          "hopdb/correlation_table",
          "hopdb/correlation_table",
          "hopdb/correlation_table",
          "hopdb",
          "hopdb",
          "hopdb/document_encoder",
          "hopdb/document_encoder",
          "hopdb",
          "hopdb/index",
          "hopdb/index",
          "hopdb/index",
          "hopdb",
          "hopdb",
          "hopdb",
          "hopdb",
          "hopdb",
          "hopdb/thirdparty",
          null,
          "lib",
          "lib/cdi",
          "lib/cdi",
          "lib/common/constants",
          "lib/common/constants",
          "lib/common",
          "lib/common/encoder",
          "lib/common/encoder",
          "lib/common/encoder",
          "lib/common/encoder",
          "lib/common/encoder",
          "lib/common/fastapi",
          "lib/common/fastapi",
          "lib/common/fields",
          "lib/common/fields",
          "lib/common/fields",
          "lib/common/fields",
          "lib/common/file",
          "lib/common/file",
          "lib/common",
          "lib/common/lock",
          "lib/common/lock",
          "lib/common/mapping",
          "lib/common/mapping",
          "lib/common/mapping",
          "lib/common/object_storage",
          "lib/common/object_storage",
          "lib/common/object_storage",
          "lib/common/object_storage",
          "lib/common/object_storage",
          "lib/common/object_storage",
          "lib/common/object_storage",
          "lib/common",
          "lib/common/redis_channel",
          "lib/common/redis_channel",
          "lib/common",
          "lib/dict/anonymize",
          "lib/dict/anonymize",
          "lib/dict/diff",
          "lib/dict/diff",
          "lib/dict/diff",
          "lib/dict/dotnotation",
          "lib/dict/dotnotation",
          "lib/dict/patch",
          "lib/dict/patch",
          "lib/dict/patch",
          "lib/logging",
          "lib/logging",
          "lib/logging",
          "migrations",
          "migrations",
          "migrations",
          "migrations",
          "migrations",
          "migrations",
          "migrations",
          "migrations",
          "migrations",
          "migrations",
          "migrations",
          "migrations",
          "migrations",
          "migrations",
          "migrations",
          "migrations",
          "migrations",
          "migrations",
          "migrations",
          "migrations",
          "migrations",
          "migrations",
          "migrations",
          "migrations",
          "migrations",
          "migrations",
          "migrations",
          "migrations",
          "migrations",
          "migrations",
          "migrations",
          "migrations",
          "migrations",
          "migrations",
          "migrations",
          "migrations",
          "migrations",
          "migrations",
          "migrations",
          "migrations",
          "migrations",
          "migrations",
          "migrations",
          "migrations",
          "migrations",
          "migrations",
          "migrations",
          "migrations",
          "migrations",
          "migrations",
          "migrations",
          "migrations",
          "migrations",
          "migrations",
          "migrations",
          "migrations",
          "migrations",
          "migrations",
          "migrations",
          "migrations",
          "migrations",
          "migrations",
          "migrations",
          "migrations",
          "migrations",
          "migrations",
          "migrations",
          "migrations",
          "migrations",
          "migrations",
          "migrations",
          "migrations",
          "migrations",
          "migrations",
          "migrations",
          "migrations",
          "migrations",
          "migrations",
          "migrations",
          "migrations",
          "migrations",
          "migrations",
          "migrations",
          "migrations",
          "migrations",
          "migrations",
          "migrations",
          "migrations",
          "migrations",
          "migrations",
          "migrations",
          "migrations",
          "migrations",
          "migrations",
          "migrations",
          "migrations",
          "migrations",
          "migrations",
          "migrations",
          "migrations",
          "migrations",
          "migrations",
          "migrations",
          "migrations",
          "migrations",
          "migrations",
          "migrations",
          "migrations",
          "migrations",
          "migrations",
          "migrations",
          "migrations",
          "migrations",
          "migrations",
          "migrations",
          "migrations",
          "migrations",
          "migrations",
          "migrations",
          "migrations",
          "migrations",
          "migrations",
          "migrations",
          "migrations",
          "migrations",
          "migrations",
          "migrations",
          "migrations",
          "migrations",
          "migrations",
          "migrations",
          "migrations",
          "migrations",
          "migrations",
          "migrations",
          "migrations",
          "migrations",
          "migrations",
          "migrations",
          "migrations",
          "migrations",
          "migrations",
          "migrations",
          "migrations",
          "migrations",
          "migrations",
          "migrations",
          "migrations",
          "migrations",
          "migrations",
          "migrations",
          "migrations",
          "migrations",
          "migrations",
          "migrations",
          "migrations",
          "migrations",
          "migrations",
          "migrations",
          "migrations",
          "migrations",
          "migrations",
          "migrations",
          "migrations",
          "migrations",
          "migrations",
          "migrations",
          "migrations",
          "migrations",
          "migrations",
          "migrations",
          "migrations",
          "migrations",
          "migrations",
          "migrations",
          "migrations",
          "migrations",
          "migrations",
          "migrations",
          "migrations",
          "migrations",
          "migrations",
          "migrations",
          "migrations",
          "migrations",
          "migrations",
          "migrations",
          "migrations",
          "migrations",
          "migrations",
          "migrations",
          "migrations",
          "migrations",
          "migrations",
          "migrations",
          "migrations",
          "migrations",
          "migrations",
          "migrations",
          "migrations",
          "migrations",
          "migrations",
          "migrations",
          "migrations",
          "migrations",
          "migrations",
          "migrations",
          "migrations",
          "migrations",
          "migrations",
          "migrations",
          "migrations",
          "migrations",
          "migrations",
          "migrations",
          "migrations",
          "migrations",
          "migrations",
          "migrations",
          "migrations",
          "migrations",
          "migrations",
          "migrations",
          "migrations",
          "migrations",
          "migrations",
          "migrations",
          "migrations",
          "migrations/utils",
          "migrations/utils",
          "migrations_util",
          "migrations_util",
          "migrations_util",
          "migrations_util",
          "migrations_util",
          "migrations_util",
          "migrations_util",
          null,
          null,
          null,
          null,
          null,
          null,
          null,
          "requirements",
          "requirements",
          null,
          null,
          null,
          null,
          null,
          null,
          null,
          null,
          null,
          null,
          "tests/analytics/apis/fastapi/routes",
          "tests/analytics/apis/fastapi/routes",
          "tests/analytics/business",
          "tests/analytics",
          "tests/analytics/fixtures/dataset",
          "tests/analytics/fixtures/dataset",
          "tests/analytics/fixtures",
          "tests/analytics",
          "tests/app/actions",
          "tests/app/actions",
          "tests/app/actions",
          "tests/app/actions",
          "tests/app/actions",
          "tests/app/apis/fastapi",
          "tests/app/apis/fastapi/routes",
          "tests/app/apis/fastapi/routes",
          "tests/app/apis/fastapi/routes",
          "tests/app/apis/fastapi/routes",
          "tests/app/apis/fastapi/routes",
          "tests/app/apis/fastapi/routes",
          "tests/app/apis/fastapi/routes",
          "tests/app/apis/fastapi/routes",
          "tests/app/apis/fastapi/routes",
          "tests/app/apis/fastapi/routes",
          "tests/app/apis/fastapi/routes",
          "tests/app/apis/fastapi/routes",
          "tests/app/apis/fastapi/routes",
          "tests/app/apis/fastapi/routes",
          "tests/app/apis/fastapi/routes",
          "tests/app/apis/fastapi/routes",
          "tests/app/apis/fastapi/routes",
          "tests/app/apis/fastapi/routes",
          "tests/app/apis/fastapi/routes",
          "tests/app/apis/fastapi/routes",
          "tests/app/apis/fastapi/routes",
          "tests/app/business_rule/universe_form",
          "tests/app/businesses/handlers",
          "tests/app/businesses/observers/magalu",
          "tests/app/businesses/observers/magalu",
          "tests/app/businesses/observers",
          "tests/app/businesses/observers",
          "tests/app/businesses/observers",
          "tests/app/businesses/observers",
          "tests/app/businesses/observers",
          "tests/app/businesses/observers",
          "tests/app/businesses",
          "tests/app/businesses",
          "tests/app/businesses",
          "tests/app/businesses",
          "tests/app/businesses",
          "tests/app/domains",
          "tests/app/domains",
          "tests/app/integrations/backends/sebastian_api",
          "tests/app/integrations/backends",
          "tests/app/integrations/backends",
          "tests/app/integrations/backends",
          "tests/app/integrations/backends",
          "tests/app/integrations/backends",
          "tests/app/integrations/datalake/backends/tetrix_kafka/handlers",
          "tests/app/integrations/datalake/backends/tetrix_kafka/handlers",
          "tests/app/integrations/datalake",
          "tests/app/integrations/db/mongo",
          "tests/app/integrations/pubsub/encoder",
          "tests/app/integrations/pubsub/kafka",
          "tests/app/integrations/pubsub/kafka",
          "tests/app/integrations/pubsub/kafka",
          "tests/app/integrations/pubsub/kafka",
          "tests/app/integrations/pubsub",
          "tests/app/integrations/pubsub",
          "tests/app/integrations/risk_analysis",
          "tests/app/integrations/risk_analysis",
          "tests/app/integrations/scheduler/impl/lite/jobstores",
          "tests/app/integrations/scheduler/impl/lite",
          "tests/app/integrations/seller_stock_info",
          "tests/app/repositories",
          "tests/app/repositories",
          "tests/app/script/impl/python",
          "tests/app/script",
          "tests/app/script",
          "tests/app/script",
          "tests/app",
          "tests/app/utils",
          "tests/app/utils",
          "tests/app/utils",
          "tests/app/utils",
          "tests/app/utils",
          "tests/app/workers/data_object_batch/tasks",
          "tests/app/workers/data_object_batch/tasks",
          "tests/app/workers/data_object_batch",
          "tests/app/workers/freight/tasks",
          "tests/app/workers/freight",
          "tests/app/workers/lead/tasks",
          "tests/app/workers/lead",
          "tests/app/workers/netshoes/tasks/netshoes_lead_mapper",
          "tests/app/workers/netshoes/tasks/netshoes_lead_mapper",
          "tests/app/workers/netshoes/tasks/netshoes_lead_mapper",
          "tests/app/workers/netshoes/tasks",
          "tests/app/workers/netshoes",
          "tests/app/workers/product/tasks",
          "tests/app/workers/product",
          "tests/app/workers/risk_analysis",
          "tests/app/workers/risk_analysis",
          "tests/app/workers/seller_account/tasks",
          "tests/app/workers/seller_account",
          "tests/app/workers/seller_contracts/tasks",
          "tests/app/workers/seller_contracts/tasks",
          "tests/app/workers/seller_contracts",
          "tests/app/workers/seller_orders/tasks",
          "tests/app/workers/seller_orders/tasks",
          "tests/app/workers/seller_orders/tasks",
          "tests/app/workers/seller_orders",
          "tests/app/workers",
          "tests/app/workers",
          "tests/app/workers/webhook/tasks",
          "tests/app/workers/webhook/tasks",
          "tests/app/workers/webhook",
          "tests/app/workers/workflow_retry/tasks",
          "tests/app/workers/workflow_retry",
          "tests/app/workers/workflow_wakeup/tasks",
          "tests/app/workers/workflow_wakeup",
          "tests/app/workflow/addons",
          "tests/app/workflow",
          "tests/app/workflows",
          "tests/app/workflows",
          "tests/app/workflows",
          "tests/app/workflows",
          "tests/app/workflows",
          "tests/app/workflows",
          "tests/app/workflows",
          "tests/app/workflows",
          "tests/app/workflows",
          "tests/app/workflows",
          "tests/app/workflows",
          "tests/app/workflows",
          "tests/app/workflows",
          "tests/app/workflows",
          "tests/app/workflows",
          "tests/app/workflows",
          "tests/app/workflows",
          "tests/app/workflows",
          "tests/app/workflows",
          "tests/commons/async_worker",
          "tests/commons/cache/storage",
          "tests/commons/cache",
          "tests/commons/lock",
          "tests",
          "tests/fixtures",
          "tests/fixtures",
          "tests/fixtures/backends",
          "tests/fixtures/backends",
          "tests/fixtures/backends",
          "tests/fixtures/backends",
          "tests/fixtures/backends",
          "tests/fixtures/backends",
          "tests/fixtures/backends",
          "tests/fixtures/backends",
          "tests/fixtures/backends",
          "tests/fixtures/backends",
          "tests/fixtures/backends",
          "tests/fixtures/backends",
          "tests/fixtures/backends",
          "tests/fixtures/backends",
          "tests/fixtures/backends",
          "tests/fixtures/backends",
          "tests/fixtures/backends",
          "tests/fixtures/backends",
          "tests/fixtures/backends",
          "tests/fixtures/backends",
          "tests/fixtures/backends",
          "tests/fixtures/backends",
          "tests/fixtures/backends",
          "tests/fixtures/backends",
          "tests/fixtures/backends",
          "tests/fixtures/backends",
          "tests/fixtures/backends",
          "tests/fixtures/backends",
          "tests/fixtures/backends",
          "tests/fixtures/backends",
          "tests/fixtures/backends",
          "tests/fixtures/backends",
          "tests/fixtures/backends",
          "tests/fixtures/backends",
          "tests/fixtures/backends",
          "tests/fixtures/backends",
          "tests/fixtures/backends",
          "tests/fixtures/backends",
          "tests/fixtures/backends",
          "tests/fixtures/backends",
          "tests/fixtures/backends",
          "tests/fixtures/backends",
          "tests/fixtures/backends",
          "tests/fixtures/backends",
          "tests/fixtures/backends",
          "tests/fixtures/backends",
          "tests/fixtures/backends",
          "tests/fixtures/backends",
          "tests/fixtures/backends",
          "tests/fixtures/backends",
          "tests/fixtures/backends",
          "tests/fixtures/backends",
          "tests/fixtures",
          "tests/fixtures",
          "tests/fixtures",
          "tests/fixtures/domains",
          "tests/fixtures/domains",
          "tests/fixtures/domains",
          "tests/fixtures/domains",
          "tests/fixtures/domains",
          "tests/fixtures/domains",
          "tests/fixtures/domains",
          "tests/fixtures/domains",
          "tests/fixtures/domains",
          "tests/fixtures/domains",
          "tests/fixtures/domains",
          "tests/fixtures/domains",
          "tests/fixtures/domains",
          "tests/fixtures",
          "tests/fixtures",
          "tests/fixtures",
          "tests/fixtures",
          "tests/fixtures",
          "tests/fixtures",
          "tests/fixtures",
          "tests/fixtures",
          "tests/fixtures",
          "tests/fixtures",
          "tests/hopdb/index",
          "tests/hopdb",
          "tests/hopdb",
          "tests/hopdb",
          "tests/lib/common/encoder",
          "tests/lib/common/fields",
          "tests/lib/common/object_storage",
          "tests/lib/dict/anonymize",
          "tests/lib/dict/diff",
          "tests/lib/dict/diff",
          "tests/utils/builders/domain",
          "tests/utils/builders/domain",
          "tests/utils",
          "tests/utils",
          "tests/utils",
          "tests/utils",
          "tests/utils",
          null,
          null,
          null,
          null,
          null,
          null,
          ".gitlab",
          null,
          "analytics",
          "analytics/apis",
          "analytics/apis/fastapi",
          "analytics",
          "analytics",
          "analytics",
          "analytics",
          "analytics",
          "analytics",
          "analytics/standalone",
          "analytics",
          "analytics",
          "analytics/workers",
          null,
          "app",
          "app/apis",
          "app/apis",
          "app/apis/fastapi",
          "app/apis/fastapi",
          "app",
          "app/businesses",
          "app/businesses/core",
          "app/businesses",
          "app/businesses",
          "app/businesses",
          "app/businesses/observers",
          "app/businesses/observers/magalu",
          "app/businesses/observers/magalu",
          "app/businesses",
          "app",
          "app/commons",
          "app/commons/async_worker",
          "app/commons/async_worker",
          "app/commons",
          "app/commons/cache",
          "app/commons/cache/impl",
          "app/commons/cache/impl",
          "app/commons/cache/impl/storage",
          "app/commons/cache/impl/storage",
          "app/commons/cache",
          "app/commons",
          "app/commons",
          "app/commons",
          "app/commons",
          "app/commons",
          "app/commons",
          "app/commons/translations",
          "app",
          "app",
          "app",
          "app",
          "app/eventbus",
          "app",
          "app/integrations",
          "app/integrations/backends",
          "app/integrations/backends",
          "app/integrations/backends",
          "app/integrations/backends",
          "app/integrations/backends",
          "app/integrations/backends",
          "app/integrations/backends",
          "app/integrations/backends",
          "app/integrations/backends",
          "app/integrations/backends",
          "app/integrations/backends",
          "app/integrations/backends",
          "app/integrations/backends",
          "app/integrations/backends",
          "app/integrations/backends",
          "app/integrations/backends",
          "app/integrations/backends",
          "app/integrations/backends",
          "app/integrations/backends",
          "app/integrations/backends",
          "app/integrations",
          "app/integrations/datalake",
          "app/integrations/datalake/backends",
          "app/integrations",
          "app/integrations/db",
          "app/integrations",
          "app/integrations/pubsub",
          "app/integrations/pubsub",
          "app/integrations",
          "app/integrations/risk_analysis",
          "app/integrations/risk_analysis",
          "app/integrations",
          "app/integrations/scheduler",
          "app/integrations/scheduler/impl",
          "app/integrations/scheduler/impl/lite",
          "app/integrations/scheduler/impl/lite",
          "app/integrations",
          "app",
          "app",
          "app/pubsub",
          "app",
          "app",
          "app/script",
          "app/script/impl",
          "app",
          "app/utils",
          "app",
          "app/workers",
          "app/workers/data_object_batch",
          "app/workers/data_object_batch",
          "app/workers/data_object_batch",
          "app/workers",
          "app/workers/freight",
          "app/workers",
          "app/workers/lead",
          "app/workers",
          "app/workers/netshoes",
          "app/workers/netshoes/tasks",
          "app/workers",
          "app/workers/product",
          "app/workers",
          "app/workers/risk_analysis",
          "app/workers",
          "app/workers",
          "app/workers/seller_account",
          "app/workers",
          "app/workers/seller_contract",
          "app/workers",
          "app/workers/seller_orders",
          "app/workers",
          "app/workers/tags",
          "app/workers",
          "app/workers/webhook",
          "app/workers/webhook/tasks",
          "app/workers/webhook/tasks/webhook_global",
          "app/workers",
          "app/workers/workflow_retry",
          "app/workers",
          "app/workers/workflow_wakeup",
          "app",
          "app/workflow",
          "app/workflow",
          "app/workflow",
          null,
          "devtools",
          "devtools/action_scripts",
          "devtools/action_scripts",
          "devtools/action_scripts",
          "devtools/action_scripts",
          "devtools/action_scripts",
          "devtools/action_scripts",
          "devtools",
          "devtools",
          "devtools",
          "devtools",
          "devtools",
          "devtools",
          null,
          "docs",
          "docs",
          null,
          "hopdb",
          "hopdb",
          "hopdb",
          "hopdb",
          "hopdb",
          null,
          "lib",
          "lib",
          "lib/common",
          "lib/common",
          "lib/common",
          "lib/common",
          "lib/common",
          "lib/common",
          "lib/common",
          "lib/common",
          "lib/common",
          "lib",
          "lib/dict",
          "lib/dict",
          "lib/dict",
          "lib/dict",
          "lib",
          null,
          "migrations",
          null,
          null,
          null,
          "tests",
          "tests/analytics",
          "tests/analytics/apis",
          "tests/analytics/apis/fastapi",
          "tests/analytics",
          "tests/analytics",
          "tests/analytics/fixtures",
          "tests",
          "tests/app",
          "tests/app",
          "tests/app/apis",
          "tests/app/apis/fastapi",
          "tests/app",
          "tests/app/business_rule",
          "tests/app",
          "tests/app/businesses",
          "tests/app/businesses",
          "tests/app/businesses/observers",
          "tests/app",
          "tests/app",
          "tests/app/integrations",
          "tests/app/integrations/backends",
          "tests/app/integrations",
          "tests/app/integrations/datalake",
          "tests/app/integrations/datalake/backends",
          "tests/app/integrations/datalake/backends/tetrix_kafka",
          "tests/app/integrations",
          "tests/app/integrations/db",
          "tests/app/integrations",
          "tests/app/integrations/pubsub",
          "tests/app/integrations/pubsub",
          "tests/app/integrations",
          "tests/app/integrations",
          "tests/app/integrations/scheduler",
          "tests/app/integrations/scheduler/impl",
          "tests/app/integrations/scheduler/impl/lite",
          "tests/app/integrations",
          "tests/app",
          "tests/app",
          "tests/app/script",
          "tests/app/script/impl",
          "tests/app",
          "tests/app",
          "tests/app/workers",
          "tests/app/workers/data_object_batch",
          "tests/app/workers",
          "tests/app/workers/freight",
          "tests/app/workers",
          "tests/app/workers/lead",
          "tests/app/workers",
          "tests/app/workers/netshoes",
          "tests/app/workers/netshoes/tasks",
          "tests/app/workers",
          "tests/app/workers/product",
          "tests/app/workers",
          "tests/app/workers",
          "tests/app/workers/seller_account",
          "tests/app/workers",
          "tests/app/workers/seller_contracts",
          "tests/app/workers",
          "tests/app/workers/seller_orders",
          "tests/app/workers",
          "tests/app/workers/webhook",
          "tests/app/workers",
          "tests/app/workers/workflow_retry",
          "tests/app/workers",
          "tests/app/workers/workflow_wakeup",
          "tests/app",
          "tests/app/workflow",
          "tests/app",
          "tests",
          "tests/commons",
          "tests/commons",
          "tests/commons/cache",
          "tests/commons",
          "tests",
          "tests/fixtures",
          "tests/fixtures",
          "tests",
          "tests/hopdb",
          "tests",
          "tests/lib",
          "tests/lib/common",
          "tests/lib/common",
          "tests/lib/common",
          "tests/lib",
          "tests/lib/dict",
          "tests/lib/dict",
          "tests",
          "tests/utils",
          "tests/utils/builders"
         ],
         "type": "treemap"
        }
       ],
       "layout": {
        "autosize": false,
        "coloraxis": {
         "colorbar": {
          "title": {
           "text": "color"
          }
         },
         "colorscale": [
          [
           0,
           "rgb(103,0,31)"
          ],
          [
           0.1,
           "rgb(178,24,43)"
          ],
          [
           0.2,
           "rgb(214,96,77)"
          ],
          [
           0.3,
           "rgb(244,165,130)"
          ],
          [
           0.4,
           "rgb(253,219,199)"
          ],
          [
           0.5,
           "rgb(247,247,247)"
          ],
          [
           0.6,
           "rgb(209,229,240)"
          ],
          [
           0.7,
           "rgb(146,197,222)"
          ],
          [
           0.8,
           "rgb(67,147,195)"
          ],
          [
           0.9,
           "rgb(33,102,172)"
          ],
          [
           1,
           "rgb(5,48,97)"
          ]
         ]
        },
        "height": 1000,
        "legend": {
         "tracegroupgap": 0
        },
        "margin": {
         "b": 25,
         "l": 25,
         "r": 25,
         "t": 50
        },
        "template": {
         "data": {
          "bar": [
           {
            "error_x": {
             "color": "#f2f5fa"
            },
            "error_y": {
             "color": "#f2f5fa"
            },
            "marker": {
             "line": {
              "color": "rgb(17,17,17)",
              "width": 0.5
             },
             "pattern": {
              "fillmode": "overlay",
              "size": 10,
              "solidity": 0.2
             }
            },
            "type": "bar"
           }
          ],
          "barpolar": [
           {
            "marker": {
             "line": {
              "color": "rgb(17,17,17)",
              "width": 0.5
             },
             "pattern": {
              "fillmode": "overlay",
              "size": 10,
              "solidity": 0.2
             }
            },
            "type": "barpolar"
           }
          ],
          "carpet": [
           {
            "aaxis": {
             "endlinecolor": "#A2B1C6",
             "gridcolor": "#506784",
             "linecolor": "#506784",
             "minorgridcolor": "#506784",
             "startlinecolor": "#A2B1C6"
            },
            "baxis": {
             "endlinecolor": "#A2B1C6",
             "gridcolor": "#506784",
             "linecolor": "#506784",
             "minorgridcolor": "#506784",
             "startlinecolor": "#A2B1C6"
            },
            "type": "carpet"
           }
          ],
          "choropleth": [
           {
            "colorbar": {
             "outlinewidth": 0,
             "ticks": ""
            },
            "type": "choropleth"
           }
          ],
          "contour": [
           {
            "colorbar": {
             "outlinewidth": 0,
             "ticks": ""
            },
            "colorscale": [
             [
              0,
              "#0d0887"
             ],
             [
              0.1111111111111111,
              "#46039f"
             ],
             [
              0.2222222222222222,
              "#7201a8"
             ],
             [
              0.3333333333333333,
              "#9c179e"
             ],
             [
              0.4444444444444444,
              "#bd3786"
             ],
             [
              0.5555555555555556,
              "#d8576b"
             ],
             [
              0.6666666666666666,
              "#ed7953"
             ],
             [
              0.7777777777777778,
              "#fb9f3a"
             ],
             [
              0.8888888888888888,
              "#fdca26"
             ],
             [
              1,
              "#f0f921"
             ]
            ],
            "type": "contour"
           }
          ],
          "contourcarpet": [
           {
            "colorbar": {
             "outlinewidth": 0,
             "ticks": ""
            },
            "type": "contourcarpet"
           }
          ],
          "heatmap": [
           {
            "colorbar": {
             "outlinewidth": 0,
             "ticks": ""
            },
            "colorscale": [
             [
              0,
              "#0d0887"
             ],
             [
              0.1111111111111111,
              "#46039f"
             ],
             [
              0.2222222222222222,
              "#7201a8"
             ],
             [
              0.3333333333333333,
              "#9c179e"
             ],
             [
              0.4444444444444444,
              "#bd3786"
             ],
             [
              0.5555555555555556,
              "#d8576b"
             ],
             [
              0.6666666666666666,
              "#ed7953"
             ],
             [
              0.7777777777777778,
              "#fb9f3a"
             ],
             [
              0.8888888888888888,
              "#fdca26"
             ],
             [
              1,
              "#f0f921"
             ]
            ],
            "type": "heatmap"
           }
          ],
          "heatmapgl": [
           {
            "colorbar": {
             "outlinewidth": 0,
             "ticks": ""
            },
            "colorscale": [
             [
              0,
              "#0d0887"
             ],
             [
              0.1111111111111111,
              "#46039f"
             ],
             [
              0.2222222222222222,
              "#7201a8"
             ],
             [
              0.3333333333333333,
              "#9c179e"
             ],
             [
              0.4444444444444444,
              "#bd3786"
             ],
             [
              0.5555555555555556,
              "#d8576b"
             ],
             [
              0.6666666666666666,
              "#ed7953"
             ],
             [
              0.7777777777777778,
              "#fb9f3a"
             ],
             [
              0.8888888888888888,
              "#fdca26"
             ],
             [
              1,
              "#f0f921"
             ]
            ],
            "type": "heatmapgl"
           }
          ],
          "histogram": [
           {
            "marker": {
             "pattern": {
              "fillmode": "overlay",
              "size": 10,
              "solidity": 0.2
             }
            },
            "type": "histogram"
           }
          ],
          "histogram2d": [
           {
            "colorbar": {
             "outlinewidth": 0,
             "ticks": ""
            },
            "colorscale": [
             [
              0,
              "#0d0887"
             ],
             [
              0.1111111111111111,
              "#46039f"
             ],
             [
              0.2222222222222222,
              "#7201a8"
             ],
             [
              0.3333333333333333,
              "#9c179e"
             ],
             [
              0.4444444444444444,
              "#bd3786"
             ],
             [
              0.5555555555555556,
              "#d8576b"
             ],
             [
              0.6666666666666666,
              "#ed7953"
             ],
             [
              0.7777777777777778,
              "#fb9f3a"
             ],
             [
              0.8888888888888888,
              "#fdca26"
             ],
             [
              1,
              "#f0f921"
             ]
            ],
            "type": "histogram2d"
           }
          ],
          "histogram2dcontour": [
           {
            "colorbar": {
             "outlinewidth": 0,
             "ticks": ""
            },
            "colorscale": [
             [
              0,
              "#0d0887"
             ],
             [
              0.1111111111111111,
              "#46039f"
             ],
             [
              0.2222222222222222,
              "#7201a8"
             ],
             [
              0.3333333333333333,
              "#9c179e"
             ],
             [
              0.4444444444444444,
              "#bd3786"
             ],
             [
              0.5555555555555556,
              "#d8576b"
             ],
             [
              0.6666666666666666,
              "#ed7953"
             ],
             [
              0.7777777777777778,
              "#fb9f3a"
             ],
             [
              0.8888888888888888,
              "#fdca26"
             ],
             [
              1,
              "#f0f921"
             ]
            ],
            "type": "histogram2dcontour"
           }
          ],
          "mesh3d": [
           {
            "colorbar": {
             "outlinewidth": 0,
             "ticks": ""
            },
            "type": "mesh3d"
           }
          ],
          "parcoords": [
           {
            "line": {
             "colorbar": {
              "outlinewidth": 0,
              "ticks": ""
             }
            },
            "type": "parcoords"
           }
          ],
          "pie": [
           {
            "automargin": true,
            "type": "pie"
           }
          ],
          "scatter": [
           {
            "marker": {
             "line": {
              "color": "#283442"
             }
            },
            "type": "scatter"
           }
          ],
          "scatter3d": [
           {
            "line": {
             "colorbar": {
              "outlinewidth": 0,
              "ticks": ""
             }
            },
            "marker": {
             "colorbar": {
              "outlinewidth": 0,
              "ticks": ""
             }
            },
            "type": "scatter3d"
           }
          ],
          "scattercarpet": [
           {
            "marker": {
             "colorbar": {
              "outlinewidth": 0,
              "ticks": ""
             }
            },
            "type": "scattercarpet"
           }
          ],
          "scattergeo": [
           {
            "marker": {
             "colorbar": {
              "outlinewidth": 0,
              "ticks": ""
             }
            },
            "type": "scattergeo"
           }
          ],
          "scattergl": [
           {
            "marker": {
             "line": {
              "color": "#283442"
             }
            },
            "type": "scattergl"
           }
          ],
          "scattermapbox": [
           {
            "marker": {
             "colorbar": {
              "outlinewidth": 0,
              "ticks": ""
             }
            },
            "type": "scattermapbox"
           }
          ],
          "scatterpolar": [
           {
            "marker": {
             "colorbar": {
              "outlinewidth": 0,
              "ticks": ""
             }
            },
            "type": "scatterpolar"
           }
          ],
          "scatterpolargl": [
           {
            "marker": {
             "colorbar": {
              "outlinewidth": 0,
              "ticks": ""
             }
            },
            "type": "scatterpolargl"
           }
          ],
          "scatterternary": [
           {
            "marker": {
             "colorbar": {
              "outlinewidth": 0,
              "ticks": ""
             }
            },
            "type": "scatterternary"
           }
          ],
          "surface": [
           {
            "colorbar": {
             "outlinewidth": 0,
             "ticks": ""
            },
            "colorscale": [
             [
              0,
              "#0d0887"
             ],
             [
              0.1111111111111111,
              "#46039f"
             ],
             [
              0.2222222222222222,
              "#7201a8"
             ],
             [
              0.3333333333333333,
              "#9c179e"
             ],
             [
              0.4444444444444444,
              "#bd3786"
             ],
             [
              0.5555555555555556,
              "#d8576b"
             ],
             [
              0.6666666666666666,
              "#ed7953"
             ],
             [
              0.7777777777777778,
              "#fb9f3a"
             ],
             [
              0.8888888888888888,
              "#fdca26"
             ],
             [
              1,
              "#f0f921"
             ]
            ],
            "type": "surface"
           }
          ],
          "table": [
           {
            "cells": {
             "fill": {
              "color": "#506784"
             },
             "line": {
              "color": "rgb(17,17,17)"
             }
            },
            "header": {
             "fill": {
              "color": "#2a3f5f"
             },
             "line": {
              "color": "rgb(17,17,17)"
             }
            },
            "type": "table"
           }
          ]
         },
         "layout": {
          "annotationdefaults": {
           "arrowcolor": "#f2f5fa",
           "arrowhead": 0,
           "arrowwidth": 1
          },
          "autotypenumbers": "strict",
          "coloraxis": {
           "colorbar": {
            "outlinewidth": 0,
            "ticks": ""
           }
          },
          "colorscale": {
           "diverging": [
            [
             0,
             "#8e0152"
            ],
            [
             0.1,
             "#c51b7d"
            ],
            [
             0.2,
             "#de77ae"
            ],
            [
             0.3,
             "#f1b6da"
            ],
            [
             0.4,
             "#fde0ef"
            ],
            [
             0.5,
             "#f7f7f7"
            ],
            [
             0.6,
             "#e6f5d0"
            ],
            [
             0.7,
             "#b8e186"
            ],
            [
             0.8,
             "#7fbc41"
            ],
            [
             0.9,
             "#4d9221"
            ],
            [
             1,
             "#276419"
            ]
           ],
           "sequential": [
            [
             0,
             "#0d0887"
            ],
            [
             0.1111111111111111,
             "#46039f"
            ],
            [
             0.2222222222222222,
             "#7201a8"
            ],
            [
             0.3333333333333333,
             "#9c179e"
            ],
            [
             0.4444444444444444,
             "#bd3786"
            ],
            [
             0.5555555555555556,
             "#d8576b"
            ],
            [
             0.6666666666666666,
             "#ed7953"
            ],
            [
             0.7777777777777778,
             "#fb9f3a"
            ],
            [
             0.8888888888888888,
             "#fdca26"
            ],
            [
             1,
             "#f0f921"
            ]
           ],
           "sequentialminus": [
            [
             0,
             "#0d0887"
            ],
            [
             0.1111111111111111,
             "#46039f"
            ],
            [
             0.2222222222222222,
             "#7201a8"
            ],
            [
             0.3333333333333333,
             "#9c179e"
            ],
            [
             0.4444444444444444,
             "#bd3786"
            ],
            [
             0.5555555555555556,
             "#d8576b"
            ],
            [
             0.6666666666666666,
             "#ed7953"
            ],
            [
             0.7777777777777778,
             "#fb9f3a"
            ],
            [
             0.8888888888888888,
             "#fdca26"
            ],
            [
             1,
             "#f0f921"
            ]
           ]
          },
          "colorway": [
           "#636efa",
           "#EF553B",
           "#00cc96",
           "#ab63fa",
           "#FFA15A",
           "#19d3f3",
           "#FF6692",
           "#B6E880",
           "#FF97FF",
           "#FECB52"
          ],
          "font": {
           "color": "#f2f5fa"
          },
          "geo": {
           "bgcolor": "rgb(17,17,17)",
           "lakecolor": "rgb(17,17,17)",
           "landcolor": "rgb(17,17,17)",
           "showlakes": true,
           "showland": true,
           "subunitcolor": "#506784"
          },
          "hoverlabel": {
           "align": "left"
          },
          "hovermode": "closest",
          "mapbox": {
           "style": "dark"
          },
          "paper_bgcolor": "rgb(17,17,17)",
          "plot_bgcolor": "rgb(17,17,17)",
          "polar": {
           "angularaxis": {
            "gridcolor": "#506784",
            "linecolor": "#506784",
            "ticks": ""
           },
           "bgcolor": "rgb(17,17,17)",
           "radialaxis": {
            "gridcolor": "#506784",
            "linecolor": "#506784",
            "ticks": ""
           }
          },
          "scene": {
           "xaxis": {
            "backgroundcolor": "rgb(17,17,17)",
            "gridcolor": "#506784",
            "gridwidth": 2,
            "linecolor": "#506784",
            "showbackground": true,
            "ticks": "",
            "zerolinecolor": "#C8D4E3"
           },
           "yaxis": {
            "backgroundcolor": "rgb(17,17,17)",
            "gridcolor": "#506784",
            "gridwidth": 2,
            "linecolor": "#506784",
            "showbackground": true,
            "ticks": "",
            "zerolinecolor": "#C8D4E3"
           },
           "zaxis": {
            "backgroundcolor": "rgb(17,17,17)",
            "gridcolor": "#506784",
            "gridwidth": 2,
            "linecolor": "#506784",
            "showbackground": true,
            "ticks": "",
            "zerolinecolor": "#C8D4E3"
           }
          },
          "shapedefaults": {
           "line": {
            "color": "#f2f5fa"
           }
          },
          "sliderdefaults": {
           "bgcolor": "#C8D4E3",
           "bordercolor": "rgb(17,17,17)",
           "borderwidth": 1,
           "tickwidth": 0
          },
          "ternary": {
           "aaxis": {
            "gridcolor": "#506784",
            "linecolor": "#506784",
            "ticks": ""
           },
           "baxis": {
            "gridcolor": "#506784",
            "linecolor": "#506784",
            "ticks": ""
           },
           "bgcolor": "rgb(17,17,17)",
           "caxis": {
            "gridcolor": "#506784",
            "linecolor": "#506784",
            "ticks": ""
           }
          },
          "title": {
           "x": 0.05
          },
          "updatemenudefaults": {
           "bgcolor": "#506784",
           "borderwidth": 0
          },
          "xaxis": {
           "automargin": true,
           "gridcolor": "#283442",
           "linecolor": "#506784",
           "ticks": "",
           "title": {
            "standoff": 15
           },
           "zerolinecolor": "#283442",
           "zerolinewidth": 2
          },
          "yaxis": {
           "automargin": true,
           "gridcolor": "#283442",
           "linecolor": "#506784",
           "ticks": "",
           "title": {
            "standoff": 15
           },
           "zerolinecolor": "#283442",
           "zerolinewidth": 2
          }
         }
        },
        "uniformtext": {
         "minsize": 10,
         "mode": "hide"
        },
        "width": 1000
       }
      },
      "text/html": [
       "<div>                            <div id=\"c1b36abd-3622-4d1e-b90b-56828ce2bb56\" class=\"plotly-graph-div\" style=\"height:1000px; width:1000px;\"></div>            <script type=\"text/javascript\">                require([\"plotly\"], function(Plotly) {                    window.PLOTLYENV=window.PLOTLYENV || {};                                    if (document.getElementById(\"c1b36abd-3622-4d1e-b90b-56828ce2bb56\")) {                    Plotly.newPlot(                        \"c1b36abd-3622-4d1e-b90b-56828ce2bb56\",                        [{\"customdata\":[[\".buildpacks\",\"Jo\\u00e3o Darcy Tinoco Sant'Anna Neto\"],[\".coveragerc\",\"Jo\\u00e3o Darcy Tinoco Sant'Anna Neto\"],[\".devcontainer\\u002fDockerfile.workspace\",\"Jose Tiago\"],[\".devcontainer\\u002fdevcontainer.json\",\"Jo\\u00e3o Darcy Tinoco Sant'Anna Neto\"],[\".devcontainer\\u002fdocker-compose.workspace.yml\",\"Jo\\u00e3o Darcy Tinoco Sant'Anna Neto\"],[\".devcontainer\\u002fproxy-services.sh\",\"Jo\\u00e3o Darcy Tinoco Sant'Anna Neto\"],[\".dockerignore\",\"Jo\\u00e3o Darcy Tinoco Sant'Anna Neto\"],[\".gitignore\",\"Jo\\u00e3o Darcy Tinoco Sant'Anna Neto\"],[\".gitlab-ci.yml\",\"Jo\\u00e3o Darcy Tinoco Sant'Anna Neto\"],[\".gitlab\\u002fmerge_request_templates\\u002fBUGFIX.md\",\"Jo\\u00e3o Darcy Tinoco Sant'Anna Neto\"],[\".gitlab\\u002fmerge_request_templates\\u002fFEATURE.md\",\"Jo\\u00e3o Darcy Tinoco Sant'Anna Neto\"],[\".gitlab\\u002fmerge_request_templates\\u002fREFACTOR_CHORE.md\",\"Jo\\u00e3o Darcy Tinoco Sant'Anna Neto\"],[\".gitlab\\u002fmerge_request_templates\\u002fTEST.md\",\"JOS\\u00c9 TIAGO\"],[\".gitlab\\u002fmerge_request_templates\\u002fdefault.md\",\"Jo\\u00e3o Darcy Tinoco Sant'Anna Neto\"],[\".gitleaksignore\",\"Jo\\u00e3o Darcy Tinoco Sant'Anna Neto\"],[\".pre-commit-config.yaml\",\"Jo\\u00e3o Darcy Tinoco Sant'Anna Neto\"],[\"CHANGELOG.md\",\"Jo\\u00e3o Darcy Tinoco Sant'Anna Neto\"],[\"HOPDB.md\",\"Jo\\u00e3o Darcy Tinoco Sant'Anna Neto\"],[\"LIB.md\",\"Jo\\u00e3o Darcy Tinoco Sant'Anna Neto\"],[\"Makefile\",\"Jo\\u00e3o Darcy Tinoco Sant'Anna Neto\"],[\"README.md\",\"Jo\\u00e3o Darcy Tinoco Sant'Anna Neto\"],[\"analytics\\u002f__init__.py\",\"Jo\\u00e3o Darcy Tinoco Sant'Anna Neto\"],[\"analytics\\u002fapis\\u002ffastapi\\u002fcdi.py\",\"Jo\\u00e3o Darcy Tinoco Sant'Anna Neto\"],[\"analytics\\u002fapis\\u002ffastapi\\u002froutes\\u002fbase.py\",\"Jo\\u00e3o Darcy Tinoco Sant'Anna Neto\"],[\"analytics\\u002fapis\\u002ffastapi\\u002froutes\\u002fhealth_router.py\",\"Jo\\u00e3o Darcy Tinoco Sant'Anna Neto\"],[\"analytics\\u002fapis\\u002ffastapi\\u002froutes\\u002flead_analytics_router.py\",\"Jo\\u00e3o Darcy Tinoco Sant'Anna Neto\"],[\"analytics\\u002fapp.py\",\"Jo\\u00e3o Darcy Tinoco Sant'Anna Neto\"],[\"analytics\\u002fbusiness\\u002f__init__.py\",\"Jo\\u00e3o Darcy Tinoco Sant'Anna Neto\"],[\"analytics\\u002fbusiness\\u002fcdi.py\",\"Jo\\u00e3o Darcy Tinoco Sant'Anna Neto\"],[\"analytics\\u002fbusiness\\u002flazy.py\",\"Jo\\u00e3o Darcy Tinoco Sant'Anna Neto\"],[\"analytics\\u002fbusiness\\u002flead_analytics_bo.py\",\"Rafael Mendes\"],[\"analytics\\u002fcdi.py\",\"Igor Alves\"],[\"analytics\\u002fconfig\\u002flogging.py\",\"Jo\\u00e3o Darcy Tinoco Sant'Anna Neto\"],[\"analytics\\u002fconfig\\u002fpydantic.py\",\"Jo\\u00e3o Darcy Tinoco Sant'Anna Neto\"],[\"analytics\\u002fdto\\u002fbase.py\",\"Jo\\u00e3o Darcy Tinoco Sant'Anna Neto\"],[\"analytics\\u002fdto\\u002flead_analytics.py\",\"Jo\\u00e3o Darcy Tinoco Sant'Anna Neto\"],[\"analytics\\u002fintegrations\\u002fcdi.py\",\"vinicius.taveira\"],[\"analytics\\u002fintegrations\\u002fdatabase.py\",\"Jo\\u00e3o Darcy Tinoco Sant'Anna Neto\"],[\"analytics\\u002fintegrations\\u002fdatabase_reloader.py\",\"LEONARDO BALDUINO DA SILVA\"],[\"analytics\\u002frepository\\u002f__init__.py\",\"Jo\\u00e3o Darcy Tinoco Sant'Anna Neto\"],[\"analytics\\u002frepository\\u002fcdi.py\",\"Jo\\u00e3o Darcy Tinoco Sant'Anna Neto\"],[\"analytics\\u002frepository\\u002flead_analytics_repository.py\",\"Jo\\u00e3o Darcy Tinoco Sant'Anna Neto\"],[\"analytics\\u002fstandalone\\u002fmain.py\",\"Jo\\u00e3o Darcy Tinoco Sant'Anna Neto\"],[\"analytics\\u002fstandalone\\u002fpages\\u002f1_lead_dashboard.py\",\"Jo\\u00e3o Darcy Tinoco Sant'Anna Neto\"],[\"analytics\\u002fstandalone\\u002fpages\\u002f2_lead_classifiers.py\",\"Jos\\u00e9 Tiago\"],[\"analytics\\u002fstandalone\\u002fpages\\u002f3_lead_workflows.py\",\"Jos\\u00e9 Tiago\"],[\"analytics\\u002fstandalone\\u002futils.py\",\"Igor Alves\"],[\"analytics\\u002futils\\u002fcdi.py\",\"Jos\\u00e9 Tiago\"],[\"analytics\\u002futils\\u002fdatetime.py\",\"Jo\\u00e3o Darcy Tinoco Sant'Anna Neto\"],[\"analytics\\u002futils\\u002foperators.py\",\"Jo\\u00e3o Darcy Tinoco Sant'Anna Neto\"],[\"analytics\\u002futils\\u002fsettings.py\",\"Jo\\u00e3o Darcy Tinoco Sant'Anna Neto\"],[\"analytics\\u002fworkers\\u002findex_job.py\",\"Jo\\u00e3o Darcy Tinoco Sant'Anna Neto\"],[\"analytics\\u002fworkers\\u002flead_incremental_indexer\\u002f__init__.py\",\"Alex Boa Morte\"],[\"analytics\\u002fworkers\\u002flead_incremental_indexer\\u002fjob.py\",\"guilherme.barroso\"],[\"analytics\\u002fworkers\\u002flead_incremental_indexer\\u002fmigrate.py\",\"Jo\\u00e3o Darcy Tinoco Sant'Anna Neto\"],[\"analytics\\u002fworkers\\u002flead_incremental_indexer\\u002fmodels.py\",\"Jose Tiago\"],[\"analytics\\u002fworkers\\u002flead_incremental_indexer\\u002fprojection.py\",\"vittoria.zago\"],[\"analytics\\u002fworkers\\u002flead_incremental_indexer\\u002ftransform.py\",\"Deivis Alves\"],[\"analytics_api.py\",\"ricardo.carvalho\"],[\"analytics_incremental_ingestion.py\",\"ricardo.carvalho\"],[\"api_main.py\",\"Deivis Alves\"],[\"app\\u002f__init__.py\",\"anderson.pereira\"],[\"app\\u002fapis\\u002fcommon\\u002fworkflow_acl.py\",\"anderson.pereira\"],[\"app\\u002fapis\\u002ffastapi\\u002f__init__.py\",\"anderson.pereira\"],[\"app\\u002fapis\\u002ffastapi\\u002fapi_app.py\",\"Guilherme Alves\"],[\"app\\u002fapis\\u002ffastapi\\u002fconfigs\\u002f__init__.py\",\"guilherme.barroso\"],[\"app\\u002fapis\\u002ffastapi\\u002fconfigs\\u002fcors.py\",\"Jo\\u00e3o Darcy Tinoco Sant'Anna Neto\"],[\"app\\u002fapis\\u002ffastapi\\u002fconfigs\\u002fexception_handler.py\",\"guilherme.barroso\"],[\"app\\u002fapis\\u002ffastapi\\u002fconfigs\\u002frequest_context_middleware.py\",\"Rafael Vieira Mendes\"],[\"app\\u002fapis\\u002ffastapi\\u002fopenapi_description.md\",\"Jo\\u00e3o Darcy Tinoco Sant'Anna Neto\"],[\"app\\u002fapis\\u002ffastapi\\u002froutes\\u002f__init__.py\",\"Jo\\u00e3o Darcy Tinoco Sant'Anna Neto\"],[\"app\\u002fapis\\u002ffastapi\\u002froutes\\u002faction_rest.py\",\"Jo\\u00e3o Darcy Tinoco Sant'Anna Neto\"],[\"app\\u002fapis\\u002ffastapi\\u002froutes\\u002fanalytics_rest.py\",\"Jo\\u00e3o Darcy Tinoco Sant'Anna Neto\"],[\"app\\u002fapis\\u002ffastapi\\u002froutes\\u002fauth_rest.py\",\"vittoria.zago\"],[\"app\\u002fapis\\u002ffastapi\\u002froutes\\u002fbase.py\",\"Jo\\u00e3o Darcy Tinoco Sant'Anna Neto\"],[\"app\\u002fapis\\u002ffastapi\\u002froutes\\u002fbatch_data_object_rest.py\",\"Bruno Falbo\"],[\"app\\u002fapis\\u002ffastapi\\u002froutes\\u002fcdi.py\",\"vinicius.taveira\"],[\"app\\u002fapis\\u002ffastapi\\u002froutes\\u002fchange_history_rest.py\",\"vinicius.taveira\"],[\"app\\u002fapis\\u002ffastapi\\u002froutes\\u002fcontact_rest.py\",\"marc.junior\"],[\"app\\u002fapis\\u002ffastapi\\u002froutes\\u002fcore_data_object_classifier_rest.py\",\"Jo\\u00e3o Darcy Tinoco Sant'Anna Neto\"],[\"app\\u002fapis\\u002ffastapi\\u002froutes\\u002fdefinition_rest.py\",\"Jo\\u00e3o Darcy Tinoco Sant'Anna Neto\"],[\"app\\u002fapis\\u002ffastapi\\u002froutes\\u002fhealth_rest.py\",\"Jos\\u00e9 Tiago\"],[\"app\\u002fapis\\u002ffastapi\\u002froutes\\u002flead_analytics_rest.py\",\"Jos\\u00e9 Tiago\"],[\"app\\u002fapis\\u002ffastapi\\u002froutes\\u002flead_legacy_rest.py\",\"Jos\\u00e9 Tiago\"],[\"app\\u002fapis\\u002ffastapi\\u002froutes\\u002flead_rest.py\",\"marcsue\"],[\"app\\u002fapis\\u002ffastapi\\u002froutes\\u002fpartner_rest.py\",\"filipe rocha\"],[\"app\\u002fapis\\u002ffastapi\\u002froutes\\u002fqa_rest.py\",\"guilherme.barroso\"],[\"app\\u002fapis\\u002ffastapi\\u002froutes\\u002frouter.py\",\"guilherme.barroso\"],[\"app\\u002fapis\\u002ffastapi\\u002froutes\\u002fservice_rest.py\",\"tulio.simoes\"],[\"app\\u002fapis\\u002ffastapi\\u002froutes\\u002fuser_rest.py\",\"guilherme.barroso\"],[\"app\\u002fapis\\u002ffastapi\\u002froutes\\u002fvault_rest.py\",\"vittoria.zago\"],[\"app\\u002fapis\\u002ffastapi\\u002froutes\\u002fworkflow_rest.py\",\"Igor Alves\"],[\"app\\u002fbusinesses\\u002f__init__.py\",\"Jo\\u00e3o Darcy Tinoco Sant'Anna Neto\"],[\"app\\u002fbusinesses\\u002faction_bo.py\",\"Jo\\u00e3o Darcy Tinoco Sant'Anna Neto\"],[\"app\\u002fbusinesses\\u002fauth_bo.py\",\"Jo\\u00e3o Darcy Tinoco Sant'Anna Neto\"],[\"app\\u002fbusinesses\\u002fbank_bo.py\",\"Jo\\u00e3o Darcy Tinoco Sant'Anna Neto\"],[\"app\\u002fbusinesses\\u002fbank_db.json\",\"Jo\\u00e3o Darcy Tinoco Sant'Anna Neto\"],[\"app\\u002fbusinesses\\u002fbatch_data_object_bo.py\",\"Jo\\u00e3o Darcy Tinoco Sant'Anna Neto\"],[\"app\\u002fbusinesses\\u002fbatch_data_object_row_bo.py\",\"Jo\\u00e3o Darcy Tinoco Sant'Anna Neto\"],[\"app\\u002fbusinesses\\u002fblocklist_bo.py\",\"Jos\\u00e9 Tiago\"],[\"app\\u002fbusinesses\\u002fcdi.py\",\"Eduardo de Souza Santos\"],[\"app\\u002fbusinesses\\u002fchange_history_bo.py\",\"Jos\\u00e9 Tiago\"],[\"app\\u002fbusinesses\\u002fcommunication_hub_bo.py\",\"guilherme.barroso\"],[\"app\\u002fbusinesses\\u002fcontact_bo.py\",\"guilherme.barroso\"],[\"app\\u002fbusinesses\\u002fcontact_history_bo.py\",\"Jose Tiago\"],[\"app\\u002fbusinesses\\u002fcore\\u002fdata_object\\u002fclassifier_bo.py\",\"Guilherme Alves\"],[\"app\\u002fbusinesses\\u002fdata_object_bo.py\",\"guilherme.barroso\"],[\"app\\u002fbusinesses\\u002fdefinition_bo.py\",\"marcsue\"],[\"app\\u002fbusinesses\\u002fexceptions\\u002f__init__.py\",\"marc.junior\"],[\"app\\u002fbusinesses\\u002fexceptions\\u002faction_exceptions.py\",\"vinicius.taveira\"],[\"app\\u002fbusinesses\\u002fexceptions\\u002fbase.py\",\"guilherme.barroso\"],[\"app\\u002fbusinesses\\u002fexceptions\\u002fbatch_data_object_exceptions.py\",\"Jos\\u00e9 Tiago\"],[\"app\\u002fbusinesses\\u002fexceptions\\u002fcontact_exceptions.py\",\"guilherme.barroso\"],[\"app\\u002fbusinesses\\u002fexceptions\\u002fcore_data_object_classifier.py\",\"guilherme.barroso\"],[\"app\\u002fbusinesses\\u002fexceptions\\u002fdata_object.py\",\"guilherme.barroso\"],[\"app\\u002fbusinesses\\u002fexceptions\\u002fdata_object_batch_exceptions.py\",\"JOS\\u00c9 TIAGO\"],[\"app\\u002fbusinesses\\u002fexceptions\\u002fdefinition_exceptions.py\",\"JOS\\u00c9 TIAGO\"],[\"app\\u002fbusinesses\\u002fexceptions\\u002flead_exceptions.py\",\"Jose Tiago\"],[\"app\\u002fbusinesses\\u002fexceptions\\u002fpartner_exceptions.py\",\"Jo\\u00e3o Darcy Tinoco Sant'Anna Neto\"],[\"app\\u002fbusinesses\\u002fexceptions\\u002fpurchase_order_exceptions.py\",\"Jo\\u00e3o Darcy Tinoco Sant'Anna Neto\"],[\"app\\u002fbusinesses\\u002fexceptions\\u002fservice_exceptions.py\",\"Jo\\u00e3o Darcy Tinoco Sant'Anna Neto\"],[\"app\\u002fbusinesses\\u002fexceptions\\u002fusers_exceptions.py\",\"Jo\\u00e3o Darcy Tinoco Sant'Anna Neto\"],[\"app\\u002fbusinesses\\u002fexceptions\\u002fvault_exceptions.py\",\"Jo\\u00e3o Darcy Tinoco Sant'Anna Neto\"],[\"app\\u002fbusinesses\\u002fexceptions\\u002fworkflow_exceptions.py\",\"Jo\\u00e3o Darcy Tinoco Sant'Anna Neto\"],[\"app\\u002fbusinesses\\u002fgeneric_mapping_bo.py\",\"Jose Tiago\"],[\"app\\u002fbusinesses\\u002fhandlers\\u002f__init__.py\",\"Jose Tiago\"],[\"app\\u002fbusinesses\\u002fhandlers\\u002fassignment_handler.py\",\"Jo\\u00e3o Darcy Tinoco Sant'Anna Neto\"],[\"app\\u002fbusinesses\\u002fhandlers\\u002fcdi.py\",\"Jo\\u00e3o Darcy Tinoco Sant'Anna Neto\"],[\"app\\u002fbusinesses\\u002fhelena_bo.py\",\"Jo\\u00e3o Darcy Tinoco Sant'Anna Neto\"],[\"app\\u002fbusinesses\\u002fid_magalu_bo.py\",\"Jo\\u00e3o Darcy Tinoco Sant'Anna Neto\"],[\"app\\u002fbusinesses\\u002fintegration_platform_bo.py\",\"Jo\\u00e3o Darcy Tinoco Sant'Anna Neto\"],[\"app\\u002fbusinesses\\u002flazy.py\",\"Jo\\u00e3o Darcy Tinoco Sant'Anna Neto\"],[\"app\\u002fbusinesses\\u002flead_analytics_bo.py\",\"vittoria.zago\"],[\"app\\u002fbusinesses\\u002flead_bo.py\",\"Jo\\u00e3o Darcy Tinoco Sant'Anna Neto\"],[\"app\\u002fbusinesses\\u002flead_legacy_bo.py\",\"guilherme.barroso\"],[\"app\\u002fbusinesses\\u002flead_magalu_bo.py\",\"Tiago Ferreira\"],[\"app\\u002fbusinesses\\u002flead_workflow_bo.py\",\"Jo\\u00e3o Darcy Tinoco Sant'Anna Neto\"],[\"app\\u002fbusinesses\\u002fmagalu_tax_bo.py\",\"Jos\\u00e9 Tiago\"],[\"app\\u002fbusinesses\\u002fmagalu_test_purchase_bo.py\",\"Jo\\u00e3o Darcy Tinoco Sant'Anna Neto\"],[\"app\\u002fbusinesses\\u002fobservers\\u002fcdi.py\",\"Jo\\u00e3o Darcy Tinoco Sant'Anna Neto\"],[\"app\\u002fbusinesses\\u002fobservers\\u002fcontact_observers.py\",\"Jo\\u00e3o Darcy Tinoco Sant'Anna Neto\"],[\"app\\u002fbusinesses\\u002fobservers\\u002fdefault_observers.py\",\"Jo\\u00e3o Darcy Tinoco Sant'Anna Neto\"],[\"app\\u002fbusinesses\\u002fobservers\\u002flead_observers.py\",\"Carlos Bridi\"],[\"app\\u002fbusinesses\\u002fobservers\\u002fmagalu\\u002fcdi.py\",\"Jo\\u00e3o Darcy Tinoco Sant'Anna Neto\"],[\"app\\u002fbusinesses\\u002fobservers\\u002fmagalu\\u002fdtos\\u002flead_mma_schema.py\",\"Carlos Bridi\"],[\"app\\u002fbusinesses\\u002fobservers\\u002fmagalu\\u002flead_seller_orders_observers.py\",\"Jo\\u00e3o Darcy Tinoco Sant'Anna Neto\"],[\"app\\u002fbusinesses\\u002fobservers\\u002fmagalu\\u002frisk_analysis.py\",\"Jo\\u00e3o Darcy Tinoco Sant'Anna Neto\"],[\"app\\u002fbusinesses\\u002fobservers\\u002fmagalu\\u002ftest_purchase\\u002fTestPurchaseService.py\",\"Jo\\u00e3o Darcy Tinoco Sant'Anna Neto\"],[\"app\\u002fbusinesses\\u002fobservers\\u002fmagalu_lead_observers.py\",\"filipe rocha\"],[\"app\\u002fbusinesses\\u002fobservers\\u002fps_contract.py\",\"filipe rocha\"],[\"app\\u002fbusinesses\\u002fobservers\\u002fworkflow_observers.py\",\"Jos\\u00e9 Tiago\"],[\"app\\u002fbusinesses\\u002fpartner_bo.py\",\"Jo\\u00e3o Darcy Tinoco Sant'Anna Neto\"],[\"app\\u002fbusinesses\\u002fqa_bo.py\",\"Rafael Mendes\"],[\"app\\u002fbusinesses\\u002fsecurity_bo.py\",\"Jo\\u00e3o Darcy Tinoco Sant'Anna Neto\"],[\"app\\u002fbusinesses\\u002fsecuritys\\u002f__init__.py\",\"Jo\\u00e3o Darcy Tinoco Sant'Anna Neto\"],[\"app\\u002fbusinesses\\u002fsecuritys\\u002fworkflow_security.py\",\"Igor Lucio Rocha Alves\"],[\"app\\u002fbusinesses\\u002fseller_product_bo.py\",\"Jo\\u00e3o Darcy Tinoco Sant'Anna Neto\"],[\"app\\u002fbusinesses\\u002fservice_bo.py\",\"Jo\\u00e3o Darcy Tinoco Sant'Anna Neto\"],[\"app\\u002fbusinesses\\u002ftag_bo.py\",\"Jo\\u00e3o Darcy Tinoco Sant'Anna Neto\"],[\"app\\u002fbusinesses\\u002fuser_bo.py\",\"Jo\\u00e3o Darcy Tinoco Sant'Anna Neto\"],[\"app\\u002fbusinesses\\u002fvault_bo.py\",\"Jo\\u00e3o Darcy Tinoco Sant'Anna Neto\"],[\"app\\u002fbusinesses\\u002fworkflow_bo.py\",\"Jo\\u00e3o Darcy Tinoco Sant'Anna Neto\"],[\"app\\u002fcdi.py\",\"Jo\\u00e3o Darcy Tinoco Sant'Anna Neto\"],[\"app\\u002fcommons\\u002f__init__.py\",\"Jo\\u00e3o Darcy Tinoco Sant'Anna Neto\"],[\"app\\u002fcommons\\u002fasync_worker\\u002f__init__.py\",\"Jo\\u00e3o Darcy Tinoco Sant'Anna Neto\"],[\"app\\u002fcommons\\u002fasync_worker\\u002fapplication.py\",\"guilherme.barroso\"],[\"app\\u002fcommons\\u002fasync_worker\\u002fpool\\u002f__init__.py\",\"Jo\\u00e3o Darcy Tinoco Sant'Anna Neto\"],[\"app\\u002fcommons\\u002fasync_worker\\u002fpool\\u002fbase.py\",\"Jo\\u00e3o Darcy Tinoco Sant'Anna Neto\"],[\"app\\u002fcommons\\u002fasync_worker\\u002fpool\\u002funmanaged.py\",\"Jo\\u00e3o Darcy Tinoco Sant'Anna Neto\"],[\"app\\u002fcommons\\u002fasync_worker\\u002ftasks\\u002f__init__.py\",\"Jo\\u00e3o Darcy Tinoco Sant'Anna Neto\"],[\"app\\u002fcommons\\u002fasync_worker\\u002ftasks\\u002fbase.py\",\"Jo\\u00e3o Darcy Tinoco Sant'Anna Neto\"],[\"app\\u002fcommons\\u002fasync_worker\\u002futil.py\",\"Jo\\u00e3o Darcy Tinoco Sant'Anna Neto\"],[\"app\\u002fcommons\\u002fcache\\u002fcdi.py\",\"Jo\\u00e3o Darcy Tinoco Sant'Anna Neto\"],[\"app\\u002fcommons\\u002fcache\\u002fimpl\\u002f__init__.py\",\"Jo\\u00e3o Darcy Tinoco Sant'Anna Neto\"],[\"app\\u002fcommons\\u002fcache\\u002fimpl\\u002fserializer\\u002f__init__.py\",\"Jo\\u00e3o Darcy Tinoco Sant'Anna Neto\"],[\"app\\u002fcommons\\u002fcache\\u002fimpl\\u002fserializer\\u002fjson.py\",\"Jo\\u00e3o Darcy Tinoco Sant'Anna Neto\"],[\"app\\u002fcommons\\u002fcache\\u002fimpl\\u002fstorage\\u002finternal\\u002f__init__.py\",\"Deivis Alves\"],[\"app\\u002fcommons\\u002fcache\\u002fimpl\\u002fstorage\\u002finternal\\u002fcachetools.py\",\"vittoria.zago\"],[\"app\\u002fcommons\\u002fcache\\u002fimpl\\u002fstorage\\u002fremote\\u002f__init__.py\",\"Bruno Falbo\"],[\"app\\u002fcommons\\u002fcache\\u002fimpl\\u002fstorage\\u002fremote\\u002fredis.py\",\"vittoria.zago\"],[\"app\\u002fcommons\\u002fcache\\u002fsdk\\u002f__init__.py\",\"Jo\\u00e3o Darcy Tinoco Sant'Anna Neto\"],[\"app\\u002fcommons\\u002fcache\\u002fsdk\\u002fcache.py\",\"Jo\\u00e3o Darcy Tinoco Sant'Anna Neto\"],[\"app\\u002fcommons\\u002fcache\\u002fsdk\\u002fserializer.py\",\"Jo\\u00e3o Darcy Tinoco Sant'Anna Neto\"],[\"app\\u002fcommons\\u002fcache\\u002fsdk\\u002fstorage.py\",\"Jo\\u00e3o Darcy Tinoco Sant'Anna Neto\"],[\"app\\u002fcommons\\u002fcdi.py\",\"Jo\\u00e3o Darcy Tinoco Sant'Anna Neto\"],[\"app\\u002fcommons\\u002fconstants.py\",\"Jo\\u00e3o Darcy Tinoco Sant'Anna Neto\"],[\"app\\u002fcommons\\u002fdelay_strategies.py\",\"Jo\\u00e3o Darcy Tinoco Sant'Anna Neto\"],[\"app\\u002fcommons\\u002feventbus\\u002f__init__.py\",\"Jo\\u00e3o Darcy Tinoco Sant'Anna Neto\"],[\"app\\u002fcommons\\u002feventbus\\u002feventbus.py\",\"Jo\\u00e3o Darcy Tinoco Sant'Anna Neto\"],[\"app\\u002fcommons\\u002feventbus\\u002fexecutor.py\",\"Eduardo de Souza Santos\"],[\"app\\u002fcommons\\u002feventbus\\u002fregistry.py\",\"Jo\\u00e3o Darcy Tinoco Sant'Anna Neto\"],[\"app\\u002fcommons\\u002fexceptions.py\",\"Jo\\u00e3o Darcy Tinoco Sant'Anna Neto\"],[\"app\\u002fcommons\\u002ffeature_flag.py\",\"Rafael Vieira Mendes\"],[\"app\\u002fcommons\\u002fhttp\\u002f__init__.py\",\"Eduardo de Souza Santos\"],[\"app\\u002fcommons\\u002fhttp\\u002fcdi.py\",\"Alex Boa Morte\"],[\"app\\u002fcommons\\u002fhttp\\u002fclient.py\",\"Jo\\u00e3o Darcy Tinoco Sant'Anna Neto\"],[\"app\\u002fcommons\\u002flock\\u002f__init__.py\",\"Jo\\u00e3o Darcy Tinoco Sant'Anna Neto\"],[\"app\\u002fcommons\\u002flock\\u002fbase.py\",\"JOS\\u00c9 TIAGO\"],[\"app\\u002fcommons\\u002flock\\u002fcdi.py\",\"Jo\\u00e3o Darcy Tinoco Sant'Anna Neto\"],[\"app\\u002fcommons\\u002flock\\u002fredis_lock.py\",\"Igor Alves\"],[\"app\\u002fcommons\\u002fmapping\\u002f__init__.py\",\"Igor Alves\"],[\"app\\u002fcommons\\u002fmetrics.py\",\"Ettore Mitsueda\"],[\"app\\u002fcommons\\u002fmodels.py\",\"Jose Tiago\"],[\"app\\u002fcommons\\u002fpatterns.py\",\"guilherme.barroso\"],[\"app\\u002fcommons\\u002fpubsub\\u002f__init__.py\",\"Jo\\u00e3o Darcy Tinoco Sant'Anna Neto\"],[\"app\\u002fcommons\\u002fpubsub\\u002fmessage.py\",\"Jo\\u00e3o Darcy Tinoco Sant'Anna Neto\"],[\"app\\u002fcommons\\u002fpydantic.py\",\"Jo\\u00e3o Darcy Tinoco Sant'Anna Neto\"],[\"app\\u002fcommons\\u002fsettings.py\",\"Jo\\u00e3o Darcy Tinoco Sant'Anna Neto\"],[\"app\\u002fcommons\\u002ftranslations\\u002fpydantic\\u002fen_us.json\",\"Jo\\u00e3o Darcy Tinoco Sant'Anna Neto\"],[\"app\\u002fcommons\\u002ftranslations\\u002fpydantic\\u002fpt_br.json\",\"Igor Alves\"],[\"app\\u002fconfigs\\u002f__init__.py\",\"guilherme.barroso\"],[\"app\\u002fconfigs\\u002feventbus.py\",\"Rafael Vieira Mendes\"],[\"app\\u002fconfigs\\u002flogging.py\",\"Jo\\u00e3o Darcy Tinoco Sant'Anna Neto\"],[\"app\\u002fconfigs\\u002fpydantic_config.py\",\"Jo\\u00e3o Darcy Tinoco Sant'Anna Neto\"],[\"app\\u002fdomains\\u002f__init__.py\",\"Jo\\u00e3o Darcy Tinoco Sant'Anna Neto\"],[\"app\\u002fdomains\\u002factions_domain.py\",\"Jo\\u00e3o Darcy Tinoco Sant'Anna Neto\"],[\"app\\u002fdomains\\u002faudit_domain.py\",\"LEONARDO BALDUINO DA SILVA\"],[\"app\\u002fdomains\\u002fauth_domain.py\",\"Rafael Vieira Mendes\"],[\"app\\u002fdomains\\u002fbase.py\",\"Jo\\u00e3o Darcy Tinoco Sant'Anna Neto\"],[\"app\\u002fdomains\\u002fbase_external_reference.py\",\"Jo\\u00e3o Darcy Tinoco Sant'Anna Neto\"],[\"app\\u002fdomains\\u002fbatch_data_object_domain.py\",\"Jo\\u00e3o Darcy Tinoco Sant'Anna Neto\"],[\"app\\u002fdomains\\u002fchange_history_domain.py\",\"Rafael Mendes\"],[\"app\\u002fdomains\\u002fclassifier_domain.py\",\"Jos\\u00e9 Tiago\"],[\"app\\u002fdomains\\u002fcontact_domain.py\",\"Jos\\u00e9 Tiago\"],[\"app\\u002fdomains\\u002fcontact_history_domain.py\",\"Jo\\u00e3o Darcy Tinoco Sant'Anna Neto\"],[\"app\\u002fdomains\\u002fdata_object_domain.py\",\"Jo\\u00e3o Darcy Tinoco Sant'Anna Neto\"],[\"app\\u002fdomains\\u002fdefinitions_domain.py\",\"Jo\\u00e3o Darcy Tinoco Sant'Anna Neto\"],[\"app\\u002fdomains\\u002fgeneric_mapping_domain.py\",\"Jo\\u00e3o Darcy Tinoco Sant'Anna Neto\"],[\"app\\u002fdomains\\u002fintegration_platform_domain.py\",\"Jo\\u00e3o Darcy Tinoco Sant'Anna Neto\"],[\"app\\u002fdomains\\u002fleads_domain.py\",\"Jo\\u00e3o Darcy Tinoco Sant'Anna Neto\"],[\"app\\u002fdomains\\u002fleads_projection_minimalist_domain.py\",\"Jo\\u00e3o Darcy Tinoco Sant'Anna Neto\"],[\"app\\u002fdomains\\u002fleads_projection_pk_only_domain.py\",\"Jo\\u00e3o Darcy Tinoco Sant'Anna Neto\"],[\"app\\u002fdomains\\u002fpartners_domain.py\",\"guilherme.barroso\"],[\"app\\u002fdomains\\u002fscript_domain.py\",\"Jo\\u00e3o Darcy Tinoco Sant'Anna Neto\"],[\"app\\u002fdomains\\u002fseller_product.py\",\"Igor Lucio Rocha Alves\"],[\"app\\u002fdomains\\u002fservices_domain.py\",\"Jos\\u00e9 Tiago\"],[\"app\\u002fdomains\\u002ftags_domain.py\",\"Jo\\u00e3o Darcy Tinoco Sant'Anna Neto\"],[\"app\\u002fdomains\\u002fusers_domain.py\",\"Jo\\u00e3o Darcy Tinoco Sant'Anna Neto\"],[\"app\\u002fdomains\\u002fvaults_domain.py\",\"Jos\\u00e9 Tiago\"],[\"app\\u002fdomains\\u002fworkflow_domain.py\",\"Jo\\u00e3o Darcy Tinoco Sant'Anna Neto\"],[\"app\\u002fdtos\\u002f__init__.py\",\"Jo\\u00e3o Darcy Tinoco Sant'Anna Neto\"],[\"app\\u002fdtos\\u002faction_schema.py\",\"Jo\\u00e3o Darcy Tinoco Sant'Anna Neto\"],[\"app\\u002fdtos\\u002fauth_schema.py\",\"Jo\\u00e3o Darcy Tinoco Sant'Anna Neto\"],[\"app\\u002fdtos\\u002fbank_information_domain.py\",\"Jo\\u00e3o Darcy Tinoco Sant'Anna Neto\"],[\"app\\u002fdtos\\u002fbase.py\",\"Igor Lucio Rocha Alves\"],[\"app\\u002fdtos\\u002fbase_external_reference_schema.py\",\"Igor Lucio Rocha Alves\"],[\"app\\u002fdtos\\u002fbatch_data_object_schema.py\",\"Luiz Tibo\"],[\"app\\u002fdtos\\u002fchange_history_schema.py\",\"Jo\\u00e3o Darcy Tinoco Sant'Anna Neto\"],[\"app\\u002fdtos\\u002fclassifier_schema.py\",\"Jo\\u00e3o Darcy Tinoco Sant'Anna Neto\"],[\"app\\u002fdtos\\u002fcontact_history_schema.py\",\"Jo\\u00e3o Darcy Tinoco Sant'Anna Neto\"],[\"app\\u002fdtos\\u002fcontact_schema.py\",\"Jo\\u00e3o Darcy Tinoco Sant'Anna Neto\"],[\"app\\u002fdtos\\u002fdefinition_schema.py\",\"Jo\\u00e3o Darcy Tinoco Sant'Anna Neto\"],[\"app\\u002fdtos\\u002fexamples.py\",\"Jo\\u00e3o Darcy Tinoco Sant'Anna Neto\"],[\"app\\u002fdtos\\u002fhealth_schema.py\",\"Jo\\u00e3o Darcy Tinoco Sant'Anna Neto\"],[\"app\\u002fdtos\\u002fintegration_platforms_schema.py\",\"Jo\\u00e3o Darcy Tinoco Sant'Anna Neto\"],[\"app\\u002fdtos\\u002flead_analytics_schema.py\",\"Jo\\u00e3o Darcy Tinoco Sant'Anna Neto\"],[\"app\\u002fdtos\\u002flead_projection_minimalist_schema.py\",\"Jo\\u00e3o Darcy Tinoco Sant'Anna Neto\"],[\"app\\u002fdtos\\u002flead_projection_pk_only_schema.py\",\"Jo\\u00e3o Darcy Tinoco Sant'Anna Neto\"],[\"app\\u002fdtos\\u002flead_schema.py\",\"guilherme.barroso\"],[\"app\\u002fdtos\\u002fpagination_schema.py\",\"Jos\\u00e9 Tiago\"],[\"app\\u002fdtos\\u002fpartner_schema.py\",\"Jo\\u00e3o Darcy Tinoco Sant'Anna Neto\"],[\"app\\u002fdtos\\u002fqa_schema.py\",\"Jo\\u00e3o Darcy Tinoco Sant'Anna Neto\"],[\"app\\u002fdtos\\u002fregulatory_data_schema.py\",\"Guilherme Alves\"],[\"app\\u002fdtos\\u002fscript_schema.py\",\"Jos\\u00e9 Tiago\"],[\"app\\u002fdtos\\u002fseller_product_schema.py\",\"Bruno Portis\"],[\"app\\u002fdtos\\u002fservice_schema.py\",\"guilherme.barroso\"],[\"app\\u002fdtos\\u002ftag_schema.py\",\"Jo\\u00e3o Darcy Tinoco Sant'Anna Neto\"],[\"app\\u002fdtos\\u002fusers_schema.py\",\"Jo\\u00e3o Darcy Tinoco Sant'Anna Neto\"],[\"app\\u002fdtos\\u002fvault_schema.py\",\"Jo\\u00e3o Darcy Tinoco Sant'Anna Neto\"],[\"app\\u002fdtos\\u002fworkflow_schema.py\",\"guilherme.barroso\"],[\"app\\u002feventbus\\u002f__init__.py\",\"Guilherme Alves Borges\"],[\"app\\u002feventbus\\u002fevent_bus_facade.py\",\"Guilherme Alves Borges\"],[\"app\\u002feventbus\\u002fevents\\u002f__init__.py\",\"Jos\\u00e9 Tiago\"],[\"app\\u002feventbus\\u002fevents\\u002fapplication.py\",\"Jos\\u00e9 Tiago\"],[\"app\\u002feventbus\\u002fevents\\u002fbase.py\",\"Jos\\u00e9 Tiago\"],[\"app\\u002feventbus\\u002fevents\\u002fdata_object.py\",\"Jo\\u00e3o Darcy Tinoco Sant'Anna Neto\"],[\"app\\u002feventbus\\u002fevents\\u002flead.py\",\"Jo\\u00e3o Darcy Tinoco Sant'Anna Neto\"],[\"app\\u002feventbus\\u002fevents\\u002fpersistence.py\",\"Jo\\u00e3o Darcy Tinoco Sant'Anna Neto\"],[\"app\\u002feventbus\\u002fevents\\u002fseller_contact.py\",\"Jos\\u00e9 Tiago\"],[\"app\\u002feventbus\\u002fevents\\u002fworkflow.py\",\"Jos\\u00e9 Tiago\"],[\"app\\u002feventbus\\u002fevents\\u002fworkflow_engine.py\",\"Jos\\u00e9 Tiago\"],[\"app\\u002fintegrations\\u002f__init__.py\",\"Jos\\u00e9 Tiago\"],[\"app\\u002fintegrations\\u002fbackends\\u002f__init__.py\",\"Jos\\u00e9 Tiago\"],[\"app\\u002fintegrations\\u002fbackends\\u002fapigee\\u002fbackend.py\",\"Jos\\u00e9 Tiago\"],[\"app\\u002fintegrations\\u002fbackends\\u002fblocklist\\u002fbackend.py\",\"Jos\\u00e9 Tiago\"],[\"app\\u002fintegrations\\u002fbackends\\u002fblocklist\\u002fconstants.py\",\"Jos\\u00e9 Tiago\"],[\"app\\u002fintegrations\\u002fbackends\\u002fblocklist\\u002fmodels.py\",\"Jo\\u00e3o Darcy Tinoco Sant'Anna Neto\"],[\"app\\u002fintegrations\\u002fbackends\\u002fcdi.py\",\"guilherme.barroso\"],[\"app\\u002fintegrations\\u002fbackends\\u002fclient_v1_api\\u002fbackend.py\",\"Jos\\u00e9 Tiago\"],[\"app\\u002fintegrations\\u002fbackends\\u002fclient_v1_api\\u002fmodels.py\",\"Jo\\u00e3o Darcy Tinoco Sant'Anna Neto\"],[\"app\\u002fintegrations\\u002fbackends\\u002fcommunication_hub_api\\u002fbackend.py\",\"Jo\\u00e3o Darcy Tinoco Sant'Anna Neto\"],[\"app\\u002fintegrations\\u002fbackends\\u002fcommunication_hub_api\\u002fmodels.py\",\"Jo\\u00e3o Darcy Tinoco Sant'Anna Neto\"],[\"app\\u002fintegrations\\u002fbackends\\u002fhelena_api\\u002fbackend.py\",\"Jos\\u00e9 Tiago\"],[\"app\\u002fintegrations\\u002fbackends\\u002fhelena_api\\u002fmodels.py\",\"Jos\\u00e9 Tiago\"],[\"app\\u002fintegrations\\u002fbackends\\u002fid_magalu\\u002fbackend.py\",\"guilherme.barroso\"],[\"app\\u002fintegrations\\u002fbackends\\u002fid_magalu\\u002fmodels.py\",\"Jo\\u00e3o Darcy Tinoco Sant'Anna Neto\"],[\"app\\u002fintegrations\\u002fbackends\\u002fmaas_integra_api\\u002fbackend.py\",\"guilherme.barroso\"],[\"app\\u002fintegrations\\u002fbackends\\u002fmaas_integra_api\\u002fconsumer.py\",\"guilherme.barroso\"],[\"app\\u002fintegrations\\u002fbackends\\u002fmaas_integra_api\\u002fmodels.py\",\"Jos\\u00e9 Tiago\"],[\"app\\u002fintegrations\\u002fbackends\\u002fmaas_products_api\\u002fbackend.py\",\"Jos\\u00e9 Tiago\"],[\"app\\u002fintegrations\\u002fbackends\\u002fmaas_products_api\\u002fconstants.py\",\"vinicius.taveira\"],[\"app\\u002fintegrations\\u002fbackends\\u002fmaas_products_api\\u002fmodels.py\",\"vinicius.taveira\"],[\"app\\u002fintegrations\\u002fbackends\\u002fmaestro\\u002fbackend.py\",\"Jos\\u00e9 Tiago\"],[\"app\\u002fintegrations\\u002fbackends\\u002fmaestro\\u002fmodels.py\",\"guilherme.barroso\"],[\"app\\u002fintegrations\\u002fbackends\\u002fmagalu_tax\\u002fbackend.py\",\"Jo\\u00e3o Darcy Tinoco Sant'Anna Neto\"],[\"app\\u002fintegrations\\u002fbackends\\u002fmagalu_tax\\u002fexceptions.py\",\"Eduardo de Souza Santos\"],[\"app\\u002fintegrations\\u002fbackends\\u002fmagalu_tax\\u002fmodels.py\",\"Eduardo de Souza Santos\"],[\"app\\u002fintegrations\\u002fbackends\\u002fmp_security\\u002fbackend.py\",\"Jos\\u00e9 Tiago\"],[\"app\\u002fintegrations\\u002fbackends\\u002fmp_security\\u002fmodels.py\",\"Rafael Mendes\"],[\"app\\u002fintegrations\\u002fbackends\\u002fmp_seller_api\\u002fbackend.py\",\"Jo\\u00e3o Darcy Tinoco Sant'Anna Neto\"],[\"app\\u002fintegrations\\u002fbackends\\u002fmp_seller_api\\u002fconstants.py\",\"Jo\\u00e3o Darcy Tinoco Sant'Anna Neto\"],[\"app\\u002fintegrations\\u002fbackends\\u002fmp_seller_api\\u002fmodels.py\",\"Jo\\u00e3o Darcy Tinoco Sant'Anna Neto\"],[\"app\\u002fintegrations\\u002fbackends\\u002fopen_id\\u002fbackend.py\",\"Jo\\u00e3o Darcy Tinoco Sant'Anna Neto\"],[\"app\\u002fintegrations\\u002fbackends\\u002fp52_api\\u002fbackend.py\",\"Jo\\u00e3o Darcy Tinoco Sant'Anna Neto\"],[\"app\\u002fintegrations\\u002fbackends\\u002fp52_api\\u002fmodels.py\",\"Jo\\u00e3o Darcy Tinoco Sant'Anna Neto\"],[\"app\\u002fintegrations\\u002fbackends\\u002fps_account\\u002fbackend.py\",\"Vin\\u00edcius Vitoreli Figueiredo Taveira\"],[\"app\\u002fintegrations\\u002fbackends\\u002fps_account\\u002fbusiness.py\",\"Jos\\u00e9 Tiago\"],[\"app\\u002fintegrations\\u002fbackends\\u002fps_account\\u002fmodels.py\",\"JOS\\u00c9 TIAGO\"],[\"app\\u002fintegrations\\u002fbackends\\u002fps_contract_api\\u002fbackend.py\",\"guilherme.barroso\"],[\"app\\u002fintegrations\\u002fbackends\\u002fps_contract_api\\u002fmodels.py\",\"Rafael Mendes\"],[\"app\\u002fintegrations\\u002fbackends\\u002fps_onboarding_analytics\\u002fbackend.py\",\"JOS\\u00c9 TIAGO\"],[\"app\\u002fintegrations\\u002fbackends\\u002fps_onboarding_analytics\\u002fmodels.py\",\"JOS\\u00c9 TIAGO\"],[\"app\\u002fintegrations\\u002fbackends\\u002fps_order3p_api\\u002fbackend.py\",\"Eduardo de Souza Santos\"],[\"app\\u002fintegrations\\u002fbackends\\u002fps_order3p_api\\u002fclient.py\",\"JOS\\u00c9 TIAGO\"],[\"app\\u002fintegrations\\u002fbackends\\u002fps_order3p_api\\u002fmodels.py\",\"JOS\\u00c9 TIAGO\"],[\"app\\u002fintegrations\\u002fbackends\\u002fsebastian_api\\u002fbackend.py\",\"JOS\\u00c9 TIAGO\"],[\"app\\u002fintegrations\\u002fbackends\\u002fsebastian_api\\u002fbase.py\",\"JOS\\u00c9 TIAGO\"],[\"app\\u002fintegrations\\u002fbackends\\u002fsebastian_api\\u002femulated.py\",\"JOS\\u00c9 TIAGO\"],[\"app\\u002fintegrations\\u002fbackends\\u002fsebastian_api\\u002fexceptions.py\",\"JOS\\u00c9 TIAGO\"],[\"app\\u002fintegrations\\u002fbackends\\u002fsebastian_api\\u002fmodels.py\",\"Jos\\u00e9 Tiago\"],[\"app\\u002fintegrations\\u002fbackends\\u002fzendesk_api\\u002fbackend.py\",\"guilherme.barroso\"],[\"app\\u002fintegrations\\u002fbackends\\u002fzendesk_api\\u002fclient.py\",\"guilherme.barroso\"],[\"app\\u002fintegrations\\u002fbackends\\u002fzendesk_api\\u002fmodels.py\",\"Jos\\u00e9 Tiago\"],[\"app\\u002fintegrations\\u002fcdi.py\",\"Jos\\u00e9 Tiago\"],[\"app\\u002fintegrations\\u002fdatalake\\u002f__init__.py\",\"Jos\\u00e9 Tiago\"],[\"app\\u002fintegrations\\u002fdatalake\\u002fbackends\\u002f__init__.py\",\"Jos\\u00e9 Tiago\"],[\"app\\u002fintegrations\\u002fdatalake\\u002fbackends\\u002fbase.py\",\"guilherme.barroso\"],[\"app\\u002fintegrations\\u002fdatalake\\u002fbackends\\u002ftetrix_kafka\\u002fcore.py\",\"JOS\\u00c9 TIAGO\"],[\"app\\u002fintegrations\\u002fdatalake\\u002fbackends\\u002ftetrix_kafka\\u002fhandlers.py\",\"Igor Alves\"],[\"app\\u002fintegrations\\u002fdatalake\\u002fbackends\\u002ftetrix_kafka\\u002fmessages.py\",\"guilherme.barroso\"],[\"app\\u002fintegrations\\u002fdatalake\\u002fcdi.py\",\"JOS\\u00c9 TIAGO\"],[\"app\\u002fintegrations\\u002fdatalake\\u002fconstants.py\",\"guilherme.barroso\"],[\"app\\u002fintegrations\\u002fdatalake\\u002fcore.py\",\"Guilherme Alves\"],[\"app\\u002fintegrations\\u002fdb\\u002f__init__.py\",\"Jos\\u00e9 Tiago\"],[\"app\\u002fintegrations\\u002fdb\\u002fmongo\\u002f__init__.py\",\"Jos\\u00e9 Tiago\"],[\"app\\u002fintegrations\\u002fdb\\u002fmongo\\u002fcdi.py\",\"guilherme.barroso\"],[\"app\\u002fintegrations\\u002fdb\\u002fmongo\\u002fencoders.py\",\"guilherme.barroso\"],[\"app\\u002fintegrations\\u002fdb\\u002fmongo\\u002ffields.py\",\"JOS\\u00c9 TIAGO\"],[\"app\\u002fintegrations\\u002fdb\\u002fmongo\\u002fmongo.py\",\"guilherme.barroso\"],[\"app\\u002fintegrations\\u002fdb\\u002fmongo\\u002ftypes.py\",\"Marcelo Bastos Ribeiro\"],[\"app\\u002fintegrations\\u002fpubsub\\u002f__init__.py\",\"Marcelo Bastos Ribeiro\"],[\"app\\u002fintegrations\\u002fpubsub\\u002fbackend.py\",\"JOS\\u00c9 TIAGO\"],[\"app\\u002fintegrations\\u002fpubsub\\u002fcdi.py\",\"JOS\\u00c9 TIAGO\"],[\"app\\u002fintegrations\\u002fpubsub\\u002fconsumer.py\",\"JOS\\u00c9 TIAGO\"],[\"app\\u002fintegrations\\u002fpubsub\\u002fencoder.py\",\"JOS\\u00c9 TIAGO\"],[\"app\\u002fintegrations\\u002fpubsub\\u002fgoogle_pubsub\\u002f__init__.py\",\"Jo\\u00e3o Darcy Tinoco Sant'Anna Neto\"],[\"app\\u002fintegrations\\u002fpubsub\\u002fgoogle_pubsub\\u002fconsumer.py\",\"Marcelo Bastos Ribeiro\"],[\"app\\u002fintegrations\\u002fpubsub\\u002fgoogle_pubsub\\u002fmessage.py\",\"JOS\\u00c9 TIAGO\"],[\"app\\u002fintegrations\\u002fpubsub\\u002fkafka\\u002f__init__.py\",\"Jos\\u00e9 Tiago\"],[\"app\\u002fintegrations\\u002fpubsub\\u002fkafka\\u002fconsumer.py\",\"Jos\\u00e9 Tiago\"],[\"app\\u002fintegrations\\u002fpubsub\\u002fkafka\\u002fmessage.py\",\"JOS\\u00c9 TIAGO\"],[\"app\\u002fintegrations\\u002fpubsub\\u002fkafka\\u002fproducer.py\",\"Igor Alves\"],[\"app\\u002fintegrations\\u002fpubsub\\u002fkafka\\u002fretry.py\",\"LEONARDO BALDUINO DA SILVA\"],[\"app\\u002fintegrations\\u002fpubsub\\u002fmessage.py\",\"LEONARDO BALDUINO DA SILVA\"],[\"app\\u002fintegrations\\u002fpubsub\\u002fproducer.py\",\"JOS\\u00c9 TIAGO\"],[\"app\\u002fintegrations\\u002fpubsub\\u002fretry.py\",\"Jos\\u00e9 Tiago\"],[\"app\\u002fintegrations\\u002frisk_analysis\\u002f__init__.py\",\"JOS\\u00c9 TIAGO\"],[\"app\\u002fintegrations\\u002frisk_analysis\\u002fcdi.py\",\"LEONARDO BALDUINO DA SILVA\"],[\"app\\u002fintegrations\\u002frisk_analysis\\u002fcore.py\",\"guilherme.barroso\"],[\"app\\u002fintegrations\\u002frisk_analysis\\u002ffake\\u002fimpl.py\",\"guilherme.barroso\"],[\"app\\u002fintegrations\\u002frisk_analysis\\u002fmodels.py\",\"marcsue\"],[\"app\\u002fintegrations\\u002frisk_analysis\\u002fzaig\\u002fimpl.py\",\"Jos\\u00e9 Tiago\"],[\"app\\u002fintegrations\\u002fscheduler\\u002f__init__.py\",\"Rafael Vieira Mendes\"],[\"app\\u002fintegrations\\u002fscheduler\\u002fbase.py\",\"Jos\\u00e9 Tiago\"],[\"app\\u002fintegrations\\u002fscheduler\\u002fcdi.py\",\"Jos\\u00e9 Tiago\"],[\"app\\u002fintegrations\\u002fscheduler\\u002fimpl\\u002fcdi.py\",\"Marcelo Bastos Ribeiro\"],[\"app\\u002fintegrations\\u002fscheduler\\u002fimpl\\u002flite\\u002f__init__.py\",\"guilherme.barroso\"],[\"app\\u002fintegrations\\u002fscheduler\\u002fimpl\\u002flite\\u002fexecutors\\u002f__init__.py\",\"guilherme.barroso\"],[\"app\\u002fintegrations\\u002fscheduler\\u002fimpl\\u002flite\\u002fexecutors\\u002fasyncio.py\",\"Jos\\u00e9 Tiago\"],[\"app\\u002fintegrations\\u002fscheduler\\u002fimpl\\u002flite\\u002fexecutors\\u002fbase.py\",\"LEONARDO BALDUINO DA SILVA\"],[\"app\\u002fintegrations\\u002fscheduler\\u002fimpl\\u002flite\\u002fjob.py\",\"marcsue\"],[\"app\\u002fintegrations\\u002fscheduler\\u002fimpl\\u002flite\\u002fjobstores\\u002f__init__.py\",\"guilherme.barroso\"],[\"app\\u002fintegrations\\u002fscheduler\\u002fimpl\\u002flite\\u002fjobstores\\u002fbase.py\",\"guilherme.barroso\"],[\"app\\u002fintegrations\\u002fscheduler\\u002fimpl\\u002flite\\u002fjobstores\\u002fmongo.py\",\"Jose Tiago\"],[\"app\\u002fintegrations\\u002fscheduler\\u002fimpl\\u002flite\\u002fscheduler.py\",\"LEONARDO BALDUINO DA SILVA\"],[\"app\\u002fintegrations\\u002fscheduler\\u002fimpl\\u002fnoscheduler.py\",\"LEONARDO BALDUINO DA SILVA\"],[\"app\\u002fintegrations\\u002fseller_product_info\\u002f__init__.py\",\"Jose Tiago\"],[\"app\\u002fintegrations\\u002fseller_product_info\\u002fbase.py\",\"Jose Tiago\"],[\"app\\u002fintegrations\\u002fseller_product_info\\u002fcdi.py\",\"guilherme.barroso\"],[\"app\\u002fintegrations\\u002fseller_product_info\\u002flocal_seller_product_info.py\",\"Jose Tiago\"],[\"app\\u002flazy\\u002fmagalu_marketplace.py\",\"guilherme.barroso\"],[\"app\\u002fpubsub\\u002fmessages\\u002f__init__.py\",\"Jo\\u00e3o Darcy Tinoco Sant'Anna Neto\"],[\"app\\u002fpubsub\\u002fmessages\\u002fbase.py\",\"marc.junior\"],[\"app\\u002fpubsub\\u002fmessages\\u002fdata_object_row_batch.py\",\"marc.junior\"],[\"app\\u002fpubsub\\u002fmessages\\u002fseller_contract.py\",\"Jose Tiago\"],[\"app\\u002fpubsub\\u002fmessages\\u002fseller_order.py\",\"Jose Tiago\"],[\"app\\u002fpubsub\\u002fmessages\\u002ftag.py\",\"Jose Tiago\"],[\"app\\u002fpubsub\\u002fmessages\\u002fwebhook.py\",\"Jose Tiago\"],[\"app\\u002fpubsub\\u002fmessages\\u002fworkflow_retry.py\",\"Guilherme Alves Borges\"],[\"app\\u002fpubsub\\u002fmessages\\u002fworkflow_wakeup.py\",\"Jose Tiago\"],[\"app\\u002frepositories\\u002f__init__.py\",\"guilherme.barroso\"],[\"app\\u002frepositories\\u002faction_repository.py\",\"guilherme.barroso\"],[\"app\\u002frepositories\\u002fauth_repository.py\",\"tulio.simoes\"],[\"app\\u002frepositories\\u002fbase.py\",\"guilherme.barroso\"],[\"app\\u002frepositories\\u002fbatch_data_object_repository.py\",\"guilherme.barroso\"],[\"app\\u002frepositories\\u002fbatch_data_object_row_repository.py\",\"vinicius.taveira\"],[\"app\\u002frepositories\\u002fcdi.py\",\"Jo\\u00e3o Darcy Tinoco Sant'Anna Neto\"],[\"app\\u002frepositories\\u002fchange_history_repository.py\",\"guilherme.barroso\"],[\"app\\u002frepositories\\u002fcontact_history_repository.py\",\"Jo\\u00e3o Darcy Tinoco Sant'Anna Neto\"],[\"app\\u002frepositories\\u002fcontact_repository.py\",\"Jose Tiago\"],[\"app\\u002frepositories\\u002fcore_data_object_classifier.py\",\"guilherme.barroso\"],[\"app\\u002frepositories\\u002fdefinition_repository.py\",\"guilherme.barroso\"],[\"app\\u002frepositories\\u002fgeneric_mapping_repository.py\",\"Jo\\u00e3o Darcy Tinoco Sant'Anna Neto\"],[\"app\\u002frepositories\\u002fintegration_platform_repository.py\",\"Jo\\u00e3o Darcy Tinoco Sant'Anna Neto\"],[\"app\\u002frepositories\\u002flead_repository.py\",\"Jo\\u00e3o Darcy Tinoco Sant'Anna Neto\"],[\"app\\u002frepositories\\u002fpartner_repository.py\",\"guilherme.barroso\"],[\"app\\u002frepositories\\u002fseller_product_repository.py\",\"guilherme.barroso\"],[\"app\\u002frepositories\\u002fservice_repository.py\",\"vinicius.taveira\"],[\"app\\u002frepositories\\u002ftag_repository.py\",\"Jose Tiago\"],[\"app\\u002frepositories\\u002fuser_repository.py\",\"guilherme.barroso\"],[\"app\\u002frepositories\\u002fvault_repository.py\",\"Jose Tiago\"],[\"app\\u002frepositories\\u002fworkflow_repository.py\",\"guilherme.barroso\"],[\"app\\u002fscript\\u002f__init__.py\",\"guilherme.barroso\"],[\"app\\u002fscript\\u002fcdi.py\",\"Jose Tiago\"],[\"app\\u002fscript\\u002fengine.py\",\"Jo\\u00e3o Darcy Tinoco Sant'Anna Neto\"],[\"app\\u002fscript\\u002ffactory.py\",\"guilherme.barroso\"],[\"app\\u002fscript\\u002fimpl\\u002feql.py\",\"marc.junior\"],[\"app\\u002fscript\\u002fimpl\\u002fpython\\u002ffunctions.py\",\"marc.junior\"],[\"app\\u002fscript\\u002fimpl\\u002fpython\\u002fpolicy.py\",\"Jo\\u00e3o Darcy Tinoco Sant'Anna Neto\"],[\"app\\u002fscript\\u002fimpl\\u002fpython\\u002fpython_eval.py\",\"marc.junior\"],[\"app\\u002fscript\\u002fimpl\\u002fpython\\u002fpython_exec.py\",\"Marcelo Bastos Ribeiro\"],[\"app\\u002fscript\\u002fimpl\\u002fpython\\u002futil.py\",\"Marcelo Bastos Ribeiro\"],[\"app\\u002futils\\u002f__init__.py\",\"guilherme.barroso\"],[\"app\\u002futils\\u002fapm.py\",\"Jo\\u00e3o Darcy Tinoco Sant'Anna Neto\"],[\"app\\u002futils\\u002fasyncio.py\",\"guilherme.barroso\"],[\"app\\u002futils\\u002fbenchmark.py\",\"guilherme.barroso\"],[\"app\\u002futils\\u002fcdi.py\",\"Jo\\u00e3o Darcy Tinoco Sant'Anna Neto\"],[\"app\\u002futils\\u002fconstants.py\",\"guilherme.barroso\"],[\"app\\u002futils\\u002fcryptography.py\",\"guilherme.barroso\"],[\"app\\u002futils\\u002fdatetime.py\",\"guilherme.barroso\"],[\"app\\u002futils\\u002fencoders.py\",\"Jo\\u00e3o Darcy Tinoco Sant'Anna Neto\"],[\"app\\u002futils\\u002fexception.py\",\"guilherme.barroso\"],[\"app\\u002futils\\u002ffields.py\",\"Jo\\u00e3o Darcy Tinoco Sant'Anna Neto\"],[\"app\\u002futils\\u002ffilter_permission.py\",\"Jo\\u00e3o Darcy Tinoco Sant'Anna Neto\"],[\"app\\u002futils\\u002ffreezing.py\",\"Jo\\u00e3o Darcy Tinoco Sant'Anna Neto\"],[\"app\\u002futils\\u002fhash.py\",\"Jo\\u00e3o Darcy Tinoco Sant'Anna Neto\"],[\"app\\u002futils\\u002flazy.py\",\"Jose Tiago\"],[\"app\\u002futils\\u002flogging\\u002f__init__.py\",\"Igor Alves\"],[\"app\\u002futils\\u002flogging\\u002fanonimizer.py\",\"Jo\\u00e3o Darcy Tinoco Sant'Anna Neto\"],[\"app\\u002futils\\u002flogging\\u002fconfigure.py\",\"Jo\\u00e3o Darcy Tinoco Sant'Anna Neto\"],[\"app\\u002futils\\u002fopen_id.py\",\"Igor Alves\"],[\"app\\u002futils\\u002fpydantic.py\",\"Jo\\u00e3o Darcy Tinoco Sant'Anna Neto\"],[\"app\\u002futils\\u002fpydash.py\",\"Igor Alves\"],[\"app\\u002futils\\u002fresource_permission.py\",\"guilherme.barroso\"],[\"app\\u002futils\\u002fsecurity.py\",\"Igor Alves\"],[\"app\\u002futils\\u002fsentinel.py\",\"Jo\\u00e3o Darcy Tinoco Sant'Anna Neto\"],[\"app\\u002futils\\u002fsettings.py\",\"George Silva\"],[\"app\\u002futils\\u002ftoken.py\",\"Igor Alves\"],[\"app\\u002futils\\u002ftypes.py\",\"guilherme.barroso\"],[\"app\\u002futils\\u002futil.py\",\"Jo\\u00e3o Darcy Tinoco Sant'Anna Neto\"],[\"app\\u002futils\\u002fuuid.py\",\"guilherme.barroso\"],[\"app\\u002futils\\u002fvalidators.py\",\"guilherme.barroso\"],[\"app\\u002fworkers\\u002f__init__.py\",\"Jo\\u00e3o Darcy Tinoco Sant'Anna Neto\"],[\"app\\u002fworkers\\u002fapp.py\",\"Jo\\u00e3o Darcy Tinoco Sant'Anna Neto\"],[\"app\\u002fworkers\\u002fcdi.py\",\"guilherme.barroso\"],[\"app\\u002fworkers\\u002fcommon.py\",\"Jos\\u00e9 Tiago\"],[\"app\\u002fworkers\\u002fdata_object_batch\\u002fapp.py\",\"Jo\\u00e3o Darcy Tinoco Sant'Anna Neto\"],[\"app\\u002fworkers\\u002fdata_object_batch\\u002fbatch_handlers\\u002f__init__.py\",\"Jo\\u00e3o Darcy Tinoco Sant'Anna Neto\"],[\"app\\u002fworkers\\u002fdata_object_batch\\u002fbatch_handlers\\u002fdata_object_batch.py\",\"Jos\\u00e9 Tiago\"],[\"app\\u002fworkers\\u002fdata_object_batch\\u002fbatch_handlers\\u002fdata_object_row_batch.py\",\"guilherme.barroso\"],[\"app\\u002fworkers\\u002fdata_object_batch\\u002fcdi.py\",\"Jo\\u00e3o Darcy Tinoco Sant'Anna Neto\"],[\"app\\u002fworkers\\u002fdata_object_batch\\u002fhandlers\\u002f__init__.py\",\"Jo\\u00e3o Darcy Tinoco Sant'Anna Neto\"],[\"app\\u002fworkers\\u002fdata_object_batch\\u002fhandlers\\u002fdata_object_batch_context_handler.py\",\"Jo\\u00e3o Darcy Tinoco Sant'Anna Neto\"],[\"app\\u002fworkers\\u002fdata_object_batch\\u002fhandlers\\u002fdata_object_batch_lead_handler.py\",\"Jo\\u00e3o Darcy Tinoco Sant'Anna Neto\"],[\"app\\u002fworkers\\u002fdata_object_batch\\u002fmessage_processor_data_object.py\",\"Igor Alves\"],[\"app\\u002fworkers\\u002fdata_object_batch\\u002ftasks\\u002f__init__.py\",\"guilherme.barroso\"],[\"app\\u002fworkers\\u002fdata_object_batch\\u002ftasks\\u002fdata_object_batch_action_task.py\",\"guilherme.barroso\"],[\"app\\u002fworkers\\u002fdata_object_batch\\u002ftasks\\u002fdata_object_row_batch_action_task.py\",\"Ylgner Becton\"],[\"app\\u002fworkers\\u002fdata_object_batch\\u002ftasks\\u002fmodels.py\",\"Igor Alves\"],[\"app\\u002fworkers\\u002ffreight\\u002fapp.py\",\"Igor Lucio Rocha Alves\"],[\"app\\u002fworkers\\u002ffreight\\u002fcdi.py\",\"Jo\\u00e3o Darcy Tinoco Sant'Anna Neto\"],[\"app\\u002fworkers\\u002ffreight\\u002fsettings.py\",\"Jo\\u00e3o Darcy Tinoco Sant'Anna Neto\"],[\"app\\u002fworkers\\u002ffreight\\u002ftasks\\u002f__init__.py\",\"Jo\\u00e3o Darcy Tinoco Sant'Anna Neto\"],[\"app\\u002fworkers\\u002ffreight\\u002ftasks\\u002ffreight_task.py\",\"Jo\\u00e3o Darcy Tinoco Sant'Anna Neto\"],[\"app\\u002fworkers\\u002ffreight\\u002ftasks\\u002fmodels.py\",\"Jo\\u00e3o Darcy Tinoco Sant'Anna Neto\"],[\"app\\u002fworkers\\u002flead\\u002fapp.py\",\"Jo\\u00e3o Darcy Tinoco Sant'Anna Neto\"],[\"app\\u002fworkers\\u002flead\\u002fcdi.py\",\"Jo\\u00e3o Darcy Tinoco Sant'Anna Neto\"],[\"app\\u002fworkers\\u002flead\\u002ftasks\\u002fevents.py\",\"Jo\\u00e3o Darcy Tinoco Sant'Anna Neto\"],[\"app\\u002fworkers\\u002flead\\u002ftasks\\u002frisk_analysis_response_observers.py\",\"Jo\\u00e3o Darcy Tinoco Sant'Anna Neto\"],[\"app\\u002fworkers\\u002flead\\u002ftasks\\u002frisk_analysis_response_task.py\",\"Jo\\u00e3o Darcy Tinoco Sant'Anna Neto\"],[\"app\\u002fworkers\\u002fnetshoes\\u002fapp.py\",\"JOS\\u00c9 TIAGO\"],[\"app\\u002fworkers\\u002fnetshoes\\u002fcdi.py\",\"JOS\\u00c9 TIAGO\"],[\"app\\u002fworkers\\u002fnetshoes\\u002ftasks\\u002f__init__.py\",\"Jo\\u00e3o Darcy Tinoco Sant'Anna Neto\"],[\"app\\u002fworkers\\u002fnetshoes\\u002ftasks\\u002fmodels\\u002fbase.py\",\"Jo\\u00e3o Darcy Tinoco Sant'Anna Neto\"],[\"app\\u002fworkers\\u002fnetshoes\\u002ftasks\\u002fmodels\\u002fconstants.py\",\"Jo\\u00e3o Darcy Tinoco Sant'Anna Neto\"],[\"app\\u002fworkers\\u002fnetshoes\\u002ftasks\\u002fmodels\\u002fseller_freight.py\",\"Jo\\u00e3o Darcy Tinoco Sant'Anna Neto\"],[\"app\\u002fworkers\\u002fnetshoes\\u002ftasks\\u002fmodels\\u002fseller_user.py\",\"Jo\\u00e3o Darcy Tinoco Sant'Anna Neto\"],[\"app\\u002fworkers\\u002fnetshoes\\u002ftasks\\u002fmodels\\u002fsellers.py\",\"Jo\\u00e3o Darcy Tinoco Sant'Anna Neto\"],[\"app\\u002fworkers\\u002fnetshoes\\u002ftasks\\u002fnetshoes_lead_mapper.py\",\"Jo\\u00e3o Darcy Tinoco Sant'Anna Neto\"],[\"app\\u002fworkers\\u002fnetshoes\\u002ftasks\\u002fnetshoes_task.py\",\"Jo\\u00e3o Darcy Tinoco Sant'Anna Neto\"],[\"app\\u002fworkers\\u002fproduct\\u002fapp.py\",\"Jo\\u00e3o Darcy Tinoco Sant'Anna Neto\"],[\"app\\u002fworkers\\u002fproduct\\u002fcdi.py\",\"Jo\\u00e3o Darcy Tinoco Sant'Anna Neto\"],[\"app\\u002fworkers\\u002fproduct\\u002fsettings.py\",\"Jo\\u00e3o Darcy Tinoco Sant'Anna Neto\"],[\"app\\u002fworkers\\u002fproduct\\u002ftasks\\u002f__init__.py\",\"Jo\\u00e3o Darcy Tinoco Sant'Anna Neto\"],[\"app\\u002fworkers\\u002fproduct\\u002ftasks\\u002fmodels.py\",\"Jo\\u00e3o Darcy Tinoco Sant'Anna Neto\"],[\"app\\u002fworkers\\u002fproduct\\u002ftasks\\u002fproduct_task.py\",\"Jo\\u00e3o Darcy Tinoco Sant'Anna Neto\"],[\"app\\u002fworkers\\u002frisk_analysis\\u002fapp.py\",\"Jo\\u00e3o Darcy Tinoco Sant'Anna Neto\"],[\"app\\u002fworkers\\u002frisk_analysis\\u002fcdi.py\",\"Jo\\u00e3o Darcy Tinoco Sant'Anna Neto\"],[\"app\\u002fworkers\\u002frisk_analysis\\u002ftasks\\u002frequest_risk_analysis_task.py\",\"Jo\\u00e3o Darcy Tinoco Sant'Anna Neto\"],[\"app\\u002fworkers\\u002fsebastian_integration\\u002fapp.py\",\"Jo\\u00e3o Darcy Tinoco Sant'Anna Neto\"],[\"app\\u002fworkers\\u002fseller_account\\u002fapp.py\",\"Jo\\u00e3o Darcy Tinoco Sant'Anna Neto\"],[\"app\\u002fworkers\\u002fseller_account\\u002fcdi.py\",\"Jo\\u00e3o Darcy Tinoco Sant'Anna Neto\"],[\"app\\u002fworkers\\u002fseller_account\\u002fsettings.py\",\"Jo\\u00e3o Darcy Tinoco Sant'Anna Neto\"],[\"app\\u002fworkers\\u002fseller_account\\u002ftasks\\u002f__init__.py\",\"Jo\\u00e3o Darcy Tinoco Sant'Anna Neto\"],[\"app\\u002fworkers\\u002fseller_account\\u002ftasks\\u002fmodels.py\",\"Jo\\u00e3o Darcy Tinoco Sant'Anna Neto\"],[\"app\\u002fworkers\\u002fseller_account\\u002ftasks\\u002fseller_account_task.py\",\"Jo\\u00e3o Darcy Tinoco Sant'Anna Neto\"],[\"app\\u002fworkers\\u002fseller_contract\\u002fapp.py\",\"Jo\\u00e3o Darcy Tinoco Sant'Anna Neto\"],[\"app\\u002fworkers\\u002fseller_contract\\u002fcdi.py\",\"Jo\\u00e3o Darcy Tinoco Sant'Anna Neto\"],[\"app\\u002fworkers\\u002fseller_contract\\u002fsettings.py\",\"Jo\\u00e3o Darcy Tinoco Sant'Anna Neto\"],[\"app\\u002fworkers\\u002fseller_contract\\u002ftasks\\u002f__init__.py\",\"Jo\\u00e3o Darcy Tinoco Sant'Anna Neto\"],[\"app\\u002fworkers\\u002fseller_contract\\u002ftasks\\u002fmodels.py\",\"Jo\\u00e3o Darcy Tinoco Sant'Anna Neto\"],[\"app\\u002fworkers\\u002fseller_contract\\u002ftasks\\u002fps_contract_task.py\",\"Jo\\u00e3o Darcy Tinoco Sant'Anna Neto\"],[\"app\\u002fworkers\\u002fseller_contract\\u002ftasks\\u002fsync_seller_contract_task.py\",\"Jo\\u00e3o Darcy Tinoco Sant'Anna Neto\"],[\"app\\u002fworkers\\u002fseller_orders\\u002fapp.py\",\"Jo\\u00e3o Darcy Tinoco Sant'Anna Neto\"],[\"app\\u002fworkers\\u002fseller_orders\\u002fcdi.py\",\"Jo\\u00e3o Darcy Tinoco Sant'Anna Neto\"],[\"app\\u002fworkers\\u002fseller_orders\\u002fmodels.py\",\"Jo\\u00e3o Darcy Tinoco Sant'Anna Neto\"],[\"app\\u002fworkers\\u002fseller_orders\\u002fsettings.py\",\"Jo\\u00e3o Darcy Tinoco Sant'Anna Neto\"],[\"app\\u002fworkers\\u002fseller_orders\\u002ftasks\\u002f__init__.py\",\"Jo\\u00e3o Darcy Tinoco Sant'Anna Neto\"],[\"app\\u002fworkers\\u002fseller_orders\\u002ftasks\\u002fmodels.py\",\"guilherme.barroso\"],[\"app\\u002fworkers\\u002fseller_orders\\u002ftasks\\u002fnotify_order_by_uuid_task.py\",\"Jo\\u00e3o Darcy Tinoco Sant'Anna Neto\"],[\"app\\u002fworkers\\u002fseller_orders\\u002ftasks\\u002fpurchase_order_task.py\",\"Jo\\u00e3o Darcy Tinoco Sant'Anna Neto\"],[\"app\\u002fworkers\\u002fseller_orders\\u002ftasks\\u002fseller_orders_task.py\",\"Jo\\u00e3o Darcy Tinoco Sant'Anna Neto\"],[\"app\\u002fworkers\\u002ftags\\u002fapp.py\",\"Jo\\u00e3o Darcy Tinoco Sant'Anna Neto\"],[\"app\\u002fworkers\\u002ftags\\u002ftasks\\u002f__init__.py\",\"Jo\\u00e3o Darcy Tinoco Sant'Anna Neto\"],[\"app\\u002fworkers\\u002ftags\\u002ftasks\\u002ftags_task.py\",\"Jo\\u00e3o Darcy Tinoco Sant'Anna Neto\"],[\"app\\u002fworkers\\u002ftasks.py\",\"Jo\\u00e3o Darcy Tinoco Sant'Anna Neto\"],[\"app\\u002fworkers\\u002fwebhook\\u002fapp.py\",\"Jo\\u00e3o Darcy Tinoco Sant'Anna Neto\"],[\"app\\u002fworkers\\u002fwebhook\\u002fcdi.py\",\"Jo\\u00e3o Darcy Tinoco Sant'Anna Neto\"],[\"app\\u002fworkers\\u002fwebhook\\u002fsettings.py\",\"Jo\\u00e3o Darcy Tinoco Sant'Anna Neto\"],[\"app\\u002fworkers\\u002fwebhook\\u002ftasks\\u002f__init__.py\",\"Jo\\u00e3o Darcy Tinoco Sant'Anna Neto\"],[\"app\\u002fworkers\\u002fwebhook\\u002ftasks\\u002fwebhook_global\\u002fdata_object_merge_webhook_handler.py\",\"Jo\\u00e3o Darcy Tinoco Sant'Anna Neto\"],[\"app\\u002fworkers\\u002fwebhook\\u002ftasks\\u002fwebhook_global\\u002fdata_object_webhook_handler.py\",\"Jo\\u00e3o Darcy Tinoco Sant'Anna Neto\"],[\"app\\u002fworkers\\u002fwebhook\\u002ftasks\\u002fwebhook_global\\u002fmodels.py\",\"Jo\\u00e3o Darcy Tinoco Sant'Anna Neto\"],[\"app\\u002fworkers\\u002fwebhook\\u002ftasks\\u002fwebhook_global\\u002fprovisioner_risk_analysis_response_handler.py\",\"Jo\\u00e3o Darcy Tinoco Sant'Anna Neto\"],[\"app\\u002fworkers\\u002fwebhook\\u002ftasks\\u002fwebhook_global\\u002fsdk\\u002f__init__.py\",\"Jo\\u00e3o Darcy Tinoco Sant'Anna Neto\"],[\"app\\u002fworkers\\u002fwebhook\\u002ftasks\\u002fwebhook_global\\u002fsdk\\u002fmodels.py\",\"Jo\\u00e3o Darcy Tinoco Sant'Anna Neto\"],[\"app\\u002fworkers\\u002fwebhook\\u002ftasks\\u002fwebhook_global\\u002fsdk\\u002fwebhook_handler.py\",\"Jo\\u00e3o Darcy Tinoco Sant'Anna Neto\"],[\"app\\u002fworkers\\u002fwebhook\\u002ftasks\\u002fwebhook_global\\u002fsdk\\u002fwebhook_handler_manager.py\",\"Jo\\u00e3o Darcy Tinoco Sant'Anna Neto\"],[\"app\\u002fworkers\\u002fwebhook\\u002ftasks\\u002fwebhook_global_task.py\",\"Jo\\u00e3o Darcy Tinoco Sant'Anna Neto\"],[\"app\\u002fworkers\\u002fworkflow_retry\\u002fapp.py\",\"Jo\\u00e3o Darcy Tinoco Sant'Anna Neto\"],[\"app\\u002fworkers\\u002fworkflow_retry\\u002fcdi.py\",\"Jo\\u00e3o Darcy Tinoco Sant'Anna Neto\"],[\"app\\u002fworkers\\u002fworkflow_retry\\u002ftasks\\u002fdata_object_workflow_retry_task.py\",\"Jo\\u00e3o Darcy Tinoco Sant'Anna Neto\"],[\"app\\u002fworkers\\u002fworkflow_wakeup\\u002fapp.py\",\"filipe rocha\"],[\"app\\u002fworkers\\u002fworkflow_wakeup\\u002fcdi.py\",\"Eduardo de Souza Santos\"],[\"app\\u002fworkers\\u002fworkflow_wakeup\\u002ftasks\\u002fdata_object_workflow_wakeup_task.py\",\"Jo\\u00e3o Darcy Tinoco Sant'Anna Neto\"],[\"app\\u002fworkflow\\u002f__init__.py\",\"Jo\\u00e3o Darcy Tinoco Sant'Anna Neto\"],[\"app\\u002fworkflow\\u002faddon.py\",\"Jo\\u00e3o Darcy Tinoco Sant'Anna Neto\"],[\"app\\u002fworkflow\\u002faddons\\u002f__init__.py\",\"Eduardo de Souza Santos\"],[\"app\\u002fworkflow\\u002faddons\\u002fworkflow_core.py\",\"Jo\\u00e3o Darcy Tinoco Sant'Anna Neto\"],[\"app\\u002fworkflow\\u002faddons\\u002fworkflow_responsibles.py\",\"Jo\\u00e3o Darcy Tinoco Sant'Anna Neto\"],[\"app\\u002fworkflow\\u002faddons\\u002fworkflow_retry.py\",\"Jo\\u00e3o Darcy Tinoco Sant'Anna Neto\"],[\"app\\u002fworkflow\\u002faddons\\u002fworkflow_sla.py\",\"Jo\\u00e3o Darcy Tinoco Sant'Anna Neto\"],[\"app\\u002fworkflow\\u002faddons\\u002fworkflow_stop.py\",\"Jo\\u00e3o Darcy Tinoco Sant'Anna Neto\"],[\"app\\u002fworkflow\\u002faddons\\u002fworkflow_wake_up.py\",\"Igor Lucio Rocha Alves\"],[\"app\\u002fworkflow\\u002fcache.py\",\"Igor Lucio Rocha Alves\"],[\"app\\u002fworkflow\\u002fcdi.py\",\"Igor Lucio Rocha Alves\"],[\"app\\u002fworkflow\\u002fcore.py\",\"Jo\\u00e3o Darcy Tinoco Sant'Anna Neto\"],[\"app\\u002fworkflow\\u002fengine.py\",\"Jo\\u00e3o Darcy Tinoco Sant'Anna Neto\"],[\"app\\u002fworkflow\\u002ferrors.py\",\"Jo\\u00e3o Darcy Tinoco Sant'Anna Neto\"],[\"app\\u002fworkflow\\u002fevents.py\",\"Jo\\u00e3o Darcy Tinoco Sant'Anna Neto\"],[\"app\\u002fworkflow\\u002fhttp_client.py\",\"Jo\\u00e3o Darcy Tinoco Sant'Anna Neto\"],[\"app\\u002fworkflow\\u002fhttp_client_mock.py\",\"Jo\\u00e3o Darcy Tinoco Sant'Anna Neto\"],[\"app\\u002fworkflow\\u002fretry\\u002f__init__.py\",\"Jos\\u00e9 Tiago\"],[\"app\\u002fworkflow\\u002fretry\\u002fbase.py\",\"Jos\\u00e9 Tiago\"],[\"app\\u002fworkflow\\u002fretry\\u002fignore_retry.py\",\"Jos\\u00e9 Tiago\"],[\"app\\u002fworkflow\\u002fretry\\u002fkafka_retry.py\",\"Jos\\u00e9 Tiago\"],[\"app\\u002fworkflow\\u002frunners\\u002fbase.py\",\"Jos\\u00e9 Tiago\"],[\"app\\u002fworkflow\\u002frunners\\u002flocal.py\",\"Jos\\u00e9 Tiago\"],[\"app\\u002fworkflow\\u002fvault.py\",\"Jos\\u00e9 Tiago\"],[\"data_object_batch_worker.py\",\"Jos\\u00e9 Tiago\"],[\"dependency.yaml\",\"guilherme.barroso\"],[\"devtools\\u002faction_scripts\\u002fgui\\u002faction_add_remove_relationship_management_comment.py\",\"Guilherme Alves\"],[\"devtools\\u002faction_scripts\\u002fgui\\u002faction_migrate_pme_marketplace.py\",\"Jos\\u00e9 Tiago\"],[\"devtools\\u002faction_scripts\\u002fgui\\u002faction_put_lead_referral_code.py\",\"Jos\\u00e9 Tiago\"],[\"devtools\\u002faction_scripts\\u002fgui\\u002faction_put_service_categories.py\",\"guilherme.barroso\"],[\"devtools\\u002faction_scripts\\u002fgui\\u002faction_redistribute_responsibles.py\",\"guilherme.barroso\"],[\"devtools\\u002faction_scripts\\u002ftroubleshoot\\u002faction_del_referral_code.py\",\"guilherme.barroso\"],[\"devtools\\u002faction_scripts\\u002ftroubleshoot\\u002faction_get_employee_info.py\",\"Jos\\u00e9 Tiago\"],[\"devtools\\u002faction_scripts\\u002ftroubleshoot\\u002faction_put_force_risk_analysis.py\",\"Igor Lucio Rocha Alves\"],[\"devtools\\u002faction_scripts\\u002ftroubleshoot\\u002faction_resume_creation_denied.py\",\"Igor Lucio Rocha Alves\"],[\"devtools\\u002faction_scripts\\u002ftroubleshoot\\u002faction_send_to_mma.py\",\"Rafael Mendes\"],[\"devtools\\u002faction_scripts\\u002ftroubleshoot\\u002faction_start_action_panel.py\",\"Jo\\u00e3o Darcy Tinoco Sant'Anna Neto\"],[\"devtools\\u002faction_scripts\\u002funiverse_cards\\u002faction_flag_integrator_setup_done.py\",\"Jo\\u00e3o Darcy Tinoco Sant'Anna Neto\"],[\"devtools\\u002faction_scripts\\u002funiverse_cards\\u002faction_magalu_agency.py\",\"Jo\\u00e3o Darcy Tinoco Sant'Anna Neto\"],[\"devtools\\u002faction_scripts\\u002funiverse_cards\\u002faction_products.py\",\"Jo\\u00e3o Darcy Tinoco Sant'Anna Neto\"],[\"devtools\\u002faction_scripts\\u002funiverse_cards\\u002faction_put_regulatory_data.py\",\"Jo\\u00e3o Darcy Tinoco Sant'Anna Neto\"],[\"devtools\\u002faction_scripts\\u002funiverse_cards\\u002faction_replace_bank_account.py\",\"Igor Lucio Rocha Alves\"],[\"devtools\\u002faction_scripts\\u002funiverse_cards\\u002faction_sign_contracts.py\",\"guilherme.barroso\"],[\"devtools\\u002faction_scripts\\u002funiverse_form\\u002faction_put_company_legal_representative.py\",\"Igor Lucio Rocha Alves\"],[\"devtools\\u002faction_scripts\\u002funiverse_form\\u002faction_put_sells_to_company.py\",\"Igor Lucio Rocha Alves\"],[\"devtools\\u002faction_scripts\\u002funiverse_form\\u002faction_put_sold_by.py\",\"Igor Lucio Rocha Alves\"],[\"devtools\\u002faction_scripts\\u002funiverse_form\\u002faction_put_sold_by_website_sells_to_legal_person.py\",\"Igor Lucio Rocha Alves\"],[\"devtools\\u002faction_scripts\\u002funiverse_form\\u002faction_put_state_registration.py\",\"Igor Lucio Rocha Alves\"],[\"devtools\\u002faction_scripts\\u002funiverse_form\\u002faction_put_website.py\",\"Jos\\u00e9 Tiago\"],[\"devtools\\u002faction_scripts\\u002funiverse_form\\u002fscript_action_create_change_address_universo_magalu.py\",\"Jo\\u00e3o Darcy Tinoco Sant'Anna Neto\"],[\"devtools\\u002faction_scripts\\u002funiverse_form\\u002fscript_action_create_change_bank_details.py\",\"Jo\\u00e3o Darcy Tinoco Sant'Anna Neto\"],[\"devtools\\u002faction_scripts\\u002funiverse_form\\u002fscript_action_create_change_cash_payment_data.py\",\"Jo\\u00e3o Darcy Tinoco Sant'Anna Neto\"],[\"devtools\\u002faction_scripts\\u002funiverse_form\\u002fscript_action_create_change_integrators.py\",\"Jo\\u00e3o Darcy Tinoco Sant'Anna Neto\"],[\"devtools\\u002faction_scripts\\u002funiverse_form\\u002fscript_action_create_change_lead_completion.py\",\"Jo\\u00e3o Darcy Tinoco Sant'Anna Neto\"],[\"devtools\\u002faction_scripts\\u002funiverse_form\\u002fscript_action_create_change_legal_representative_data.py\",\"Jo\\u00e3o Darcy Tinoco Sant'Anna Neto\"],[\"devtools\\u002faction_scripts\\u002funiverse_form\\u002fscript_action_create_change_postal_address.py\",\"Jo\\u00e3o Darcy Tinoco Sant'Anna Neto\"],[\"devtools\\u002faction_scripts\\u002funiverse_form\\u002fscript_action_create_change_shipping_address.py\",\"Jo\\u00e3o Darcy Tinoco Sant'Anna Neto\"],[\"devtools\\u002faction_scripts\\u002funiverse_form\\u002fscript_action_import_lead_data.py\",\"Jo\\u00e3o Darcy Tinoco Sant'Anna Neto\"],[\"devtools\\u002faction_scripts\\u002funiverse_form\\u002fscript_action_lead_services.py\",\"Jo\\u00e3o Darcy Tinoco Sant'Anna Neto\"],[\"devtools\\u002faction_scripts\\u002funiverse_form\\u002fscript_action_run_tax_data_configuration.py\",\"Jo\\u00e3o Darcy Tinoco Sant'Anna Neto\"],[\"devtools\\u002faction_scripts\\u002funiverse_form\\u002fscript_action_update_lead_tax_data.py\",\"Jo\\u00e3o Darcy Tinoco Sant'Anna Neto\"],[\"devtools\\u002faction_scripts\\u002fupdate\\u002faction_copy_bureau_data.py\",\"Jo\\u00e3o Darcy Tinoco Sant'Anna Neto\"],[\"devtools\\u002faction_scripts\\u002fupdate\\u002faction_fetch_bureau_data.py\",\"Jo\\u00e3o Darcy Tinoco Sant'Anna Neto\"],[\"devtools\\u002faction_scripts\\u002fvoip_service\\u002faction_block_voip_service.py\",\"Jo\\u00e3o Darcy Tinoco Sant'Anna Neto\"],[\"devtools\\u002faction_scripts\\u002fvoip_service\\u002faction_disable_voip_service.py\",\"Jo\\u00e3o Darcy Tinoco Sant'Anna Neto\"],[\"devtools\\u002faction_scripts\\u002fvoip_service\\u002faction_enable_voip_service.py\",\"Jo\\u00e3o Darcy Tinoco Sant'Anna Neto\"],[\"devtools\\u002faction_scripts\\u002fvoip_service\\u002faction_unblock_voip_service.py\",\"LEONARDO BALDUINO DA SILVA\"],[\"devtools\\u002fargocd\\u002f.dockerignore\",\"Jo\\u00e3o Darcy Tinoco Sant'Anna Neto\"],[\"devtools\\u002fargocd\\u002fDockerfile\",\"Jo\\u00e3o Darcy Tinoco Sant'Anna Neto\"],[\"devtools\\u002fcheck_migrations.py\",\"Jo\\u00e3o Darcy Tinoco Sant'Anna Neto\"],[\"devtools\\u002fcicd\\u002faptfile.sh\",\"Jo\\u00e3o Darcy Tinoco Sant'Anna Neto\"],[\"devtools\\u002fcicd\\u002fbuild-venv.sh\",\"Jo\\u00e3o Darcy Tinoco Sant'Anna Neto\"],[\"devtools\\u002fcicd\\u002fcommon.sh\",\"Jos\\u00e9 Tiago\"],[\"devtools\\u002fcicd\\u002fcoverage.sh\",\"Igor Alves\"],[\"devtools\\u002fconfig.ini\",\"Jose Tiago\"],[\"devtools\\u002fconfig.toml\",\"Igor Alves\"],[\"devtools\\u002fconfig_gcp_emulator.py\",\"Jo\\u00e3o Darcy Tinoco Sant'Anna Neto\"],[\"devtools\\u002fdotenv.dev\",\"Jo\\u00e3o Darcy Tinoco Sant'Anna Neto\"],[\"devtools\\u002fdotenv.empty\",\"Jo\\u00e3o Darcy Tinoco Sant'Anna Neto\"],[\"devtools\\u002fdotenv.test\",\"Jo\\u00e3o Darcy Tinoco Sant'Anna Neto\"],[\"devtools\\u002fexport_pydantic_errors.py\",\"Jo\\u00e3o Darcy Tinoco Sant'Anna Neto\"],[\"devtools\\u002fgchatbot.py\",\"Jo\\u00e3o Darcy Tinoco Sant'Anna Neto\"],[\"devtools\\u002fgunicorn_config.py\",\"Jo\\u00e3o Darcy Tinoco Sant'Anna Neto\"],[\"devtools\\u002fkk_get_token.py\",\"Jo\\u00e3o Darcy Tinoco Sant'Anna Neto\"],[\"devtools\\u002fmigration_scripts\\u002fscript_create_contact_helena.py\",\"Jo\\u00e3o Darcy Tinoco Sant'Anna Neto\"],[\"devtools\\u002fmigration_scripts\\u002fscript_create_fees_helena.py\",\"Jo\\u00e3o Darcy Tinoco Sant'Anna Neto\"],[\"devtools\\u002fmigration_scripts\\u002fscript_create_or_update_lead_freedom.py\",\"Jo\\u00e3o Darcy Tinoco Sant'Anna Neto\"],[\"devtools\\u002fmigration_scripts\\u002fscript_create_or_update_lead_helena.py\",\"Jo\\u00e3o Darcy Tinoco Sant'Anna Neto\"],[\"devtools\\u002fmigration_scripts\\u002fscript_create_ticket_zendesk.py\",\"Jo\\u00e3o Darcy Tinoco Sant'Anna Neto\"],[\"devtools\\u002fmigration_scripts\\u002fscript_integration_freshdesk.py\",\"Jo\\u00e3o Darcy Tinoco Sant'Anna Neto\"],[\"devtools\\u002fmigration_scripts\\u002fscript_rollout_order_account.py\",\"Jo\\u00e3o Darcy Tinoco Sant'Anna Neto\"],[\"devtools\\u002fmigration_scripts\\u002fscript_update_lead_helena.py\",\"Jo\\u00e3o Darcy Tinoco Sant'Anna Neto\"],[\"devtools\\u002fmigration_scripts\\u002fscript_update_message_task_63584be8b6e5dc1bc0dda581.py\",\"Jo\\u00e3o Darcy Tinoco Sant'Anna Neto\"],[\"devtools\\u002fmigration_scripts\\u002fscript_update_message_task_63c68a9a13db1b45a10255aa.py\",\"Jo\\u00e3o Darcy Tinoco Sant'Anna Neto\"],[\"devtools\\u002fmigration_scripts\\u002fscript_update_message_task_63f3960a0d9fa305fb56cebe.py\",\"Jo\\u00e3o Darcy Tinoco Sant'Anna Neto\"],[\"devtools\\u002fmigration_scripts\\u002fscript_update_message_task_63f3aea71a46678bdca2bfa1.py\",\"Jo\\u00e3o Darcy Tinoco Sant'Anna Neto\"],[\"devtools\\u002fmigration_scripts\\u002fscript_update_message_task_64a40d3109dd3f5c1cec7892.py\",\"Jo\\u00e3o Darcy Tinoco Sant'Anna Neto\"],[\"devtools\\u002fmigration_scripts\\u002fscript_update_message_task_653972eee314dd67908ea21c.py\",\"Jo\\u00e3o Darcy Tinoco Sant'Anna Neto\"],[\"devtools\\u002fmigration_scripts\\u002fscript_update_message_task_653a80c886f29d2882a02e61.py\",\"Jo\\u00e3o Darcy Tinoco Sant'Anna Neto\"],[\"devtools\\u002fmigration_scripts\\u002fscript_update_message_task_653a8924b29a5a34b3b5f6e7.py\",\"Jo\\u00e3o Darcy Tinoco Sant'Anna Neto\"],[\"devtools\\u002fmongo\\u002f002-sync-lead-workflows.js\",\"Jo\\u00e3o Darcy Tinoco Sant'Anna Neto\"],[\"devtools\\u002fmongo\\u002f003-generate-sellers-without-pending-leads.js\",\"Jo\\u00e3o Darcy Tinoco Sant'Anna Neto\"],[\"devtools\\u002fmongo\\u002f004-clear-products-from-sellers-without-pending-leads.js\",\"Jo\\u00e3o Darcy Tinoco Sant'Anna Neto\"],[\"devtools\\u002fmongo\\u002f005-seller-with-more-products.js\",\"Jo\\u00e3o Darcy Tinoco Sant'Anna Neto\"],[\"devtools\\u002fmongo\\u002f006-clear-products-from-sellers.js\",\"Jo\\u00e3o Darcy Tinoco Sant'Anna Neto\"],[\"devtools\\u002fpocs\\u002fpoc_product_storage.py\",\"Jo\\u00e3o Darcy Tinoco Sant'Anna Neto\"],[\"devtools\\u002fscripts\\u002fmigration-generator.sh\",\"Jo\\u00e3o Darcy Tinoco Sant'Anna Neto\"],[\"devtools\\u002fscripts\\u002fmigration_example.py\",\"Jo\\u00e3o Darcy Tinoco Sant'Anna Neto\"],[\"docker-compose.yml\",\"Jo\\u00e3o Darcy Tinoco Sant'Anna Neto\"],[\"docs\\u002fMakefile\",\"Jo\\u00e3o Darcy Tinoco Sant'Anna Neto\"],[\"docs\\u002fcompressed-signed-pickle.bytefield\",\"Jo\\u00e3o Darcy Tinoco Sant'Anna Neto\"],[\"docs\\u002fdocker-compose.yml\",\"Jo\\u00e3o Darcy Tinoco Sant'Anna Neto\"],[\"docs\\u002fmagalu_pay.md\",\"Jo\\u00e3o Darcy Tinoco Sant'Anna Neto\"],[\"docs\\u002fsigned-pickle.bytefield\",\"Jo\\u00e3o Darcy Tinoco Sant'Anna Neto\"],[\"docs\\u002fstate-diagram-tasks.svg\",\"Jose Tiago\"],[\"docs\\u002fsvgs\\u002fcompressed-signed-pickle.svg\",\"Jose Tiago\"],[\"docs\\u002fsvgs\\u002fsigned-pickle.svg\",\"Jose Tiago\"],[\"docs\\u002funiverse_form\\u002fforms.md\",\"Jose Tiago\"],[\"docs\\u002fworkflow.md\",\"Jo\\u00e3o Darcy Tinoco Sant'Anna Neto\"],[\"freight_worker.py\",\"guilherme.barroso\"],[\"hopdb\\u002f__init__.py\",\"guilherme.barroso\"],[\"hopdb\\u002fcollection.py\",\"guilherme.barroso\"],[\"hopdb\\u002fcollection_storage\\u002f__init__.py\",\"Jo\\u00e3o Darcy Tinoco Sant'Anna Neto\"],[\"hopdb\\u002fcollection_storage\\u002fin_memory.py\",\"Jo\\u00e3o Darcy Tinoco Sant'Anna Neto\"],[\"hopdb\\u002fcollection_storage\\u002fsqlite_storage.py\",\"Jo\\u00e3o Darcy Tinoco Sant'Anna Neto\"],[\"hopdb\\u002fcollection_storage\\u002fstorage.py\",\"Igor Alves\"],[\"hopdb\\u002fcorrelation_table\\u002f__init__.py\",\"Jo\\u00e3o Darcy Tinoco Sant'Anna Neto\"],[\"hopdb\\u002fcorrelation_table\\u002fcorrelation_table.py\",\"Jo\\u00e3o Darcy Tinoco Sant'Anna Neto\"],[\"hopdb\\u002fcorrelation_table\\u002fin_memory.py\",\"Jo\\u00e3o Darcy Tinoco Sant'Anna Neto\"],[\"hopdb\\u002fcorrelation_table\\u002fsqlite.py\",\"Jo\\u00e3o Darcy Tinoco Sant'Anna Neto\"],[\"hopdb\\u002fdatabase.py\",\"Jo\\u00e3o Darcy Tinoco Sant'Anna Neto\"],[\"hopdb\\u002fdocument.py\",\"Jo\\u00e3o Darcy Tinoco Sant'Anna Neto\"],[\"hopdb\\u002fdocument_encoder\\u002f__init__.py\",\"Tiago Ferreira\"],[\"hopdb\\u002fdocument_encoder\\u002fdocument_encoder.py\",\"Tiago Ferreira\"],[\"hopdb\\u002fhopdb.py\",\"Jo\\u00e3o Darcy Tinoco Sant'Anna Neto\"],[\"hopdb\\u002findex\\u002f__init__.py\",\"Jo\\u00e3o Darcy Tinoco Sant'Anna Neto\"],[\"hopdb\\u002findex\\u002fbitmap.py\",\"Jo\\u00e3o Darcy Tinoco Sant'Anna Neto\"],[\"hopdb\\u002findex\\u002fbtree.py\",\"Jo\\u00e3o Darcy Tinoco Sant'Anna Neto\"],[\"hopdb\\u002flogging.py\",\"Jos\\u00e9 Tiago\"],[\"hopdb\\u002fmetadata.py\",\"Jos\\u00e9 Tiago\"],[\"hopdb\\u002fpersistence.py\",\"Jos\\u00e9 Tiago\"],[\"hopdb\\u002fresource_monitor.py\",\"Jo\\u00e3o Darcy Tinoco Sant'Anna Neto\"],[\"hopdb\\u002fsequence.py\",\"Jo\\u00e3o Darcy Tinoco Sant'Anna Neto\"],[\"hopdb\\u002fthirdparty\\u002fsqlite3_wrapper.py\",\"Jos\\u00e9 Tiago\"],[\"lead_worker.py\",\"Jo\\u00e3o Darcy Tinoco Sant'Anna Neto\"],[\"lib\\u002f__init__.py\",\"Jo\\u00e3o Darcy Tinoco Sant'Anna Neto\"],[\"lib\\u002fcdi\\u002f__init__.py\",\"Jo\\u00e3o Darcy Tinoco Sant'Anna Neto\"],[\"lib\\u002fcdi\\u002finjector.py\",\"Jo\\u00e3o Darcy Tinoco Sant'Anna Neto\"],[\"lib\\u002fcommon\\u002fconstants\\u002f__init__.py\",\"Jo\\u00e3o Darcy Tinoco Sant'Anna Neto\"],[\"lib\\u002fcommon\\u002fconstants\\u002fpython.py\",\"guilherme.barroso\"],[\"lib\\u002fcommon\\u002fcopy.py\",\"guilherme.barroso\"],[\"lib\\u002fcommon\\u002fencoder\\u002f__init__.py\",\"Jo\\u00e3o Darcy Tinoco Sant'Anna Neto\"],[\"lib\\u002fcommon\\u002fencoder\\u002fbson_encoder.py\",\"Jo\\u00e3o Darcy Tinoco Sant'Anna Neto\"],[\"lib\\u002fcommon\\u002fencoder\\u002fencoder.py\",\"Jo\\u00e3o Darcy Tinoco Sant'Anna Neto\"],[\"lib\\u002fcommon\\u002fencoder\\u002fextended_json.py\",\"Jo\\u00e3o Darcy Tinoco Sant'Anna Neto\"],[\"lib\\u002fcommon\\u002fencoder\\u002fsigned_pickle.py\",\"Jo\\u00e3o Darcy Tinoco Sant'Anna Neto\"],[\"lib\\u002fcommon\\u002ffastapi\\u002f__init__.py\",\"Jo\\u00e3o Darcy Tinoco Sant'Anna Neto\"],[\"lib\\u002fcommon\\u002ffastapi\\u002fdependencies.py\",\"Carlos Bridi\"],[\"lib\\u002fcommon\\u002ffields\\u002f__init__.py\",\"Jo\\u00e3o Darcy Tinoco Sant'Anna Neto\"],[\"lib\\u002fcommon\\u002ffields\\u002fbytes.py\",\"Jo\\u00e3o Darcy Tinoco Sant'Anna Neto\"],[\"lib\\u002fcommon\\u002ffields\\u002fmongo.py\",\"Jo\\u00e3o Darcy Tinoco Sant'Anna Neto\"],[\"lib\\u002fcommon\\u002ffields\\u002ftimezone.py\",\"Carlos Bridi\"],[\"lib\\u002fcommon\\u002ffile\\u002f__init__.py\",\"Carlos Bridi\"],[\"lib\\u002fcommon\\u002ffile\\u002futils.py\",\"Carlos Bridi\"],[\"lib\\u002fcommon\\u002fhumanize.py\",\"Jo\\u00e3o Darcy Tinoco Sant'Anna Neto\"],[\"lib\\u002fcommon\\u002flock\\u002f__init__.py\",\"Jo\\u00e3o Darcy Tinoco Sant'Anna Neto\"],[\"lib\\u002fcommon\\u002flock\\u002fnamed_lock.py\",\"Jo\\u00e3o Darcy Tinoco Sant'Anna Neto\"],[\"lib\\u002fcommon\\u002fmapping\\u002f__init__.py\",\"Jo\\u00e3o Darcy Tinoco Sant'Anna Neto\"],[\"lib\\u002fcommon\\u002fmapping\\u002fbase_model.py\",\"guilherme.barroso\"],[\"lib\\u002fcommon\\u002fmapping\\u002ffields.py\",\"filipe rocha\"],[\"lib\\u002fcommon\\u002fobject_storage\\u002f__init__.py\",\"filipe rocha\"],[\"lib\\u002fcommon\\u002fobject_storage\\u002fdefault_factory.py\",\"filipe rocha\"],[\"lib\\u002fcommon\\u002fobject_storage\\u002ffactory.py\",\"filipe rocha\"],[\"lib\\u002fcommon\\u002fobject_storage\\u002fin_memory.py\",\"filipe rocha\"],[\"lib\\u002fcommon\\u002fobject_storage\\u002flocal_storage.py\",\"filipe rocha\"],[\"lib\\u002fcommon\\u002fobject_storage\\u002fobject_storage.py\",\"Jos\\u00e9 Tiago\"],[\"lib\\u002fcommon\\u002fobject_storage\\u002fredis_storage.py\",\"Jos\\u00e9 Tiago\"],[\"lib\\u002fcommon\\u002fpickle.py\",\"Jos\\u00e9 Tiago\"],[\"lib\\u002fcommon\\u002fredis_channel\\u002f__init__.py\",\"Jos\\u00e9 Tiago\"],[\"lib\\u002fcommon\\u002fredis_channel\\u002fredis_channel.py\",\"Jos\\u00e9 Tiago\"],[\"lib\\u002fcommon\\u002ftyping.py\",\"Jos\\u00e9 Tiago\"],[\"lib\\u002fdict\\u002fanonymize\\u002fsdk.py\",\"Jos\\u00e9 Tiago\"],[\"lib\\u002fdict\\u002fanonymize\\u002fsimple.py\",\"Jose Tiago\"],[\"lib\\u002fdict\\u002fdiff\\u002fdeep_diff.py\",\"Jose Tiago\"],[\"lib\\u002fdict\\u002fdiff\\u002fsdk.py\",\"Jos\\u00e9 Tiago\"],[\"lib\\u002fdict\\u002fdiff\\u002fsimple.py\",\"Jos\\u00e9 Tiago\"],[\"lib\\u002fdict\\u002fdotnotation\\u002fpydash.py\",\"JOS\\u00c9 TIAGO\"],[\"lib\\u002fdict\\u002fdotnotation\\u002fsdk.py\",\"Jose Tiago\"],[\"lib\\u002fdict\\u002fpatch\\u002fmongo.py\",\"Jo\\u00e3o Darcy Tinoco Sant'Anna Neto\"],[\"lib\\u002fdict\\u002fpatch\\u002fsdk.py\",\"Jo\\u00e3o Darcy Tinoco Sant'Anna Neto\"],[\"lib\\u002fdict\\u002fpatch\\u002fsimple.py\",\"Jo\\u00e3o Darcy Tinoco Sant'Anna Neto\"],[\"lib\\u002flogging\\u002f__init__.py\",\"guilherme.barroso\"],[\"lib\\u002flogging\\u002fimpl_lulogger.py\",\"Jose Tiago\"],[\"lib\\u002flogging\\u002fwrapper.py\",\"Jo\\u00e3o Darcy Tinoco Sant'Anna Neto\"],[\"migrations\\u002f202201120205_create_collection_definitions.py\",\"Igor Lucio Rocha Alves\"],[\"migrations\\u002f202202150210_create_collection_leads.py\",\"Jo\\u00e3o Darcy Tinoco Sant'Anna Neto\"],[\"migrations\\u002f202202181023_create_collection_worflows.py\",\"Jo\\u00e3o Darcy Tinoco Sant'Anna Neto\"],[\"migrations\\u002f202203021137_create_collection_statistics.py\",\"Jo\\u00e3o Darcy Tinoco Sant'Anna Neto\"],[\"migrations\\u002f202203111210_seed_definition.py\",\"Jo\\u00e3o Darcy Tinoco Sant'Anna Neto\"],[\"migrations\\u002f202203140210_add_leads_index.py\",\"Jo\\u00e3o Darcy Tinoco Sant'Anna Neto\"],[\"migrations\\u002f202203211623_lead_workflows.py\",\"Igor Alves\"],[\"migrations\\u002f202203251549_create_workflow_statistics.py\",\"Jo\\u00e3o Darcy Tinoco Sant'Anna Neto\"],[\"migrations\\u002f202204041528_lead_completion.py\",\"Jo\\u00e3o Darcy Tinoco Sant'Anna Neto\"],[\"migrations\\u002f202204121405_lead_counters.py\",\"Marcelo Bastos Ribeiro\"],[\"migrations\\u002f202204131441_add_sort_leads_index.py\",\"Jo\\u00e3o Darcy Tinoco Sant'Anna Neto\"],[\"migrations\\u002f202204191718_add_leads_index_seller_external.py\",\"Jo\\u00e3o Darcy Tinoco Sant'Anna Neto\"],[\"migrations\\u002f202204200918_workflow_actions.py\",\"Ylgner Becton\"],[\"migrations\\u002f202204250741_add_new_workflow_actions.py\",\"LEONARDO BALDUINO DA SILVA\"],[\"migrations\\u002f202204251807_create_collection_stocks.py\",\"Jo\\u00e3o Darcy Tinoco Sant'Anna Neto\"],[\"migrations\\u002f202204261623_add_external_service_definition.py\",\"Eduardo de Souza Santos\"],[\"migrations\\u002f202205031426_create_seller_stocks_collection.py\",\"Jose Tiago\"],[\"migrations\\u002f202205031626_workflow_seller_stock.py\",\"Jo\\u00e3o Darcy Tinoco Sant'Anna Neto\"],[\"migrations\\u002f202205041718_create_collection_tags.py\",\"Jo\\u00e3o Darcy Tinoco Sant'Anna Neto\"],[\"migrations\\u002f202205042014_seed_tags.py\",\"Jo\\u00e3o Darcy Tinoco Sant'Anna Neto\"],[\"migrations\\u002f202205091025_lead_workflow_initial_state.py\",\"Jo\\u00e3o Darcy Tinoco Sant'Anna Neto\"],[\"migrations\\u002f202205091133_add_tags_index.py\",\"Igor Alves\"],[\"migrations\\u002f202205181049_seed_users.py\",\"semantic-release-bot\"],[\"migrations\\u002f202205231809_add_responsible_index.py\",\"Jo\\u00e3o Darcy Tinoco Sant'Anna Neto\"],[\"migrations\\u002f202205271433_sync_definition.py\",\"Jo\\u00e3o Darcy Tinoco Sant'Anna Neto\"],[\"migrations\\u002f202205301115_create_lead_classification.py\",\"Ylgner Becton\"],[\"migrations\\u002f202205311802_add_lead_last_observation_index.py\",\"Jo\\u00e3o Darcy Tinoco Sant'Anna Neto\"],[\"migrations\\u002f202206011601_update_lead_classification.py\",\"Jo\\u00e3o Darcy Tinoco Sant'Anna Neto\"],[\"migrations\\u002f202206131218_create_collection_secrets.py\",\"Jo\\u00e3o Darcy Tinoco Sant'Anna Neto\"],[\"migrations\\u002f202206290420_update_seller_product_index.py\",\"Jo\\u00e3o Darcy Tinoco Sant'Anna Neto\"],[\"migrations\\u002f202206301146_add_lead_observation_tags_index.py\",\"Jo\\u00e3o Darcy Tinoco Sant'Anna Neto\"],[\"migrations\\u002f202207081619_start_lead_finalization_early.py\",\"Jo\\u00e3o Darcy Tinoco Sant'Anna Neto\"],[\"migrations\\u002f202207111127_on_test_order_finish_workflows.py\",\"Jo\\u00e3o Darcy Tinoco Sant'Anna Neto\"],[\"migrations\\u002f202207121915_seed_tecnical_definition.py\",\"Jo\\u00e3o Darcy Tinoco Sant'Anna Neto\"],[\"migrations\\u002f202207161816_update_lead_status_definition.py\",\"Jo\\u00e3o Darcy Tinoco Sant'Anna Neto\"],[\"migrations\\u002f202207270857_finish_financial_analysis_on_sebastian_event.py\",\"Jo\\u00e3o Darcy Tinoco Sant'Anna Neto\"],[\"migrations\\u002f202208020837_blocklist_seller_lock_and_unlock.py\",\"Jo\\u00e3o Darcy Tinoco Sant'Anna Neto\"],[\"migrations\\u002f202208110922_lead_wf_fix.py\",\"Jo\\u00e3o Darcy Tinoco Sant'Anna Neto\"],[\"migrations\\u002f202208221806_communication_hub_welcome_message.py\",\"Jo\\u00e3o Darcy Tinoco Sant'Anna Neto\"],[\"migrations\\u002f202208291716_comunication_hub_create_optin.py\",\"Igor Alves\"],[\"migrations\\u002f202208301552_call_employees.py\",\"Jose Tiago\"],[\"migrations\\u002f202209011719_create_optin_email_whatsapp.py\",\"guilherme.barroso\"],[\"migrations\\u002f202209061739_get_more_info_employee.py\",\"guilherme.barroso\"],[\"migrations\\u002f202209150845_provision_analysis.py\",\"Jo\\u00e3o Darcy Tinoco Sant'Anna Neto\"],[\"migrations\\u002f202209201413_task_affinities.py\",\"Jos\\u00e9 Tiago\"],[\"migrations\\u002f202209211647_get_sso_id_account.py\",\"Jo\\u00e3o Darcy Tinoco Sant'Anna Neto\"],[\"migrations\\u002f202209261903_add_lead_analysis_front.py\",\"Jo\\u00e3o Darcy Tinoco Sant'Anna Neto\"],[\"migrations\\u002f202210031209_remove_pips_task_from_automatic_rollout.py\",\"Jo\\u00e3o Darcy Tinoco Sant'Anna Neto\"],[\"migrations\\u002f202210041139_add_legal_to_endpoint_provision.py\",\"Igor Lucio Rocha Alves\"],[\"migrations\\u002f202210041547_create_get_sso_id_account.py\",\"Jo\\u00e3o Darcy Tinoco Sant'Anna Neto\"],[\"migrations\\u002f202210041711_get_data_to_pj_account.py\",\"LEONARDO BALDUINO DA SILVA\"],[\"migrations\\u002f202210041813_alter_endpoint_get_data_pj.py\",\"LEONARDO BALDUINO DA SILVA\"],[\"migrations\\u002f202210051002_update_tasks_events.py\",\"Jo\\u00e3o Darcy Tinoco Sant'Anna Neto\"],[\"migrations\\u002f202210061852_post_persons_pj_account.py\",\"Jo\\u00e3o Darcy Tinoco Sant'Anna Neto\"],[\"migrations\\u002f202210101628_add_users_manually.py\",\"Igor Alves\"],[\"migrations\\u002f202210111714_move_tasks_to_provisioner.py\",\"Jo\\u00e3o Darcy Tinoco Sant'Anna Neto\"],[\"migrations\\u002f202210140929_add_lead_integration_platforms.py\",\"Jo\\u00e3o Darcy Tinoco Sant'Anna Neto\"],[\"migrations\\u002f202210140930_pj_account_creation_call.py\",\"Rafael Vieira Mendes\"],[\"migrations\\u002f202210191006_add_retry_tasks.py\",\"guilherme.barroso\"],[\"migrations\\u002f202210310909_move_task_provisioner.py\",\"Igor Alves\"],[\"migrations\\u002f202211031722_update_users_permissions.py\",\"Jo\\u00e3o Darcy Tinoco Sant'Anna Neto\"],[\"migrations\\u002f202211151130_legal_representative_adjustment.py\",\"Jo\\u00e3o Darcy Tinoco Sant'Anna Neto\"],[\"migrations\\u002f202211160943_update_on_create_account_pj.py\",\"Jo\\u00e3o Darcy Tinoco Sant'Anna Neto\"],[\"migrations\\u002f202211221645_register_lead_id_magalu.py\",\"guilherme.barroso\"],[\"migrations\\u002f202212081519_provisioner_adjustments.py\",\"Jo\\u00e3o Darcy Tinoco Sant'Anna Neto\"],[\"migrations\\u002f202212130912_add_update_provisioner.py\",\"Jo\\u00e3o Darcy Tinoco Sant'Anna Neto\"],[\"migrations\\u002f202212140917_magalupay_sebastian_sync.py\",\"Jos\\u00e9 Tiago\"],[\"migrations\\u002f202212151151_pj_account_new_flow.py\",\"Jo\\u00e3o Darcy Tinoco Sant'Anna Neto\"],[\"migrations\\u002f202212151154_add_message_workflow.py\",\"Jo\\u00e3o Darcy Tinoco Sant'Anna Neto\"],[\"migrations\\u002f202212160730_returns_provisioner_reason.py\",\"Jo\\u00e3o Darcy Tinoco Sant'Anna Neto\"],[\"migrations\\u002f202212161954_create_action_panel_workflow.py\",\"Jo\\u00e3o Darcy Tinoco Sant'Anna Neto\"],[\"migrations\\u002f202212171114_send_email_account_information_wf.py\",\"Jo\\u00e3o Darcy Tinoco Sant'Anna Neto\"],[\"migrations\\u002f202212171416_risk_analysis_actions.py\",\"Jo\\u00e3o Darcy Tinoco Sant'Anna Neto\"],[\"migrations\\u002f202212191644_change_conditions_to_start_message_wf.py\",\"Jo\\u00e3o Darcy Tinoco Sant'Anna Neto\"],[\"migrations\\u002f202212211706_zaig_10_percente_risk_analysis.py\",\"Jo\\u00e3o Darcy Tinoco Sant'Anna Neto\"],[\"migrations\\u002f202212220900_lead_create_param_list_consents_integrators.py\",\"Jo\\u00e3o Darcy Tinoco Sant'Anna Neto\"],[\"migrations\\u002f202212231131_cnpj_situation_translation.py\",\"Jo\\u00e3o Darcy Tinoco Sant'Anna Neto\"],[\"migrations\\u002f202212261635_add_condition_to_create_inconsistency_check.py\",\"Jo\\u00e3o Darcy Tinoco Sant'Anna Neto\"],[\"migrations\\u002f202212291016_setup_eddie_onboarding.py\",\"Jo\\u00e3o Darcy Tinoco Sant'Anna Neto\"],[\"migrations\\u002f202301041721_changing_action_panel_task_name.py\",\"Jo\\u00e3o Darcy Tinoco Sant'Anna Neto\"],[\"migrations\\u002f202301051748_get_bureau_data.py\",\"Jo\\u00e3o Darcy Tinoco Sant'Anna Neto\"],[\"migrations\\u002f202301111030_copy_ssoid_and_email_to_owner.py\",\"Jo\\u00e3o Darcy Tinoco Sant'Anna Neto\"],[\"migrations\\u002f202301300900_update_condition_lead_create_param_list_consents_integrators.py\",\"Jo\\u00e3o Darcy Tinoco Sant'Anna Neto\"],[\"migrations\\u002f202301301359_create_collection_actions.py\",\"Jo\\u00e3o Darcy Tinoco Sant'Anna Neto\"],[\"migrations\\u002f202301441754_check_pj_account_was_reproved.py\",\"Jo\\u00e3o Darcy Tinoco Sant'Anna Neto\"],[\"migrations\\u002f202301441755_create_task_update_pj_account.py\",\"Jo\\u00e3o Darcy Tinoco Sant'Anna Neto\"],[\"migrations\\u002f202301451053_sending_email_asking_update_account.py\",\"Jo\\u00e3o Darcy Tinoco Sant'Anna Neto\"],[\"migrations\\u002f202301541754_adjusting_cond_to_synchronize_pj_account.py\",\"Jo\\u00e3o Darcy Tinoco Sant'Anna Neto\"],[\"migrations\\u002f202302161152_legacy_callback.py\",\"guilherme.barroso\"],[\"migrations\\u002f202302261809_adjustment_product_block_message.py\",\"Jo\\u00e3o Darcy Tinoco Sant'Anna Neto\"],[\"migrations\\u002f202303020938_create_index_analysisId.py\",\"Jo\\u00e3o Darcy Tinoco Sant'Anna Neto\"],[\"migrations\\u002f202303081521_send_mma.py\",\"Jo\\u00e3o Darcy Tinoco Sant'Anna Neto\"],[\"migrations\\u002f202303081548_risk_validation.py\",\"Jo\\u00e3o Darcy Tinoco Sant'Anna Neto\"],[\"migrations\\u002f202303081568_adjust_email_sending_rule.py\",\"Jo\\u00e3o Darcy Tinoco Sant'Anna Neto\"],[\"migrations\\u002f202303161439_updates_seller_state_to_v2_and_adds_contract_signature.py\",\"Jo\\u00e3o Darcy Tinoco Sant'Anna Neto\"],[\"migrations\\u002f202303161440_create_collection_data_object_batch_actions.py\",\"Jo\\u00e3o Darcy Tinoco Sant'Anna Neto\"],[\"migrations\\u002f202303211639_update_seller_state_v3_product.py\",\"Jo\\u00e3o Darcy Tinoco Sant'Anna Neto\"],[\"migrations\\u002f202303221627_create_collection_contacts.py\",\"Jo\\u00e3o Darcy Tinoco Sant'Anna Neto\"],[\"migrations\\u002f202303241020_create_unique_index_contact.py\",\"Jo\\u00e3o Darcy Tinoco Sant'Anna Neto\"],[\"migrations\\u002f202303291036_remove_task_bureau_pj_account.py\",\"Jo\\u00e3o Darcy Tinoco Sant'Anna Neto\"],[\"migrations\\u002f202303300749_change_source_mma.py\",\"Jo\\u00e3o Darcy Tinoco Sant'Anna Neto\"],[\"migrations\\u002f202304031628_removing_bureau_from_creation_analysis.py\",\"Jo\\u00e3o Darcy Tinoco Sant'Anna Neto\"],[\"migrations\\u002f202304031803_send_activate_magalu_deliveries.py\",\"Eduardo de Souza Santos\"],[\"migrations\\u002f202304060920_create_index_contacts_history.py\",\"Jo\\u00e3o Darcy Tinoco Sant'Anna Neto\"],[\"migrations\\u002f202304061438_automatically_create_pj_account.py\",\"Jo\\u00e3o Darcy Tinoco Sant'Anna Neto\"],[\"migrations\\u002f202304111412_change_name_mma.py\",\"Jo\\u00e3o Darcy Tinoco Sant'Anna Neto\"],[\"migrations\\u002f202304241428_get_seller_mma.py\",\"Jo\\u00e3o Darcy Tinoco Sant'Anna Neto\"],[\"migrations\\u002f202304271536_legal_representative_adjustments.py\",\"Jo\\u00e3o Darcy Tinoco Sant'Anna Neto\"],[\"migrations\\u002f202305041109_update_register_lead_id_magalu.py\",\"Jo\\u00e3o Darcy Tinoco Sant'Anna Neto\"],[\"migrations\\u002f202305041440_create_collection_processed_data_object_message.py\",\"Jo\\u00e3o Darcy Tinoco Sant'Anna Neto\"],[\"migrations\\u002f202305171137_create_partners_indexes.py\",\"Jo\\u00e3o Darcy Tinoco Sant'Anna Neto\"],[\"migrations\\u002f202305181425_create_org_zendesk.py\",\"Jo\\u00e3o Darcy Tinoco Sant'Anna Neto\"],[\"migrations\\u002f202305221501_add_index_and_set_corporate_name_lower.py\",\"Jo\\u00e3o Darcy Tinoco Sant'Anna Neto\"],[\"migrations\\u002f202305240857_get_risk_analysis_adjustments.py\",\"Jo\\u00e3o Darcy Tinoco Sant'Anna Neto\"],[\"migrations\\u002f202305291631_add_recap_field.py\",\"Jo\\u00e3o Darcy Tinoco Sant'Anna Neto\"],[\"migrations\\u002f202305308003_create_index_contacts_seller_id_source.py\",\"Jo\\u00e3o Darcy Tinoco Sant'Anna Neto\"],[\"migrations\\u002f202305311433_add_index_processed_data_object_recreate.py\",\"Jo\\u00e3o Darcy Tinoco Sant'Anna Neto\"],[\"migrations\\u002f202306051856_update_org_zendesk.py\",\"Jo\\u00e3o Darcy Tinoco Sant'Anna Neto\"],[\"migrations\\u002f202306120807_pj_account_email_change.py\",\"Jo\\u00e3o Darcy Tinoco Sant'Anna Neto\"],[\"migrations\\u002f202306141620_migrate_lead_contact_to_contacts.py\",\"Jo\\u00e3o Darcy Tinoco Sant'Anna Neto\"],[\"migrations\\u002f202306141621_generate_contacts_history_create.py\",\"Jo\\u00e3o Darcy Tinoco Sant'Anna Neto\"],[\"migrations\\u002f202306231127_update_magalu_deliveries_activate.py\",\"Jo\\u00e3o Darcy Tinoco Sant'Anna Neto\"],[\"migrations\\u002f202306270852_lead_assignee_reassignment_task.py\",\"Jo\\u00e3o Darcy Tinoco Sant'Anna Neto\"],[\"migrations\\u002f202306300951_send_email_lead_reproved.py\",\"Jo\\u00e3o Darcy Tinoco Sant'Anna Neto\"],[\"migrations\\u002f202307030822_send_email_signature_contract.py\",\"Jo\\u00e3o Darcy Tinoco Sant'Anna Neto\"],[\"migrations\\u002f202307111758_change_actions_to_virtual.py\",\"Jo\\u00e3o Darcy Tinoco Sant'Anna Neto\"],[\"migrations\\u002f202307181643_add_seller_state_magalu_agency.py\",\"Jo\\u00e3o Darcy Tinoco Sant'Anna Neto\"],[\"migrations\\u002f202307191527_adjustmet_tasks_to_create_basic_lead.py\",\"Jos\\u00e9 Tiago\"],[\"migrations\\u002f202307191710_fixing_duplicate_workflow.py\",\"Jos\\u00e9 Tiago\"],[\"migrations\\u002f202307201719_update_old_zendesk_leads.py\",\"Jo\\u00e3o Darcy Tinoco Sant'Anna Neto\"],[\"migrations\\u002f202307211533_zendesk_adjusting_workflow_retry.py\",\"Jo\\u00e3o Darcy Tinoco Sant'Anna Neto\"],[\"migrations\\u002f202307251921_ajusting_send_email_reproved.py\",\"Jo\\u00e3o Darcy Tinoco Sant'Anna Neto\"],[\"migrations\\u002f202307261431_add_realm_users.py\",\"Jo\\u00e3o Darcy Tinoco Sant'Anna Neto\"],[\"migrations\\u002f202308020935_add_service_account_sso_migrated.py\",\"Jo\\u00e3o Darcy Tinoco Sant'Anna Neto\"],[\"migrations\\u002f202308021030_remove_service_account_sso_migrated.py\",\"Jo\\u00e3o Darcy Tinoco Sant'Anna Neto\"],[\"migrations\\u002f202308021214_create_collection_services.py\",\"Jo\\u00e3o Darcy Tinoco Sant'Anna Neto\"],[\"migrations\\u002f202308080847_update_zendesk_user_observer.py\",\"Jo\\u00e3o Darcy Tinoco Sant'Anna Neto\"],[\"migrations\\u002f202308111746_create_wf_netshoes.py\",\"Jo\\u00e3o Darcy Tinoco Sant'Anna Neto\"],[\"migrations\\u002f202308111747_adjustment_tasks_to_netshoes.py\",\"Jo\\u00e3o Darcy Tinoco Sant'Anna Neto\"],[\"migrations\\u002f202308141129_rename_task_aproved_and_pj_account.py\",\"Alex Boa Morte\"],[\"migrations\\u002f202308161520_update_pj_account_new_flow.py\",\"Alex Boa Morte\"],[\"migrations\\u002f202308171134_adding_source_field.py\",\"Jo\\u00e3o Darcy Tinoco Sant'Anna Neto\"],[\"migrations\\u002f202308241540_add_service_type_index.py\",\"Jo\\u00e3o Darcy Tinoco Sant'Anna Neto\"],[\"migrations\\u002f202308301156_create_indice_lead_status_lead_weight.py\",\"Deivis Alves\"],[\"migrations\\u002f202308301555_adding_new_netshoes_tasks.py\",\"anderson.pereira\"],[\"migrations\\u002f202309051913_create_batch_data_objects_collections.py\",\"guilherme.barroso\"],[\"migrations\\u002f202309081730_adjustment_email_new_flow.py\",\"guilherme.barroso\"],[\"migrations\\u002f202309140917_create_lead_mma.py\",\"Jo\\u00e3o Darcy Tinoco Sant'Anna Neto\"],[\"migrations\\u002f202309200900_adjustment_id_message_contract.py\",\"Jo\\u00e3o Darcy Tinoco Sant'Anna Neto\"],[\"migrations\\u002f202309251524_skip_rephrasing_diff_disapproved_lead.py\",\"Jo\\u00e3o Darcy Tinoco Sant'Anna Neto\"],[\"migrations\\u002f202310041428_adjustment_tasks_to_source_magalu_universe.py\",\"Rafael Vieira Mendes\"],[\"migrations\\u002f202310051706_copy_data_channel_id.py\",\"Rafael Vieira Mendes\"],[\"migrations\\u002f202310051707_create_index_seller_id_and_channel.py\",\"Rafael Vieira Mendes\"],[\"migrations\\u002f202310091148_create_wf_store_configuration_netshoes.py\",\"Jo\\u00e3o Darcy Tinoco Sant'Anna Neto\"],[\"migrations\\u002f202310091149_create_task_mp_seller.py\",\"Jo\\u00e3o Darcy Tinoco Sant'Anna Neto\"],[\"migrations\\u002f202310181749_adjustment_analysis_process_links.py\",\"vittoria.zago\"],[\"migrations\\u002f202310241106_adjustment_email_registration.py\",\"vittoria.zago\"],[\"migrations\\u002f202310241551_adjust_approval_message_no_pj_account.py\",\"vittoria.zago\"],[\"migrations\\u002f202310241552_adjust_approval_message_reproved_pj_account.py\",\"Jo\\u00e3o Darcy Tinoco Sant'Anna Neto\"],[\"migrations\\u002f202310251650_add_tasks_messages_wa_reproved.py\",\"Jo\\u00e3o Darcy Tinoco Sant'Anna Neto\"],[\"migrations\\u002f202310251651_add_tasks_messages_wa_registration_completed.py\",\"Jo\\u00e3o Darcy Tinoco Sant'Anna Neto\"],[\"migrations\\u002f202310251652_add_tasks_messages_wa_approved_completed.py\",\"Jo\\u00e3o Darcy Tinoco Sant'Anna Neto\"],[\"migrations\\u002f202310311020_add_source_channel_and_origin_index_to_lead.py\",\"Jo\\u00e3o Darcy Tinoco Sant'Anna Neto\"],[\"migrations\\u002f202311241511_add_verification_seller_state_contract_signing.py\",\"guilherme.barroso\"],[\"migrations\\u002f202311241512_adjusting_business_condition_contract_pme.py\",\"LEONARDO BALDUINO DA SILVA\"],[\"migrations\\u002f202311242223_create_wf_automatic_creation_reproval.py\",\"guilherme.barroso\"],[\"migrations\\u002f202311251552_add_task_mp_security.py\",\"guilherme.barroso\"],[\"migrations\\u002f202311251554_add_task_set_up_integrator.py\",\"vittoria.zago\"],[\"migrations\\u002f202311251555_adjustment_close_task_contract_signing.py\",\"vittoria.zago\"],[\"migrations\\u002f202311251556_update_task_remove_service_account_to_add_publish_date.py\",\"Jo\\u00e3o Darcy Tinoco Sant'Anna Neto\"],[\"migrations\\u002f202311300831_integration_platform_normalization.py\",\"Jo\\u00e3o Darcy Tinoco Sant'Anna Neto\"],[\"migrations\\u002f202311301145_add_lead_owner_sso_ids.py\",\"filipe rocha\"],[\"migrations\\u002f202311301258_populate_lead_owners.py\",\"Bruno Falbo\"],[\"migrations\\u002f202311301259_adjustment_tasks_netshoes.py\",\"Jo\\u00e3o Darcy Tinoco Sant'Anna Neto\"],[\"migrations\\u002f202312041018_mapping_table.py\",\"Jo\\u00e3o Darcy Tinoco Sant'Anna Neto\"],[\"migrations\\u002f202312050850_multi_source_integration_platform.py\",\"Jo\\u00e3o Darcy Tinoco Sant'Anna Neto\"],[\"migrations\\u002f202312051032_add_lead_indexes_for_checking_document_availability.py\",\"Jo\\u00e3o Darcy Tinoco Sant'Anna Neto\"],[\"migrations\\u002f202312051638_create_index_external_reference_sellerid.py\",\"Jo\\u00e3o Darcy Tinoco Sant'Anna Neto\"],[\"migrations\\u002f202312191145_update_tasks_types.py\",\"Jo\\u00e3o Darcy Tinoco Sant'Anna Neto\"],[\"migrations\\u002f202312191146_update_tasks_slas.py\",\"Jo\\u00e3o Darcy Tinoco Sant'Anna Neto\"],[\"migrations\\u002f202401151339_update_virtual_action_allowed_roles.py\",\"Jo\\u00e3o Darcy Tinoco Sant'Anna Neto\"],[\"migrations\\u002f202401151340_create_lead_helena.py\",\"Jo\\u00e3o Darcy Tinoco Sant'Anna Neto\"],[\"migrations\\u002f202401151458_add_task_update_contact.py\",\"Jo\\u00e3o Darcy Tinoco Sant'Anna Neto\"],[\"migrations\\u002f202401181033_update_task_account_catalog_service_with_feature_flag.py\",\"Jo\\u00e3o Darcy Tinoco Sant'Anna Neto\"],[\"migrations\\u002f202401181034_update_task_seller_migrated.py\",\"Jo\\u00e3o Darcy Tinoco Sant'Anna Neto\"],[\"migrations\\u002f202401230516_create_index_source_partner.py\",\"Jo\\u00e3o Darcy Tinoco Sant'Anna Neto\"],[\"migrations\\u002f202401230517_populate_source_partner_by_external_reference.py\",\"Jo\\u00e3o Darcy Tinoco Sant'Anna Neto\"],[\"migrations\\u002f202402060847_create_fees_helena.py\",\"Jo\\u00e3o Darcy Tinoco Sant'Anna Neto\"],[\"migrations\\u002f202402141555_update_lead_helena.py\",\"Igor Alves\"],[\"migrations\\u002f202402160808_change_source_partner_index.py\",\"Jose Tiago\"],[\"migrations\\u002f202402231719_send_lead_freedom.py\",\"guilherme.barroso\"],[\"migrations\\u002f202402241509_last_observation_and_others_index.py\",\"guilherme.barroso\"],[\"migrations\\u002f202403170800_create_freshdesk.py\",\"Jo\\u00e3o Darcy Tinoco Sant'Anna Neto\"],[\"migrations\\u002f202403291339_create_core_data_object_classifier.py\",\"Jo\\u00e3o Darcy Tinoco Sant'Anna Neto\"],[\"migrations\\u002f202403291345_marketplace_publish_classifier.py\",\"LEONARDO BALDUINO DA SILVA\"],[\"migrations\\u002f202404011258_data_object_classifier_index.py\",\"Jo\\u00e3o Darcy Tinoco Sant'Anna Neto\"],[\"migrations\\u002f202404020813_create_index_completed_at.py\",\"Rafael Mendes\"],[\"migrations\\u002f202404020946_index_partial_integration_platform_available.py\",\"Jo\\u00e3o Darcy Tinoco Sant'Anna Neto\"],[\"migrations\\u002f202404021929_normalize_models.py\",\"Jo\\u00e3o Darcy Tinoco Sant'Anna Neto\"],[\"migrations\\u002f202404031356_condition_msg_approved_registration_wa_mkt.py\",\"Jo\\u00e3o Darcy Tinoco Sant'Anna Neto\"],[\"migrations\\u002f202404031357_condition_msg_registration_wa_mkt.py\",\"Jo\\u00e3o Darcy Tinoco Sant'Anna Neto\"],[\"migrations\\u002f202404031358_condition_msg_reproved_registration_wa_mkt.py\",\"Jo\\u00e3o Darcy Tinoco Sant'Anna Neto\"],[\"migrations\\u002f202404031359_condition_msg_approved_registration.py\",\"Jo\\u00e3o Darcy Tinoco Sant'Anna Neto\"],[\"migrations\\u002f202404031360_condition_approved_registration_no_pj_account.py\",\"Jo\\u00e3o Darcy Tinoco Sant'Anna Neto\"],[\"migrations\\u002f202404031361_condition_approved_registration_update_pj_account.py\",\"Jo\\u00e3o Darcy Tinoco Sant'Anna Neto\"],[\"migrations\\u002f202404031362_condition_analysis_process.py\",\"Jo\\u00e3o Darcy Tinoco Sant'Anna Neto\"],[\"migrations\\u002f202404031363_condition_contract_signing.py\",\"LEONARDO BALDUINO DA SILVA\"],[\"migrations\\u002f202404160825_lead_updated_at_index.py\",\"LEONARDO BALDUINO DA SILVA\"],[\"migrations\\u002f202404180927_lead_actions_needed_index.py\",\"Jo\\u00e3o Darcy Tinoco Sant'Anna Neto\"],[\"migrations\\u002f202404220816_universe_form_classifier.py\",\"Jo\\u00e3o Darcy Tinoco Sant'Anna Neto\"],[\"migrations\\u002f202404240800_create_ticket_zendesk.py\",\"Jos\\u00e9 Tiago\"],[\"migrations\\u002f202405080813_create_index_source_origin_completed_at.py\",\"Jo\\u00e3o Darcy Tinoco Sant'Anna Neto\"],[\"migrations\\u002f202405131017_disable_zendesk_already_ticket.py\",\"Jo\\u00e3o Darcy Tinoco Sant'Anna Neto\"],[\"migrations\\u002f202405140912_add_test_purchase_order_action.py\",\"Jo\\u00e3o Darcy Tinoco Sant'Anna Neto\"],[\"migrations\\u002f202405161046_remove_set_order_test_date_to_account_from_finalization_workflow.py\",\"Rafael Vieira Mendes\"],[\"migrations\\u002f202405161047_set_order_test_date_to_account.py\",\"guilherme.barroso\"],[\"migrations\\u002f202405201125_create_task_set_order_test_date_account_workflows.py\",\"Jo\\u00e3o Darcy Tinoco Sant'Anna Neto\"],[\"migrations\\u002f202405221611_add_completed_at_netshoes.py\",\"Jo\\u00e3o Darcy Tinoco Sant'Anna Neto\"],[\"migrations\\u002f202405221612_commercial_contract_monitor.py\",\"Igor Alves\"],[\"migrations\\u002f202405240916_universe_form_classifier_update.py\",\"Jose Tiago\"],[\"migrations\\u002f202405241013_marketplace_publish_classifier_update.py\",\"guilherme.barroso\"],[\"migrations\\u002f202405241234_netshoes_and_marketplace_services.py\",\"guilherme.barroso\"],[\"migrations\\u002f202405291456_add_completed_at_netshoes_to_legacy_wf.py\",\"Jo\\u00e3o Darcy Tinoco Sant'Anna Neto\"],[\"migrations\\u002f202405291745_commercial_contract_monitor_update.py\",\"Jo\\u00e3o Darcy Tinoco Sant'Anna Neto\"],[\"migrations\\u002f202406031639_create_index_integrator_platform.py\",\"Jo\\u00e3o Darcy Tinoco Sant'Anna Neto\"],[\"migrations\\u002f202406131515_rollout_order_account.py\",\"Jo\\u00e3o Darcy Tinoco Sant'Anna Neto\"],[\"migrations\\u002f202407041755_universe_form_classifier_update.py\",\"Jo\\u00e3o Darcy Tinoco Sant'Anna Neto\"],[\"migrations\\u002f202407041756_marketplace_publish_classifier_update.py\",\"Jo\\u00e3o Darcy Tinoco Sant'Anna Neto\"],[\"migrations\\u002futils\\u002f__init__.py\",\"Jo\\u00e3o Darcy Tinoco Sant'Anna Neto\"],[\"migrations\\u002futils\\u002futil.py\",\"Jo\\u00e3o Darcy Tinoco Sant'Anna Neto\"],[\"migrations_util\\u002fclassifiers.py\",\"Jo\\u00e3o Darcy Tinoco Sant'Anna Neto\"],[\"migrations_util\\u002fcli.py\",\"Jo\\u00e3o Darcy Tinoco Sant'Anna Neto\"],[\"migrations_util\\u002fdatetime.py\",\"LEONARDO BALDUINO DA SILVA\"],[\"migrations_util\\u002fmodel_normalizer.py\",\"LEONARDO BALDUINO DA SILVA\"],[\"migrations_util\\u002fscript_sign.py\",\"Jo\\u00e3o Darcy Tinoco Sant'Anna Neto\"],[\"migrations_util\\u002fsettings.py\",\"Jo\\u00e3o Darcy Tinoco Sant'Anna Neto\"],[\"migrations_util\\u002fvirtual_actions.py\",\"Igor Alves\"],[\"mypy.ini\",\"Jo\\u00e3o Darcy Tinoco Sant'Anna Neto\"],[\"netshoes_lead_worker.py\",\"Jo\\u00e3o Darcy Tinoco Sant'Anna Neto\"],[\"product_worker.py\",\"Rafael Vieira Mendes\"],[\"pyproject.toml\",\"Jo\\u00e3o Darcy Tinoco Sant'Anna Neto\"],[\"pytest.ini\",\"guilherme.barroso\"],[\"release-replacements.json\",\"Jo\\u00e3o Darcy Tinoco Sant'Anna Neto\"],[\"requirements.txt\",\"Igor Lucio Rocha Alves\"],[\"requirements\\u002fbase.txt\",\"Jo\\u00e3o Darcy Tinoco Sant'Anna Neto\"],[\"requirements\\u002fdevelop.txt\",\"Jo\\u00e3o Darcy Tinoco Sant'Anna Neto\"],[\"risk_analysis_worker.py\",\"Igor Lucio Rocha Alves\"],[\"run-migrate.sh\",\"Jo\\u00e3o Darcy Tinoco Sant'Anna Neto\"],[\"sebastian_integration_worker.py\",\"Jo\\u00e3o Darcy Tinoco Sant'Anna Neto\"],[\"seller_account_worker.py\",\"Jo\\u00e3o Darcy Tinoco Sant'Anna Neto\"],[\"seller_contract_worker.py\",\"Jo\\u00e3o Darcy Tinoco Sant'Anna Neto\"],[\"seller_orders_worker.py\",\"Jo\\u00e3o Darcy Tinoco Sant'Anna Neto\"],[\"sonar-project.properties\",\"Jo\\u00e3o Darcy Tinoco Sant'Anna Neto\"],[\"start-gunicorn.sh\",\"Igor Lucio Rocha Alves\"],[\"start-worker.sh\",\"Jo\\u00e3o Darcy Tinoco Sant'Anna Neto\"],[\"tag_worker.py\",\"Jo\\u00e3o Darcy Tinoco Sant'Anna Neto\"],[\"tests\\u002fanalytics\\u002fapis\\u002ffastapi\\u002froutes\\u002ftest_health_router.py\",\"Jo\\u00e3o Darcy Tinoco Sant'Anna Neto\"],[\"tests\\u002fanalytics\\u002fapis\\u002ffastapi\\u002froutes\\u002ftest_lead_analytics_router.py\",\"Jo\\u00e3o Darcy Tinoco Sant'Anna Neto\"],[\"tests\\u002fanalytics\\u002fbusiness\\u002ftest_lead_analytics_bo.py\",\"Jo\\u00e3o Darcy Tinoco Sant'Anna Neto\"],[\"tests\\u002fanalytics\\u002fconftest.py\",\"Jo\\u00e3o Darcy Tinoco Sant'Anna Neto\"],[\"tests\\u002fanalytics\\u002ffixtures\\u002fdataset\\u002flead_analytics_fixture.py\",\"Ylgner Becton\"],[\"tests\\u002fanalytics\\u002ffixtures\\u002fdataset\\u002flead_dashboard_data.json\",\"Jo\\u00e3o Darcy Tinoco Sant'Anna Neto\"],[\"tests\\u002fanalytics\\u002ffixtures\\u002fextended_json.py\",\"Jo\\u00e3o Darcy Tinoco Sant'Anna Neto\"],[\"tests\\u002fanalytics\\u002ftest_utils.py\",\"Jo\\u00e3o Darcy Tinoco Sant'Anna Neto\"],[\"tests\\u002fapp\\u002factions\\u002ftest_lead_action_change_bank_account.py\",\"Jo\\u00e3o Darcy Tinoco Sant'Anna Neto\"],[\"tests\\u002fapp\\u002factions\\u002ftest_lead_action_migrate_pme_to_mktplace.py\",\"Igor Lucio Rocha Alves\"],[\"tests\\u002fapp\\u002factions\\u002ftest_lead_action_relationship_management.py\",\"Jo\\u00e3o Darcy Tinoco Sant'Anna Neto\"],[\"tests\\u002fapp\\u002factions\\u002ftest_lead_action_update_referral_code.py\",\"Jo\\u00e3o Darcy Tinoco Sant'Anna Neto\"],[\"tests\\u002fapp\\u002factions\\u002ftest_lead_universe_actions.py\",\"Jo\\u00e3o Darcy Tinoco Sant'Anna Neto\"],[\"tests\\u002fapp\\u002fapis\\u002ffastapi\\u002fexception_handler_test.py\",\"Jo\\u00e3o Darcy Tinoco Sant'Anna Neto\"],[\"tests\\u002fapp\\u002fapis\\u002ffastapi\\u002froutes\\u002f__init__.py\",\"Jo\\u00e3o Darcy Tinoco Sant'Anna Neto\"],[\"tests\\u002fapp\\u002fapis\\u002ffastapi\\u002froutes\\u002fauth_rest_test.py\",\"Jo\\u00e3o Darcy Tinoco Sant'Anna Neto\"],[\"tests\\u002fapp\\u002fapis\\u002ffastapi\\u002froutes\\u002fcontact_rest_test.py\",\"Jo\\u00e3o Darcy Tinoco Sant'Anna Neto\"],[\"tests\\u002fapp\\u002fapis\\u002ffastapi\\u002froutes\\u002fdefinition_rest_test.py\",\"Jo\\u00e3o Darcy Tinoco Sant'Anna Neto\"],[\"tests\\u002fapp\\u002fapis\\u002ffastapi\\u002froutes\\u002fhealth_rest_test.py\",\"Jo\\u00e3o Darcy Tinoco Sant'Anna Neto\"],[\"tests\\u002fapp\\u002fapis\\u002ffastapi\\u002froutes\\u002flead_analytics_rest_test.py\",\"Jo\\u00e3o Darcy Tinoco Sant'Anna Neto\"],[\"tests\\u002fapp\\u002fapis\\u002ffastapi\\u002froutes\\u002flead_rest_test.py\",\"Jo\\u00e3o Darcy Tinoco Sant'Anna Neto\"],[\"tests\\u002fapp\\u002fapis\\u002ffastapi\\u002froutes\\u002fopenapi_test.py\",\"Jo\\u00e3o Darcy Tinoco Sant'Anna Neto\"],[\"tests\\u002fapp\\u002fapis\\u002ffastapi\\u002froutes\\u002fpartner_rest_test.py\",\"Jo\\u00e3o Darcy Tinoco Sant'Anna Neto\"],[\"tests\\u002fapp\\u002fapis\\u002ffastapi\\u002froutes\\u002ftest_action_rest.py\",\"Jo\\u00e3o Darcy Tinoco Sant'Anna Neto\"],[\"tests\\u002fapp\\u002fapis\\u002ffastapi\\u002froutes\\u002ftest_batch_data_object_rest.py\",\"Jo\\u00e3o Darcy Tinoco Sant'Anna Neto\"],[\"tests\\u002fapp\\u002fapis\\u002ffastapi\\u002froutes\\u002ftest_change_history_rest.py\",\"Jo\\u00e3o Darcy Tinoco Sant'Anna Neto\"],[\"tests\\u002fapp\\u002fapis\\u002ffastapi\\u002froutes\\u002ftest_core_data_object_classifier_rest.py\",\"Jo\\u00e3o Darcy Tinoco Sant'Anna Neto\"],[\"tests\\u002fapp\\u002fapis\\u002ffastapi\\u002froutes\\u002ftest_lead_legacy_rest_test.py\",\"Jo\\u00e3o Darcy Tinoco Sant'Anna Neto\"],[\"tests\\u002fapp\\u002fapis\\u002ffastapi\\u002froutes\\u002ftest_misc_rest_test.py\",\"Jo\\u00e3o Darcy Tinoco Sant'Anna Neto\"],[\"tests\\u002fapp\\u002fapis\\u002ffastapi\\u002froutes\\u002ftest_qa_rest.py\",\"Jo\\u00e3o Darcy Tinoco Sant'Anna Neto\"],[\"tests\\u002fapp\\u002fapis\\u002ffastapi\\u002froutes\\u002ftest_service_rest.py\",\"Jo\\u00e3o Darcy Tinoco Sant'Anna Neto\"],[\"tests\\u002fapp\\u002fapis\\u002ffastapi\\u002froutes\\u002fuser_permission_rest_test.py\",\"Jo\\u00e3o Darcy Tinoco Sant'Anna Neto\"],[\"tests\\u002fapp\\u002fapis\\u002ffastapi\\u002froutes\\u002fuser_rest_test.py\",\"Jo\\u00e3o Darcy Tinoco Sant'Anna Neto\"],[\"tests\\u002fapp\\u002fapis\\u002ffastapi\\u002froutes\\u002fvault_rest_test.py\",\"Igor Alves\"],[\"tests\\u002fapp\\u002fapis\\u002ffastapi\\u002froutes\\u002fworkflow_rest_test.py\",\"Jose Tiago\"],[\"tests\\u002fapp\\u002fbusiness_rule\\u002funiverse_form\\u002ftest_universe_form.py\",\"guilherme.barroso\"],[\"tests\\u002fapp\\u002fbusinesses\\u002fhandlers\\u002ftest_assignment_handler.py\",\"guilherme.barroso\"],[\"tests\\u002fapp\\u002fbusinesses\\u002fobservers\\u002fmagalu\\u002ftest_forbid_bank_change_after_sync.py\",\"Jos\\u00e9 Tiago\"],[\"tests\\u002fapp\\u002fbusinesses\\u002fobservers\\u002fmagalu\\u002ftest_risk_analysis.py\",\"Jose Tiago\"],[\"tests\\u002fapp\\u002fbusinesses\\u002fobservers\\u002ftest_contract_create_ps_contract_observer.py\",\"Jose Tiago\"],[\"tests\\u002fapp\\u002fbusinesses\\u002fobservers\\u002ftest_lead_observers.py\",\"Jos\\u00e9 Tiago\"],[\"tests\\u002fapp\\u002fbusinesses\\u002fobservers\\u002ftest_lead_update_magalu_tax_observer.py\",\"Jo\\u00e3o Darcy Tinoco Sant'Anna Neto\"],[\"tests\\u002fapp\\u002fbusinesses\\u002fobservers\\u002ftest_lead_update_ps_contract_observer.py\",\"Rafael Vieira Mendes\"],[\"tests\\u002fapp\\u002fbusinesses\\u002fobservers\\u002ftest_lead_workflow_observers_validators.py\",\"guilherme.barroso\"],[\"tests\\u002fapp\\u002fbusinesses\\u002fobservers\\u002ftest_magalu_lead_observers.py\",\"Jo\\u00e3o Darcy Tinoco Sant'Anna Neto\"],[\"tests\\u002fapp\\u002fbusinesses\\u002ftest_change_history_bo.py\",\"Jo\\u00e3o Darcy Tinoco Sant'Anna Neto\"],[\"tests\\u002fapp\\u002fbusinesses\\u002ftest_id_magalu_bo.py\",\"Jo\\u00e3o Darcy Tinoco Sant'Anna Neto\"],[\"tests\\u002fapp\\u002fbusinesses\\u002ftest_lead_workflow_bo.py\",\"Jo\\u00e3o Darcy Tinoco Sant'Anna Neto\"],[\"tests\\u002fapp\\u002fbusinesses\\u002ftest_seller_product_bo.py\",\"Jo\\u00e3o Darcy Tinoco Sant'Anna Neto\"],[\"tests\\u002fapp\\u002fbusinesses\\u002ftest_workflow_bo.py\",\"guilherme.barroso\"],[\"tests\\u002fapp\\u002fdomains\\u002ftest_lead_domain.py\",\"Jo\\u00e3o Darcy Tinoco Sant'Anna Neto\"],[\"tests\\u002fapp\\u002fdomains\\u002ftest_workflow_domain.py\",\"Jo\\u00e3o Darcy Tinoco Sant'Anna Neto\"],[\"tests\\u002fapp\\u002fintegrations\\u002fbackends\\u002fsebastian_api\\u002ftest_models.py\",\"Jo\\u00e3o Darcy Tinoco Sant'Anna Neto\"],[\"tests\\u002fapp\\u002fintegrations\\u002fbackends\\u002ftest_apigee_backend.py\",\"LEONARDO BALDUINO DA SILVA\"],[\"tests\\u002fapp\\u002fintegrations\\u002fbackends\\u002ftest_client_v1_backend.py\",\"Jo\\u00e3o Darcy Tinoco Sant'Anna Neto\"],[\"tests\\u002fapp\\u002fintegrations\\u002fbackends\\u002ftest_maas_blocklist_backend.py\",\"vittoria.zago\"],[\"tests\\u002fapp\\u002fintegrations\\u002fbackends\\u002ftest_maas_products_backend.py\",\"Rafael Vieira Mendes\"],[\"tests\\u002fapp\\u002fintegrations\\u002fbackends\\u002ftest_p52_backend.py\",\"Jo\\u00e3o Darcy Tinoco Sant'Anna Neto\"],[\"tests\\u002fapp\\u002fintegrations\\u002fdatalake\\u002fbackends\\u002ftetrix_kafka\\u002fhandlers\\u002ftest_lead_tetrix_dataset_handler.py\",\"Jo\\u00e3o Darcy Tinoco Sant'Anna Neto\"],[\"tests\\u002fapp\\u002fintegrations\\u002fdatalake\\u002fbackends\\u002ftetrix_kafka\\u002fhandlers\\u002ftest_workflow_tetrix_dataset_handler.py\",\"Jo\\u00e3o Darcy Tinoco Sant'Anna Neto\"],[\"tests\\u002fapp\\u002fintegrations\\u002fdatalake\\u002ftest_core.py\",\"Jo\\u00e3o Darcy Tinoco Sant'Anna Neto\"],[\"tests\\u002fapp\\u002fintegrations\\u002fdb\\u002fmongo\\u002fpyobjectid_test.py\",\"Jo\\u00e3o Darcy Tinoco Sant'Anna Neto\"],[\"tests\\u002fapp\\u002fintegrations\\u002fpubsub\\u002fencoder\\u002ftest_json_binary_encoder.py\",\"Jo\\u00e3o Darcy Tinoco Sant'Anna Neto\"],[\"tests\\u002fapp\\u002fintegrations\\u002fpubsub\\u002fkafka\\u002ftest_kafka_producer_backend.py\",\"Jo\\u00e3o Darcy Tinoco Sant'Anna Neto\"],[\"tests\\u002fapp\\u002fintegrations\\u002fpubsub\\u002fkafka\\u002ftest_kafka_pubsub_consumer_integrated.py\",\"Jo\\u00e3o Darcy Tinoco Sant'Anna Neto\"],[\"tests\\u002fapp\\u002fintegrations\\u002fpubsub\\u002fkafka\\u002ftest_kafka_pubsub_consumer_mocked.py\",\"LEONARDO BALDUINO DA SILVA\"],[\"tests\\u002fapp\\u002fintegrations\\u002fpubsub\\u002fkafka\\u002ftest_kafka_pubsub_message.py\",\"JOS\\u00c9 TIAGO\"],[\"tests\\u002fapp\\u002fintegrations\\u002fpubsub\\u002ftest_pubsub_consumer.py\",\"JOS\\u00c9 TIAGO\"],[\"tests\\u002fapp\\u002fintegrations\\u002fpubsub\\u002ftest_pubsub_producer.py\",\"JOS\\u00c9 TIAGO\"],[\"tests\\u002fapp\\u002fintegrations\\u002frisk_analysis\\u002ftest_fake_risk_analysis.py\",\"Jo\\u00e3o Darcy Tinoco Sant'Anna Neto\"],[\"tests\\u002fapp\\u002fintegrations\\u002frisk_analysis\\u002ftest_risk_analysis_validation.py\",\"Igor Alves\"],[\"tests\\u002fapp\\u002fintegrations\\u002fscheduler\\u002fimpl\\u002flite\\u002fjobstores\\u002ftest_mongo.py\",\"Igor Alves\"],[\"tests\\u002fapp\\u002fintegrations\\u002fscheduler\\u002fimpl\\u002flite\\u002ftest_job_delay_strategies.py\",\"Jose Tiago\"],[\"tests\\u002fapp\\u002fintegrations\\u002fseller_stock_info\\u002ftest_local_seller_product_info.py\",\"guilherme.barroso\"],[\"tests\\u002fapp\\u002frepositories\\u002ftest_base_repository.py\",\"vittoria.zago\"],[\"tests\\u002fapp\\u002frepositories\\u002ftest_lead_repository.py\",\"Rafael Vieira Mendes\"],[\"tests\\u002fapp\\u002fscript\\u002fimpl\\u002fpython\\u002ftest_functions.py\",\"Jo\\u00e3o Darcy Tinoco Sant'Anna Neto\"],[\"tests\\u002fapp\\u002fscript\\u002ftest_eql_script_engine.py\",\"Jo\\u00e3o Darcy Tinoco Sant'Anna Neto\"],[\"tests\\u002fapp\\u002fscript\\u002ftest_pyeval_script_engine.py\",\"Igor Alves\"],[\"tests\\u002fapp\\u002fscript\\u002ftest_pyexec_script_engine.py\",\"Jo\\u00e3o Darcy Tinoco Sant'Anna Neto\"],[\"tests\\u002fapp\\u002ftest_cdi.py\",\"Jo\\u00e3o Darcy Tinoco Sant'Anna Neto\"],[\"tests\\u002fapp\\u002futils\\u002fdatetime_test.py\",\"LEONARDO BALDUINO DA SILVA\"],[\"tests\\u002fapp\\u002futils\\u002ftest_custom_log_anonymizer.py\",\"Ylgner Becton\"],[\"tests\\u002fapp\\u002futils\\u002ftest_fields_cronformat.py\",\"guilherme.barroso\"],[\"tests\\u002fapp\\u002futils\\u002ftest_fields_owner_sso_id.py\",\"Jo\\u00e3o Darcy Tinoco Sant'Anna Neto\"],[\"tests\\u002fapp\\u002futils\\u002ftest_fields_secret_base64str.py\",\"Jo\\u00e3o Darcy Tinoco Sant'Anna Neto\"],[\"tests\\u002fapp\\u002fworkers\\u002fdata_object_batch\\u002ftasks\\u002ftest_data_object_batch_action_task.py\",\"Jo\\u00e3o Darcy Tinoco Sant'Anna Neto\"],[\"tests\\u002fapp\\u002fworkers\\u002fdata_object_batch\\u002ftasks\\u002ftest_data_object_row_batch_action_task.py\",\"Jo\\u00e3o Darcy Tinoco Sant'Anna Neto\"],[\"tests\\u002fapp\\u002fworkers\\u002fdata_object_batch\\u002ftest_data_object_batch_app.py\",\"LEONARDO BALDUINO DA SILVA\"],[\"tests\\u002fapp\\u002fworkers\\u002ffreight\\u002ftasks\\u002ftest_freight_task.py\",\"LEONARDO BALDUINO DA SILVA\"],[\"tests\\u002fapp\\u002fworkers\\u002ffreight\\u002ftest_freight_app.py\",\"guilherme.barroso\"],[\"tests\\u002fapp\\u002fworkers\\u002flead\\u002ftasks\\u002ftest_risk_analysis_response_task.py\",\"Jo\\u00e3o Darcy Tinoco Sant'Anna Neto\"],[\"tests\\u002fapp\\u002fworkers\\u002flead\\u002ftest_lead_app.py\",\"Jo\\u00e3o Darcy Tinoco Sant'Anna Neto\"],[\"tests\\u002fapp\\u002fworkers\\u002fnetshoes\\u002ftasks\\u002fnetshoes_lead_mapper\\u002ftest_netshoes_bank.py\",\"Bruno Falbo\"],[\"tests\\u002fapp\\u002fworkers\\u002fnetshoes\\u002ftasks\\u002fnetshoes_lead_mapper\\u002ftest_netshoes_company_address.py\",\"Jos\\u00e9 Tiago\"],[\"tests\\u002fapp\\u002fworkers\\u002fnetshoes\\u002ftasks\\u002fnetshoes_lead_mapper\\u002ftest_netshoes_contact.py\",\"Igor Alves\"],[\"tests\\u002fapp\\u002fworkers\\u002fnetshoes\\u002ftasks\\u002ftest_netshoes_task.py\",\"Jo\\u00e3o Darcy Tinoco Sant'Anna Neto\"],[\"tests\\u002fapp\\u002fworkers\\u002fnetshoes\\u002ftest_netshoes_app.py\",\"Jo\\u00e3o Darcy Tinoco Sant'Anna Neto\"],[\"tests\\u002fapp\\u002fworkers\\u002fproduct\\u002ftasks\\u002ftest_product_task.py\",\"Rafael Vieira Mendes\"],[\"tests\\u002fapp\\u002fworkers\\u002fproduct\\u002ftest_product_app.py\",\"guilherme.barroso\"],[\"tests\\u002fapp\\u002fworkers\\u002frisk_analysis\\u002ftest_request_risk_analysis_task.py\",\"Igor Lucio Rocha Alves\"],[\"tests\\u002fapp\\u002fworkers\\u002frisk_analysis\\u002ftest_risk_analysis_app.py\",\"Jo\\u00e3o Darcy Tinoco Sant'Anna Neto\"],[\"tests\\u002fapp\\u002fworkers\\u002fseller_account\\u002ftasks\\u002ftest_process_seller_account.py\",\"Igor Alves\"],[\"tests\\u002fapp\\u002fworkers\\u002fseller_account\\u002ftest_seller_account_app.py\",\"Jose Tiago\"],[\"tests\\u002fapp\\u002fworkers\\u002fseller_contracts\\u002ftasks\\u002ftest_ps_contract_task.py\",\"guilherme.barroso\"],[\"tests\\u002fapp\\u002fworkers\\u002fseller_contracts\\u002ftasks\\u002ftest_sync_seller_contract_task.py\",\"Jo\\u00e3o Darcy Tinoco Sant'Anna Neto\"],[\"tests\\u002fapp\\u002fworkers\\u002fseller_contracts\\u002ftest_seller_contract_app.py\",\"Jo\\u00e3o Darcy Tinoco Sant'Anna Neto\"],[\"tests\\u002fapp\\u002fworkers\\u002fseller_orders\\u002ftasks\\u002ftest_marketplace_purchase_task.py\",\"Rafael Vieira Mendes\"],[\"tests\\u002fapp\\u002fworkers\\u002fseller_orders\\u002ftasks\\u002ftest_notify_order_by_uuid_task.py\",\"Jo\\u00e3o Darcy Tinoco Sant'Anna Neto\"],[\"tests\\u002fapp\\u002fworkers\\u002fseller_orders\\u002ftasks\\u002ftest_seller_orders_task.py\",\"Jo\\u00e3o Darcy Tinoco Sant'Anna Neto\"],[\"tests\\u002fapp\\u002fworkers\\u002fseller_orders\\u002ftest_seller_orders_app.py\",\"Jo\\u00e3o Darcy Tinoco Sant'Anna Neto\"],[\"tests\\u002fapp\\u002fworkers\\u002ftest_app.py\",\"Jo\\u00e3o Darcy Tinoco Sant'Anna Neto\"],[\"tests\\u002fapp\\u002fworkers\\u002ftest_tasks.py\",\"Jo\\u00e3o Darcy Tinoco Sant'Anna Neto\"],[\"tests\\u002fapp\\u002fworkers\\u002fwebhook\\u002ftasks\\u002ftest_data_object_merge_webhook_task.py\",\"Jo\\u00e3o Darcy Tinoco Sant'Anna Neto\"],[\"tests\\u002fapp\\u002fworkers\\u002fwebhook\\u002ftasks\\u002ftest_webhook_global_task.py\",\"LEONARDO BALDUINO DA SILVA\"],[\"tests\\u002fapp\\u002fworkers\\u002fwebhook\\u002ftest_webhook_app.py\",\"Jo\\u00e3o Darcy Tinoco Sant'Anna Neto\"],[\"tests\\u002fapp\\u002fworkers\\u002fworkflow_retry\\u002ftasks\\u002ftest_data_object_workflow_retry_task.py\",\"Igor Alves\"],[\"tests\\u002fapp\\u002fworkers\\u002fworkflow_retry\\u002ftest_workflow_retry_app.py\",\"Igor Alves\"],[\"tests\\u002fapp\\u002fworkers\\u002fworkflow_wakeup\\u002ftasks\\u002ftest_data_object_workflow_wakeup_task.py\",\"Jo\\u00e3o Darcy Tinoco Sant'Anna Neto\"],[\"tests\\u002fapp\\u002fworkers\\u002fworkflow_wakeup\\u002ftest_workflow_wakeup_app.py\",\"Rafael Vieira Mendes\"],[\"tests\\u002fapp\\u002fworkflow\\u002faddons\\u002ftest_workflow_wake_up.py\",\"Jo\\u00e3o Darcy Tinoco Sant'Anna Neto\"],[\"tests\\u002fapp\\u002fworkflow\\u002ftest_http_client.py\",\"guilherme.barroso\"],[\"tests\\u002fapp\\u002fworkflows\\u002ftest_action_panel_workflow.py\",\"Jo\\u00e3o Darcy Tinoco Sant'Anna Neto\"],[\"tests\\u002fapp\\u002fworkflows\\u002ftest_anonymized_safe_workflow.py\",\"Jo\\u00e3o Darcy Tinoco Sant'Anna Neto\"],[\"tests\\u002fapp\\u002fworkflows\\u002ftest_assignment_engine.py\",\"Jo\\u00e3o Darcy Tinoco Sant'Anna Neto\"],[\"tests\\u002fapp\\u002fworkflows\\u002ftest_call_employees.py\",\"Jo\\u00e3o Darcy Tinoco Sant'Anna Neto\"],[\"tests\\u002fapp\\u002fworkflows\\u002ftest_communication_hub.py\",\"Jo\\u00e3o Darcy Tinoco Sant'Anna Neto\"],[\"tests\\u002fapp\\u002fworkflows\\u002ftest_freedom.py\",\"Jo\\u00e3o Darcy Tinoco Sant'Anna Neto\"],[\"tests\\u002fapp\\u002fworkflows\\u002ftest_freshdesk.py\",\"Jo\\u00e3o Darcy Tinoco Sant'Anna Neto\"],[\"tests\\u002fapp\\u002fworkflows\\u002ftest_helena.py\",\"Igor Lucio Rocha Alves\"],[\"tests\\u002fapp\\u002fworkflows\\u002ftest_lead_workflow.py\",\"Jo\\u00e3o Darcy Tinoco Sant'Anna Neto\"],[\"tests\\u002fapp\\u002fworkflows\\u002ftest_legacy_callback.py\",\"Jo\\u00e3o Darcy Tinoco Sant'Anna Neto\"],[\"tests\\u002fapp\\u002fworkflows\\u002ftest_magalu_deliveries.py\",\"Jo\\u00e3o Darcy Tinoco Sant'Anna Neto\"],[\"tests\\u002fapp\\u002fworkflows\\u002ftest_mma.py\",\"Jo\\u00e3o Darcy Tinoco Sant'Anna Neto\"],[\"tests\\u002fapp\\u002fworkflows\\u002ftest_order3p_functionality_activation.py\",\"Jo\\u00e3o Darcy Tinoco Sant'Anna Neto\"],[\"tests\\u002fapp\\u002fworkflows\\u002ftest_pj_account.py\",\"Jo\\u00e3o Darcy Tinoco Sant'Anna Neto\"],[\"tests\\u002fapp\\u002fworkflows\\u002ftest_provision.py\",\"Jo\\u00e3o Darcy Tinoco Sant'Anna Neto\"],[\"tests\\u002fapp\\u002fworkflows\\u002ftest_seller_account.py\",\"Jo\\u00e3o Darcy Tinoco Sant'Anna Neto\"],[\"tests\\u002fapp\\u002fworkflows\\u002ftest_send_communication_messages.py\",\"Jo\\u00e3o Darcy Tinoco Sant'Anna Neto\"],[\"tests\\u002fapp\\u002fworkflows\\u002ftest_workflow_engine.py\",\"Jo\\u00e3o Darcy Tinoco Sant'Anna Neto\"],[\"tests\\u002fapp\\u002fworkflows\\u002ftest_zendesk_integration.py\",\"Jo\\u00e3o Darcy Tinoco Sant'Anna Neto\"],[\"tests\\u002fcommons\\u002fasync_worker\\u002ftest_application.py\",\"Jo\\u00e3o Darcy Tinoco Sant'Anna Neto\"],[\"tests\\u002fcommons\\u002fcache\\u002fstorage\\u002ftest_cache_storage.py\",\"Jo\\u00e3o Darcy Tinoco Sant'Anna Neto\"],[\"tests\\u002fcommons\\u002fcache\\u002ftest_multilayer_cache.py\",\"Jo\\u00e3o Darcy Tinoco Sant'Anna Neto\"],[\"tests\\u002fcommons\\u002flock\\u002ftest_lock.py\",\"Jo\\u00e3o Darcy Tinoco Sant'Anna Neto\"],[\"tests\\u002fconftest.py\",\"Jo\\u00e3o Darcy Tinoco Sant'Anna Neto\"],[\"tests\\u002ffixtures\\u002faioresponses.py\",\"Jo\\u00e3o Darcy Tinoco Sant'Anna Neto\"],[\"tests\\u002ffixtures\\u002fasyncio.py\",\"Jo\\u00e3o Darcy Tinoco Sant'Anna Neto\"],[\"tests\\u002ffixtures\\u002fbackends\\u002fapigee_mock.py\",\"Jo\\u00e3o Darcy Tinoco Sant'Anna Neto\"],[\"tests\\u002ffixtures\\u002fbackends\\u002fbabel_api_mock.py\",\"Jo\\u00e3o Darcy Tinoco Sant'Anna Neto\"],[\"tests\\u002ffixtures\\u002fbackends\\u002fclient_v1_api_mock.py\",\"Jo\\u00e3o Darcy Tinoco Sant'Anna Neto\"],[\"tests\\u002ffixtures\\u002fbackends\\u002fcommunication_hub_api_mock.py\",\"Jo\\u00e3o Darcy Tinoco Sant'Anna Neto\"],[\"tests\\u002ffixtures\\u002fbackends\\u002feddie_api_mock.py\",\"Jo\\u00e3o Darcy Tinoco Sant'Anna Neto\"],[\"tests\\u002ffixtures\\u002fbackends\\u002femployees_api_mock.py\",\"Jo\\u00e3o Darcy Tinoco Sant'Anna Neto\"],[\"tests\\u002ffixtures\\u002fbackends\\u002ffreedom_api_mock.py\",\"Jo\\u00e3o Darcy Tinoco Sant'Anna Neto\"],[\"tests\\u002ffixtures\\u002fbackends\\u002ffreight-seller-info.json\",\"Jo\\u00e3o Darcy Tinoco Sant'Anna Neto\"],[\"tests\\u002ffixtures\\u002fbackends\\u002ffreight_api_mock.py\",\"Jo\\u00e3o Darcy Tinoco Sant'Anna Neto\"],[\"tests\\u002ffixtures\\u002fbackends\\u002ffreshdesk_api_get_sucess.json\",\"Jo\\u00e3o Darcy Tinoco Sant'Anna Neto\"],[\"tests\\u002ffixtures\\u002fbackends\\u002ffreshdesk_api_mock.py\",\"Jo\\u00e3o Darcy Tinoco Sant'Anna Neto\"],[\"tests\\u002ffixtures\\u002fbackends\\u002ffreshdesk_api_post_sucess.json\",\"Jo\\u00e3o Darcy Tinoco Sant'Anna Neto\"],[\"tests\\u002ffixtures\\u002fbackends\\u002fhelena_api_mock.py\",\"Jo\\u00e3o Darcy Tinoco Sant'Anna Neto\"],[\"tests\\u002ffixtures\\u002fbackends\\u002fidmagalu_mock.py\",\"Jo\\u00e3o Darcy Tinoco Sant'Anna Neto\"],[\"tests\\u002ffixtures\\u002fbackends\\u002flegacy_callback.py\",\"Jo\\u00e3o Darcy Tinoco Sant'Anna Neto\"],[\"tests\\u002ffixtures\\u002fbackends\\u002fmaas-integra-api-id-magalu-test.json\",\"Jo\\u00e3o Darcy Tinoco Sant'Anna Neto\"],[\"tests\\u002ffixtures\\u002fbackends\\u002fmaas_account_api_mock.py\",\"Jo\\u00e3o Darcy Tinoco Sant'Anna Neto\"],[\"tests\\u002ffixtures\\u002fbackends\\u002fmaas_blocklist_api_mock.py\",\"Jo\\u00e3o Darcy Tinoco Sant'Anna Neto\"],[\"tests\\u002ffixtures\\u002fbackends\\u002fmaas_integra_api_mock.py\",\"Jo\\u00e3o Darcy Tinoco Sant'Anna Neto\"],[\"tests\\u002ffixtures\\u002fbackends\\u002fmaas_product_api_mock.py\",\"Jo\\u00e3o Darcy Tinoco Sant'Anna Neto\"],[\"tests\\u002ffixtures\\u002fbackends\\u002fmaestro-order-common.json\",\"Jo\\u00e3o Darcy Tinoco Sant'Anna Neto\"],[\"tests\\u002ffixtures\\u002fbackends\\u002fmaestro-order-not-found.json\",\"Jo\\u00e3o Darcy Tinoco Sant'Anna Neto\"],[\"tests\\u002ffixtures\\u002fbackends\\u002fmaestro-order-test.json\",\"Igor Lucio Rocha Alves\"],[\"tests\\u002ffixtures\\u002fbackends\\u002fmaestro_api_mock.py\",\"Jo\\u00e3o Darcy Tinoco Sant'Anna Neto\"],[\"tests\\u002ffixtures\\u002fbackends\\u002fmagalu_tax_api_mock.py\",\"Jo\\u00e3o Darcy Tinoco Sant'Anna Neto\"],[\"tests\\u002ffixtures\\u002fbackends\\u002fmma_api_mock.py\",\"Jo\\u00e3o Darcy Tinoco Sant'Anna Neto\"],[\"tests\\u002ffixtures\\u002fbackends\\u002fmp_security_mock.py\",\"semantic-release-bot\"],[\"tests\\u002ffixtures\\u002fbackends\\u002fmp_sellers_api_mock.py\",\"Igor Lucio Rocha Alves\"],[\"tests\\u002ffixtures\\u002fbackends\\u002fopen_id_api_mock.py\",\"Jos\\u00e9 Tiago\"],[\"tests\\u002ffixtures\\u002fbackends\\u002forder3p_api_mock.py\",\"Jos\\u00e9 Tiago\"],[\"tests\\u002ffixtures\\u002fbackends\\u002fp52-cart-common.json\",\"Igor Lucio Rocha Alves\"],[\"tests\\u002ffixtures\\u002fbackends\\u002fp52-cart-token.json\",\"Igor Lucio Rocha Alves\"],[\"tests\\u002ffixtures\\u002fbackends\\u002fp52-cart-token_invalid_client.json\",\"Igor Lucio Rocha Alves\"],[\"tests\\u002ffixtures\\u002fbackends\\u002fp52-cart-with-client-and-freight.json\",\"Igor Lucio Rocha Alves\"],[\"tests\\u002ffixtures\\u002fbackends\\u002fp52-shipping-calc-cart-unavailable.json\",\"Igor Lucio Rocha Alves\"],[\"tests\\u002ffixtures\\u002fbackends\\u002fp52-shipping-calc-cart.json\",\"Igor Lucio Rocha Alves\"],[\"tests\\u002ffixtures\\u002fbackends\\u002fp52_api_mock.py\",\"Jo\\u00e3o Darcy Tinoco Sant'Anna Neto\"],[\"tests\\u002ffixtures\\u002fbackends\\u002fp52_close_cart_order.json\",\"Jo\\u00e3o Darcy Tinoco Sant'Anna Neto\"],[\"tests\\u002ffixtures\\u002fbackends\\u002fpj_account_creation_mock.py\",\"Jo\\u00e3o Darcy Tinoco Sant'Anna Neto\"],[\"tests\\u002ffixtures\\u002fbackends\\u002fproduct-validation-approved.json\",\"Jo\\u00e3o Darcy Tinoco Sant'Anna Neto\"],[\"tests\\u002ffixtures\\u002fbackends\\u002fproduct-validation-autoreprove.json\",\"Jo\\u00e3o Darcy Tinoco Sant'Anna Neto\"],[\"tests\\u002ffixtures\\u002fbackends\\u002fproduct-validation-reproved.json\",\"Igor Lucio Rocha Alves\"],[\"tests\\u002ffixtures\\u002fbackends\\u002fprovision_api_mock.py\",null],[\"tests\\u002ffixtures\\u002fbackends\\u002fps_contract_api_mock.py\",null],[\"tests\\u002ffixtures\\u002fbackends\\u002fps_onboarding_analytics_backend.py\",null],[\"tests\\u002ffixtures\\u002fbackends\\u002fsebastian-post-v1-lead-create-success.json\",null],[\"tests\\u002ffixtures\\u002fbackends\\u002fsebastian_api_mock.py\",null],[\"tests\\u002ffixtures\\u002fbackends\\u002fseller-account-no-ii.json\",null],[\"tests\\u002ffixtures\\u002fbackends\\u002fseller-account.json\",null],[\"tests\\u002ffixtures\\u002fbackends\\u002fseller-orders.json\",null],[\"tests\\u002ffixtures\\u002fbackends\\u002fzendesk_api_mock.py\",null],[\"tests\\u002ffixtures\\u002fbackends\\u002fzendesk_ticket_create_success.json\",null],[\"tests\\u002ffixtures\\u002fbusinesses.py\",null],[\"tests\\u002ffixtures\\u002fcdi.py\",null],[\"tests\\u002ffixtures\\u002fcommons.py\",null],[\"tests\\u002ffixtures\\u002fdomains\\u002fbatch_data_object.py\",null],[\"tests\\u002ffixtures\\u002fdomains\\u002fchange_history.py\",null],[\"tests\\u002ffixtures\\u002fdomains\\u002fcontact.py\",null],[\"tests\\u002ffixtures\\u002fdomains\\u002fdata_object_helper.py\",null],[\"tests\\u002ffixtures\\u002fdomains\\u002fdefinition.py\",null],[\"tests\\u002ffixtures\\u002fdomains\\u002fintegration_platform.py\",null],[\"tests\\u002ffixtures\\u002fdomains\\u002fintegration_platforms_data.json\",null],[\"tests\\u002ffixtures\\u002fdomains\\u002flead.py\",null],[\"tests\\u002ffixtures\\u002fdomains\\u002flead_service.py\",null],[\"tests\\u002ffixtures\\u002fdomains\\u002fuser.py\",null],[\"tests\\u002ffixtures\\u002fdomains\\u002fvault.py\",null],[\"tests\\u002ffixtures\\u002fdomains\\u002fvirtual_actions.py\",null],[\"tests\\u002ffixtures\\u002fdomains\\u002fworkflow.py\",null],[\"tests\\u002ffixtures\\u002fgoogle_pubsub.py\",null],[\"tests\\u002ffixtures\\u002fkafka.py\",null],[\"tests\\u002ffixtures\\u002fmigrations.py\",null],[\"tests\\u002ffixtures\\u002fmongo.py\",null],[\"tests\\u002ffixtures\\u002fnetshoes_seller_payloads.py\",null],[\"tests\\u002ffixtures\\u002fopen_id_fixture.py\",null],[\"tests\\u002ffixtures\\u002fpubsub.py\",null],[\"tests\\u002ffixtures\\u002frepositories.py\",null],[\"tests\\u002ffixtures\\u002fsebastian_token.py\",null],[\"tests\\u002ffixtures\\u002fsettings.py\",null],[\"tests\\u002fhopdb\\u002findex\\u002ftest_btree.py\",null],[\"tests\\u002fhopdb\\u002ftest_collection_storage.py\",null],[\"tests\\u002fhopdb\\u002ftest_correlation_table.py\",null],[\"tests\\u002fhopdb\\u002ftest_sequence.py\",null],[\"tests\\u002flib\\u002fcommon\\u002fencoder\\u002ftest_safe_pickle.py\",null],[\"tests\\u002flib\\u002fcommon\\u002ffields\\u002ftest_fields_pytimezone.py\",null],[\"tests\\u002flib\\u002fcommon\\u002fobject_storage\\u002ftest_object_storage.py\",null],[\"tests\\u002flib\\u002fdict\\u002fanonymize\\u002ftest_anonymize_dict.py\",null],[\"tests\\u002flib\\u002fdict\\u002fdiff\\u002ftest_deep_dict_diff.py\",null],[\"tests\\u002flib\\u002fdict\\u002fdiff\\u002ftest_simple_dict_diff.py\",null],[\"tests\\u002futils\\u002fbuilders\\u002fdomain\\u002f__init__.py\",null],[\"tests\\u002futils\\u002fbuilders\\u002fdomain\\u002fuser_builder.py\",null],[\"tests\\u002futils\\u002fconstants.py\",null],[\"tests\\u002futils\\u002fcontext.py\",null],[\"tests\\u002futils\\u002fthreading.py\",null],[\"tests\\u002futils\\u002funiverse_form.py\",null],[\"tests\\u002futils\\u002fworkflows.py\",null],[\"webhook_worker.py\",null],[\"workflow_retry_worker.py\",null],[\"workflow_wakeup_worker.py\",null],[null,null],[\".devcontainer\",null],[\".gitlab\",null],[\".gitlab\\u002fmerge_request_templates\",null],[\"analytics\",null],[\"analytics\\u002fapis\",null],[\"analytics\\u002fapis\\u002ffastapi\",null],[\"analytics\\u002fapis\\u002ffastapi\\u002froutes\",null],[\"analytics\\u002fbusiness\",null],[\"analytics\\u002fconfig\",null],[\"analytics\\u002fdto\",null],[\"analytics\\u002fintegrations\",null],[\"analytics\\u002frepository\",null],[\"analytics\\u002fstandalone\",null],[\"analytics\\u002fstandalone\\u002fpages\",null],[\"analytics\\u002futils\",null],[\"analytics\\u002fworkers\",null],[\"analytics\\u002fworkers\\u002flead_incremental_indexer\",null],[\"app\",null],[\"app\\u002fapis\",null],[\"app\\u002fapis\\u002fcommon\",null],[\"app\\u002fapis\\u002ffastapi\",null],[\"app\\u002fapis\\u002ffastapi\\u002fconfigs\",null],[\"app\\u002fapis\\u002ffastapi\\u002froutes\",null],[\"app\\u002fbusinesses\",null],[\"app\\u002fbusinesses\\u002fcore\",null],[\"app\\u002fbusinesses\\u002fcore\\u002fdata_object\",null],[\"app\\u002fbusinesses\\u002fexceptions\",null],[\"app\\u002fbusinesses\\u002fhandlers\",null],[\"app\\u002fbusinesses\\u002fobservers\",null],[\"app\\u002fbusinesses\\u002fobservers\\u002fmagalu\",null],[\"app\\u002fbusinesses\\u002fobservers\\u002fmagalu\\u002fdtos\",null],[\"app\\u002fbusinesses\\u002fobservers\\u002fmagalu\\u002ftest_purchase\",null],[\"app\\u002fbusinesses\\u002fsecuritys\",null],[\"app\\u002fcommons\",null],[\"app\\u002fcommons\\u002fasync_worker\",null],[\"app\\u002fcommons\\u002fasync_worker\\u002fpool\",null],[\"app\\u002fcommons\\u002fasync_worker\\u002ftasks\",null],[\"app\\u002fcommons\\u002fcache\",null],[\"app\\u002fcommons\\u002fcache\\u002fimpl\",null],[\"app\\u002fcommons\\u002fcache\\u002fimpl\\u002fserializer\",null],[\"app\\u002fcommons\\u002fcache\\u002fimpl\\u002fstorage\",null],[\"app\\u002fcommons\\u002fcache\\u002fimpl\\u002fstorage\\u002finternal\",null],[\"app\\u002fcommons\\u002fcache\\u002fimpl\\u002fstorage\\u002fremote\",null],[\"app\\u002fcommons\\u002fcache\\u002fsdk\",null],[\"app\\u002fcommons\\u002feventbus\",null],[\"app\\u002fcommons\\u002fhttp\",null],[\"app\\u002fcommons\\u002flock\",null],[\"app\\u002fcommons\\u002fmapping\",null],[\"app\\u002fcommons\\u002fpubsub\",null],[\"app\\u002fcommons\\u002ftranslations\",null],[\"app\\u002fcommons\\u002ftranslations\\u002fpydantic\",null],[\"app\\u002fconfigs\",null],[\"app\\u002fdomains\",null],[\"app\\u002fdtos\",null],[\"app\\u002feventbus\",null],[\"app\\u002feventbus\\u002fevents\",null],[\"app\\u002fintegrations\",null],[\"app\\u002fintegrations\\u002fbackends\",null],[\"app\\u002fintegrations\\u002fbackends\\u002fapigee\",null],[\"app\\u002fintegrations\\u002fbackends\\u002fblocklist\",null],[\"app\\u002fintegrations\\u002fbackends\\u002fclient_v1_api\",null],[\"app\\u002fintegrations\\u002fbackends\\u002fcommunication_hub_api\",null],[\"app\\u002fintegrations\\u002fbackends\\u002fhelena_api\",null],[\"app\\u002fintegrations\\u002fbackends\\u002fid_magalu\",null],[\"app\\u002fintegrations\\u002fbackends\\u002fmaas_integra_api\",null],[\"app\\u002fintegrations\\u002fbackends\\u002fmaas_products_api\",null],[\"app\\u002fintegrations\\u002fbackends\\u002fmaestro\",null],[\"app\\u002fintegrations\\u002fbackends\\u002fmagalu_tax\",null],[\"app\\u002fintegrations\\u002fbackends\\u002fmp_security\",null],[\"app\\u002fintegrations\\u002fbackends\\u002fmp_seller_api\",null],[\"app\\u002fintegrations\\u002fbackends\\u002fopen_id\",null],[\"app\\u002fintegrations\\u002fbackends\\u002fp52_api\",null],[\"app\\u002fintegrations\\u002fbackends\\u002fps_account\",null],[\"app\\u002fintegrations\\u002fbackends\\u002fps_contract_api\",null],[\"app\\u002fintegrations\\u002fbackends\\u002fps_onboarding_analytics\",null],[\"app\\u002fintegrations\\u002fbackends\\u002fps_order3p_api\",null],[\"app\\u002fintegrations\\u002fbackends\\u002fsebastian_api\",null],[\"app\\u002fintegrations\\u002fbackends\\u002fzendesk_api\",null],[\"app\\u002fintegrations\\u002fdatalake\",null],[\"app\\u002fintegrations\\u002fdatalake\\u002fbackends\",null],[\"app\\u002fintegrations\\u002fdatalake\\u002fbackends\\u002ftetrix_kafka\",null],[\"app\\u002fintegrations\\u002fdb\",null],[\"app\\u002fintegrations\\u002fdb\\u002fmongo\",null],[\"app\\u002fintegrations\\u002fpubsub\",null],[\"app\\u002fintegrations\\u002fpubsub\\u002fgoogle_pubsub\",null],[\"app\\u002fintegrations\\u002fpubsub\\u002fkafka\",null],[\"app\\u002fintegrations\\u002frisk_analysis\",null],[\"app\\u002fintegrations\\u002frisk_analysis\\u002ffake\",null],[\"app\\u002fintegrations\\u002frisk_analysis\\u002fzaig\",null],[\"app\\u002fintegrations\\u002fscheduler\",null],[\"app\\u002fintegrations\\u002fscheduler\\u002fimpl\",null],[\"app\\u002fintegrations\\u002fscheduler\\u002fimpl\\u002flite\",null],[\"app\\u002fintegrations\\u002fscheduler\\u002fimpl\\u002flite\\u002fexecutors\",null],[\"app\\u002fintegrations\\u002fscheduler\\u002fimpl\\u002flite\\u002fjobstores\",null],[\"app\\u002fintegrations\\u002fseller_product_info\",null],[\"app\\u002flazy\",null],[\"app\\u002fpubsub\",null],[\"app\\u002fpubsub\\u002fmessages\",null],[\"app\\u002frepositories\",null],[\"app\\u002fscript\",null],[\"app\\u002fscript\\u002fimpl\",null],[\"app\\u002fscript\\u002fimpl\\u002fpython\",null],[\"app\\u002futils\",null],[\"app\\u002futils\\u002flogging\",null],[\"app\\u002fworkers\",null],[\"app\\u002fworkers\\u002fdata_object_batch\",null],[\"app\\u002fworkers\\u002fdata_object_batch\\u002fbatch_handlers\",null],[\"app\\u002fworkers\\u002fdata_object_batch\\u002fhandlers\",null],[\"app\\u002fworkers\\u002fdata_object_batch\\u002ftasks\",null],[\"app\\u002fworkers\\u002ffreight\",null],[\"app\\u002fworkers\\u002ffreight\\u002ftasks\",null],[\"app\\u002fworkers\\u002flead\",null],[\"app\\u002fworkers\\u002flead\\u002ftasks\",null],[\"app\\u002fworkers\\u002fnetshoes\",null],[\"app\\u002fworkers\\u002fnetshoes\\u002ftasks\",null],[\"app\\u002fworkers\\u002fnetshoes\\u002ftasks\\u002fmodels\",null],[\"app\\u002fworkers\\u002fproduct\",null],[\"app\\u002fworkers\\u002fproduct\\u002ftasks\",null],[\"app\\u002fworkers\\u002frisk_analysis\",null],[\"app\\u002fworkers\\u002frisk_analysis\\u002ftasks\",null],[\"app\\u002fworkers\\u002fsebastian_integration\",null],[\"app\\u002fworkers\\u002fseller_account\",null],[\"app\\u002fworkers\\u002fseller_account\\u002ftasks\",null],[\"app\\u002fworkers\\u002fseller_contract\",null],[\"app\\u002fworkers\\u002fseller_contract\\u002ftasks\",null],[\"app\\u002fworkers\\u002fseller_orders\",null],[\"app\\u002fworkers\\u002fseller_orders\\u002ftasks\",null],[\"app\\u002fworkers\\u002ftags\",null],[\"app\\u002fworkers\\u002ftags\\u002ftasks\",null],[\"app\\u002fworkers\\u002fwebhook\",null],[\"app\\u002fworkers\\u002fwebhook\\u002ftasks\",null],[\"app\\u002fworkers\\u002fwebhook\\u002ftasks\\u002fwebhook_global\",null],[\"app\\u002fworkers\\u002fwebhook\\u002ftasks\\u002fwebhook_global\\u002fsdk\",null],[\"app\\u002fworkers\\u002fworkflow_retry\",null],[\"app\\u002fworkers\\u002fworkflow_retry\\u002ftasks\",null],[\"app\\u002fworkers\\u002fworkflow_wakeup\",null],[\"app\\u002fworkers\\u002fworkflow_wakeup\\u002ftasks\",null],[\"app\\u002fworkflow\",null],[\"app\\u002fworkflow\\u002faddons\",null],[\"app\\u002fworkflow\\u002fretry\",null],[\"app\\u002fworkflow\\u002frunners\",null],[\"devtools\",null],[\"devtools\\u002faction_scripts\",null],[\"devtools\\u002faction_scripts\\u002fgui\",null],[\"devtools\\u002faction_scripts\\u002ftroubleshoot\",null],[\"devtools\\u002faction_scripts\\u002funiverse_cards\",null],[\"devtools\\u002faction_scripts\\u002funiverse_form\",null],[\"devtools\\u002faction_scripts\\u002fupdate\",null],[\"devtools\\u002faction_scripts\\u002fvoip_service\",null],[\"devtools\\u002fargocd\",null],[\"devtools\\u002fcicd\",null],[\"devtools\\u002fmigration_scripts\",null],[\"devtools\\u002fmongo\",null],[\"devtools\\u002fpocs\",null],[\"devtools\\u002fscripts\",null],[\"docs\",null],[\"docs\\u002fsvgs\",null],[\"docs\\u002funiverse_form\",null],[\"hopdb\",null],[\"hopdb\\u002fcollection_storage\",null],[\"hopdb\\u002fcorrelation_table\",null],[\"hopdb\\u002fdocument_encoder\",null],[\"hopdb\\u002findex\",null],[\"hopdb\\u002fthirdparty\",null],[\"lib\",null],[\"lib\\u002fcdi\",null],[\"lib\\u002fcommon\",null],[\"lib\\u002fcommon\\u002fconstants\",null],[\"lib\\u002fcommon\\u002fencoder\",null],[\"lib\\u002fcommon\\u002ffastapi\",null],[\"lib\\u002fcommon\\u002ffields\",null],[\"lib\\u002fcommon\\u002ffile\",null],[\"lib\\u002fcommon\\u002flock\",null],[\"lib\\u002fcommon\\u002fmapping\",null],[\"lib\\u002fcommon\\u002fobject_storage\",null],[\"lib\\u002fcommon\\u002fredis_channel\",null],[\"lib\\u002fdict\",null],[\"lib\\u002fdict\\u002fanonymize\",null],[\"lib\\u002fdict\\u002fdiff\",null],[\"lib\\u002fdict\\u002fdotnotation\",null],[\"lib\\u002fdict\\u002fpatch\",null],[\"lib\\u002flogging\",null],[\"migrations\",null],[\"migrations\\u002futils\",null],[\"migrations_util\",null],[\"requirements\",null],[\"tests\",null],[\"tests\\u002fanalytics\",null],[\"tests\\u002fanalytics\\u002fapis\",null],[\"tests\\u002fanalytics\\u002fapis\\u002ffastapi\",null],[\"tests\\u002fanalytics\\u002fapis\\u002ffastapi\\u002froutes\",null],[\"tests\\u002fanalytics\\u002fbusiness\",null],[\"tests\\u002fanalytics\\u002ffixtures\",null],[\"tests\\u002fanalytics\\u002ffixtures\\u002fdataset\",null],[\"tests\\u002fapp\",null],[\"tests\\u002fapp\\u002factions\",null],[\"tests\\u002fapp\\u002fapis\",null],[\"tests\\u002fapp\\u002fapis\\u002ffastapi\",null],[\"tests\\u002fapp\\u002fapis\\u002ffastapi\\u002froutes\",null],[\"tests\\u002fapp\\u002fbusiness_rule\",null],[\"tests\\u002fapp\\u002fbusiness_rule\\u002funiverse_form\",null],[\"tests\\u002fapp\\u002fbusinesses\",null],[\"tests\\u002fapp\\u002fbusinesses\\u002fhandlers\",null],[\"tests\\u002fapp\\u002fbusinesses\\u002fobservers\",null],[\"tests\\u002fapp\\u002fbusinesses\\u002fobservers\\u002fmagalu\",null],[\"tests\\u002fapp\\u002fdomains\",null],[\"tests\\u002fapp\\u002fintegrations\",null],[\"tests\\u002fapp\\u002fintegrations\\u002fbackends\",null],[\"tests\\u002fapp\\u002fintegrations\\u002fbackends\\u002fsebastian_api\",null],[\"tests\\u002fapp\\u002fintegrations\\u002fdatalake\",null],[\"tests\\u002fapp\\u002fintegrations\\u002fdatalake\\u002fbackends\",null],[\"tests\\u002fapp\\u002fintegrations\\u002fdatalake\\u002fbackends\\u002ftetrix_kafka\",null],[\"tests\\u002fapp\\u002fintegrations\\u002fdatalake\\u002fbackends\\u002ftetrix_kafka\\u002fhandlers\",null],[\"tests\\u002fapp\\u002fintegrations\\u002fdb\",null],[\"tests\\u002fapp\\u002fintegrations\\u002fdb\\u002fmongo\",null],[\"tests\\u002fapp\\u002fintegrations\\u002fpubsub\",null],[\"tests\\u002fapp\\u002fintegrations\\u002fpubsub\\u002fencoder\",null],[\"tests\\u002fapp\\u002fintegrations\\u002fpubsub\\u002fkafka\",null],[\"tests\\u002fapp\\u002fintegrations\\u002frisk_analysis\",null],[\"tests\\u002fapp\\u002fintegrations\\u002fscheduler\",null],[\"tests\\u002fapp\\u002fintegrations\\u002fscheduler\\u002fimpl\",null],[\"tests\\u002fapp\\u002fintegrations\\u002fscheduler\\u002fimpl\\u002flite\",null],[\"tests\\u002fapp\\u002fintegrations\\u002fscheduler\\u002fimpl\\u002flite\\u002fjobstores\",null],[\"tests\\u002fapp\\u002fintegrations\\u002fseller_stock_info\",null],[\"tests\\u002fapp\\u002frepositories\",null],[\"tests\\u002fapp\\u002fscript\",null],[\"tests\\u002fapp\\u002fscript\\u002fimpl\",null],[\"tests\\u002fapp\\u002fscript\\u002fimpl\\u002fpython\",null],[\"tests\\u002fapp\\u002futils\",null],[\"tests\\u002fapp\\u002fworkers\",null],[\"tests\\u002fapp\\u002fworkers\\u002fdata_object_batch\",null],[\"tests\\u002fapp\\u002fworkers\\u002fdata_object_batch\\u002ftasks\",null],[\"tests\\u002fapp\\u002fworkers\\u002ffreight\",null],[\"tests\\u002fapp\\u002fworkers\\u002ffreight\\u002ftasks\",null],[\"tests\\u002fapp\\u002fworkers\\u002flead\",null],[\"tests\\u002fapp\\u002fworkers\\u002flead\\u002ftasks\",null],[\"tests\\u002fapp\\u002fworkers\\u002fnetshoes\",null],[\"tests\\u002fapp\\u002fworkers\\u002fnetshoes\\u002ftasks\",null],[\"tests\\u002fapp\\u002fworkers\\u002fnetshoes\\u002ftasks\\u002fnetshoes_lead_mapper\",null],[\"tests\\u002fapp\\u002fworkers\\u002fproduct\",null],[\"tests\\u002fapp\\u002fworkers\\u002fproduct\\u002ftasks\",null],[\"tests\\u002fapp\\u002fworkers\\u002frisk_analysis\",null],[\"tests\\u002fapp\\u002fworkers\\u002fseller_account\",null],[\"tests\\u002fapp\\u002fworkers\\u002fseller_account\\u002ftasks\",null],[\"tests\\u002fapp\\u002fworkers\\u002fseller_contracts\",null],[\"tests\\u002fapp\\u002fworkers\\u002fseller_contracts\\u002ftasks\",null],[\"tests\\u002fapp\\u002fworkers\\u002fseller_orders\",null],[\"tests\\u002fapp\\u002fworkers\\u002fseller_orders\\u002ftasks\",null],[\"tests\\u002fapp\\u002fworkers\\u002fwebhook\",null],[\"tests\\u002fapp\\u002fworkers\\u002fwebhook\\u002ftasks\",null],[\"tests\\u002fapp\\u002fworkers\\u002fworkflow_retry\",null],[\"tests\\u002fapp\\u002fworkers\\u002fworkflow_retry\\u002ftasks\",null],[\"tests\\u002fapp\\u002fworkers\\u002fworkflow_wakeup\",null],[\"tests\\u002fapp\\u002fworkers\\u002fworkflow_wakeup\\u002ftasks\",null],[\"tests\\u002fapp\\u002fworkflow\",null],[\"tests\\u002fapp\\u002fworkflow\\u002faddons\",null],[\"tests\\u002fapp\\u002fworkflows\",null],[\"tests\\u002fcommons\",null],[\"tests\\u002fcommons\\u002fasync_worker\",null],[\"tests\\u002fcommons\\u002fcache\",null],[\"tests\\u002fcommons\\u002fcache\\u002fstorage\",null],[\"tests\\u002fcommons\\u002flock\",null],[\"tests\\u002ffixtures\",null],[\"tests\\u002ffixtures\\u002fbackends\",null],[\"tests\\u002ffixtures\\u002fdomains\",null],[\"tests\\u002fhopdb\",null],[\"tests\\u002fhopdb\\u002findex\",null],[\"tests\\u002flib\",null],[\"tests\\u002flib\\u002fcommon\",null],[\"tests\\u002flib\\u002fcommon\\u002fencoder\",null],[\"tests\\u002flib\\u002fcommon\\u002ffields\",null],[\"tests\\u002flib\\u002fcommon\\u002fobject_storage\",null],[\"tests\\u002flib\\u002fdict\",null],[\"tests\\u002flib\\u002fdict\\u002fanonymize\",null],[\"tests\\u002flib\\u002fdict\\u002fdiff\",null],[\"tests\\u002futils\",null],[\"tests\\u002futils\\u002fbuilders\",null],[\"tests\\u002futils\\u002fbuilders\\u002fdomain\",null]],\"domain\":{\"x\":[0.0,1.0],\"y\":[0.0,1.0]},\"hovertemplate\":\"label=%{label}\\u003cbr\\u003eparent=%{parent}\\u003cbr\\u003ehover_data_0=%{customdata[0]}\\u003cbr\\u003ehover_data_1=%{customdata[1]}\\u003cbr\\u003ecolor=%{color}\\u003cextra\\u003e\\u003c\\u002fextra\\u003e\",\"labels\":[\".buildpacks\",\".coveragerc\",\".devcontainer\\u002fDockerfile.workspace\",\".devcontainer\\u002fdevcontainer.json\",\".devcontainer\\u002fdocker-compose.workspace.yml\",\".devcontainer\\u002fproxy-services.sh\",\".dockerignore\",\".gitignore\",\".gitlab-ci.yml\",\".gitlab\\u002fmerge_request_templates\\u002fBUGFIX.md\",\".gitlab\\u002fmerge_request_templates\\u002fFEATURE.md\",\".gitlab\\u002fmerge_request_templates\\u002fREFACTOR_CHORE.md\",\".gitlab\\u002fmerge_request_templates\\u002fTEST.md\",\".gitlab\\u002fmerge_request_templates\\u002fdefault.md\",\".gitleaksignore\",\".pre-commit-config.yaml\",\"CHANGELOG.md\",\"HOPDB.md\",\"LIB.md\",\"Makefile\",\"README.md\",\"analytics\\u002f__init__.py\",\"analytics\\u002fapis\\u002ffastapi\\u002fcdi.py\",\"analytics\\u002fapis\\u002ffastapi\\u002froutes\\u002fbase.py\",\"analytics\\u002fapis\\u002ffastapi\\u002froutes\\u002fhealth_router.py\",\"analytics\\u002fapis\\u002ffastapi\\u002froutes\\u002flead_analytics_router.py\",\"analytics\\u002fapp.py\",\"analytics\\u002fbusiness\\u002f__init__.py\",\"analytics\\u002fbusiness\\u002fcdi.py\",\"analytics\\u002fbusiness\\u002flazy.py\",\"analytics\\u002fbusiness\\u002flead_analytics_bo.py\",\"analytics\\u002fcdi.py\",\"analytics\\u002fconfig\\u002flogging.py\",\"analytics\\u002fconfig\\u002fpydantic.py\",\"analytics\\u002fdto\\u002fbase.py\",\"analytics\\u002fdto\\u002flead_analytics.py\",\"analytics\\u002fintegrations\\u002fcdi.py\",\"analytics\\u002fintegrations\\u002fdatabase.py\",\"analytics\\u002fintegrations\\u002fdatabase_reloader.py\",\"analytics\\u002frepository\\u002f__init__.py\",\"analytics\\u002frepository\\u002fcdi.py\",\"analytics\\u002frepository\\u002flead_analytics_repository.py\",\"analytics\\u002fstandalone\\u002fmain.py\",\"analytics\\u002fstandalone\\u002fpages\\u002f1_lead_dashboard.py\",\"analytics\\u002fstandalone\\u002fpages\\u002f2_lead_classifiers.py\",\"analytics\\u002fstandalone\\u002fpages\\u002f3_lead_workflows.py\",\"analytics\\u002fstandalone\\u002futils.py\",\"analytics\\u002futils\\u002fcdi.py\",\"analytics\\u002futils\\u002fdatetime.py\",\"analytics\\u002futils\\u002foperators.py\",\"analytics\\u002futils\\u002fsettings.py\",\"analytics\\u002fworkers\\u002findex_job.py\",\"analytics\\u002fworkers\\u002flead_incremental_indexer\\u002f__init__.py\",\"analytics\\u002fworkers\\u002flead_incremental_indexer\\u002fjob.py\",\"analytics\\u002fworkers\\u002flead_incremental_indexer\\u002fmigrate.py\",\"analytics\\u002fworkers\\u002flead_incremental_indexer\\u002fmodels.py\",\"analytics\\u002fworkers\\u002flead_incremental_indexer\\u002fprojection.py\",\"analytics\\u002fworkers\\u002flead_incremental_indexer\\u002ftransform.py\",\"analytics_api.py\",\"analytics_incremental_ingestion.py\",\"api_main.py\",\"app\\u002f__init__.py\",\"app\\u002fapis\\u002fcommon\\u002fworkflow_acl.py\",\"app\\u002fapis\\u002ffastapi\\u002f__init__.py\",\"app\\u002fapis\\u002ffastapi\\u002fapi_app.py\",\"app\\u002fapis\\u002ffastapi\\u002fconfigs\\u002f__init__.py\",\"app\\u002fapis\\u002ffastapi\\u002fconfigs\\u002fcors.py\",\"app\\u002fapis\\u002ffastapi\\u002fconfigs\\u002fexception_handler.py\",\"app\\u002fapis\\u002ffastapi\\u002fconfigs\\u002frequest_context_middleware.py\",\"app\\u002fapis\\u002ffastapi\\u002fopenapi_description.md\",\"app\\u002fapis\\u002ffastapi\\u002froutes\\u002f__init__.py\",\"app\\u002fapis\\u002ffastapi\\u002froutes\\u002faction_rest.py\",\"app\\u002fapis\\u002ffastapi\\u002froutes\\u002fanalytics_rest.py\",\"app\\u002fapis\\u002ffastapi\\u002froutes\\u002fauth_rest.py\",\"app\\u002fapis\\u002ffastapi\\u002froutes\\u002fbase.py\",\"app\\u002fapis\\u002ffastapi\\u002froutes\\u002fbatch_data_object_rest.py\",\"app\\u002fapis\\u002ffastapi\\u002froutes\\u002fcdi.py\",\"app\\u002fapis\\u002ffastapi\\u002froutes\\u002fchange_history_rest.py\",\"app\\u002fapis\\u002ffastapi\\u002froutes\\u002fcontact_rest.py\",\"app\\u002fapis\\u002ffastapi\\u002froutes\\u002fcore_data_object_classifier_rest.py\",\"app\\u002fapis\\u002ffastapi\\u002froutes\\u002fdefinition_rest.py\",\"app\\u002fapis\\u002ffastapi\\u002froutes\\u002fhealth_rest.py\",\"app\\u002fapis\\u002ffastapi\\u002froutes\\u002flead_analytics_rest.py\",\"app\\u002fapis\\u002ffastapi\\u002froutes\\u002flead_legacy_rest.py\",\"app\\u002fapis\\u002ffastapi\\u002froutes\\u002flead_rest.py\",\"app\\u002fapis\\u002ffastapi\\u002froutes\\u002fpartner_rest.py\",\"app\\u002fapis\\u002ffastapi\\u002froutes\\u002fqa_rest.py\",\"app\\u002fapis\\u002ffastapi\\u002froutes\\u002frouter.py\",\"app\\u002fapis\\u002ffastapi\\u002froutes\\u002fservice_rest.py\",\"app\\u002fapis\\u002ffastapi\\u002froutes\\u002fuser_rest.py\",\"app\\u002fapis\\u002ffastapi\\u002froutes\\u002fvault_rest.py\",\"app\\u002fapis\\u002ffastapi\\u002froutes\\u002fworkflow_rest.py\",\"app\\u002fbusinesses\\u002f__init__.py\",\"app\\u002fbusinesses\\u002faction_bo.py\",\"app\\u002fbusinesses\\u002fauth_bo.py\",\"app\\u002fbusinesses\\u002fbank_bo.py\",\"app\\u002fbusinesses\\u002fbank_db.json\",\"app\\u002fbusinesses\\u002fbatch_data_object_bo.py\",\"app\\u002fbusinesses\\u002fbatch_data_object_row_bo.py\",\"app\\u002fbusinesses\\u002fblocklist_bo.py\",\"app\\u002fbusinesses\\u002fcdi.py\",\"app\\u002fbusinesses\\u002fchange_history_bo.py\",\"app\\u002fbusinesses\\u002fcommunication_hub_bo.py\",\"app\\u002fbusinesses\\u002fcontact_bo.py\",\"app\\u002fbusinesses\\u002fcontact_history_bo.py\",\"app\\u002fbusinesses\\u002fcore\\u002fdata_object\\u002fclassifier_bo.py\",\"app\\u002fbusinesses\\u002fdata_object_bo.py\",\"app\\u002fbusinesses\\u002fdefinition_bo.py\",\"app\\u002fbusinesses\\u002fexceptions\\u002f__init__.py\",\"app\\u002fbusinesses\\u002fexceptions\\u002faction_exceptions.py\",\"app\\u002fbusinesses\\u002fexceptions\\u002fbase.py\",\"app\\u002fbusinesses\\u002fexceptions\\u002fbatch_data_object_exceptions.py\",\"app\\u002fbusinesses\\u002fexceptions\\u002fcontact_exceptions.py\",\"app\\u002fbusinesses\\u002fexceptions\\u002fcore_data_object_classifier.py\",\"app\\u002fbusinesses\\u002fexceptions\\u002fdata_object.py\",\"app\\u002fbusinesses\\u002fexceptions\\u002fdata_object_batch_exceptions.py\",\"app\\u002fbusinesses\\u002fexceptions\\u002fdefinition_exceptions.py\",\"app\\u002fbusinesses\\u002fexceptions\\u002flead_exceptions.py\",\"app\\u002fbusinesses\\u002fexceptions\\u002fpartner_exceptions.py\",\"app\\u002fbusinesses\\u002fexceptions\\u002fpurchase_order_exceptions.py\",\"app\\u002fbusinesses\\u002fexceptions\\u002fservice_exceptions.py\",\"app\\u002fbusinesses\\u002fexceptions\\u002fusers_exceptions.py\",\"app\\u002fbusinesses\\u002fexceptions\\u002fvault_exceptions.py\",\"app\\u002fbusinesses\\u002fexceptions\\u002fworkflow_exceptions.py\",\"app\\u002fbusinesses\\u002fgeneric_mapping_bo.py\",\"app\\u002fbusinesses\\u002fhandlers\\u002f__init__.py\",\"app\\u002fbusinesses\\u002fhandlers\\u002fassignment_handler.py\",\"app\\u002fbusinesses\\u002fhandlers\\u002fcdi.py\",\"app\\u002fbusinesses\\u002fhelena_bo.py\",\"app\\u002fbusinesses\\u002fid_magalu_bo.py\",\"app\\u002fbusinesses\\u002fintegration_platform_bo.py\",\"app\\u002fbusinesses\\u002flazy.py\",\"app\\u002fbusinesses\\u002flead_analytics_bo.py\",\"app\\u002fbusinesses\\u002flead_bo.py\",\"app\\u002fbusinesses\\u002flead_legacy_bo.py\",\"app\\u002fbusinesses\\u002flead_magalu_bo.py\",\"app\\u002fbusinesses\\u002flead_workflow_bo.py\",\"app\\u002fbusinesses\\u002fmagalu_tax_bo.py\",\"app\\u002fbusinesses\\u002fmagalu_test_purchase_bo.py\",\"app\\u002fbusinesses\\u002fobservers\\u002fcdi.py\",\"app\\u002fbusinesses\\u002fobservers\\u002fcontact_observers.py\",\"app\\u002fbusinesses\\u002fobservers\\u002fdefault_observers.py\",\"app\\u002fbusinesses\\u002fobservers\\u002flead_observers.py\",\"app\\u002fbusinesses\\u002fobservers\\u002fmagalu\\u002fcdi.py\",\"app\\u002fbusinesses\\u002fobservers\\u002fmagalu\\u002fdtos\\u002flead_mma_schema.py\",\"app\\u002fbusinesses\\u002fobservers\\u002fmagalu\\u002flead_seller_orders_observers.py\",\"app\\u002fbusinesses\\u002fobservers\\u002fmagalu\\u002frisk_analysis.py\",\"app\\u002fbusinesses\\u002fobservers\\u002fmagalu\\u002ftest_purchase\\u002fTestPurchaseService.py\",\"app\\u002fbusinesses\\u002fobservers\\u002fmagalu_lead_observers.py\",\"app\\u002fbusinesses\\u002fobservers\\u002fps_contract.py\",\"app\\u002fbusinesses\\u002fobservers\\u002fworkflow_observers.py\",\"app\\u002fbusinesses\\u002fpartner_bo.py\",\"app\\u002fbusinesses\\u002fqa_bo.py\",\"app\\u002fbusinesses\\u002fsecurity_bo.py\",\"app\\u002fbusinesses\\u002fsecuritys\\u002f__init__.py\",\"app\\u002fbusinesses\\u002fsecuritys\\u002fworkflow_security.py\",\"app\\u002fbusinesses\\u002fseller_product_bo.py\",\"app\\u002fbusinesses\\u002fservice_bo.py\",\"app\\u002fbusinesses\\u002ftag_bo.py\",\"app\\u002fbusinesses\\u002fuser_bo.py\",\"app\\u002fbusinesses\\u002fvault_bo.py\",\"app\\u002fbusinesses\\u002fworkflow_bo.py\",\"app\\u002fcdi.py\",\"app\\u002fcommons\\u002f__init__.py\",\"app\\u002fcommons\\u002fasync_worker\\u002f__init__.py\",\"app\\u002fcommons\\u002fasync_worker\\u002fapplication.py\",\"app\\u002fcommons\\u002fasync_worker\\u002fpool\\u002f__init__.py\",\"app\\u002fcommons\\u002fasync_worker\\u002fpool\\u002fbase.py\",\"app\\u002fcommons\\u002fasync_worker\\u002fpool\\u002funmanaged.py\",\"app\\u002fcommons\\u002fasync_worker\\u002ftasks\\u002f__init__.py\",\"app\\u002fcommons\\u002fasync_worker\\u002ftasks\\u002fbase.py\",\"app\\u002fcommons\\u002fasync_worker\\u002futil.py\",\"app\\u002fcommons\\u002fcache\\u002fcdi.py\",\"app\\u002fcommons\\u002fcache\\u002fimpl\\u002f__init__.py\",\"app\\u002fcommons\\u002fcache\\u002fimpl\\u002fserializer\\u002f__init__.py\",\"app\\u002fcommons\\u002fcache\\u002fimpl\\u002fserializer\\u002fjson.py\",\"app\\u002fcommons\\u002fcache\\u002fimpl\\u002fstorage\\u002finternal\\u002f__init__.py\",\"app\\u002fcommons\\u002fcache\\u002fimpl\\u002fstorage\\u002finternal\\u002fcachetools.py\",\"app\\u002fcommons\\u002fcache\\u002fimpl\\u002fstorage\\u002fremote\\u002f__init__.py\",\"app\\u002fcommons\\u002fcache\\u002fimpl\\u002fstorage\\u002fremote\\u002fredis.py\",\"app\\u002fcommons\\u002fcache\\u002fsdk\\u002f__init__.py\",\"app\\u002fcommons\\u002fcache\\u002fsdk\\u002fcache.py\",\"app\\u002fcommons\\u002fcache\\u002fsdk\\u002fserializer.py\",\"app\\u002fcommons\\u002fcache\\u002fsdk\\u002fstorage.py\",\"app\\u002fcommons\\u002fcdi.py\",\"app\\u002fcommons\\u002fconstants.py\",\"app\\u002fcommons\\u002fdelay_strategies.py\",\"app\\u002fcommons\\u002feventbus\\u002f__init__.py\",\"app\\u002fcommons\\u002feventbus\\u002feventbus.py\",\"app\\u002fcommons\\u002feventbus\\u002fexecutor.py\",\"app\\u002fcommons\\u002feventbus\\u002fregistry.py\",\"app\\u002fcommons\\u002fexceptions.py\",\"app\\u002fcommons\\u002ffeature_flag.py\",\"app\\u002fcommons\\u002fhttp\\u002f__init__.py\",\"app\\u002fcommons\\u002fhttp\\u002fcdi.py\",\"app\\u002fcommons\\u002fhttp\\u002fclient.py\",\"app\\u002fcommons\\u002flock\\u002f__init__.py\",\"app\\u002fcommons\\u002flock\\u002fbase.py\",\"app\\u002fcommons\\u002flock\\u002fcdi.py\",\"app\\u002fcommons\\u002flock\\u002fredis_lock.py\",\"app\\u002fcommons\\u002fmapping\\u002f__init__.py\",\"app\\u002fcommons\\u002fmetrics.py\",\"app\\u002fcommons\\u002fmodels.py\",\"app\\u002fcommons\\u002fpatterns.py\",\"app\\u002fcommons\\u002fpubsub\\u002f__init__.py\",\"app\\u002fcommons\\u002fpubsub\\u002fmessage.py\",\"app\\u002fcommons\\u002fpydantic.py\",\"app\\u002fcommons\\u002fsettings.py\",\"app\\u002fcommons\\u002ftranslations\\u002fpydantic\\u002fen_us.json\",\"app\\u002fcommons\\u002ftranslations\\u002fpydantic\\u002fpt_br.json\",\"app\\u002fconfigs\\u002f__init__.py\",\"app\\u002fconfigs\\u002feventbus.py\",\"app\\u002fconfigs\\u002flogging.py\",\"app\\u002fconfigs\\u002fpydantic_config.py\",\"app\\u002fdomains\\u002f__init__.py\",\"app\\u002fdomains\\u002factions_domain.py\",\"app\\u002fdomains\\u002faudit_domain.py\",\"app\\u002fdomains\\u002fauth_domain.py\",\"app\\u002fdomains\\u002fbase.py\",\"app\\u002fdomains\\u002fbase_external_reference.py\",\"app\\u002fdomains\\u002fbatch_data_object_domain.py\",\"app\\u002fdomains\\u002fchange_history_domain.py\",\"app\\u002fdomains\\u002fclassifier_domain.py\",\"app\\u002fdomains\\u002fcontact_domain.py\",\"app\\u002fdomains\\u002fcontact_history_domain.py\",\"app\\u002fdomains\\u002fdata_object_domain.py\",\"app\\u002fdomains\\u002fdefinitions_domain.py\",\"app\\u002fdomains\\u002fgeneric_mapping_domain.py\",\"app\\u002fdomains\\u002fintegration_platform_domain.py\",\"app\\u002fdomains\\u002fleads_domain.py\",\"app\\u002fdomains\\u002fleads_projection_minimalist_domain.py\",\"app\\u002fdomains\\u002fleads_projection_pk_only_domain.py\",\"app\\u002fdomains\\u002fpartners_domain.py\",\"app\\u002fdomains\\u002fscript_domain.py\",\"app\\u002fdomains\\u002fseller_product.py\",\"app\\u002fdomains\\u002fservices_domain.py\",\"app\\u002fdomains\\u002ftags_domain.py\",\"app\\u002fdomains\\u002fusers_domain.py\",\"app\\u002fdomains\\u002fvaults_domain.py\",\"app\\u002fdomains\\u002fworkflow_domain.py\",\"app\\u002fdtos\\u002f__init__.py\",\"app\\u002fdtos\\u002faction_schema.py\",\"app\\u002fdtos\\u002fauth_schema.py\",\"app\\u002fdtos\\u002fbank_information_domain.py\",\"app\\u002fdtos\\u002fbase.py\",\"app\\u002fdtos\\u002fbase_external_reference_schema.py\",\"app\\u002fdtos\\u002fbatch_data_object_schema.py\",\"app\\u002fdtos\\u002fchange_history_schema.py\",\"app\\u002fdtos\\u002fclassifier_schema.py\",\"app\\u002fdtos\\u002fcontact_history_schema.py\",\"app\\u002fdtos\\u002fcontact_schema.py\",\"app\\u002fdtos\\u002fdefinition_schema.py\",\"app\\u002fdtos\\u002fexamples.py\",\"app\\u002fdtos\\u002fhealth_schema.py\",\"app\\u002fdtos\\u002fintegration_platforms_schema.py\",\"app\\u002fdtos\\u002flead_analytics_schema.py\",\"app\\u002fdtos\\u002flead_projection_minimalist_schema.py\",\"app\\u002fdtos\\u002flead_projection_pk_only_schema.py\",\"app\\u002fdtos\\u002flead_schema.py\",\"app\\u002fdtos\\u002fpagination_schema.py\",\"app\\u002fdtos\\u002fpartner_schema.py\",\"app\\u002fdtos\\u002fqa_schema.py\",\"app\\u002fdtos\\u002fregulatory_data_schema.py\",\"app\\u002fdtos\\u002fscript_schema.py\",\"app\\u002fdtos\\u002fseller_product_schema.py\",\"app\\u002fdtos\\u002fservice_schema.py\",\"app\\u002fdtos\\u002ftag_schema.py\",\"app\\u002fdtos\\u002fusers_schema.py\",\"app\\u002fdtos\\u002fvault_schema.py\",\"app\\u002fdtos\\u002fworkflow_schema.py\",\"app\\u002feventbus\\u002f__init__.py\",\"app\\u002feventbus\\u002fevent_bus_facade.py\",\"app\\u002feventbus\\u002fevents\\u002f__init__.py\",\"app\\u002feventbus\\u002fevents\\u002fapplication.py\",\"app\\u002feventbus\\u002fevents\\u002fbase.py\",\"app\\u002feventbus\\u002fevents\\u002fdata_object.py\",\"app\\u002feventbus\\u002fevents\\u002flead.py\",\"app\\u002feventbus\\u002fevents\\u002fpersistence.py\",\"app\\u002feventbus\\u002fevents\\u002fseller_contact.py\",\"app\\u002feventbus\\u002fevents\\u002fworkflow.py\",\"app\\u002feventbus\\u002fevents\\u002fworkflow_engine.py\",\"app\\u002fintegrations\\u002f__init__.py\",\"app\\u002fintegrations\\u002fbackends\\u002f__init__.py\",\"app\\u002fintegrations\\u002fbackends\\u002fapigee\\u002fbackend.py\",\"app\\u002fintegrations\\u002fbackends\\u002fblocklist\\u002fbackend.py\",\"app\\u002fintegrations\\u002fbackends\\u002fblocklist\\u002fconstants.py\",\"app\\u002fintegrations\\u002fbackends\\u002fblocklist\\u002fmodels.py\",\"app\\u002fintegrations\\u002fbackends\\u002fcdi.py\",\"app\\u002fintegrations\\u002fbackends\\u002fclient_v1_api\\u002fbackend.py\",\"app\\u002fintegrations\\u002fbackends\\u002fclient_v1_api\\u002fmodels.py\",\"app\\u002fintegrations\\u002fbackends\\u002fcommunication_hub_api\\u002fbackend.py\",\"app\\u002fintegrations\\u002fbackends\\u002fcommunication_hub_api\\u002fmodels.py\",\"app\\u002fintegrations\\u002fbackends\\u002fhelena_api\\u002fbackend.py\",\"app\\u002fintegrations\\u002fbackends\\u002fhelena_api\\u002fmodels.py\",\"app\\u002fintegrations\\u002fbackends\\u002fid_magalu\\u002fbackend.py\",\"app\\u002fintegrations\\u002fbackends\\u002fid_magalu\\u002fmodels.py\",\"app\\u002fintegrations\\u002fbackends\\u002fmaas_integra_api\\u002fbackend.py\",\"app\\u002fintegrations\\u002fbackends\\u002fmaas_integra_api\\u002fconsumer.py\",\"app\\u002fintegrations\\u002fbackends\\u002fmaas_integra_api\\u002fmodels.py\",\"app\\u002fintegrations\\u002fbackends\\u002fmaas_products_api\\u002fbackend.py\",\"app\\u002fintegrations\\u002fbackends\\u002fmaas_products_api\\u002fconstants.py\",\"app\\u002fintegrations\\u002fbackends\\u002fmaas_products_api\\u002fmodels.py\",\"app\\u002fintegrations\\u002fbackends\\u002fmaestro\\u002fbackend.py\",\"app\\u002fintegrations\\u002fbackends\\u002fmaestro\\u002fmodels.py\",\"app\\u002fintegrations\\u002fbackends\\u002fmagalu_tax\\u002fbackend.py\",\"app\\u002fintegrations\\u002fbackends\\u002fmagalu_tax\\u002fexceptions.py\",\"app\\u002fintegrations\\u002fbackends\\u002fmagalu_tax\\u002fmodels.py\",\"app\\u002fintegrations\\u002fbackends\\u002fmp_security\\u002fbackend.py\",\"app\\u002fintegrations\\u002fbackends\\u002fmp_security\\u002fmodels.py\",\"app\\u002fintegrations\\u002fbackends\\u002fmp_seller_api\\u002fbackend.py\",\"app\\u002fintegrations\\u002fbackends\\u002fmp_seller_api\\u002fconstants.py\",\"app\\u002fintegrations\\u002fbackends\\u002fmp_seller_api\\u002fmodels.py\",\"app\\u002fintegrations\\u002fbackends\\u002fopen_id\\u002fbackend.py\",\"app\\u002fintegrations\\u002fbackends\\u002fp52_api\\u002fbackend.py\",\"app\\u002fintegrations\\u002fbackends\\u002fp52_api\\u002fmodels.py\",\"app\\u002fintegrations\\u002fbackends\\u002fps_account\\u002fbackend.py\",\"app\\u002fintegrations\\u002fbackends\\u002fps_account\\u002fbusiness.py\",\"app\\u002fintegrations\\u002fbackends\\u002fps_account\\u002fmodels.py\",\"app\\u002fintegrations\\u002fbackends\\u002fps_contract_api\\u002fbackend.py\",\"app\\u002fintegrations\\u002fbackends\\u002fps_contract_api\\u002fmodels.py\",\"app\\u002fintegrations\\u002fbackends\\u002fps_onboarding_analytics\\u002fbackend.py\",\"app\\u002fintegrations\\u002fbackends\\u002fps_onboarding_analytics\\u002fmodels.py\",\"app\\u002fintegrations\\u002fbackends\\u002fps_order3p_api\\u002fbackend.py\",\"app\\u002fintegrations\\u002fbackends\\u002fps_order3p_api\\u002fclient.py\",\"app\\u002fintegrations\\u002fbackends\\u002fps_order3p_api\\u002fmodels.py\",\"app\\u002fintegrations\\u002fbackends\\u002fsebastian_api\\u002fbackend.py\",\"app\\u002fintegrations\\u002fbackends\\u002fsebastian_api\\u002fbase.py\",\"app\\u002fintegrations\\u002fbackends\\u002fsebastian_api\\u002femulated.py\",\"app\\u002fintegrations\\u002fbackends\\u002fsebastian_api\\u002fexceptions.py\",\"app\\u002fintegrations\\u002fbackends\\u002fsebastian_api\\u002fmodels.py\",\"app\\u002fintegrations\\u002fbackends\\u002fzendesk_api\\u002fbackend.py\",\"app\\u002fintegrations\\u002fbackends\\u002fzendesk_api\\u002fclient.py\",\"app\\u002fintegrations\\u002fbackends\\u002fzendesk_api\\u002fmodels.py\",\"app\\u002fintegrations\\u002fcdi.py\",\"app\\u002fintegrations\\u002fdatalake\\u002f__init__.py\",\"app\\u002fintegrations\\u002fdatalake\\u002fbackends\\u002f__init__.py\",\"app\\u002fintegrations\\u002fdatalake\\u002fbackends\\u002fbase.py\",\"app\\u002fintegrations\\u002fdatalake\\u002fbackends\\u002ftetrix_kafka\\u002fcore.py\",\"app\\u002fintegrations\\u002fdatalake\\u002fbackends\\u002ftetrix_kafka\\u002fhandlers.py\",\"app\\u002fintegrations\\u002fdatalake\\u002fbackends\\u002ftetrix_kafka\\u002fmessages.py\",\"app\\u002fintegrations\\u002fdatalake\\u002fcdi.py\",\"app\\u002fintegrations\\u002fdatalake\\u002fconstants.py\",\"app\\u002fintegrations\\u002fdatalake\\u002fcore.py\",\"app\\u002fintegrations\\u002fdb\\u002f__init__.py\",\"app\\u002fintegrations\\u002fdb\\u002fmongo\\u002f__init__.py\",\"app\\u002fintegrations\\u002fdb\\u002fmongo\\u002fcdi.py\",\"app\\u002fintegrations\\u002fdb\\u002fmongo\\u002fencoders.py\",\"app\\u002fintegrations\\u002fdb\\u002fmongo\\u002ffields.py\",\"app\\u002fintegrations\\u002fdb\\u002fmongo\\u002fmongo.py\",\"app\\u002fintegrations\\u002fdb\\u002fmongo\\u002ftypes.py\",\"app\\u002fintegrations\\u002fpubsub\\u002f__init__.py\",\"app\\u002fintegrations\\u002fpubsub\\u002fbackend.py\",\"app\\u002fintegrations\\u002fpubsub\\u002fcdi.py\",\"app\\u002fintegrations\\u002fpubsub\\u002fconsumer.py\",\"app\\u002fintegrations\\u002fpubsub\\u002fencoder.py\",\"app\\u002fintegrations\\u002fpubsub\\u002fgoogle_pubsub\\u002f__init__.py\",\"app\\u002fintegrations\\u002fpubsub\\u002fgoogle_pubsub\\u002fconsumer.py\",\"app\\u002fintegrations\\u002fpubsub\\u002fgoogle_pubsub\\u002fmessage.py\",\"app\\u002fintegrations\\u002fpubsub\\u002fkafka\\u002f__init__.py\",\"app\\u002fintegrations\\u002fpubsub\\u002fkafka\\u002fconsumer.py\",\"app\\u002fintegrations\\u002fpubsub\\u002fkafka\\u002fmessage.py\",\"app\\u002fintegrations\\u002fpubsub\\u002fkafka\\u002fproducer.py\",\"app\\u002fintegrations\\u002fpubsub\\u002fkafka\\u002fretry.py\",\"app\\u002fintegrations\\u002fpubsub\\u002fmessage.py\",\"app\\u002fintegrations\\u002fpubsub\\u002fproducer.py\",\"app\\u002fintegrations\\u002fpubsub\\u002fretry.py\",\"app\\u002fintegrations\\u002frisk_analysis\\u002f__init__.py\",\"app\\u002fintegrations\\u002frisk_analysis\\u002fcdi.py\",\"app\\u002fintegrations\\u002frisk_analysis\\u002fcore.py\",\"app\\u002fintegrations\\u002frisk_analysis\\u002ffake\\u002fimpl.py\",\"app\\u002fintegrations\\u002frisk_analysis\\u002fmodels.py\",\"app\\u002fintegrations\\u002frisk_analysis\\u002fzaig\\u002fimpl.py\",\"app\\u002fintegrations\\u002fscheduler\\u002f__init__.py\",\"app\\u002fintegrations\\u002fscheduler\\u002fbase.py\",\"app\\u002fintegrations\\u002fscheduler\\u002fcdi.py\",\"app\\u002fintegrations\\u002fscheduler\\u002fimpl\\u002fcdi.py\",\"app\\u002fintegrations\\u002fscheduler\\u002fimpl\\u002flite\\u002f__init__.py\",\"app\\u002fintegrations\\u002fscheduler\\u002fimpl\\u002flite\\u002fexecutors\\u002f__init__.py\",\"app\\u002fintegrations\\u002fscheduler\\u002fimpl\\u002flite\\u002fexecutors\\u002fasyncio.py\",\"app\\u002fintegrations\\u002fscheduler\\u002fimpl\\u002flite\\u002fexecutors\\u002fbase.py\",\"app\\u002fintegrations\\u002fscheduler\\u002fimpl\\u002flite\\u002fjob.py\",\"app\\u002fintegrations\\u002fscheduler\\u002fimpl\\u002flite\\u002fjobstores\\u002f__init__.py\",\"app\\u002fintegrations\\u002fscheduler\\u002fimpl\\u002flite\\u002fjobstores\\u002fbase.py\",\"app\\u002fintegrations\\u002fscheduler\\u002fimpl\\u002flite\\u002fjobstores\\u002fmongo.py\",\"app\\u002fintegrations\\u002fscheduler\\u002fimpl\\u002flite\\u002fscheduler.py\",\"app\\u002fintegrations\\u002fscheduler\\u002fimpl\\u002fnoscheduler.py\",\"app\\u002fintegrations\\u002fseller_product_info\\u002f__init__.py\",\"app\\u002fintegrations\\u002fseller_product_info\\u002fbase.py\",\"app\\u002fintegrations\\u002fseller_product_info\\u002fcdi.py\",\"app\\u002fintegrations\\u002fseller_product_info\\u002flocal_seller_product_info.py\",\"app\\u002flazy\\u002fmagalu_marketplace.py\",\"app\\u002fpubsub\\u002fmessages\\u002f__init__.py\",\"app\\u002fpubsub\\u002fmessages\\u002fbase.py\",\"app\\u002fpubsub\\u002fmessages\\u002fdata_object_row_batch.py\",\"app\\u002fpubsub\\u002fmessages\\u002fseller_contract.py\",\"app\\u002fpubsub\\u002fmessages\\u002fseller_order.py\",\"app\\u002fpubsub\\u002fmessages\\u002ftag.py\",\"app\\u002fpubsub\\u002fmessages\\u002fwebhook.py\",\"app\\u002fpubsub\\u002fmessages\\u002fworkflow_retry.py\",\"app\\u002fpubsub\\u002fmessages\\u002fworkflow_wakeup.py\",\"app\\u002frepositories\\u002f__init__.py\",\"app\\u002frepositories\\u002faction_repository.py\",\"app\\u002frepositories\\u002fauth_repository.py\",\"app\\u002frepositories\\u002fbase.py\",\"app\\u002frepositories\\u002fbatch_data_object_repository.py\",\"app\\u002frepositories\\u002fbatch_data_object_row_repository.py\",\"app\\u002frepositories\\u002fcdi.py\",\"app\\u002frepositories\\u002fchange_history_repository.py\",\"app\\u002frepositories\\u002fcontact_history_repository.py\",\"app\\u002frepositories\\u002fcontact_repository.py\",\"app\\u002frepositories\\u002fcore_data_object_classifier.py\",\"app\\u002frepositories\\u002fdefinition_repository.py\",\"app\\u002frepositories\\u002fgeneric_mapping_repository.py\",\"app\\u002frepositories\\u002fintegration_platform_repository.py\",\"app\\u002frepositories\\u002flead_repository.py\",\"app\\u002frepositories\\u002fpartner_repository.py\",\"app\\u002frepositories\\u002fseller_product_repository.py\",\"app\\u002frepositories\\u002fservice_repository.py\",\"app\\u002frepositories\\u002ftag_repository.py\",\"app\\u002frepositories\\u002fuser_repository.py\",\"app\\u002frepositories\\u002fvault_repository.py\",\"app\\u002frepositories\\u002fworkflow_repository.py\",\"app\\u002fscript\\u002f__init__.py\",\"app\\u002fscript\\u002fcdi.py\",\"app\\u002fscript\\u002fengine.py\",\"app\\u002fscript\\u002ffactory.py\",\"app\\u002fscript\\u002fimpl\\u002feql.py\",\"app\\u002fscript\\u002fimpl\\u002fpython\\u002ffunctions.py\",\"app\\u002fscript\\u002fimpl\\u002fpython\\u002fpolicy.py\",\"app\\u002fscript\\u002fimpl\\u002fpython\\u002fpython_eval.py\",\"app\\u002fscript\\u002fimpl\\u002fpython\\u002fpython_exec.py\",\"app\\u002fscript\\u002fimpl\\u002fpython\\u002futil.py\",\"app\\u002futils\\u002f__init__.py\",\"app\\u002futils\\u002fapm.py\",\"app\\u002futils\\u002fasyncio.py\",\"app\\u002futils\\u002fbenchmark.py\",\"app\\u002futils\\u002fcdi.py\",\"app\\u002futils\\u002fconstants.py\",\"app\\u002futils\\u002fcryptography.py\",\"app\\u002futils\\u002fdatetime.py\",\"app\\u002futils\\u002fencoders.py\",\"app\\u002futils\\u002fexception.py\",\"app\\u002futils\\u002ffields.py\",\"app\\u002futils\\u002ffilter_permission.py\",\"app\\u002futils\\u002ffreezing.py\",\"app\\u002futils\\u002fhash.py\",\"app\\u002futils\\u002flazy.py\",\"app\\u002futils\\u002flogging\\u002f__init__.py\",\"app\\u002futils\\u002flogging\\u002fanonimizer.py\",\"app\\u002futils\\u002flogging\\u002fconfigure.py\",\"app\\u002futils\\u002fopen_id.py\",\"app\\u002futils\\u002fpydantic.py\",\"app\\u002futils\\u002fpydash.py\",\"app\\u002futils\\u002fresource_permission.py\",\"app\\u002futils\\u002fsecurity.py\",\"app\\u002futils\\u002fsentinel.py\",\"app\\u002futils\\u002fsettings.py\",\"app\\u002futils\\u002ftoken.py\",\"app\\u002futils\\u002ftypes.py\",\"app\\u002futils\\u002futil.py\",\"app\\u002futils\\u002fuuid.py\",\"app\\u002futils\\u002fvalidators.py\",\"app\\u002fworkers\\u002f__init__.py\",\"app\\u002fworkers\\u002fapp.py\",\"app\\u002fworkers\\u002fcdi.py\",\"app\\u002fworkers\\u002fcommon.py\",\"app\\u002fworkers\\u002fdata_object_batch\\u002fapp.py\",\"app\\u002fworkers\\u002fdata_object_batch\\u002fbatch_handlers\\u002f__init__.py\",\"app\\u002fworkers\\u002fdata_object_batch\\u002fbatch_handlers\\u002fdata_object_batch.py\",\"app\\u002fworkers\\u002fdata_object_batch\\u002fbatch_handlers\\u002fdata_object_row_batch.py\",\"app\\u002fworkers\\u002fdata_object_batch\\u002fcdi.py\",\"app\\u002fworkers\\u002fdata_object_batch\\u002fhandlers\\u002f__init__.py\",\"app\\u002fworkers\\u002fdata_object_batch\\u002fhandlers\\u002fdata_object_batch_context_handler.py\",\"app\\u002fworkers\\u002fdata_object_batch\\u002fhandlers\\u002fdata_object_batch_lead_handler.py\",\"app\\u002fworkers\\u002fdata_object_batch\\u002fmessage_processor_data_object.py\",\"app\\u002fworkers\\u002fdata_object_batch\\u002ftasks\\u002f__init__.py\",\"app\\u002fworkers\\u002fdata_object_batch\\u002ftasks\\u002fdata_object_batch_action_task.py\",\"app\\u002fworkers\\u002fdata_object_batch\\u002ftasks\\u002fdata_object_row_batch_action_task.py\",\"app\\u002fworkers\\u002fdata_object_batch\\u002ftasks\\u002fmodels.py\",\"app\\u002fworkers\\u002ffreight\\u002fapp.py\",\"app\\u002fworkers\\u002ffreight\\u002fcdi.py\",\"app\\u002fworkers\\u002ffreight\\u002fsettings.py\",\"app\\u002fworkers\\u002ffreight\\u002ftasks\\u002f__init__.py\",\"app\\u002fworkers\\u002ffreight\\u002ftasks\\u002ffreight_task.py\",\"app\\u002fworkers\\u002ffreight\\u002ftasks\\u002fmodels.py\",\"app\\u002fworkers\\u002flead\\u002fapp.py\",\"app\\u002fworkers\\u002flead\\u002fcdi.py\",\"app\\u002fworkers\\u002flead\\u002ftasks\\u002fevents.py\",\"app\\u002fworkers\\u002flead\\u002ftasks\\u002frisk_analysis_response_observers.py\",\"app\\u002fworkers\\u002flead\\u002ftasks\\u002frisk_analysis_response_task.py\",\"app\\u002fworkers\\u002fnetshoes\\u002fapp.py\",\"app\\u002fworkers\\u002fnetshoes\\u002fcdi.py\",\"app\\u002fworkers\\u002fnetshoes\\u002ftasks\\u002f__init__.py\",\"app\\u002fworkers\\u002fnetshoes\\u002ftasks\\u002fmodels\\u002fbase.py\",\"app\\u002fworkers\\u002fnetshoes\\u002ftasks\\u002fmodels\\u002fconstants.py\",\"app\\u002fworkers\\u002fnetshoes\\u002ftasks\\u002fmodels\\u002fseller_freight.py\",\"app\\u002fworkers\\u002fnetshoes\\u002ftasks\\u002fmodels\\u002fseller_user.py\",\"app\\u002fworkers\\u002fnetshoes\\u002ftasks\\u002fmodels\\u002fsellers.py\",\"app\\u002fworkers\\u002fnetshoes\\u002ftasks\\u002fnetshoes_lead_mapper.py\",\"app\\u002fworkers\\u002fnetshoes\\u002ftasks\\u002fnetshoes_task.py\",\"app\\u002fworkers\\u002fproduct\\u002fapp.py\",\"app\\u002fworkers\\u002fproduct\\u002fcdi.py\",\"app\\u002fworkers\\u002fproduct\\u002fsettings.py\",\"app\\u002fworkers\\u002fproduct\\u002ftasks\\u002f__init__.py\",\"app\\u002fworkers\\u002fproduct\\u002ftasks\\u002fmodels.py\",\"app\\u002fworkers\\u002fproduct\\u002ftasks\\u002fproduct_task.py\",\"app\\u002fworkers\\u002frisk_analysis\\u002fapp.py\",\"app\\u002fworkers\\u002frisk_analysis\\u002fcdi.py\",\"app\\u002fworkers\\u002frisk_analysis\\u002ftasks\\u002frequest_risk_analysis_task.py\",\"app\\u002fworkers\\u002fsebastian_integration\\u002fapp.py\",\"app\\u002fworkers\\u002fseller_account\\u002fapp.py\",\"app\\u002fworkers\\u002fseller_account\\u002fcdi.py\",\"app\\u002fworkers\\u002fseller_account\\u002fsettings.py\",\"app\\u002fworkers\\u002fseller_account\\u002ftasks\\u002f__init__.py\",\"app\\u002fworkers\\u002fseller_account\\u002ftasks\\u002fmodels.py\",\"app\\u002fworkers\\u002fseller_account\\u002ftasks\\u002fseller_account_task.py\",\"app\\u002fworkers\\u002fseller_contract\\u002fapp.py\",\"app\\u002fworkers\\u002fseller_contract\\u002fcdi.py\",\"app\\u002fworkers\\u002fseller_contract\\u002fsettings.py\",\"app\\u002fworkers\\u002fseller_contract\\u002ftasks\\u002f__init__.py\",\"app\\u002fworkers\\u002fseller_contract\\u002ftasks\\u002fmodels.py\",\"app\\u002fworkers\\u002fseller_contract\\u002ftasks\\u002fps_contract_task.py\",\"app\\u002fworkers\\u002fseller_contract\\u002ftasks\\u002fsync_seller_contract_task.py\",\"app\\u002fworkers\\u002fseller_orders\\u002fapp.py\",\"app\\u002fworkers\\u002fseller_orders\\u002fcdi.py\",\"app\\u002fworkers\\u002fseller_orders\\u002fmodels.py\",\"app\\u002fworkers\\u002fseller_orders\\u002fsettings.py\",\"app\\u002fworkers\\u002fseller_orders\\u002ftasks\\u002f__init__.py\",\"app\\u002fworkers\\u002fseller_orders\\u002ftasks\\u002fmodels.py\",\"app\\u002fworkers\\u002fseller_orders\\u002ftasks\\u002fnotify_order_by_uuid_task.py\",\"app\\u002fworkers\\u002fseller_orders\\u002ftasks\\u002fpurchase_order_task.py\",\"app\\u002fworkers\\u002fseller_orders\\u002ftasks\\u002fseller_orders_task.py\",\"app\\u002fworkers\\u002ftags\\u002fapp.py\",\"app\\u002fworkers\\u002ftags\\u002ftasks\\u002f__init__.py\",\"app\\u002fworkers\\u002ftags\\u002ftasks\\u002ftags_task.py\",\"app\\u002fworkers\\u002ftasks.py\",\"app\\u002fworkers\\u002fwebhook\\u002fapp.py\",\"app\\u002fworkers\\u002fwebhook\\u002fcdi.py\",\"app\\u002fworkers\\u002fwebhook\\u002fsettings.py\",\"app\\u002fworkers\\u002fwebhook\\u002ftasks\\u002f__init__.py\",\"app\\u002fworkers\\u002fwebhook\\u002ftasks\\u002fwebhook_global\\u002fdata_object_merge_webhook_handler.py\",\"app\\u002fworkers\\u002fwebhook\\u002ftasks\\u002fwebhook_global\\u002fdata_object_webhook_handler.py\",\"app\\u002fworkers\\u002fwebhook\\u002ftasks\\u002fwebhook_global\\u002fmodels.py\",\"app\\u002fworkers\\u002fwebhook\\u002ftasks\\u002fwebhook_global\\u002fprovisioner_risk_analysis_response_handler.py\",\"app\\u002fworkers\\u002fwebhook\\u002ftasks\\u002fwebhook_global\\u002fsdk\\u002f__init__.py\",\"app\\u002fworkers\\u002fwebhook\\u002ftasks\\u002fwebhook_global\\u002fsdk\\u002fmodels.py\",\"app\\u002fworkers\\u002fwebhook\\u002ftasks\\u002fwebhook_global\\u002fsdk\\u002fwebhook_handler.py\",\"app\\u002fworkers\\u002fwebhook\\u002ftasks\\u002fwebhook_global\\u002fsdk\\u002fwebhook_handler_manager.py\",\"app\\u002fworkers\\u002fwebhook\\u002ftasks\\u002fwebhook_global_task.py\",\"app\\u002fworkers\\u002fworkflow_retry\\u002fapp.py\",\"app\\u002fworkers\\u002fworkflow_retry\\u002fcdi.py\",\"app\\u002fworkers\\u002fworkflow_retry\\u002ftasks\\u002fdata_object_workflow_retry_task.py\",\"app\\u002fworkers\\u002fworkflow_wakeup\\u002fapp.py\",\"app\\u002fworkers\\u002fworkflow_wakeup\\u002fcdi.py\",\"app\\u002fworkers\\u002fworkflow_wakeup\\u002ftasks\\u002fdata_object_workflow_wakeup_task.py\",\"app\\u002fworkflow\\u002f__init__.py\",\"app\\u002fworkflow\\u002faddon.py\",\"app\\u002fworkflow\\u002faddons\\u002f__init__.py\",\"app\\u002fworkflow\\u002faddons\\u002fworkflow_core.py\",\"app\\u002fworkflow\\u002faddons\\u002fworkflow_responsibles.py\",\"app\\u002fworkflow\\u002faddons\\u002fworkflow_retry.py\",\"app\\u002fworkflow\\u002faddons\\u002fworkflow_sla.py\",\"app\\u002fworkflow\\u002faddons\\u002fworkflow_stop.py\",\"app\\u002fworkflow\\u002faddons\\u002fworkflow_wake_up.py\",\"app\\u002fworkflow\\u002fcache.py\",\"app\\u002fworkflow\\u002fcdi.py\",\"app\\u002fworkflow\\u002fcore.py\",\"app\\u002fworkflow\\u002fengine.py\",\"app\\u002fworkflow\\u002ferrors.py\",\"app\\u002fworkflow\\u002fevents.py\",\"app\\u002fworkflow\\u002fhttp_client.py\",\"app\\u002fworkflow\\u002fhttp_client_mock.py\",\"app\\u002fworkflow\\u002fretry\\u002f__init__.py\",\"app\\u002fworkflow\\u002fretry\\u002fbase.py\",\"app\\u002fworkflow\\u002fretry\\u002fignore_retry.py\",\"app\\u002fworkflow\\u002fretry\\u002fkafka_retry.py\",\"app\\u002fworkflow\\u002frunners\\u002fbase.py\",\"app\\u002fworkflow\\u002frunners\\u002flocal.py\",\"app\\u002fworkflow\\u002fvault.py\",\"data_object_batch_worker.py\",\"dependency.yaml\",\"devtools\\u002faction_scripts\\u002fgui\\u002faction_add_remove_relationship_management_comment.py\",\"devtools\\u002faction_scripts\\u002fgui\\u002faction_migrate_pme_marketplace.py\",\"devtools\\u002faction_scripts\\u002fgui\\u002faction_put_lead_referral_code.py\",\"devtools\\u002faction_scripts\\u002fgui\\u002faction_put_service_categories.py\",\"devtools\\u002faction_scripts\\u002fgui\\u002faction_redistribute_responsibles.py\",\"devtools\\u002faction_scripts\\u002ftroubleshoot\\u002faction_del_referral_code.py\",\"devtools\\u002faction_scripts\\u002ftroubleshoot\\u002faction_get_employee_info.py\",\"devtools\\u002faction_scripts\\u002ftroubleshoot\\u002faction_put_force_risk_analysis.py\",\"devtools\\u002faction_scripts\\u002ftroubleshoot\\u002faction_resume_creation_denied.py\",\"devtools\\u002faction_scripts\\u002ftroubleshoot\\u002faction_send_to_mma.py\",\"devtools\\u002faction_scripts\\u002ftroubleshoot\\u002faction_start_action_panel.py\",\"devtools\\u002faction_scripts\\u002funiverse_cards\\u002faction_flag_integrator_setup_done.py\",\"devtools\\u002faction_scripts\\u002funiverse_cards\\u002faction_magalu_agency.py\",\"devtools\\u002faction_scripts\\u002funiverse_cards\\u002faction_products.py\",\"devtools\\u002faction_scripts\\u002funiverse_cards\\u002faction_put_regulatory_data.py\",\"devtools\\u002faction_scripts\\u002funiverse_cards\\u002faction_replace_bank_account.py\",\"devtools\\u002faction_scripts\\u002funiverse_cards\\u002faction_sign_contracts.py\",\"devtools\\u002faction_scripts\\u002funiverse_form\\u002faction_put_company_legal_representative.py\",\"devtools\\u002faction_scripts\\u002funiverse_form\\u002faction_put_sells_to_company.py\",\"devtools\\u002faction_scripts\\u002funiverse_form\\u002faction_put_sold_by.py\",\"devtools\\u002faction_scripts\\u002funiverse_form\\u002faction_put_sold_by_website_sells_to_legal_person.py\",\"devtools\\u002faction_scripts\\u002funiverse_form\\u002faction_put_state_registration.py\",\"devtools\\u002faction_scripts\\u002funiverse_form\\u002faction_put_website.py\",\"devtools\\u002faction_scripts\\u002funiverse_form\\u002fscript_action_create_change_address_universo_magalu.py\",\"devtools\\u002faction_scripts\\u002funiverse_form\\u002fscript_action_create_change_bank_details.py\",\"devtools\\u002faction_scripts\\u002funiverse_form\\u002fscript_action_create_change_cash_payment_data.py\",\"devtools\\u002faction_scripts\\u002funiverse_form\\u002fscript_action_create_change_integrators.py\",\"devtools\\u002faction_scripts\\u002funiverse_form\\u002fscript_action_create_change_lead_completion.py\",\"devtools\\u002faction_scripts\\u002funiverse_form\\u002fscript_action_create_change_legal_representative_data.py\",\"devtools\\u002faction_scripts\\u002funiverse_form\\u002fscript_action_create_change_postal_address.py\",\"devtools\\u002faction_scripts\\u002funiverse_form\\u002fscript_action_create_change_shipping_address.py\",\"devtools\\u002faction_scripts\\u002funiverse_form\\u002fscript_action_import_lead_data.py\",\"devtools\\u002faction_scripts\\u002funiverse_form\\u002fscript_action_lead_services.py\",\"devtools\\u002faction_scripts\\u002funiverse_form\\u002fscript_action_run_tax_data_configuration.py\",\"devtools\\u002faction_scripts\\u002funiverse_form\\u002fscript_action_update_lead_tax_data.py\",\"devtools\\u002faction_scripts\\u002fupdate\\u002faction_copy_bureau_data.py\",\"devtools\\u002faction_scripts\\u002fupdate\\u002faction_fetch_bureau_data.py\",\"devtools\\u002faction_scripts\\u002fvoip_service\\u002faction_block_voip_service.py\",\"devtools\\u002faction_scripts\\u002fvoip_service\\u002faction_disable_voip_service.py\",\"devtools\\u002faction_scripts\\u002fvoip_service\\u002faction_enable_voip_service.py\",\"devtools\\u002faction_scripts\\u002fvoip_service\\u002faction_unblock_voip_service.py\",\"devtools\\u002fargocd\\u002f.dockerignore\",\"devtools\\u002fargocd\\u002fDockerfile\",\"devtools\\u002fcheck_migrations.py\",\"devtools\\u002fcicd\\u002faptfile.sh\",\"devtools\\u002fcicd\\u002fbuild-venv.sh\",\"devtools\\u002fcicd\\u002fcommon.sh\",\"devtools\\u002fcicd\\u002fcoverage.sh\",\"devtools\\u002fconfig.ini\",\"devtools\\u002fconfig.toml\",\"devtools\\u002fconfig_gcp_emulator.py\",\"devtools\\u002fdotenv.dev\",\"devtools\\u002fdotenv.empty\",\"devtools\\u002fdotenv.test\",\"devtools\\u002fexport_pydantic_errors.py\",\"devtools\\u002fgchatbot.py\",\"devtools\\u002fgunicorn_config.py\",\"devtools\\u002fkk_get_token.py\",\"devtools\\u002fmigration_scripts\\u002fscript_create_contact_helena.py\",\"devtools\\u002fmigration_scripts\\u002fscript_create_fees_helena.py\",\"devtools\\u002fmigration_scripts\\u002fscript_create_or_update_lead_freedom.py\",\"devtools\\u002fmigration_scripts\\u002fscript_create_or_update_lead_helena.py\",\"devtools\\u002fmigration_scripts\\u002fscript_create_ticket_zendesk.py\",\"devtools\\u002fmigration_scripts\\u002fscript_integration_freshdesk.py\",\"devtools\\u002fmigration_scripts\\u002fscript_rollout_order_account.py\",\"devtools\\u002fmigration_scripts\\u002fscript_update_lead_helena.py\",\"devtools\\u002fmigration_scripts\\u002fscript_update_message_task_63584be8b6e5dc1bc0dda581.py\",\"devtools\\u002fmigration_scripts\\u002fscript_update_message_task_63c68a9a13db1b45a10255aa.py\",\"devtools\\u002fmigration_scripts\\u002fscript_update_message_task_63f3960a0d9fa305fb56cebe.py\",\"devtools\\u002fmigration_scripts\\u002fscript_update_message_task_63f3aea71a46678bdca2bfa1.py\",\"devtools\\u002fmigration_scripts\\u002fscript_update_message_task_64a40d3109dd3f5c1cec7892.py\",\"devtools\\u002fmigration_scripts\\u002fscript_update_message_task_653972eee314dd67908ea21c.py\",\"devtools\\u002fmigration_scripts\\u002fscript_update_message_task_653a80c886f29d2882a02e61.py\",\"devtools\\u002fmigration_scripts\\u002fscript_update_message_task_653a8924b29a5a34b3b5f6e7.py\",\"devtools\\u002fmongo\\u002f002-sync-lead-workflows.js\",\"devtools\\u002fmongo\\u002f003-generate-sellers-without-pending-leads.js\",\"devtools\\u002fmongo\\u002f004-clear-products-from-sellers-without-pending-leads.js\",\"devtools\\u002fmongo\\u002f005-seller-with-more-products.js\",\"devtools\\u002fmongo\\u002f006-clear-products-from-sellers.js\",\"devtools\\u002fpocs\\u002fpoc_product_storage.py\",\"devtools\\u002fscripts\\u002fmigration-generator.sh\",\"devtools\\u002fscripts\\u002fmigration_example.py\",\"docker-compose.yml\",\"docs\\u002fMakefile\",\"docs\\u002fcompressed-signed-pickle.bytefield\",\"docs\\u002fdocker-compose.yml\",\"docs\\u002fmagalu_pay.md\",\"docs\\u002fsigned-pickle.bytefield\",\"docs\\u002fstate-diagram-tasks.svg\",\"docs\\u002fsvgs\\u002fcompressed-signed-pickle.svg\",\"docs\\u002fsvgs\\u002fsigned-pickle.svg\",\"docs\\u002funiverse_form\\u002fforms.md\",\"docs\\u002fworkflow.md\",\"freight_worker.py\",\"hopdb\\u002f__init__.py\",\"hopdb\\u002fcollection.py\",\"hopdb\\u002fcollection_storage\\u002f__init__.py\",\"hopdb\\u002fcollection_storage\\u002fin_memory.py\",\"hopdb\\u002fcollection_storage\\u002fsqlite_storage.py\",\"hopdb\\u002fcollection_storage\\u002fstorage.py\",\"hopdb\\u002fcorrelation_table\\u002f__init__.py\",\"hopdb\\u002fcorrelation_table\\u002fcorrelation_table.py\",\"hopdb\\u002fcorrelation_table\\u002fin_memory.py\",\"hopdb\\u002fcorrelation_table\\u002fsqlite.py\",\"hopdb\\u002fdatabase.py\",\"hopdb\\u002fdocument.py\",\"hopdb\\u002fdocument_encoder\\u002f__init__.py\",\"hopdb\\u002fdocument_encoder\\u002fdocument_encoder.py\",\"hopdb\\u002fhopdb.py\",\"hopdb\\u002findex\\u002f__init__.py\",\"hopdb\\u002findex\\u002fbitmap.py\",\"hopdb\\u002findex\\u002fbtree.py\",\"hopdb\\u002flogging.py\",\"hopdb\\u002fmetadata.py\",\"hopdb\\u002fpersistence.py\",\"hopdb\\u002fresource_monitor.py\",\"hopdb\\u002fsequence.py\",\"hopdb\\u002fthirdparty\\u002fsqlite3_wrapper.py\",\"lead_worker.py\",\"lib\\u002f__init__.py\",\"lib\\u002fcdi\\u002f__init__.py\",\"lib\\u002fcdi\\u002finjector.py\",\"lib\\u002fcommon\\u002fconstants\\u002f__init__.py\",\"lib\\u002fcommon\\u002fconstants\\u002fpython.py\",\"lib\\u002fcommon\\u002fcopy.py\",\"lib\\u002fcommon\\u002fencoder\\u002f__init__.py\",\"lib\\u002fcommon\\u002fencoder\\u002fbson_encoder.py\",\"lib\\u002fcommon\\u002fencoder\\u002fencoder.py\",\"lib\\u002fcommon\\u002fencoder\\u002fextended_json.py\",\"lib\\u002fcommon\\u002fencoder\\u002fsigned_pickle.py\",\"lib\\u002fcommon\\u002ffastapi\\u002f__init__.py\",\"lib\\u002fcommon\\u002ffastapi\\u002fdependencies.py\",\"lib\\u002fcommon\\u002ffields\\u002f__init__.py\",\"lib\\u002fcommon\\u002ffields\\u002fbytes.py\",\"lib\\u002fcommon\\u002ffields\\u002fmongo.py\",\"lib\\u002fcommon\\u002ffields\\u002ftimezone.py\",\"lib\\u002fcommon\\u002ffile\\u002f__init__.py\",\"lib\\u002fcommon\\u002ffile\\u002futils.py\",\"lib\\u002fcommon\\u002fhumanize.py\",\"lib\\u002fcommon\\u002flock\\u002f__init__.py\",\"lib\\u002fcommon\\u002flock\\u002fnamed_lock.py\",\"lib\\u002fcommon\\u002fmapping\\u002f__init__.py\",\"lib\\u002fcommon\\u002fmapping\\u002fbase_model.py\",\"lib\\u002fcommon\\u002fmapping\\u002ffields.py\",\"lib\\u002fcommon\\u002fobject_storage\\u002f__init__.py\",\"lib\\u002fcommon\\u002fobject_storage\\u002fdefault_factory.py\",\"lib\\u002fcommon\\u002fobject_storage\\u002ffactory.py\",\"lib\\u002fcommon\\u002fobject_storage\\u002fin_memory.py\",\"lib\\u002fcommon\\u002fobject_storage\\u002flocal_storage.py\",\"lib\\u002fcommon\\u002fobject_storage\\u002fobject_storage.py\",\"lib\\u002fcommon\\u002fobject_storage\\u002fredis_storage.py\",\"lib\\u002fcommon\\u002fpickle.py\",\"lib\\u002fcommon\\u002fredis_channel\\u002f__init__.py\",\"lib\\u002fcommon\\u002fredis_channel\\u002fredis_channel.py\",\"lib\\u002fcommon\\u002ftyping.py\",\"lib\\u002fdict\\u002fanonymize\\u002fsdk.py\",\"lib\\u002fdict\\u002fanonymize\\u002fsimple.py\",\"lib\\u002fdict\\u002fdiff\\u002fdeep_diff.py\",\"lib\\u002fdict\\u002fdiff\\u002fsdk.py\",\"lib\\u002fdict\\u002fdiff\\u002fsimple.py\",\"lib\\u002fdict\\u002fdotnotation\\u002fpydash.py\",\"lib\\u002fdict\\u002fdotnotation\\u002fsdk.py\",\"lib\\u002fdict\\u002fpatch\\u002fmongo.py\",\"lib\\u002fdict\\u002fpatch\\u002fsdk.py\",\"lib\\u002fdict\\u002fpatch\\u002fsimple.py\",\"lib\\u002flogging\\u002f__init__.py\",\"lib\\u002flogging\\u002fimpl_lulogger.py\",\"lib\\u002flogging\\u002fwrapper.py\",\"migrations\\u002f202201120205_create_collection_definitions.py\",\"migrations\\u002f202202150210_create_collection_leads.py\",\"migrations\\u002f202202181023_create_collection_worflows.py\",\"migrations\\u002f202203021137_create_collection_statistics.py\",\"migrations\\u002f202203111210_seed_definition.py\",\"migrations\\u002f202203140210_add_leads_index.py\",\"migrations\\u002f202203211623_lead_workflows.py\",\"migrations\\u002f202203251549_create_workflow_statistics.py\",\"migrations\\u002f202204041528_lead_completion.py\",\"migrations\\u002f202204121405_lead_counters.py\",\"migrations\\u002f202204131441_add_sort_leads_index.py\",\"migrations\\u002f202204191718_add_leads_index_seller_external.py\",\"migrations\\u002f202204200918_workflow_actions.py\",\"migrations\\u002f202204250741_add_new_workflow_actions.py\",\"migrations\\u002f202204251807_create_collection_stocks.py\",\"migrations\\u002f202204261623_add_external_service_definition.py\",\"migrations\\u002f202205031426_create_seller_stocks_collection.py\",\"migrations\\u002f202205031626_workflow_seller_stock.py\",\"migrations\\u002f202205041718_create_collection_tags.py\",\"migrations\\u002f202205042014_seed_tags.py\",\"migrations\\u002f202205091025_lead_workflow_initial_state.py\",\"migrations\\u002f202205091133_add_tags_index.py\",\"migrations\\u002f202205181049_seed_users.py\",\"migrations\\u002f202205231809_add_responsible_index.py\",\"migrations\\u002f202205271433_sync_definition.py\",\"migrations\\u002f202205301115_create_lead_classification.py\",\"migrations\\u002f202205311802_add_lead_last_observation_index.py\",\"migrations\\u002f202206011601_update_lead_classification.py\",\"migrations\\u002f202206131218_create_collection_secrets.py\",\"migrations\\u002f202206290420_update_seller_product_index.py\",\"migrations\\u002f202206301146_add_lead_observation_tags_index.py\",\"migrations\\u002f202207081619_start_lead_finalization_early.py\",\"migrations\\u002f202207111127_on_test_order_finish_workflows.py\",\"migrations\\u002f202207121915_seed_tecnical_definition.py\",\"migrations\\u002f202207161816_update_lead_status_definition.py\",\"migrations\\u002f202207270857_finish_financial_analysis_on_sebastian_event.py\",\"migrations\\u002f202208020837_blocklist_seller_lock_and_unlock.py\",\"migrations\\u002f202208110922_lead_wf_fix.py\",\"migrations\\u002f202208221806_communication_hub_welcome_message.py\",\"migrations\\u002f202208291716_comunication_hub_create_optin.py\",\"migrations\\u002f202208301552_call_employees.py\",\"migrations\\u002f202209011719_create_optin_email_whatsapp.py\",\"migrations\\u002f202209061739_get_more_info_employee.py\",\"migrations\\u002f202209150845_provision_analysis.py\",\"migrations\\u002f202209201413_task_affinities.py\",\"migrations\\u002f202209211647_get_sso_id_account.py\",\"migrations\\u002f202209261903_add_lead_analysis_front.py\",\"migrations\\u002f202210031209_remove_pips_task_from_automatic_rollout.py\",\"migrations\\u002f202210041139_add_legal_to_endpoint_provision.py\",\"migrations\\u002f202210041547_create_get_sso_id_account.py\",\"migrations\\u002f202210041711_get_data_to_pj_account.py\",\"migrations\\u002f202210041813_alter_endpoint_get_data_pj.py\",\"migrations\\u002f202210051002_update_tasks_events.py\",\"migrations\\u002f202210061852_post_persons_pj_account.py\",\"migrations\\u002f202210101628_add_users_manually.py\",\"migrations\\u002f202210111714_move_tasks_to_provisioner.py\",\"migrations\\u002f202210140929_add_lead_integration_platforms.py\",\"migrations\\u002f202210140930_pj_account_creation_call.py\",\"migrations\\u002f202210191006_add_retry_tasks.py\",\"migrations\\u002f202210310909_move_task_provisioner.py\",\"migrations\\u002f202211031722_update_users_permissions.py\",\"migrations\\u002f202211151130_legal_representative_adjustment.py\",\"migrations\\u002f202211160943_update_on_create_account_pj.py\",\"migrations\\u002f202211221645_register_lead_id_magalu.py\",\"migrations\\u002f202212081519_provisioner_adjustments.py\",\"migrations\\u002f202212130912_add_update_provisioner.py\",\"migrations\\u002f202212140917_magalupay_sebastian_sync.py\",\"migrations\\u002f202212151151_pj_account_new_flow.py\",\"migrations\\u002f202212151154_add_message_workflow.py\",\"migrations\\u002f202212160730_returns_provisioner_reason.py\",\"migrations\\u002f202212161954_create_action_panel_workflow.py\",\"migrations\\u002f202212171114_send_email_account_information_wf.py\",\"migrations\\u002f202212171416_risk_analysis_actions.py\",\"migrations\\u002f202212191644_change_conditions_to_start_message_wf.py\",\"migrations\\u002f202212211706_zaig_10_percente_risk_analysis.py\",\"migrations\\u002f202212220900_lead_create_param_list_consents_integrators.py\",\"migrations\\u002f202212231131_cnpj_situation_translation.py\",\"migrations\\u002f202212261635_add_condition_to_create_inconsistency_check.py\",\"migrations\\u002f202212291016_setup_eddie_onboarding.py\",\"migrations\\u002f202301041721_changing_action_panel_task_name.py\",\"migrations\\u002f202301051748_get_bureau_data.py\",\"migrations\\u002f202301111030_copy_ssoid_and_email_to_owner.py\",\"migrations\\u002f202301300900_update_condition_lead_create_param_list_consents_integrators.py\",\"migrations\\u002f202301301359_create_collection_actions.py\",\"migrations\\u002f202301441754_check_pj_account_was_reproved.py\",\"migrations\\u002f202301441755_create_task_update_pj_account.py\",\"migrations\\u002f202301451053_sending_email_asking_update_account.py\",\"migrations\\u002f202301541754_adjusting_cond_to_synchronize_pj_account.py\",\"migrations\\u002f202302161152_legacy_callback.py\",\"migrations\\u002f202302261809_adjustment_product_block_message.py\",\"migrations\\u002f202303020938_create_index_analysisId.py\",\"migrations\\u002f202303081521_send_mma.py\",\"migrations\\u002f202303081548_risk_validation.py\",\"migrations\\u002f202303081568_adjust_email_sending_rule.py\",\"migrations\\u002f202303161439_updates_seller_state_to_v2_and_adds_contract_signature.py\",\"migrations\\u002f202303161440_create_collection_data_object_batch_actions.py\",\"migrations\\u002f202303211639_update_seller_state_v3_product.py\",\"migrations\\u002f202303221627_create_collection_contacts.py\",\"migrations\\u002f202303241020_create_unique_index_contact.py\",\"migrations\\u002f202303291036_remove_task_bureau_pj_account.py\",\"migrations\\u002f202303300749_change_source_mma.py\",\"migrations\\u002f202304031628_removing_bureau_from_creation_analysis.py\",\"migrations\\u002f202304031803_send_activate_magalu_deliveries.py\",\"migrations\\u002f202304060920_create_index_contacts_history.py\",\"migrations\\u002f202304061438_automatically_create_pj_account.py\",\"migrations\\u002f202304111412_change_name_mma.py\",\"migrations\\u002f202304241428_get_seller_mma.py\",\"migrations\\u002f202304271536_legal_representative_adjustments.py\",\"migrations\\u002f202305041109_update_register_lead_id_magalu.py\",\"migrations\\u002f202305041440_create_collection_processed_data_object_message.py\",\"migrations\\u002f202305171137_create_partners_indexes.py\",\"migrations\\u002f202305181425_create_org_zendesk.py\",\"migrations\\u002f202305221501_add_index_and_set_corporate_name_lower.py\",\"migrations\\u002f202305240857_get_risk_analysis_adjustments.py\",\"migrations\\u002f202305291631_add_recap_field.py\",\"migrations\\u002f202305308003_create_index_contacts_seller_id_source.py\",\"migrations\\u002f202305311433_add_index_processed_data_object_recreate.py\",\"migrations\\u002f202306051856_update_org_zendesk.py\",\"migrations\\u002f202306120807_pj_account_email_change.py\",\"migrations\\u002f202306141620_migrate_lead_contact_to_contacts.py\",\"migrations\\u002f202306141621_generate_contacts_history_create.py\",\"migrations\\u002f202306231127_update_magalu_deliveries_activate.py\",\"migrations\\u002f202306270852_lead_assignee_reassignment_task.py\",\"migrations\\u002f202306300951_send_email_lead_reproved.py\",\"migrations\\u002f202307030822_send_email_signature_contract.py\",\"migrations\\u002f202307111758_change_actions_to_virtual.py\",\"migrations\\u002f202307181643_add_seller_state_magalu_agency.py\",\"migrations\\u002f202307191527_adjustmet_tasks_to_create_basic_lead.py\",\"migrations\\u002f202307191710_fixing_duplicate_workflow.py\",\"migrations\\u002f202307201719_update_old_zendesk_leads.py\",\"migrations\\u002f202307211533_zendesk_adjusting_workflow_retry.py\",\"migrations\\u002f202307251921_ajusting_send_email_reproved.py\",\"migrations\\u002f202307261431_add_realm_users.py\",\"migrations\\u002f202308020935_add_service_account_sso_migrated.py\",\"migrations\\u002f202308021030_remove_service_account_sso_migrated.py\",\"migrations\\u002f202308021214_create_collection_services.py\",\"migrations\\u002f202308080847_update_zendesk_user_observer.py\",\"migrations\\u002f202308111746_create_wf_netshoes.py\",\"migrations\\u002f202308111747_adjustment_tasks_to_netshoes.py\",\"migrations\\u002f202308141129_rename_task_aproved_and_pj_account.py\",\"migrations\\u002f202308161520_update_pj_account_new_flow.py\",\"migrations\\u002f202308171134_adding_source_field.py\",\"migrations\\u002f202308241540_add_service_type_index.py\",\"migrations\\u002f202308301156_create_indice_lead_status_lead_weight.py\",\"migrations\\u002f202308301555_adding_new_netshoes_tasks.py\",\"migrations\\u002f202309051913_create_batch_data_objects_collections.py\",\"migrations\\u002f202309081730_adjustment_email_new_flow.py\",\"migrations\\u002f202309140917_create_lead_mma.py\",\"migrations\\u002f202309200900_adjustment_id_message_contract.py\",\"migrations\\u002f202309251524_skip_rephrasing_diff_disapproved_lead.py\",\"migrations\\u002f202310041428_adjustment_tasks_to_source_magalu_universe.py\",\"migrations\\u002f202310051706_copy_data_channel_id.py\",\"migrations\\u002f202310051707_create_index_seller_id_and_channel.py\",\"migrations\\u002f202310091148_create_wf_store_configuration_netshoes.py\",\"migrations\\u002f202310091149_create_task_mp_seller.py\",\"migrations\\u002f202310181749_adjustment_analysis_process_links.py\",\"migrations\\u002f202310241106_adjustment_email_registration.py\",\"migrations\\u002f202310241551_adjust_approval_message_no_pj_account.py\",\"migrations\\u002f202310241552_adjust_approval_message_reproved_pj_account.py\",\"migrations\\u002f202310251650_add_tasks_messages_wa_reproved.py\",\"migrations\\u002f202310251651_add_tasks_messages_wa_registration_completed.py\",\"migrations\\u002f202310251652_add_tasks_messages_wa_approved_completed.py\",\"migrations\\u002f202310311020_add_source_channel_and_origin_index_to_lead.py\",\"migrations\\u002f202311241511_add_verification_seller_state_contract_signing.py\",\"migrations\\u002f202311241512_adjusting_business_condition_contract_pme.py\",\"migrations\\u002f202311242223_create_wf_automatic_creation_reproval.py\",\"migrations\\u002f202311251552_add_task_mp_security.py\",\"migrations\\u002f202311251554_add_task_set_up_integrator.py\",\"migrations\\u002f202311251555_adjustment_close_task_contract_signing.py\",\"migrations\\u002f202311251556_update_task_remove_service_account_to_add_publish_date.py\",\"migrations\\u002f202311300831_integration_platform_normalization.py\",\"migrations\\u002f202311301145_add_lead_owner_sso_ids.py\",\"migrations\\u002f202311301258_populate_lead_owners.py\",\"migrations\\u002f202311301259_adjustment_tasks_netshoes.py\",\"migrations\\u002f202312041018_mapping_table.py\",\"migrations\\u002f202312050850_multi_source_integration_platform.py\",\"migrations\\u002f202312051032_add_lead_indexes_for_checking_document_availability.py\",\"migrations\\u002f202312051638_create_index_external_reference_sellerid.py\",\"migrations\\u002f202312191145_update_tasks_types.py\",\"migrations\\u002f202312191146_update_tasks_slas.py\",\"migrations\\u002f202401151339_update_virtual_action_allowed_roles.py\",\"migrations\\u002f202401151340_create_lead_helena.py\",\"migrations\\u002f202401151458_add_task_update_contact.py\",\"migrations\\u002f202401181033_update_task_account_catalog_service_with_feature_flag.py\",\"migrations\\u002f202401181034_update_task_seller_migrated.py\",\"migrations\\u002f202401230516_create_index_source_partner.py\",\"migrations\\u002f202401230517_populate_source_partner_by_external_reference.py\",\"migrations\\u002f202402060847_create_fees_helena.py\",\"migrations\\u002f202402141555_update_lead_helena.py\",\"migrations\\u002f202402160808_change_source_partner_index.py\",\"migrations\\u002f202402231719_send_lead_freedom.py\",\"migrations\\u002f202402241509_last_observation_and_others_index.py\",\"migrations\\u002f202403170800_create_freshdesk.py\",\"migrations\\u002f202403291339_create_core_data_object_classifier.py\",\"migrations\\u002f202403291345_marketplace_publish_classifier.py\",\"migrations\\u002f202404011258_data_object_classifier_index.py\",\"migrations\\u002f202404020813_create_index_completed_at.py\",\"migrations\\u002f202404020946_index_partial_integration_platform_available.py\",\"migrations\\u002f202404021929_normalize_models.py\",\"migrations\\u002f202404031356_condition_msg_approved_registration_wa_mkt.py\",\"migrations\\u002f202404031357_condition_msg_registration_wa_mkt.py\",\"migrations\\u002f202404031358_condition_msg_reproved_registration_wa_mkt.py\",\"migrations\\u002f202404031359_condition_msg_approved_registration.py\",\"migrations\\u002f202404031360_condition_approved_registration_no_pj_account.py\",\"migrations\\u002f202404031361_condition_approved_registration_update_pj_account.py\",\"migrations\\u002f202404031362_condition_analysis_process.py\",\"migrations\\u002f202404031363_condition_contract_signing.py\",\"migrations\\u002f202404160825_lead_updated_at_index.py\",\"migrations\\u002f202404180927_lead_actions_needed_index.py\",\"migrations\\u002f202404220816_universe_form_classifier.py\",\"migrations\\u002f202404240800_create_ticket_zendesk.py\",\"migrations\\u002f202405080813_create_index_source_origin_completed_at.py\",\"migrations\\u002f202405131017_disable_zendesk_already_ticket.py\",\"migrations\\u002f202405140912_add_test_purchase_order_action.py\",\"migrations\\u002f202405161046_remove_set_order_test_date_to_account_from_finalization_workflow.py\",\"migrations\\u002f202405161047_set_order_test_date_to_account.py\",\"migrations\\u002f202405201125_create_task_set_order_test_date_account_workflows.py\",\"migrations\\u002f202405221611_add_completed_at_netshoes.py\",\"migrations\\u002f202405221612_commercial_contract_monitor.py\",\"migrations\\u002f202405240916_universe_form_classifier_update.py\",\"migrations\\u002f202405241013_marketplace_publish_classifier_update.py\",\"migrations\\u002f202405241234_netshoes_and_marketplace_services.py\",\"migrations\\u002f202405291456_add_completed_at_netshoes_to_legacy_wf.py\",\"migrations\\u002f202405291745_commercial_contract_monitor_update.py\",\"migrations\\u002f202406031639_create_index_integrator_platform.py\",\"migrations\\u002f202406131515_rollout_order_account.py\",\"migrations\\u002f202407041755_universe_form_classifier_update.py\",\"migrations\\u002f202407041756_marketplace_publish_classifier_update.py\",\"migrations\\u002futils\\u002f__init__.py\",\"migrations\\u002futils\\u002futil.py\",\"migrations_util\\u002fclassifiers.py\",\"migrations_util\\u002fcli.py\",\"migrations_util\\u002fdatetime.py\",\"migrations_util\\u002fmodel_normalizer.py\",\"migrations_util\\u002fscript_sign.py\",\"migrations_util\\u002fsettings.py\",\"migrations_util\\u002fvirtual_actions.py\",\"mypy.ini\",\"netshoes_lead_worker.py\",\"product_worker.py\",\"pyproject.toml\",\"pytest.ini\",\"release-replacements.json\",\"requirements.txt\",\"requirements\\u002fbase.txt\",\"requirements\\u002fdevelop.txt\",\"risk_analysis_worker.py\",\"run-migrate.sh\",\"sebastian_integration_worker.py\",\"seller_account_worker.py\",\"seller_contract_worker.py\",\"seller_orders_worker.py\",\"sonar-project.properties\",\"start-gunicorn.sh\",\"start-worker.sh\",\"tag_worker.py\",\"tests\\u002fanalytics\\u002fapis\\u002ffastapi\\u002froutes\\u002ftest_health_router.py\",\"tests\\u002fanalytics\\u002fapis\\u002ffastapi\\u002froutes\\u002ftest_lead_analytics_router.py\",\"tests\\u002fanalytics\\u002fbusiness\\u002ftest_lead_analytics_bo.py\",\"tests\\u002fanalytics\\u002fconftest.py\",\"tests\\u002fanalytics\\u002ffixtures\\u002fdataset\\u002flead_analytics_fixture.py\",\"tests\\u002fanalytics\\u002ffixtures\\u002fdataset\\u002flead_dashboard_data.json\",\"tests\\u002fanalytics\\u002ffixtures\\u002fextended_json.py\",\"tests\\u002fanalytics\\u002ftest_utils.py\",\"tests\\u002fapp\\u002factions\\u002ftest_lead_action_change_bank_account.py\",\"tests\\u002fapp\\u002factions\\u002ftest_lead_action_migrate_pme_to_mktplace.py\",\"tests\\u002fapp\\u002factions\\u002ftest_lead_action_relationship_management.py\",\"tests\\u002fapp\\u002factions\\u002ftest_lead_action_update_referral_code.py\",\"tests\\u002fapp\\u002factions\\u002ftest_lead_universe_actions.py\",\"tests\\u002fapp\\u002fapis\\u002ffastapi\\u002fexception_handler_test.py\",\"tests\\u002fapp\\u002fapis\\u002ffastapi\\u002froutes\\u002f__init__.py\",\"tests\\u002fapp\\u002fapis\\u002ffastapi\\u002froutes\\u002fauth_rest_test.py\",\"tests\\u002fapp\\u002fapis\\u002ffastapi\\u002froutes\\u002fcontact_rest_test.py\",\"tests\\u002fapp\\u002fapis\\u002ffastapi\\u002froutes\\u002fdefinition_rest_test.py\",\"tests\\u002fapp\\u002fapis\\u002ffastapi\\u002froutes\\u002fhealth_rest_test.py\",\"tests\\u002fapp\\u002fapis\\u002ffastapi\\u002froutes\\u002flead_analytics_rest_test.py\",\"tests\\u002fapp\\u002fapis\\u002ffastapi\\u002froutes\\u002flead_rest_test.py\",\"tests\\u002fapp\\u002fapis\\u002ffastapi\\u002froutes\\u002fopenapi_test.py\",\"tests\\u002fapp\\u002fapis\\u002ffastapi\\u002froutes\\u002fpartner_rest_test.py\",\"tests\\u002fapp\\u002fapis\\u002ffastapi\\u002froutes\\u002ftest_action_rest.py\",\"tests\\u002fapp\\u002fapis\\u002ffastapi\\u002froutes\\u002ftest_batch_data_object_rest.py\",\"tests\\u002fapp\\u002fapis\\u002ffastapi\\u002froutes\\u002ftest_change_history_rest.py\",\"tests\\u002fapp\\u002fapis\\u002ffastapi\\u002froutes\\u002ftest_core_data_object_classifier_rest.py\",\"tests\\u002fapp\\u002fapis\\u002ffastapi\\u002froutes\\u002ftest_lead_legacy_rest_test.py\",\"tests\\u002fapp\\u002fapis\\u002ffastapi\\u002froutes\\u002ftest_misc_rest_test.py\",\"tests\\u002fapp\\u002fapis\\u002ffastapi\\u002froutes\\u002ftest_qa_rest.py\",\"tests\\u002fapp\\u002fapis\\u002ffastapi\\u002froutes\\u002ftest_service_rest.py\",\"tests\\u002fapp\\u002fapis\\u002ffastapi\\u002froutes\\u002fuser_permission_rest_test.py\",\"tests\\u002fapp\\u002fapis\\u002ffastapi\\u002froutes\\u002fuser_rest_test.py\",\"tests\\u002fapp\\u002fapis\\u002ffastapi\\u002froutes\\u002fvault_rest_test.py\",\"tests\\u002fapp\\u002fapis\\u002ffastapi\\u002froutes\\u002fworkflow_rest_test.py\",\"tests\\u002fapp\\u002fbusiness_rule\\u002funiverse_form\\u002ftest_universe_form.py\",\"tests\\u002fapp\\u002fbusinesses\\u002fhandlers\\u002ftest_assignment_handler.py\",\"tests\\u002fapp\\u002fbusinesses\\u002fobservers\\u002fmagalu\\u002ftest_forbid_bank_change_after_sync.py\",\"tests\\u002fapp\\u002fbusinesses\\u002fobservers\\u002fmagalu\\u002ftest_risk_analysis.py\",\"tests\\u002fapp\\u002fbusinesses\\u002fobservers\\u002ftest_contract_create_ps_contract_observer.py\",\"tests\\u002fapp\\u002fbusinesses\\u002fobservers\\u002ftest_lead_observers.py\",\"tests\\u002fapp\\u002fbusinesses\\u002fobservers\\u002ftest_lead_update_magalu_tax_observer.py\",\"tests\\u002fapp\\u002fbusinesses\\u002fobservers\\u002ftest_lead_update_ps_contract_observer.py\",\"tests\\u002fapp\\u002fbusinesses\\u002fobservers\\u002ftest_lead_workflow_observers_validators.py\",\"tests\\u002fapp\\u002fbusinesses\\u002fobservers\\u002ftest_magalu_lead_observers.py\",\"tests\\u002fapp\\u002fbusinesses\\u002ftest_change_history_bo.py\",\"tests\\u002fapp\\u002fbusinesses\\u002ftest_id_magalu_bo.py\",\"tests\\u002fapp\\u002fbusinesses\\u002ftest_lead_workflow_bo.py\",\"tests\\u002fapp\\u002fbusinesses\\u002ftest_seller_product_bo.py\",\"tests\\u002fapp\\u002fbusinesses\\u002ftest_workflow_bo.py\",\"tests\\u002fapp\\u002fdomains\\u002ftest_lead_domain.py\",\"tests\\u002fapp\\u002fdomains\\u002ftest_workflow_domain.py\",\"tests\\u002fapp\\u002fintegrations\\u002fbackends\\u002fsebastian_api\\u002ftest_models.py\",\"tests\\u002fapp\\u002fintegrations\\u002fbackends\\u002ftest_apigee_backend.py\",\"tests\\u002fapp\\u002fintegrations\\u002fbackends\\u002ftest_client_v1_backend.py\",\"tests\\u002fapp\\u002fintegrations\\u002fbackends\\u002ftest_maas_blocklist_backend.py\",\"tests\\u002fapp\\u002fintegrations\\u002fbackends\\u002ftest_maas_products_backend.py\",\"tests\\u002fapp\\u002fintegrations\\u002fbackends\\u002ftest_p52_backend.py\",\"tests\\u002fapp\\u002fintegrations\\u002fdatalake\\u002fbackends\\u002ftetrix_kafka\\u002fhandlers\\u002ftest_lead_tetrix_dataset_handler.py\",\"tests\\u002fapp\\u002fintegrations\\u002fdatalake\\u002fbackends\\u002ftetrix_kafka\\u002fhandlers\\u002ftest_workflow_tetrix_dataset_handler.py\",\"tests\\u002fapp\\u002fintegrations\\u002fdatalake\\u002ftest_core.py\",\"tests\\u002fapp\\u002fintegrations\\u002fdb\\u002fmongo\\u002fpyobjectid_test.py\",\"tests\\u002fapp\\u002fintegrations\\u002fpubsub\\u002fencoder\\u002ftest_json_binary_encoder.py\",\"tests\\u002fapp\\u002fintegrations\\u002fpubsub\\u002fkafka\\u002ftest_kafka_producer_backend.py\",\"tests\\u002fapp\\u002fintegrations\\u002fpubsub\\u002fkafka\\u002ftest_kafka_pubsub_consumer_integrated.py\",\"tests\\u002fapp\\u002fintegrations\\u002fpubsub\\u002fkafka\\u002ftest_kafka_pubsub_consumer_mocked.py\",\"tests\\u002fapp\\u002fintegrations\\u002fpubsub\\u002fkafka\\u002ftest_kafka_pubsub_message.py\",\"tests\\u002fapp\\u002fintegrations\\u002fpubsub\\u002ftest_pubsub_consumer.py\",\"tests\\u002fapp\\u002fintegrations\\u002fpubsub\\u002ftest_pubsub_producer.py\",\"tests\\u002fapp\\u002fintegrations\\u002frisk_analysis\\u002ftest_fake_risk_analysis.py\",\"tests\\u002fapp\\u002fintegrations\\u002frisk_analysis\\u002ftest_risk_analysis_validation.py\",\"tests\\u002fapp\\u002fintegrations\\u002fscheduler\\u002fimpl\\u002flite\\u002fjobstores\\u002ftest_mongo.py\",\"tests\\u002fapp\\u002fintegrations\\u002fscheduler\\u002fimpl\\u002flite\\u002ftest_job_delay_strategies.py\",\"tests\\u002fapp\\u002fintegrations\\u002fseller_stock_info\\u002ftest_local_seller_product_info.py\",\"tests\\u002fapp\\u002frepositories\\u002ftest_base_repository.py\",\"tests\\u002fapp\\u002frepositories\\u002ftest_lead_repository.py\",\"tests\\u002fapp\\u002fscript\\u002fimpl\\u002fpython\\u002ftest_functions.py\",\"tests\\u002fapp\\u002fscript\\u002ftest_eql_script_engine.py\",\"tests\\u002fapp\\u002fscript\\u002ftest_pyeval_script_engine.py\",\"tests\\u002fapp\\u002fscript\\u002ftest_pyexec_script_engine.py\",\"tests\\u002fapp\\u002ftest_cdi.py\",\"tests\\u002fapp\\u002futils\\u002fdatetime_test.py\",\"tests\\u002fapp\\u002futils\\u002ftest_custom_log_anonymizer.py\",\"tests\\u002fapp\\u002futils\\u002ftest_fields_cronformat.py\",\"tests\\u002fapp\\u002futils\\u002ftest_fields_owner_sso_id.py\",\"tests\\u002fapp\\u002futils\\u002ftest_fields_secret_base64str.py\",\"tests\\u002fapp\\u002fworkers\\u002fdata_object_batch\\u002ftasks\\u002ftest_data_object_batch_action_task.py\",\"tests\\u002fapp\\u002fworkers\\u002fdata_object_batch\\u002ftasks\\u002ftest_data_object_row_batch_action_task.py\",\"tests\\u002fapp\\u002fworkers\\u002fdata_object_batch\\u002ftest_data_object_batch_app.py\",\"tests\\u002fapp\\u002fworkers\\u002ffreight\\u002ftasks\\u002ftest_freight_task.py\",\"tests\\u002fapp\\u002fworkers\\u002ffreight\\u002ftest_freight_app.py\",\"tests\\u002fapp\\u002fworkers\\u002flead\\u002ftasks\\u002ftest_risk_analysis_response_task.py\",\"tests\\u002fapp\\u002fworkers\\u002flead\\u002ftest_lead_app.py\",\"tests\\u002fapp\\u002fworkers\\u002fnetshoes\\u002ftasks\\u002fnetshoes_lead_mapper\\u002ftest_netshoes_bank.py\",\"tests\\u002fapp\\u002fworkers\\u002fnetshoes\\u002ftasks\\u002fnetshoes_lead_mapper\\u002ftest_netshoes_company_address.py\",\"tests\\u002fapp\\u002fworkers\\u002fnetshoes\\u002ftasks\\u002fnetshoes_lead_mapper\\u002ftest_netshoes_contact.py\",\"tests\\u002fapp\\u002fworkers\\u002fnetshoes\\u002ftasks\\u002ftest_netshoes_task.py\",\"tests\\u002fapp\\u002fworkers\\u002fnetshoes\\u002ftest_netshoes_app.py\",\"tests\\u002fapp\\u002fworkers\\u002fproduct\\u002ftasks\\u002ftest_product_task.py\",\"tests\\u002fapp\\u002fworkers\\u002fproduct\\u002ftest_product_app.py\",\"tests\\u002fapp\\u002fworkers\\u002frisk_analysis\\u002ftest_request_risk_analysis_task.py\",\"tests\\u002fapp\\u002fworkers\\u002frisk_analysis\\u002ftest_risk_analysis_app.py\",\"tests\\u002fapp\\u002fworkers\\u002fseller_account\\u002ftasks\\u002ftest_process_seller_account.py\",\"tests\\u002fapp\\u002fworkers\\u002fseller_account\\u002ftest_seller_account_app.py\",\"tests\\u002fapp\\u002fworkers\\u002fseller_contracts\\u002ftasks\\u002ftest_ps_contract_task.py\",\"tests\\u002fapp\\u002fworkers\\u002fseller_contracts\\u002ftasks\\u002ftest_sync_seller_contract_task.py\",\"tests\\u002fapp\\u002fworkers\\u002fseller_contracts\\u002ftest_seller_contract_app.py\",\"tests\\u002fapp\\u002fworkers\\u002fseller_orders\\u002ftasks\\u002ftest_marketplace_purchase_task.py\",\"tests\\u002fapp\\u002fworkers\\u002fseller_orders\\u002ftasks\\u002ftest_notify_order_by_uuid_task.py\",\"tests\\u002fapp\\u002fworkers\\u002fseller_orders\\u002ftasks\\u002ftest_seller_orders_task.py\",\"tests\\u002fapp\\u002fworkers\\u002fseller_orders\\u002ftest_seller_orders_app.py\",\"tests\\u002fapp\\u002fworkers\\u002ftest_app.py\",\"tests\\u002fapp\\u002fworkers\\u002ftest_tasks.py\",\"tests\\u002fapp\\u002fworkers\\u002fwebhook\\u002ftasks\\u002ftest_data_object_merge_webhook_task.py\",\"tests\\u002fapp\\u002fworkers\\u002fwebhook\\u002ftasks\\u002ftest_webhook_global_task.py\",\"tests\\u002fapp\\u002fworkers\\u002fwebhook\\u002ftest_webhook_app.py\",\"tests\\u002fapp\\u002fworkers\\u002fworkflow_retry\\u002ftasks\\u002ftest_data_object_workflow_retry_task.py\",\"tests\\u002fapp\\u002fworkers\\u002fworkflow_retry\\u002ftest_workflow_retry_app.py\",\"tests\\u002fapp\\u002fworkers\\u002fworkflow_wakeup\\u002ftasks\\u002ftest_data_object_workflow_wakeup_task.py\",\"tests\\u002fapp\\u002fworkers\\u002fworkflow_wakeup\\u002ftest_workflow_wakeup_app.py\",\"tests\\u002fapp\\u002fworkflow\\u002faddons\\u002ftest_workflow_wake_up.py\",\"tests\\u002fapp\\u002fworkflow\\u002ftest_http_client.py\",\"tests\\u002fapp\\u002fworkflows\\u002ftest_action_panel_workflow.py\",\"tests\\u002fapp\\u002fworkflows\\u002ftest_anonymized_safe_workflow.py\",\"tests\\u002fapp\\u002fworkflows\\u002ftest_assignment_engine.py\",\"tests\\u002fapp\\u002fworkflows\\u002ftest_call_employees.py\",\"tests\\u002fapp\\u002fworkflows\\u002ftest_communication_hub.py\",\"tests\\u002fapp\\u002fworkflows\\u002ftest_freedom.py\",\"tests\\u002fapp\\u002fworkflows\\u002ftest_freshdesk.py\",\"tests\\u002fapp\\u002fworkflows\\u002ftest_helena.py\",\"tests\\u002fapp\\u002fworkflows\\u002ftest_lead_workflow.py\",\"tests\\u002fapp\\u002fworkflows\\u002ftest_legacy_callback.py\",\"tests\\u002fapp\\u002fworkflows\\u002ftest_magalu_deliveries.py\",\"tests\\u002fapp\\u002fworkflows\\u002ftest_mma.py\",\"tests\\u002fapp\\u002fworkflows\\u002ftest_order3p_functionality_activation.py\",\"tests\\u002fapp\\u002fworkflows\\u002ftest_pj_account.py\",\"tests\\u002fapp\\u002fworkflows\\u002ftest_provision.py\",\"tests\\u002fapp\\u002fworkflows\\u002ftest_seller_account.py\",\"tests\\u002fapp\\u002fworkflows\\u002ftest_send_communication_messages.py\",\"tests\\u002fapp\\u002fworkflows\\u002ftest_workflow_engine.py\",\"tests\\u002fapp\\u002fworkflows\\u002ftest_zendesk_integration.py\",\"tests\\u002fcommons\\u002fasync_worker\\u002ftest_application.py\",\"tests\\u002fcommons\\u002fcache\\u002fstorage\\u002ftest_cache_storage.py\",\"tests\\u002fcommons\\u002fcache\\u002ftest_multilayer_cache.py\",\"tests\\u002fcommons\\u002flock\\u002ftest_lock.py\",\"tests\\u002fconftest.py\",\"tests\\u002ffixtures\\u002faioresponses.py\",\"tests\\u002ffixtures\\u002fasyncio.py\",\"tests\\u002ffixtures\\u002fbackends\\u002fapigee_mock.py\",\"tests\\u002ffixtures\\u002fbackends\\u002fbabel_api_mock.py\",\"tests\\u002ffixtures\\u002fbackends\\u002fclient_v1_api_mock.py\",\"tests\\u002ffixtures\\u002fbackends\\u002fcommunication_hub_api_mock.py\",\"tests\\u002ffixtures\\u002fbackends\\u002feddie_api_mock.py\",\"tests\\u002ffixtures\\u002fbackends\\u002femployees_api_mock.py\",\"tests\\u002ffixtures\\u002fbackends\\u002ffreedom_api_mock.py\",\"tests\\u002ffixtures\\u002fbackends\\u002ffreight-seller-info.json\",\"tests\\u002ffixtures\\u002fbackends\\u002ffreight_api_mock.py\",\"tests\\u002ffixtures\\u002fbackends\\u002ffreshdesk_api_get_sucess.json\",\"tests\\u002ffixtures\\u002fbackends\\u002ffreshdesk_api_mock.py\",\"tests\\u002ffixtures\\u002fbackends\\u002ffreshdesk_api_post_sucess.json\",\"tests\\u002ffixtures\\u002fbackends\\u002fhelena_api_mock.py\",\"tests\\u002ffixtures\\u002fbackends\\u002fidmagalu_mock.py\",\"tests\\u002ffixtures\\u002fbackends\\u002flegacy_callback.py\",\"tests\\u002ffixtures\\u002fbackends\\u002fmaas-integra-api-id-magalu-test.json\",\"tests\\u002ffixtures\\u002fbackends\\u002fmaas_account_api_mock.py\",\"tests\\u002ffixtures\\u002fbackends\\u002fmaas_blocklist_api_mock.py\",\"tests\\u002ffixtures\\u002fbackends\\u002fmaas_integra_api_mock.py\",\"tests\\u002ffixtures\\u002fbackends\\u002fmaas_product_api_mock.py\",\"tests\\u002ffixtures\\u002fbackends\\u002fmaestro-order-common.json\",\"tests\\u002ffixtures\\u002fbackends\\u002fmaestro-order-not-found.json\",\"tests\\u002ffixtures\\u002fbackends\\u002fmaestro-order-test.json\",\"tests\\u002ffixtures\\u002fbackends\\u002fmaestro_api_mock.py\",\"tests\\u002ffixtures\\u002fbackends\\u002fmagalu_tax_api_mock.py\",\"tests\\u002ffixtures\\u002fbackends\\u002fmma_api_mock.py\",\"tests\\u002ffixtures\\u002fbackends\\u002fmp_security_mock.py\",\"tests\\u002ffixtures\\u002fbackends\\u002fmp_sellers_api_mock.py\",\"tests\\u002ffixtures\\u002fbackends\\u002fopen_id_api_mock.py\",\"tests\\u002ffixtures\\u002fbackends\\u002forder3p_api_mock.py\",\"tests\\u002ffixtures\\u002fbackends\\u002fp52-cart-common.json\",\"tests\\u002ffixtures\\u002fbackends\\u002fp52-cart-token.json\",\"tests\\u002ffixtures\\u002fbackends\\u002fp52-cart-token_invalid_client.json\",\"tests\\u002ffixtures\\u002fbackends\\u002fp52-cart-with-client-and-freight.json\",\"tests\\u002ffixtures\\u002fbackends\\u002fp52-shipping-calc-cart-unavailable.json\",\"tests\\u002ffixtures\\u002fbackends\\u002fp52-shipping-calc-cart.json\",\"tests\\u002ffixtures\\u002fbackends\\u002fp52_api_mock.py\",\"tests\\u002ffixtures\\u002fbackends\\u002fp52_close_cart_order.json\",\"tests\\u002ffixtures\\u002fbackends\\u002fpj_account_creation_mock.py\",\"tests\\u002ffixtures\\u002fbackends\\u002fproduct-validation-approved.json\",\"tests\\u002ffixtures\\u002fbackends\\u002fproduct-validation-autoreprove.json\",\"tests\\u002ffixtures\\u002fbackends\\u002fproduct-validation-reproved.json\",\"tests\\u002ffixtures\\u002fbackends\\u002fprovision_api_mock.py\",\"tests\\u002ffixtures\\u002fbackends\\u002fps_contract_api_mock.py\",\"tests\\u002ffixtures\\u002fbackends\\u002fps_onboarding_analytics_backend.py\",\"tests\\u002ffixtures\\u002fbackends\\u002fsebastian-post-v1-lead-create-success.json\",\"tests\\u002ffixtures\\u002fbackends\\u002fsebastian_api_mock.py\",\"tests\\u002ffixtures\\u002fbackends\\u002fseller-account-no-ii.json\",\"tests\\u002ffixtures\\u002fbackends\\u002fseller-account.json\",\"tests\\u002ffixtures\\u002fbackends\\u002fseller-orders.json\",\"tests\\u002ffixtures\\u002fbackends\\u002fzendesk_api_mock.py\",\"tests\\u002ffixtures\\u002fbackends\\u002fzendesk_ticket_create_success.json\",\"tests\\u002ffixtures\\u002fbusinesses.py\",\"tests\\u002ffixtures\\u002fcdi.py\",\"tests\\u002ffixtures\\u002fcommons.py\",\"tests\\u002ffixtures\\u002fdomains\\u002fbatch_data_object.py\",\"tests\\u002ffixtures\\u002fdomains\\u002fchange_history.py\",\"tests\\u002ffixtures\\u002fdomains\\u002fcontact.py\",\"tests\\u002ffixtures\\u002fdomains\\u002fdata_object_helper.py\",\"tests\\u002ffixtures\\u002fdomains\\u002fdefinition.py\",\"tests\\u002ffixtures\\u002fdomains\\u002fintegration_platform.py\",\"tests\\u002ffixtures\\u002fdomains\\u002fintegration_platforms_data.json\",\"tests\\u002ffixtures\\u002fdomains\\u002flead.py\",\"tests\\u002ffixtures\\u002fdomains\\u002flead_service.py\",\"tests\\u002ffixtures\\u002fdomains\\u002fuser.py\",\"tests\\u002ffixtures\\u002fdomains\\u002fvault.py\",\"tests\\u002ffixtures\\u002fdomains\\u002fvirtual_actions.py\",\"tests\\u002ffixtures\\u002fdomains\\u002fworkflow.py\",\"tests\\u002ffixtures\\u002fgoogle_pubsub.py\",\"tests\\u002ffixtures\\u002fkafka.py\",\"tests\\u002ffixtures\\u002fmigrations.py\",\"tests\\u002ffixtures\\u002fmongo.py\",\"tests\\u002ffixtures\\u002fnetshoes_seller_payloads.py\",\"tests\\u002ffixtures\\u002fopen_id_fixture.py\",\"tests\\u002ffixtures\\u002fpubsub.py\",\"tests\\u002ffixtures\\u002frepositories.py\",\"tests\\u002ffixtures\\u002fsebastian_token.py\",\"tests\\u002ffixtures\\u002fsettings.py\",\"tests\\u002fhopdb\\u002findex\\u002ftest_btree.py\",\"tests\\u002fhopdb\\u002ftest_collection_storage.py\",\"tests\\u002fhopdb\\u002ftest_correlation_table.py\",\"tests\\u002fhopdb\\u002ftest_sequence.py\",\"tests\\u002flib\\u002fcommon\\u002fencoder\\u002ftest_safe_pickle.py\",\"tests\\u002flib\\u002fcommon\\u002ffields\\u002ftest_fields_pytimezone.py\",\"tests\\u002flib\\u002fcommon\\u002fobject_storage\\u002ftest_object_storage.py\",\"tests\\u002flib\\u002fdict\\u002fanonymize\\u002ftest_anonymize_dict.py\",\"tests\\u002flib\\u002fdict\\u002fdiff\\u002ftest_deep_dict_diff.py\",\"tests\\u002flib\\u002fdict\\u002fdiff\\u002ftest_simple_dict_diff.py\",\"tests\\u002futils\\u002fbuilders\\u002fdomain\\u002f__init__.py\",\"tests\\u002futils\\u002fbuilders\\u002fdomain\\u002fuser_builder.py\",\"tests\\u002futils\\u002fconstants.py\",\"tests\\u002futils\\u002fcontext.py\",\"tests\\u002futils\\u002fthreading.py\",\"tests\\u002futils\\u002funiverse_form.py\",\"tests\\u002futils\\u002fworkflows.py\",\"webhook_worker.py\",\"workflow_retry_worker.py\",\"workflow_wakeup_worker.py\",null,\".devcontainer\",\".gitlab\",\".gitlab\\u002fmerge_request_templates\",\"analytics\",\"analytics\\u002fapis\",\"analytics\\u002fapis\\u002ffastapi\",\"analytics\\u002fapis\\u002ffastapi\\u002froutes\",\"analytics\\u002fbusiness\",\"analytics\\u002fconfig\",\"analytics\\u002fdto\",\"analytics\\u002fintegrations\",\"analytics\\u002frepository\",\"analytics\\u002fstandalone\",\"analytics\\u002fstandalone\\u002fpages\",\"analytics\\u002futils\",\"analytics\\u002fworkers\",\"analytics\\u002fworkers\\u002flead_incremental_indexer\",\"app\",\"app\\u002fapis\",\"app\\u002fapis\\u002fcommon\",\"app\\u002fapis\\u002ffastapi\",\"app\\u002fapis\\u002ffastapi\\u002fconfigs\",\"app\\u002fapis\\u002ffastapi\\u002froutes\",\"app\\u002fbusinesses\",\"app\\u002fbusinesses\\u002fcore\",\"app\\u002fbusinesses\\u002fcore\\u002fdata_object\",\"app\\u002fbusinesses\\u002fexceptions\",\"app\\u002fbusinesses\\u002fhandlers\",\"app\\u002fbusinesses\\u002fobservers\",\"app\\u002fbusinesses\\u002fobservers\\u002fmagalu\",\"app\\u002fbusinesses\\u002fobservers\\u002fmagalu\\u002fdtos\",\"app\\u002fbusinesses\\u002fobservers\\u002fmagalu\\u002ftest_purchase\",\"app\\u002fbusinesses\\u002fsecuritys\",\"app\\u002fcommons\",\"app\\u002fcommons\\u002fasync_worker\",\"app\\u002fcommons\\u002fasync_worker\\u002fpool\",\"app\\u002fcommons\\u002fasync_worker\\u002ftasks\",\"app\\u002fcommons\\u002fcache\",\"app\\u002fcommons\\u002fcache\\u002fimpl\",\"app\\u002fcommons\\u002fcache\\u002fimpl\\u002fserializer\",\"app\\u002fcommons\\u002fcache\\u002fimpl\\u002fstorage\",\"app\\u002fcommons\\u002fcache\\u002fimpl\\u002fstorage\\u002finternal\",\"app\\u002fcommons\\u002fcache\\u002fimpl\\u002fstorage\\u002fremote\",\"app\\u002fcommons\\u002fcache\\u002fsdk\",\"app\\u002fcommons\\u002feventbus\",\"app\\u002fcommons\\u002fhttp\",\"app\\u002fcommons\\u002flock\",\"app\\u002fcommons\\u002fmapping\",\"app\\u002fcommons\\u002fpubsub\",\"app\\u002fcommons\\u002ftranslations\",\"app\\u002fcommons\\u002ftranslations\\u002fpydantic\",\"app\\u002fconfigs\",\"app\\u002fdomains\",\"app\\u002fdtos\",\"app\\u002feventbus\",\"app\\u002feventbus\\u002fevents\",\"app\\u002fintegrations\",\"app\\u002fintegrations\\u002fbackends\",\"app\\u002fintegrations\\u002fbackends\\u002fapigee\",\"app\\u002fintegrations\\u002fbackends\\u002fblocklist\",\"app\\u002fintegrations\\u002fbackends\\u002fclient_v1_api\",\"app\\u002fintegrations\\u002fbackends\\u002fcommunication_hub_api\",\"app\\u002fintegrations\\u002fbackends\\u002fhelena_api\",\"app\\u002fintegrations\\u002fbackends\\u002fid_magalu\",\"app\\u002fintegrations\\u002fbackends\\u002fmaas_integra_api\",\"app\\u002fintegrations\\u002fbackends\\u002fmaas_products_api\",\"app\\u002fintegrations\\u002fbackends\\u002fmaestro\",\"app\\u002fintegrations\\u002fbackends\\u002fmagalu_tax\",\"app\\u002fintegrations\\u002fbackends\\u002fmp_security\",\"app\\u002fintegrations\\u002fbackends\\u002fmp_seller_api\",\"app\\u002fintegrations\\u002fbackends\\u002fopen_id\",\"app\\u002fintegrations\\u002fbackends\\u002fp52_api\",\"app\\u002fintegrations\\u002fbackends\\u002fps_account\",\"app\\u002fintegrations\\u002fbackends\\u002fps_contract_api\",\"app\\u002fintegrations\\u002fbackends\\u002fps_onboarding_analytics\",\"app\\u002fintegrations\\u002fbackends\\u002fps_order3p_api\",\"app\\u002fintegrations\\u002fbackends\\u002fsebastian_api\",\"app\\u002fintegrations\\u002fbackends\\u002fzendesk_api\",\"app\\u002fintegrations\\u002fdatalake\",\"app\\u002fintegrations\\u002fdatalake\\u002fbackends\",\"app\\u002fintegrations\\u002fdatalake\\u002fbackends\\u002ftetrix_kafka\",\"app\\u002fintegrations\\u002fdb\",\"app\\u002fintegrations\\u002fdb\\u002fmongo\",\"app\\u002fintegrations\\u002fpubsub\",\"app\\u002fintegrations\\u002fpubsub\\u002fgoogle_pubsub\",\"app\\u002fintegrations\\u002fpubsub\\u002fkafka\",\"app\\u002fintegrations\\u002frisk_analysis\",\"app\\u002fintegrations\\u002frisk_analysis\\u002ffake\",\"app\\u002fintegrations\\u002frisk_analysis\\u002fzaig\",\"app\\u002fintegrations\\u002fscheduler\",\"app\\u002fintegrations\\u002fscheduler\\u002fimpl\",\"app\\u002fintegrations\\u002fscheduler\\u002fimpl\\u002flite\",\"app\\u002fintegrations\\u002fscheduler\\u002fimpl\\u002flite\\u002fexecutors\",\"app\\u002fintegrations\\u002fscheduler\\u002fimpl\\u002flite\\u002fjobstores\",\"app\\u002fintegrations\\u002fseller_product_info\",\"app\\u002flazy\",\"app\\u002fpubsub\",\"app\\u002fpubsub\\u002fmessages\",\"app\\u002frepositories\",\"app\\u002fscript\",\"app\\u002fscript\\u002fimpl\",\"app\\u002fscript\\u002fimpl\\u002fpython\",\"app\\u002futils\",\"app\\u002futils\\u002flogging\",\"app\\u002fworkers\",\"app\\u002fworkers\\u002fdata_object_batch\",\"app\\u002fworkers\\u002fdata_object_batch\\u002fbatch_handlers\",\"app\\u002fworkers\\u002fdata_object_batch\\u002fhandlers\",\"app\\u002fworkers\\u002fdata_object_batch\\u002ftasks\",\"app\\u002fworkers\\u002ffreight\",\"app\\u002fworkers\\u002ffreight\\u002ftasks\",\"app\\u002fworkers\\u002flead\",\"app\\u002fworkers\\u002flead\\u002ftasks\",\"app\\u002fworkers\\u002fnetshoes\",\"app\\u002fworkers\\u002fnetshoes\\u002ftasks\",\"app\\u002fworkers\\u002fnetshoes\\u002ftasks\\u002fmodels\",\"app\\u002fworkers\\u002fproduct\",\"app\\u002fworkers\\u002fproduct\\u002ftasks\",\"app\\u002fworkers\\u002frisk_analysis\",\"app\\u002fworkers\\u002frisk_analysis\\u002ftasks\",\"app\\u002fworkers\\u002fsebastian_integration\",\"app\\u002fworkers\\u002fseller_account\",\"app\\u002fworkers\\u002fseller_account\\u002ftasks\",\"app\\u002fworkers\\u002fseller_contract\",\"app\\u002fworkers\\u002fseller_contract\\u002ftasks\",\"app\\u002fworkers\\u002fseller_orders\",\"app\\u002fworkers\\u002fseller_orders\\u002ftasks\",\"app\\u002fworkers\\u002ftags\",\"app\\u002fworkers\\u002ftags\\u002ftasks\",\"app\\u002fworkers\\u002fwebhook\",\"app\\u002fworkers\\u002fwebhook\\u002ftasks\",\"app\\u002fworkers\\u002fwebhook\\u002ftasks\\u002fwebhook_global\",\"app\\u002fworkers\\u002fwebhook\\u002ftasks\\u002fwebhook_global\\u002fsdk\",\"app\\u002fworkers\\u002fworkflow_retry\",\"app\\u002fworkers\\u002fworkflow_retry\\u002ftasks\",\"app\\u002fworkers\\u002fworkflow_wakeup\",\"app\\u002fworkers\\u002fworkflow_wakeup\\u002ftasks\",\"app\\u002fworkflow\",\"app\\u002fworkflow\\u002faddons\",\"app\\u002fworkflow\\u002fretry\",\"app\\u002fworkflow\\u002frunners\",\"devtools\",\"devtools\\u002faction_scripts\",\"devtools\\u002faction_scripts\\u002fgui\",\"devtools\\u002faction_scripts\\u002ftroubleshoot\",\"devtools\\u002faction_scripts\\u002funiverse_cards\",\"devtools\\u002faction_scripts\\u002funiverse_form\",\"devtools\\u002faction_scripts\\u002fupdate\",\"devtools\\u002faction_scripts\\u002fvoip_service\",\"devtools\\u002fargocd\",\"devtools\\u002fcicd\",\"devtools\\u002fmigration_scripts\",\"devtools\\u002fmongo\",\"devtools\\u002fpocs\",\"devtools\\u002fscripts\",\"docs\",\"docs\\u002fsvgs\",\"docs\\u002funiverse_form\",\"hopdb\",\"hopdb\\u002fcollection_storage\",\"hopdb\\u002fcorrelation_table\",\"hopdb\\u002fdocument_encoder\",\"hopdb\\u002findex\",\"hopdb\\u002fthirdparty\",\"lib\",\"lib\\u002fcdi\",\"lib\\u002fcommon\",\"lib\\u002fcommon\\u002fconstants\",\"lib\\u002fcommon\\u002fencoder\",\"lib\\u002fcommon\\u002ffastapi\",\"lib\\u002fcommon\\u002ffields\",\"lib\\u002fcommon\\u002ffile\",\"lib\\u002fcommon\\u002flock\",\"lib\\u002fcommon\\u002fmapping\",\"lib\\u002fcommon\\u002fobject_storage\",\"lib\\u002fcommon\\u002fredis_channel\",\"lib\\u002fdict\",\"lib\\u002fdict\\u002fanonymize\",\"lib\\u002fdict\\u002fdiff\",\"lib\\u002fdict\\u002fdotnotation\",\"lib\\u002fdict\\u002fpatch\",\"lib\\u002flogging\",\"migrations\",\"migrations\\u002futils\",\"migrations_util\",\"requirements\",\"tests\",\"tests\\u002fanalytics\",\"tests\\u002fanalytics\\u002fapis\",\"tests\\u002fanalytics\\u002fapis\\u002ffastapi\",\"tests\\u002fanalytics\\u002fapis\\u002ffastapi\\u002froutes\",\"tests\\u002fanalytics\\u002fbusiness\",\"tests\\u002fanalytics\\u002ffixtures\",\"tests\\u002fanalytics\\u002ffixtures\\u002fdataset\",\"tests\\u002fapp\",\"tests\\u002fapp\\u002factions\",\"tests\\u002fapp\\u002fapis\",\"tests\\u002fapp\\u002fapis\\u002ffastapi\",\"tests\\u002fapp\\u002fapis\\u002ffastapi\\u002froutes\",\"tests\\u002fapp\\u002fbusiness_rule\",\"tests\\u002fapp\\u002fbusiness_rule\\u002funiverse_form\",\"tests\\u002fapp\\u002fbusinesses\",\"tests\\u002fapp\\u002fbusinesses\\u002fhandlers\",\"tests\\u002fapp\\u002fbusinesses\\u002fobservers\",\"tests\\u002fapp\\u002fbusinesses\\u002fobservers\\u002fmagalu\",\"tests\\u002fapp\\u002fdomains\",\"tests\\u002fapp\\u002fintegrations\",\"tests\\u002fapp\\u002fintegrations\\u002fbackends\",\"tests\\u002fapp\\u002fintegrations\\u002fbackends\\u002fsebastian_api\",\"tests\\u002fapp\\u002fintegrations\\u002fdatalake\",\"tests\\u002fapp\\u002fintegrations\\u002fdatalake\\u002fbackends\",\"tests\\u002fapp\\u002fintegrations\\u002fdatalake\\u002fbackends\\u002ftetrix_kafka\",\"tests\\u002fapp\\u002fintegrations\\u002fdatalake\\u002fbackends\\u002ftetrix_kafka\\u002fhandlers\",\"tests\\u002fapp\\u002fintegrations\\u002fdb\",\"tests\\u002fapp\\u002fintegrations\\u002fdb\\u002fmongo\",\"tests\\u002fapp\\u002fintegrations\\u002fpubsub\",\"tests\\u002fapp\\u002fintegrations\\u002fpubsub\\u002fencoder\",\"tests\\u002fapp\\u002fintegrations\\u002fpubsub\\u002fkafka\",\"tests\\u002fapp\\u002fintegrations\\u002frisk_analysis\",\"tests\\u002fapp\\u002fintegrations\\u002fscheduler\",\"tests\\u002fapp\\u002fintegrations\\u002fscheduler\\u002fimpl\",\"tests\\u002fapp\\u002fintegrations\\u002fscheduler\\u002fimpl\\u002flite\",\"tests\\u002fapp\\u002fintegrations\\u002fscheduler\\u002fimpl\\u002flite\\u002fjobstores\",\"tests\\u002fapp\\u002fintegrations\\u002fseller_stock_info\",\"tests\\u002fapp\\u002frepositories\",\"tests\\u002fapp\\u002fscript\",\"tests\\u002fapp\\u002fscript\\u002fimpl\",\"tests\\u002fapp\\u002fscript\\u002fimpl\\u002fpython\",\"tests\\u002fapp\\u002futils\",\"tests\\u002fapp\\u002fworkers\",\"tests\\u002fapp\\u002fworkers\\u002fdata_object_batch\",\"tests\\u002fapp\\u002fworkers\\u002fdata_object_batch\\u002ftasks\",\"tests\\u002fapp\\u002fworkers\\u002ffreight\",\"tests\\u002fapp\\u002fworkers\\u002ffreight\\u002ftasks\",\"tests\\u002fapp\\u002fworkers\\u002flead\",\"tests\\u002fapp\\u002fworkers\\u002flead\\u002ftasks\",\"tests\\u002fapp\\u002fworkers\\u002fnetshoes\",\"tests\\u002fapp\\u002fworkers\\u002fnetshoes\\u002ftasks\",\"tests\\u002fapp\\u002fworkers\\u002fnetshoes\\u002ftasks\\u002fnetshoes_lead_mapper\",\"tests\\u002fapp\\u002fworkers\\u002fproduct\",\"tests\\u002fapp\\u002fworkers\\u002fproduct\\u002ftasks\",\"tests\\u002fapp\\u002fworkers\\u002frisk_analysis\",\"tests\\u002fapp\\u002fworkers\\u002fseller_account\",\"tests\\u002fapp\\u002fworkers\\u002fseller_account\\u002ftasks\",\"tests\\u002fapp\\u002fworkers\\u002fseller_contracts\",\"tests\\u002fapp\\u002fworkers\\u002fseller_contracts\\u002ftasks\",\"tests\\u002fapp\\u002fworkers\\u002fseller_orders\",\"tests\\u002fapp\\u002fworkers\\u002fseller_orders\\u002ftasks\",\"tests\\u002fapp\\u002fworkers\\u002fwebhook\",\"tests\\u002fapp\\u002fworkers\\u002fwebhook\\u002ftasks\",\"tests\\u002fapp\\u002fworkers\\u002fworkflow_retry\",\"tests\\u002fapp\\u002fworkers\\u002fworkflow_retry\\u002ftasks\",\"tests\\u002fapp\\u002fworkers\\u002fworkflow_wakeup\",\"tests\\u002fapp\\u002fworkers\\u002fworkflow_wakeup\\u002ftasks\",\"tests\\u002fapp\\u002fworkflow\",\"tests\\u002fapp\\u002fworkflow\\u002faddons\",\"tests\\u002fapp\\u002fworkflows\",\"tests\\u002fcommons\",\"tests\\u002fcommons\\u002fasync_worker\",\"tests\\u002fcommons\\u002fcache\",\"tests\\u002fcommons\\u002fcache\\u002fstorage\",\"tests\\u002fcommons\\u002flock\",\"tests\\u002ffixtures\",\"tests\\u002ffixtures\\u002fbackends\",\"tests\\u002ffixtures\\u002fdomains\",\"tests\\u002fhopdb\",\"tests\\u002fhopdb\\u002findex\",\"tests\\u002flib\",\"tests\\u002flib\\u002fcommon\",\"tests\\u002flib\\u002fcommon\\u002fencoder\",\"tests\\u002flib\\u002fcommon\\u002ffields\",\"tests\\u002flib\\u002fcommon\\u002fobject_storage\",\"tests\\u002flib\\u002fdict\",\"tests\\u002flib\\u002fdict\\u002fanonymize\",\"tests\\u002flib\\u002fdict\\u002fdiff\",\"tests\\u002futils\",\"tests\\u002futils\\u002fbuilders\",\"tests\\u002futils\\u002fbuilders\\u002fdomain\"],\"marker\":{\"coloraxis\":\"coloraxis\",\"colors\":[1.0,1.0,0.95,0.94,1.0,1.0,1.0,0.97,0.99,1.0,1.0,1.0,0.85,1.0,1.0,1.0,1.0,1.0,1.0,0.81,1.0,0.72,1.0,1.0,1.0,1.0,0.93,1.0,1.0,1.0,0.85,0.48,1.0,0.73,1.0,0.89,0.6,1.0,0.55,1.0,0.98,0.93,0.66,0.88,1.0,0.78,0.99,1.0,1.0,1.0,1.0,1.0,0.8,0.59,0.97,0.56,1.0,0.35,0.87,1.0,1.0,1.0,1.0,1.0,0.6,0.62,0.99,0.9,1.0,1.0,1.0,1.0,1.0,0.76,0.8,0.39,0.46,0.6,0.77,1.0,0.5,1.0,1.0,1.0,0.82,1.0,1.0,0.87,0.94,0.92,1.0,0.67,1.0,1.0,1.0,0.52,1.0,1.0,1.0,0.52,0.43,0.7,0.82,0.6,0.59,0.75,0.99,0.85,0.57,0.42,0.75,1.0,0.99,0.87,0.53,1.0,0.88,0.7,1.0,1.0,1.0,1.0,1.0,1.0,1.0,0.82,0.99,1.0,1.0,0.92,0.59,1.0,0.63,0.97,0.55,0.76,1.0,0.46,1.0,0.99,1.0,0.45,1.0,0.76,0.95,1.0,0.97,0.6,1.0,1.0,1.0,0.83,1.0,1.0,1.0,0.96,1.0,0.65,1.0,1.0,1.0,1.0,1.0,1.0,0.78,0.56,1.0,1.0,1.0,1.0,1.0,1.0,1.0,1.0,1.0,0.45,0.66,0.91,0.53,0.73,1.0,1.0,0.98,0.83,0.79,0.95,1.0,1.0,1.0,0.55,1.0,0.57,0.9,0.59,0.67,1.0,1.0,1.0,1.0,0.5,0.96,0.38,0.97,0.98,0.96,0.92,0.92,1.0,0.97,0.97,0.47,0.59,1.0,0.29,1.0,0.55,0.65,0.93,0.0,0.93,0.68,0.77,0.9,1.0,1.0,1.0,1.0,1.0,1.0,1.0,1.0,1.0,0.74,1.0,0.79,0.56,1.0,1.0,0.88,1.0,1.0,1.0,0.65,0.73,1.0,0.7,0.5,1.0,1.0,1.0,0.68,1.0,1.0,1.0,1.0,1.0,1.0,1.0,0.93,0.0,1.0,1.0,0.99,1.0,1.0,1.0,1.0,1.0,1.0,1.0,1.0,1.0,1.0,1.0,1.0,1.0,1.0,1.0,1.0,1.0,1.0,1.0,1.0,1.0,1.0,1.0,1.0,1.0,1.0,1.0,1.0,1.0,1.0,1.0,1.0,1.0,1.0,1.0,1.0,1.0,1.0,1.0,0.99,1.0,1.0,1.0,1.0,1.0,1.0,1.0,1.0,1.0,1.0,1.0,1.0,0.97,1.0,0.96,0.88,1.0,1.0,1.0,1.0,0.98,0.98,0.98,0.98,0.98,0.98,0.98,0.64,0.95,1.0,0.69,1.0,0.99,0.97,0.79,1.0,1.0,1.0,1.0,1.0,0.77,1.0,0.9,0.98,1.0,1.0,1.0,1.0,1.0,1.0,1.0,1.0,1.0,0.75,1.0,0.99,0.99,1.0,0.98,1.0,1.0,0.99,1.0,0.91,1.0,1.0,0.97,1.0,0.98,1.0,1.0,0.63,1.0,0.99,0.99,0.98,1.0,0.98,0.98,0.99,0.97,1.0,1.0,1.0,1.0,1.0,0.99,0.99,0.93,0.94,1.0,1.0,0.99,0.9,0.6,1.0,1.0,0.99,1.0,0.98,1.0,1.0,0.96,1.0,1.0,1.0,0.98,0.94,1.0,0.57,0.5,0.99,0.99,0.99,0.97,0.96,1.0,0.99,1.0,0.99,0.93,1.0,0.67,0.89,0.98,1.0,0.98,1.0,1.0,0.98,1.0,0.98,0.95,1.0,0.94,0.61,0.97,1.0,0.96,0.57,0.97,0.77,1.0,0.62,0.75,0.99,1.0,1.0,1.0,1.0,1.0,0.99,1.0,1.0,0.99,1.0,0.96,1.0,1.0,1.0,1.0,1.0,1.0,1.0,0.97,1.0,1.0,1.0,1.0,1.0,1.0,0.7,0.58,1.0,0.77,1.0,0.9,1.0,1.0,1.0,1.0,1.0,1.0,1.0,1.0,1.0,1.0,0.81,1.0,1.0,1.0,1.0,1.0,1.0,1.0,1.0,1.0,1.0,1.0,1.0,1.0,1.0,1.0,1.0,1.0,1.0,1.0,1.0,1.0,1.0,1.0,1.0,1.0,1.0,1.0,1.0,1.0,1.0,1.0,1.0,1.0,1.0,1.0,1.0,0.0,0.72,1.0,1.0,1.0,1.0,1.0,1.0,1.0,1.0,1.0,1.0,1.0,1.0,1.0,1.0,1.0,1.0,1.0,1.0,1.0,1.0,1.0,1.0,1.0,0.91,1.0,0.94,1.0,1.0,1.0,1.0,1.0,1.0,1.0,1.0,0.46,1.0,1.0,0.76,1.0,1.0,1.0,1.0,1.0,1.0,1.0,1.0,1.0,1.0,1.0,1.0,1.0,0.73,0.66,1.0,1.0,0.76,1.0,0.77,0.85,0.78,0.46,1.0,0.84,0.34,0.0,0.28,0.83,0.56,0.48,0.89,0.95,0.7,1.0,1.0,0.92,1.0,1.0,1.0,1.0,1.0,1.0,1.0,1.0,1.0,1.0,1.0,1.0,1.0,1.0,1.0,1.0,1.0,1.0,1.0,1.0,1.0,1.0,1.0,1.0,0.53,0.95,0.63,0.99,0.99,1.0,1.0,1.0,1.0,1.0,1.0,1.0,1.0,0.84,0.98,1.0,1.0,1.0,1.0,0.87,1.0,1.0,1.0,1.0,1.0,1.0,1.0,1.0,1.0,1.0,1.0,1.0,0.64,1.0,1.0,1.0,1.0,1.0,1.0,1.0,1.0,1.0,0.66,0.58,1.0,1.0,0.61,1.0,0.97,0.64,0.6,1.0,0.85,0.67,0.63,1.0,0.99,1.0,1.0,0.75,0.62,0.5,0.68,0.84,1.0,0.75,0.85,1.0,1.0,0.64,0.82,0.93,1.0,1.0,1.0,0.53,0.8,1.0,1.0,1.0,1.0,0.72,0.66,0.9,0.55,0.56,1.0,1.0,1.0,1.0,0.91,0.92,0.68,1.0,0.82,0.65,0.9,0.96,1.0,1.0,1.0,1.0,0.86,0.97,0.59,0.75,0.67,0.52,0.93,0.0,0.44,0.76,0.78,0.0,1.0,1.0,0.51,1.0,0.46,1.0,1.0,0.39,1.0,1.0,0.54,1.0,1.0,1.0,1.0,1.0,1.0,1.0,1.0,0.5,1.0,1.0,1.0,0.7,0.78,1.0,1.0,0.67,1.0,0.98,0.6,1.0,0.88,0.91,0.71,0.82,0.91,1.0,1.0,0.45,0.95,1.0,0.82,0.92,1.0,0.6,0.97,0.49,0.83,1.0,0.85,0.58,0.34,0.65,1.0,0.45,1.0,0.54,1.0,1.0,0.58,1.0,0.52,0.89,1.0,0.93,0.28,1.0,1.0,1.0,1.0,1.0,1.0,0.84,1.0,0.67,1.0,1.0,1.0,1.0,1.0,0.86,0.92,0.96,0.89,1.0,1.0,1.0,1.0,1.0,1.0,0.98,1.0,0.86,1.0,0.73,0.96,0.71,1.0,0.9,1.0,1.0,0.65,1.0,1.0,1.0,1.0,0.77,1.0,0.56,0.63,1.0,1.0,1.0,1.0,1.0,1.0,1.0,0.67,1.0,1.0,1.0,1.0,1.0,0.89,1.0,1.0,0.45,0.5,1.0,1.0,1.0,1.0,0.9,0.94,0.86,0.86,1.0,1.0,1.0,0.64,1.0,1.0,1.0,1.0,1.0,0.52,0.8,1.0,1.0,0.48,0.39,0.75,1.0,1.0,1.0,1.0,0.96,1.0,0.97,1.0,1.0,0.9,1.0,0.92,0.99,0.85,1.0,1.0,1.0,0.75,0.76,0.87,0.91,0.62,1.0,0.53,0.38,0.54,0.69,0.98,0.73,0.58,1.0,1.0,1.0,1.0,1.0,1.0,1.0,1.0,0.0,1.0,0.0,0.6,0.96,0.36,1.0,1.0,0.71,1.0,1.0,1.0,0.4,1.0,0.5,1.0,1.0,1.0,0.63,1.0,0.98,0.81,0.55,0.93,1.0,1.0,0.55,1.0,0.76,1.0,0.96,0.74,0.0,0.74,0.88,0.48,1.0,0.85,1.0,1.0,0.35,1.0,0.99,0.4,0.89,1.0,0.67,1.0,0.96,0.98,1.0,1.0,0.91,1.0,0.62,0.9,1.0,1.0,0.43,0.92,0.6,0.86,0.5,1.0,1.0,1.0,1.0,1.0,1.0,0.4,0.81,1.0,1.0,1.0,0.84,0.72,0.5,0.92,1.0,1.0,1.0,0.67,1.0,1.0,1.0,1.0,1.0,0.48,0.96,1.0,1.0,1.0,0.0,1.0,1.0,1.0,1.0,1.0,1.0,1.0,1.0,0.86,0.93,0.91,0.61,0.64,0.54,0.74,1.0,0.44,0.97,0.0,1.0,1.0,0.84,0.46,0.76,0.54,0.98,1.0,1.0,0.68,1.0,0.36,1.0,0.92,0.53,0.96,1.0,0.84,0.95,0.87,0.5,1.0,0.88,0.97,1.0,1.0,1.0,1.0,1.0,1.0,0.41,0.91,0.92,0.88,1.0,0.72,0.64,1.0,1.0,1.0,1.0,0.89,0.4,0.71,0.36,0.4,0.9,1.0,0.99,0.82,1.0,1.0,0.69,0.68,0.58,0.79,1.0,1.0,1.0,0.92,1.0,0.52,0.79,0.37,0.83,0.83,0.94,0.72,0.34,0.98,1.0,1.0,0.61,0.94,0.7,0.89,0.56,0.86,0.73,0.83,1.0,0.82,1.0,0.98,1.0,0.83,0.74,1.0,1.0,1.0,0.52,1.0,1.0,1.0,1.0,1.0,1.0,1.0,1.0,1.0,1.0,1.0,1.0,1.0,1.0,1.0,1.0,1.0,1.0,1.0,1.0,1.0,1.0,1.0,1.0,1.0,1.0,1.0,1.0,1.0,1.0,1.0,1.0,1.0,1.0,1.0,1.0,1.0,1.0,0.0,0.73,0.48,1.0,1.0,0.99,0.93,1.0,1.0,1.0,1.0,1.0,1.0,0.57,0.88,1.0,1.0,1.0,0.94,1.0,1.0,null,null,null,null,null,null,null,null,null,null,null,null,null,null,null,null,null,null,null,null,null,null,null,null,null,null,null,null,null,null,null,null,null,null,null,null,null,null,null,null,null,null,null,null,null,null,null,null,null,null,null,null,null,null,null,null,null,null,null,null,null,null,null,null,null,null,null,null,null,null,null,null,null,null,null,null,null,null,null,null,null,null,null,null,null,null,null,null,null,null,null,null,null,null,null,null,null,null,null,null,null,null,null,null,null,null,null,null,null,null,null,null,null,null,null,null,null,null,null,null,null,null,null,null,null,null,null,null,null,null,null,null,null,null,null,null,null,null,null,null,null,null,null,null,null,null,null,null,null,null,null,null,null,null,null,null,null,null,null,null,null,null,null,null,null,null,null,null,null,null,null,null,null,null,null,null,null,null,null,null,null,null,null,null,null,null,null,null,null,null,null,null,null,null,null,null,null,null,null,null,null,null,null,null,null,null,null,null,null,null,null,null,null,null,null,null,null,null,null,null,null,null,null,null,null,null,null,null,null,null,null,null,null,null,null,null,null,null,null,null,null,null,null,null,null,null,null,null,null,null,null,null,null,null,null,null,null,null,null,null,null,null,null,null,null,null,null,null,null,null,null,null,null,null,null,null,null,null,null,null,null,null,null,null,null,null,null,null,null,null,null,null,null,null,null,null,null,null,null,null,null,null,null,null,null,null,null,null,null,null,null,null,null,null,null,null,null,null,null,null,null,null,null,null,null,null,null,null,null,null,null,null,null,null,null]},\"name\":\"\",\"parents\":[null,null,\".devcontainer\",\".devcontainer\",\".devcontainer\",\".devcontainer\",null,null,null,\".gitlab\\u002fmerge_request_templates\",\".gitlab\\u002fmerge_request_templates\",\".gitlab\\u002fmerge_request_templates\",\".gitlab\\u002fmerge_request_templates\",\".gitlab\\u002fmerge_request_templates\",null,null,null,null,null,null,null,\"analytics\",\"analytics\\u002fapis\\u002ffastapi\",\"analytics\\u002fapis\\u002ffastapi\\u002froutes\",\"analytics\\u002fapis\\u002ffastapi\\u002froutes\",\"analytics\\u002fapis\\u002ffastapi\\u002froutes\",\"analytics\",\"analytics\\u002fbusiness\",\"analytics\\u002fbusiness\",\"analytics\\u002fbusiness\",\"analytics\\u002fbusiness\",\"analytics\",\"analytics\\u002fconfig\",\"analytics\\u002fconfig\",\"analytics\\u002fdto\",\"analytics\\u002fdto\",\"analytics\\u002fintegrations\",\"analytics\\u002fintegrations\",\"analytics\\u002fintegrations\",\"analytics\\u002frepository\",\"analytics\\u002frepository\",\"analytics\\u002frepository\",\"analytics\\u002fstandalone\",\"analytics\\u002fstandalone\\u002fpages\",\"analytics\\u002fstandalone\\u002fpages\",\"analytics\\u002fstandalone\\u002fpages\",\"analytics\\u002fstandalone\",\"analytics\\u002futils\",\"analytics\\u002futils\",\"analytics\\u002futils\",\"analytics\\u002futils\",\"analytics\\u002fworkers\",\"analytics\\u002fworkers\\u002flead_incremental_indexer\",\"analytics\\u002fworkers\\u002flead_incremental_indexer\",\"analytics\\u002fworkers\\u002flead_incremental_indexer\",\"analytics\\u002fworkers\\u002flead_incremental_indexer\",\"analytics\\u002fworkers\\u002flead_incremental_indexer\",\"analytics\\u002fworkers\\u002flead_incremental_indexer\",null,null,null,\"app\",\"app\\u002fapis\\u002fcommon\",\"app\\u002fapis\\u002ffastapi\",\"app\\u002fapis\\u002ffastapi\",\"app\\u002fapis\\u002ffastapi\\u002fconfigs\",\"app\\u002fapis\\u002ffastapi\\u002fconfigs\",\"app\\u002fapis\\u002ffastapi\\u002fconfigs\",\"app\\u002fapis\\u002ffastapi\\u002fconfigs\",\"app\\u002fapis\\u002ffastapi\",\"app\\u002fapis\\u002ffastapi\\u002froutes\",\"app\\u002fapis\\u002ffastapi\\u002froutes\",\"app\\u002fapis\\u002ffastapi\\u002froutes\",\"app\\u002fapis\\u002ffastapi\\u002froutes\",\"app\\u002fapis\\u002ffastapi\\u002froutes\",\"app\\u002fapis\\u002ffastapi\\u002froutes\",\"app\\u002fapis\\u002ffastapi\\u002froutes\",\"app\\u002fapis\\u002ffastapi\\u002froutes\",\"app\\u002fapis\\u002ffastapi\\u002froutes\",\"app\\u002fapis\\u002ffastapi\\u002froutes\",\"app\\u002fapis\\u002ffastapi\\u002froutes\",\"app\\u002fapis\\u002ffastapi\\u002froutes\",\"app\\u002fapis\\u002ffastapi\\u002froutes\",\"app\\u002fapis\\u002ffastapi\\u002froutes\",\"app\\u002fapis\\u002ffastapi\\u002froutes\",\"app\\u002fapis\\u002ffastapi\\u002froutes\",\"app\\u002fapis\\u002ffastapi\\u002froutes\",\"app\\u002fapis\\u002ffastapi\\u002froutes\",\"app\\u002fapis\\u002ffastapi\\u002froutes\",\"app\\u002fapis\\u002ffastapi\\u002froutes\",\"app\\u002fapis\\u002ffastapi\\u002froutes\",\"app\\u002fapis\\u002ffastapi\\u002froutes\",\"app\\u002fbusinesses\",\"app\\u002fbusinesses\",\"app\\u002fbusinesses\",\"app\\u002fbusinesses\",\"app\\u002fbusinesses\",\"app\\u002fbusinesses\",\"app\\u002fbusinesses\",\"app\\u002fbusinesses\",\"app\\u002fbusinesses\",\"app\\u002fbusinesses\",\"app\\u002fbusinesses\",\"app\\u002fbusinesses\",\"app\\u002fbusinesses\",\"app\\u002fbusinesses\\u002fcore\\u002fdata_object\",\"app\\u002fbusinesses\",\"app\\u002fbusinesses\",\"app\\u002fbusinesses\\u002fexceptions\",\"app\\u002fbusinesses\\u002fexceptions\",\"app\\u002fbusinesses\\u002fexceptions\",\"app\\u002fbusinesses\\u002fexceptions\",\"app\\u002fbusinesses\\u002fexceptions\",\"app\\u002fbusinesses\\u002fexceptions\",\"app\\u002fbusinesses\\u002fexceptions\",\"app\\u002fbusinesses\\u002fexceptions\",\"app\\u002fbusinesses\\u002fexceptions\",\"app\\u002fbusinesses\\u002fexceptions\",\"app\\u002fbusinesses\\u002fexceptions\",\"app\\u002fbusinesses\\u002fexceptions\",\"app\\u002fbusinesses\\u002fexceptions\",\"app\\u002fbusinesses\\u002fexceptions\",\"app\\u002fbusinesses\\u002fexceptions\",\"app\\u002fbusinesses\\u002fexceptions\",\"app\\u002fbusinesses\",\"app\\u002fbusinesses\\u002fhandlers\",\"app\\u002fbusinesses\\u002fhandlers\",\"app\\u002fbusinesses\\u002fhandlers\",\"app\\u002fbusinesses\",\"app\\u002fbusinesses\",\"app\\u002fbusinesses\",\"app\\u002fbusinesses\",\"app\\u002fbusinesses\",\"app\\u002fbusinesses\",\"app\\u002fbusinesses\",\"app\\u002fbusinesses\",\"app\\u002fbusinesses\",\"app\\u002fbusinesses\",\"app\\u002fbusinesses\",\"app\\u002fbusinesses\\u002fobservers\",\"app\\u002fbusinesses\\u002fobservers\",\"app\\u002fbusinesses\\u002fobservers\",\"app\\u002fbusinesses\\u002fobservers\",\"app\\u002fbusinesses\\u002fobservers\\u002fmagalu\",\"app\\u002fbusinesses\\u002fobservers\\u002fmagalu\\u002fdtos\",\"app\\u002fbusinesses\\u002fobservers\\u002fmagalu\",\"app\\u002fbusinesses\\u002fobservers\\u002fmagalu\",\"app\\u002fbusinesses\\u002fobservers\\u002fmagalu\\u002ftest_purchase\",\"app\\u002fbusinesses\\u002fobservers\",\"app\\u002fbusinesses\\u002fobservers\",\"app\\u002fbusinesses\\u002fobservers\",\"app\\u002fbusinesses\",\"app\\u002fbusinesses\",\"app\\u002fbusinesses\",\"app\\u002fbusinesses\\u002fsecuritys\",\"app\\u002fbusinesses\\u002fsecuritys\",\"app\\u002fbusinesses\",\"app\\u002fbusinesses\",\"app\\u002fbusinesses\",\"app\\u002fbusinesses\",\"app\\u002fbusinesses\",\"app\\u002fbusinesses\",\"app\",\"app\\u002fcommons\",\"app\\u002fcommons\\u002fasync_worker\",\"app\\u002fcommons\\u002fasync_worker\",\"app\\u002fcommons\\u002fasync_worker\\u002fpool\",\"app\\u002fcommons\\u002fasync_worker\\u002fpool\",\"app\\u002fcommons\\u002fasync_worker\\u002fpool\",\"app\\u002fcommons\\u002fasync_worker\\u002ftasks\",\"app\\u002fcommons\\u002fasync_worker\\u002ftasks\",\"app\\u002fcommons\\u002fasync_worker\",\"app\\u002fcommons\\u002fcache\",\"app\\u002fcommons\\u002fcache\\u002fimpl\",\"app\\u002fcommons\\u002fcache\\u002fimpl\\u002fserializer\",\"app\\u002fcommons\\u002fcache\\u002fimpl\\u002fserializer\",\"app\\u002fcommons\\u002fcache\\u002fimpl\\u002fstorage\\u002finternal\",\"app\\u002fcommons\\u002fcache\\u002fimpl\\u002fstorage\\u002finternal\",\"app\\u002fcommons\\u002fcache\\u002fimpl\\u002fstorage\\u002fremote\",\"app\\u002fcommons\\u002fcache\\u002fimpl\\u002fstorage\\u002fremote\",\"app\\u002fcommons\\u002fcache\\u002fsdk\",\"app\\u002fcommons\\u002fcache\\u002fsdk\",\"app\\u002fcommons\\u002fcache\\u002fsdk\",\"app\\u002fcommons\\u002fcache\\u002fsdk\",\"app\\u002fcommons\",\"app\\u002fcommons\",\"app\\u002fcommons\",\"app\\u002fcommons\\u002feventbus\",\"app\\u002fcommons\\u002feventbus\",\"app\\u002fcommons\\u002feventbus\",\"app\\u002fcommons\\u002feventbus\",\"app\\u002fcommons\",\"app\\u002fcommons\",\"app\\u002fcommons\\u002fhttp\",\"app\\u002fcommons\\u002fhttp\",\"app\\u002fcommons\\u002fhttp\",\"app\\u002fcommons\\u002flock\",\"app\\u002fcommons\\u002flock\",\"app\\u002fcommons\\u002flock\",\"app\\u002fcommons\\u002flock\",\"app\\u002fcommons\\u002fmapping\",\"app\\u002fcommons\",\"app\\u002fcommons\",\"app\\u002fcommons\",\"app\\u002fcommons\\u002fpubsub\",\"app\\u002fcommons\\u002fpubsub\",\"app\\u002fcommons\",\"app\\u002fcommons\",\"app\\u002fcommons\\u002ftranslations\\u002fpydantic\",\"app\\u002fcommons\\u002ftranslations\\u002fpydantic\",\"app\\u002fconfigs\",\"app\\u002fconfigs\",\"app\\u002fconfigs\",\"app\\u002fconfigs\",\"app\\u002fdomains\",\"app\\u002fdomains\",\"app\\u002fdomains\",\"app\\u002fdomains\",\"app\\u002fdomains\",\"app\\u002fdomains\",\"app\\u002fdomains\",\"app\\u002fdomains\",\"app\\u002fdomains\",\"app\\u002fdomains\",\"app\\u002fdomains\",\"app\\u002fdomains\",\"app\\u002fdomains\",\"app\\u002fdomains\",\"app\\u002fdomains\",\"app\\u002fdomains\",\"app\\u002fdomains\",\"app\\u002fdomains\",\"app\\u002fdomains\",\"app\\u002fdomains\",\"app\\u002fdomains\",\"app\\u002fdomains\",\"app\\u002fdomains\",\"app\\u002fdomains\",\"app\\u002fdomains\",\"app\\u002fdomains\",\"app\\u002fdtos\",\"app\\u002fdtos\",\"app\\u002fdtos\",\"app\\u002fdtos\",\"app\\u002fdtos\",\"app\\u002fdtos\",\"app\\u002fdtos\",\"app\\u002fdtos\",\"app\\u002fdtos\",\"app\\u002fdtos\",\"app\\u002fdtos\",\"app\\u002fdtos\",\"app\\u002fdtos\",\"app\\u002fdtos\",\"app\\u002fdtos\",\"app\\u002fdtos\",\"app\\u002fdtos\",\"app\\u002fdtos\",\"app\\u002fdtos\",\"app\\u002fdtos\",\"app\\u002fdtos\",\"app\\u002fdtos\",\"app\\u002fdtos\",\"app\\u002fdtos\",\"app\\u002fdtos\",\"app\\u002fdtos\",\"app\\u002fdtos\",\"app\\u002fdtos\",\"app\\u002fdtos\",\"app\\u002fdtos\",\"app\\u002feventbus\",\"app\\u002feventbus\",\"app\\u002feventbus\\u002fevents\",\"app\\u002feventbus\\u002fevents\",\"app\\u002feventbus\\u002fevents\",\"app\\u002feventbus\\u002fevents\",\"app\\u002feventbus\\u002fevents\",\"app\\u002feventbus\\u002fevents\",\"app\\u002feventbus\\u002fevents\",\"app\\u002feventbus\\u002fevents\",\"app\\u002feventbus\\u002fevents\",\"app\\u002fintegrations\",\"app\\u002fintegrations\\u002fbackends\",\"app\\u002fintegrations\\u002fbackends\\u002fapigee\",\"app\\u002fintegrations\\u002fbackends\\u002fblocklist\",\"app\\u002fintegrations\\u002fbackends\\u002fblocklist\",\"app\\u002fintegrations\\u002fbackends\\u002fblocklist\",\"app\\u002fintegrations\\u002fbackends\",\"app\\u002fintegrations\\u002fbackends\\u002fclient_v1_api\",\"app\\u002fintegrations\\u002fbackends\\u002fclient_v1_api\",\"app\\u002fintegrations\\u002fbackends\\u002fcommunication_hub_api\",\"app\\u002fintegrations\\u002fbackends\\u002fcommunication_hub_api\",\"app\\u002fintegrations\\u002fbackends\\u002fhelena_api\",\"app\\u002fintegrations\\u002fbackends\\u002fhelena_api\",\"app\\u002fintegrations\\u002fbackends\\u002fid_magalu\",\"app\\u002fintegrations\\u002fbackends\\u002fid_magalu\",\"app\\u002fintegrations\\u002fbackends\\u002fmaas_integra_api\",\"app\\u002fintegrations\\u002fbackends\\u002fmaas_integra_api\",\"app\\u002fintegrations\\u002fbackends\\u002fmaas_integra_api\",\"app\\u002fintegrations\\u002fbackends\\u002fmaas_products_api\",\"app\\u002fintegrations\\u002fbackends\\u002fmaas_products_api\",\"app\\u002fintegrations\\u002fbackends\\u002fmaas_products_api\",\"app\\u002fintegrations\\u002fbackends\\u002fmaestro\",\"app\\u002fintegrations\\u002fbackends\\u002fmaestro\",\"app\\u002fintegrations\\u002fbackends\\u002fmagalu_tax\",\"app\\u002fintegrations\\u002fbackends\\u002fmagalu_tax\",\"app\\u002fintegrations\\u002fbackends\\u002fmagalu_tax\",\"app\\u002fintegrations\\u002fbackends\\u002fmp_security\",\"app\\u002fintegrations\\u002fbackends\\u002fmp_security\",\"app\\u002fintegrations\\u002fbackends\\u002fmp_seller_api\",\"app\\u002fintegrations\\u002fbackends\\u002fmp_seller_api\",\"app\\u002fintegrations\\u002fbackends\\u002fmp_seller_api\",\"app\\u002fintegrations\\u002fbackends\\u002fopen_id\",\"app\\u002fintegrations\\u002fbackends\\u002fp52_api\",\"app\\u002fintegrations\\u002fbackends\\u002fp52_api\",\"app\\u002fintegrations\\u002fbackends\\u002fps_account\",\"app\\u002fintegrations\\u002fbackends\\u002fps_account\",\"app\\u002fintegrations\\u002fbackends\\u002fps_account\",\"app\\u002fintegrations\\u002fbackends\\u002fps_contract_api\",\"app\\u002fintegrations\\u002fbackends\\u002fps_contract_api\",\"app\\u002fintegrations\\u002fbackends\\u002fps_onboarding_analytics\",\"app\\u002fintegrations\\u002fbackends\\u002fps_onboarding_analytics\",\"app\\u002fintegrations\\u002fbackends\\u002fps_order3p_api\",\"app\\u002fintegrations\\u002fbackends\\u002fps_order3p_api\",\"app\\u002fintegrations\\u002fbackends\\u002fps_order3p_api\",\"app\\u002fintegrations\\u002fbackends\\u002fsebastian_api\",\"app\\u002fintegrations\\u002fbackends\\u002fsebastian_api\",\"app\\u002fintegrations\\u002fbackends\\u002fsebastian_api\",\"app\\u002fintegrations\\u002fbackends\\u002fsebastian_api\",\"app\\u002fintegrations\\u002fbackends\\u002fsebastian_api\",\"app\\u002fintegrations\\u002fbackends\\u002fzendesk_api\",\"app\\u002fintegrations\\u002fbackends\\u002fzendesk_api\",\"app\\u002fintegrations\\u002fbackends\\u002fzendesk_api\",\"app\\u002fintegrations\",\"app\\u002fintegrations\\u002fdatalake\",\"app\\u002fintegrations\\u002fdatalake\\u002fbackends\",\"app\\u002fintegrations\\u002fdatalake\\u002fbackends\",\"app\\u002fintegrations\\u002fdatalake\\u002fbackends\\u002ftetrix_kafka\",\"app\\u002fintegrations\\u002fdatalake\\u002fbackends\\u002ftetrix_kafka\",\"app\\u002fintegrations\\u002fdatalake\\u002fbackends\\u002ftetrix_kafka\",\"app\\u002fintegrations\\u002fdatalake\",\"app\\u002fintegrations\\u002fdatalake\",\"app\\u002fintegrations\\u002fdatalake\",\"app\\u002fintegrations\\u002fdb\",\"app\\u002fintegrations\\u002fdb\\u002fmongo\",\"app\\u002fintegrations\\u002fdb\\u002fmongo\",\"app\\u002fintegrations\\u002fdb\\u002fmongo\",\"app\\u002fintegrations\\u002fdb\\u002fmongo\",\"app\\u002fintegrations\\u002fdb\\u002fmongo\",\"app\\u002fintegrations\\u002fdb\\u002fmongo\",\"app\\u002fintegrations\\u002fpubsub\",\"app\\u002fintegrations\\u002fpubsub\",\"app\\u002fintegrations\\u002fpubsub\",\"app\\u002fintegrations\\u002fpubsub\",\"app\\u002fintegrations\\u002fpubsub\",\"app\\u002fintegrations\\u002fpubsub\\u002fgoogle_pubsub\",\"app\\u002fintegrations\\u002fpubsub\\u002fgoogle_pubsub\",\"app\\u002fintegrations\\u002fpubsub\\u002fgoogle_pubsub\",\"app\\u002fintegrations\\u002fpubsub\\u002fkafka\",\"app\\u002fintegrations\\u002fpubsub\\u002fkafka\",\"app\\u002fintegrations\\u002fpubsub\\u002fkafka\",\"app\\u002fintegrations\\u002fpubsub\\u002fkafka\",\"app\\u002fintegrations\\u002fpubsub\\u002fkafka\",\"app\\u002fintegrations\\u002fpubsub\",\"app\\u002fintegrations\\u002fpubsub\",\"app\\u002fintegrations\\u002fpubsub\",\"app\\u002fintegrations\\u002frisk_analysis\",\"app\\u002fintegrations\\u002frisk_analysis\",\"app\\u002fintegrations\\u002frisk_analysis\",\"app\\u002fintegrations\\u002frisk_analysis\\u002ffake\",\"app\\u002fintegrations\\u002frisk_analysis\",\"app\\u002fintegrations\\u002frisk_analysis\\u002fzaig\",\"app\\u002fintegrations\\u002fscheduler\",\"app\\u002fintegrations\\u002fscheduler\",\"app\\u002fintegrations\\u002fscheduler\",\"app\\u002fintegrations\\u002fscheduler\\u002fimpl\",\"app\\u002fintegrations\\u002fscheduler\\u002fimpl\\u002flite\",\"app\\u002fintegrations\\u002fscheduler\\u002fimpl\\u002flite\\u002fexecutors\",\"app\\u002fintegrations\\u002fscheduler\\u002fimpl\\u002flite\\u002fexecutors\",\"app\\u002fintegrations\\u002fscheduler\\u002fimpl\\u002flite\\u002fexecutors\",\"app\\u002fintegrations\\u002fscheduler\\u002fimpl\\u002flite\",\"app\\u002fintegrations\\u002fscheduler\\u002fimpl\\u002flite\\u002fjobstores\",\"app\\u002fintegrations\\u002fscheduler\\u002fimpl\\u002flite\\u002fjobstores\",\"app\\u002fintegrations\\u002fscheduler\\u002fimpl\\u002flite\\u002fjobstores\",\"app\\u002fintegrations\\u002fscheduler\\u002fimpl\\u002flite\",\"app\\u002fintegrations\\u002fscheduler\\u002fimpl\",\"app\\u002fintegrations\\u002fseller_product_info\",\"app\\u002fintegrations\\u002fseller_product_info\",\"app\\u002fintegrations\\u002fseller_product_info\",\"app\\u002fintegrations\\u002fseller_product_info\",\"app\\u002flazy\",\"app\\u002fpubsub\\u002fmessages\",\"app\\u002fpubsub\\u002fmessages\",\"app\\u002fpubsub\\u002fmessages\",\"app\\u002fpubsub\\u002fmessages\",\"app\\u002fpubsub\\u002fmessages\",\"app\\u002fpubsub\\u002fmessages\",\"app\\u002fpubsub\\u002fmessages\",\"app\\u002fpubsub\\u002fmessages\",\"app\\u002fpubsub\\u002fmessages\",\"app\\u002frepositories\",\"app\\u002frepositories\",\"app\\u002frepositories\",\"app\\u002frepositories\",\"app\\u002frepositories\",\"app\\u002frepositories\",\"app\\u002frepositories\",\"app\\u002frepositories\",\"app\\u002frepositories\",\"app\\u002frepositories\",\"app\\u002frepositories\",\"app\\u002frepositories\",\"app\\u002frepositories\",\"app\\u002frepositories\",\"app\\u002frepositories\",\"app\\u002frepositories\",\"app\\u002frepositories\",\"app\\u002frepositories\",\"app\\u002frepositories\",\"app\\u002frepositories\",\"app\\u002frepositories\",\"app\\u002frepositories\",\"app\\u002fscript\",\"app\\u002fscript\",\"app\\u002fscript\",\"app\\u002fscript\",\"app\\u002fscript\\u002fimpl\",\"app\\u002fscript\\u002fimpl\\u002fpython\",\"app\\u002fscript\\u002fimpl\\u002fpython\",\"app\\u002fscript\\u002fimpl\\u002fpython\",\"app\\u002fscript\\u002fimpl\\u002fpython\",\"app\\u002fscript\\u002fimpl\\u002fpython\",\"app\\u002futils\",\"app\\u002futils\",\"app\\u002futils\",\"app\\u002futils\",\"app\\u002futils\",\"app\\u002futils\",\"app\\u002futils\",\"app\\u002futils\",\"app\\u002futils\",\"app\\u002futils\",\"app\\u002futils\",\"app\\u002futils\",\"app\\u002futils\",\"app\\u002futils\",\"app\\u002futils\",\"app\\u002futils\\u002flogging\",\"app\\u002futils\\u002flogging\",\"app\\u002futils\\u002flogging\",\"app\\u002futils\",\"app\\u002futils\",\"app\\u002futils\",\"app\\u002futils\",\"app\\u002futils\",\"app\\u002futils\",\"app\\u002futils\",\"app\\u002futils\",\"app\\u002futils\",\"app\\u002futils\",\"app\\u002futils\",\"app\\u002futils\",\"app\\u002fworkers\",\"app\\u002fworkers\",\"app\\u002fworkers\",\"app\\u002fworkers\",\"app\\u002fworkers\\u002fdata_object_batch\",\"app\\u002fworkers\\u002fdata_object_batch\\u002fbatch_handlers\",\"app\\u002fworkers\\u002fdata_object_batch\\u002fbatch_handlers\",\"app\\u002fworkers\\u002fdata_object_batch\\u002fbatch_handlers\",\"app\\u002fworkers\\u002fdata_object_batch\",\"app\\u002fworkers\\u002fdata_object_batch\\u002fhandlers\",\"app\\u002fworkers\\u002fdata_object_batch\\u002fhandlers\",\"app\\u002fworkers\\u002fdata_object_batch\\u002fhandlers\",\"app\\u002fworkers\\u002fdata_object_batch\",\"app\\u002fworkers\\u002fdata_object_batch\\u002ftasks\",\"app\\u002fworkers\\u002fdata_object_batch\\u002ftasks\",\"app\\u002fworkers\\u002fdata_object_batch\\u002ftasks\",\"app\\u002fworkers\\u002fdata_object_batch\\u002ftasks\",\"app\\u002fworkers\\u002ffreight\",\"app\\u002fworkers\\u002ffreight\",\"app\\u002fworkers\\u002ffreight\",\"app\\u002fworkers\\u002ffreight\\u002ftasks\",\"app\\u002fworkers\\u002ffreight\\u002ftasks\",\"app\\u002fworkers\\u002ffreight\\u002ftasks\",\"app\\u002fworkers\\u002flead\",\"app\\u002fworkers\\u002flead\",\"app\\u002fworkers\\u002flead\\u002ftasks\",\"app\\u002fworkers\\u002flead\\u002ftasks\",\"app\\u002fworkers\\u002flead\\u002ftasks\",\"app\\u002fworkers\\u002fnetshoes\",\"app\\u002fworkers\\u002fnetshoes\",\"app\\u002fworkers\\u002fnetshoes\\u002ftasks\",\"app\\u002fworkers\\u002fnetshoes\\u002ftasks\\u002fmodels\",\"app\\u002fworkers\\u002fnetshoes\\u002ftasks\\u002fmodels\",\"app\\u002fworkers\\u002fnetshoes\\u002ftasks\\u002fmodels\",\"app\\u002fworkers\\u002fnetshoes\\u002ftasks\\u002fmodels\",\"app\\u002fworkers\\u002fnetshoes\\u002ftasks\\u002fmodels\",\"app\\u002fworkers\\u002fnetshoes\\u002ftasks\",\"app\\u002fworkers\\u002fnetshoes\\u002ftasks\",\"app\\u002fworkers\\u002fproduct\",\"app\\u002fworkers\\u002fproduct\",\"app\\u002fworkers\\u002fproduct\",\"app\\u002fworkers\\u002fproduct\\u002ftasks\",\"app\\u002fworkers\\u002fproduct\\u002ftasks\",\"app\\u002fworkers\\u002fproduct\\u002ftasks\",\"app\\u002fworkers\\u002frisk_analysis\",\"app\\u002fworkers\\u002frisk_analysis\",\"app\\u002fworkers\\u002frisk_analysis\\u002ftasks\",\"app\\u002fworkers\\u002fsebastian_integration\",\"app\\u002fworkers\\u002fseller_account\",\"app\\u002fworkers\\u002fseller_account\",\"app\\u002fworkers\\u002fseller_account\",\"app\\u002fworkers\\u002fseller_account\\u002ftasks\",\"app\\u002fworkers\\u002fseller_account\\u002ftasks\",\"app\\u002fworkers\\u002fseller_account\\u002ftasks\",\"app\\u002fworkers\\u002fseller_contract\",\"app\\u002fworkers\\u002fseller_contract\",\"app\\u002fworkers\\u002fseller_contract\",\"app\\u002fworkers\\u002fseller_contract\\u002ftasks\",\"app\\u002fworkers\\u002fseller_contract\\u002ftasks\",\"app\\u002fworkers\\u002fseller_contract\\u002ftasks\",\"app\\u002fworkers\\u002fseller_contract\\u002ftasks\",\"app\\u002fworkers\\u002fseller_orders\",\"app\\u002fworkers\\u002fseller_orders\",\"app\\u002fworkers\\u002fseller_orders\",\"app\\u002fworkers\\u002fseller_orders\",\"app\\u002fworkers\\u002fseller_orders\\u002ftasks\",\"app\\u002fworkers\\u002fseller_orders\\u002ftasks\",\"app\\u002fworkers\\u002fseller_orders\\u002ftasks\",\"app\\u002fworkers\\u002fseller_orders\\u002ftasks\",\"app\\u002fworkers\\u002fseller_orders\\u002ftasks\",\"app\\u002fworkers\\u002ftags\",\"app\\u002fworkers\\u002ftags\\u002ftasks\",\"app\\u002fworkers\\u002ftags\\u002ftasks\",\"app\\u002fworkers\",\"app\\u002fworkers\\u002fwebhook\",\"app\\u002fworkers\\u002fwebhook\",\"app\\u002fworkers\\u002fwebhook\",\"app\\u002fworkers\\u002fwebhook\\u002ftasks\",\"app\\u002fworkers\\u002fwebhook\\u002ftasks\\u002fwebhook_global\",\"app\\u002fworkers\\u002fwebhook\\u002ftasks\\u002fwebhook_global\",\"app\\u002fworkers\\u002fwebhook\\u002ftasks\\u002fwebhook_global\",\"app\\u002fworkers\\u002fwebhook\\u002ftasks\\u002fwebhook_global\",\"app\\u002fworkers\\u002fwebhook\\u002ftasks\\u002fwebhook_global\\u002fsdk\",\"app\\u002fworkers\\u002fwebhook\\u002ftasks\\u002fwebhook_global\\u002fsdk\",\"app\\u002fworkers\\u002fwebhook\\u002ftasks\\u002fwebhook_global\\u002fsdk\",\"app\\u002fworkers\\u002fwebhook\\u002ftasks\\u002fwebhook_global\\u002fsdk\",\"app\\u002fworkers\\u002fwebhook\\u002ftasks\",\"app\\u002fworkers\\u002fworkflow_retry\",\"app\\u002fworkers\\u002fworkflow_retry\",\"app\\u002fworkers\\u002fworkflow_retry\\u002ftasks\",\"app\\u002fworkers\\u002fworkflow_wakeup\",\"app\\u002fworkers\\u002fworkflow_wakeup\",\"app\\u002fworkers\\u002fworkflow_wakeup\\u002ftasks\",\"app\\u002fworkflow\",\"app\\u002fworkflow\",\"app\\u002fworkflow\\u002faddons\",\"app\\u002fworkflow\\u002faddons\",\"app\\u002fworkflow\\u002faddons\",\"app\\u002fworkflow\\u002faddons\",\"app\\u002fworkflow\\u002faddons\",\"app\\u002fworkflow\\u002faddons\",\"app\\u002fworkflow\\u002faddons\",\"app\\u002fworkflow\",\"app\\u002fworkflow\",\"app\\u002fworkflow\",\"app\\u002fworkflow\",\"app\\u002fworkflow\",\"app\\u002fworkflow\",\"app\\u002fworkflow\",\"app\\u002fworkflow\",\"app\\u002fworkflow\\u002fretry\",\"app\\u002fworkflow\\u002fretry\",\"app\\u002fworkflow\\u002fretry\",\"app\\u002fworkflow\\u002fretry\",\"app\\u002fworkflow\\u002frunners\",\"app\\u002fworkflow\\u002frunners\",\"app\\u002fworkflow\",null,null,\"devtools\\u002faction_scripts\\u002fgui\",\"devtools\\u002faction_scripts\\u002fgui\",\"devtools\\u002faction_scripts\\u002fgui\",\"devtools\\u002faction_scripts\\u002fgui\",\"devtools\\u002faction_scripts\\u002fgui\",\"devtools\\u002faction_scripts\\u002ftroubleshoot\",\"devtools\\u002faction_scripts\\u002ftroubleshoot\",\"devtools\\u002faction_scripts\\u002ftroubleshoot\",\"devtools\\u002faction_scripts\\u002ftroubleshoot\",\"devtools\\u002faction_scripts\\u002ftroubleshoot\",\"devtools\\u002faction_scripts\\u002ftroubleshoot\",\"devtools\\u002faction_scripts\\u002funiverse_cards\",\"devtools\\u002faction_scripts\\u002funiverse_cards\",\"devtools\\u002faction_scripts\\u002funiverse_cards\",\"devtools\\u002faction_scripts\\u002funiverse_cards\",\"devtools\\u002faction_scripts\\u002funiverse_cards\",\"devtools\\u002faction_scripts\\u002funiverse_cards\",\"devtools\\u002faction_scripts\\u002funiverse_form\",\"devtools\\u002faction_scripts\\u002funiverse_form\",\"devtools\\u002faction_scripts\\u002funiverse_form\",\"devtools\\u002faction_scripts\\u002funiverse_form\",\"devtools\\u002faction_scripts\\u002funiverse_form\",\"devtools\\u002faction_scripts\\u002funiverse_form\",\"devtools\\u002faction_scripts\\u002funiverse_form\",\"devtools\\u002faction_scripts\\u002funiverse_form\",\"devtools\\u002faction_scripts\\u002funiverse_form\",\"devtools\\u002faction_scripts\\u002funiverse_form\",\"devtools\\u002faction_scripts\\u002funiverse_form\",\"devtools\\u002faction_scripts\\u002funiverse_form\",\"devtools\\u002faction_scripts\\u002funiverse_form\",\"devtools\\u002faction_scripts\\u002funiverse_form\",\"devtools\\u002faction_scripts\\u002funiverse_form\",\"devtools\\u002faction_scripts\\u002funiverse_form\",\"devtools\\u002faction_scripts\\u002funiverse_form\",\"devtools\\u002faction_scripts\\u002funiverse_form\",\"devtools\\u002faction_scripts\\u002fupdate\",\"devtools\\u002faction_scripts\\u002fupdate\",\"devtools\\u002faction_scripts\\u002fvoip_service\",\"devtools\\u002faction_scripts\\u002fvoip_service\",\"devtools\\u002faction_scripts\\u002fvoip_service\",\"devtools\\u002faction_scripts\\u002fvoip_service\",\"devtools\\u002fargocd\",\"devtools\\u002fargocd\",\"devtools\",\"devtools\\u002fcicd\",\"devtools\\u002fcicd\",\"devtools\\u002fcicd\",\"devtools\\u002fcicd\",\"devtools\",\"devtools\",\"devtools\",\"devtools\",\"devtools\",\"devtools\",\"devtools\",\"devtools\",\"devtools\",\"devtools\",\"devtools\\u002fmigration_scripts\",\"devtools\\u002fmigration_scripts\",\"devtools\\u002fmigration_scripts\",\"devtools\\u002fmigration_scripts\",\"devtools\\u002fmigration_scripts\",\"devtools\\u002fmigration_scripts\",\"devtools\\u002fmigration_scripts\",\"devtools\\u002fmigration_scripts\",\"devtools\\u002fmigration_scripts\",\"devtools\\u002fmigration_scripts\",\"devtools\\u002fmigration_scripts\",\"devtools\\u002fmigration_scripts\",\"devtools\\u002fmigration_scripts\",\"devtools\\u002fmigration_scripts\",\"devtools\\u002fmigration_scripts\",\"devtools\\u002fmigration_scripts\",\"devtools\\u002fmongo\",\"devtools\\u002fmongo\",\"devtools\\u002fmongo\",\"devtools\\u002fmongo\",\"devtools\\u002fmongo\",\"devtools\\u002fpocs\",\"devtools\\u002fscripts\",\"devtools\\u002fscripts\",null,\"docs\",\"docs\",\"docs\",\"docs\",\"docs\",\"docs\",\"docs\\u002fsvgs\",\"docs\\u002fsvgs\",\"docs\\u002funiverse_form\",\"docs\",null,\"hopdb\",\"hopdb\",\"hopdb\\u002fcollection_storage\",\"hopdb\\u002fcollection_storage\",\"hopdb\\u002fcollection_storage\",\"hopdb\\u002fcollection_storage\",\"hopdb\\u002fcorrelation_table\",\"hopdb\\u002fcorrelation_table\",\"hopdb\\u002fcorrelation_table\",\"hopdb\\u002fcorrelation_table\",\"hopdb\",\"hopdb\",\"hopdb\\u002fdocument_encoder\",\"hopdb\\u002fdocument_encoder\",\"hopdb\",\"hopdb\\u002findex\",\"hopdb\\u002findex\",\"hopdb\\u002findex\",\"hopdb\",\"hopdb\",\"hopdb\",\"hopdb\",\"hopdb\",\"hopdb\\u002fthirdparty\",null,\"lib\",\"lib\\u002fcdi\",\"lib\\u002fcdi\",\"lib\\u002fcommon\\u002fconstants\",\"lib\\u002fcommon\\u002fconstants\",\"lib\\u002fcommon\",\"lib\\u002fcommon\\u002fencoder\",\"lib\\u002fcommon\\u002fencoder\",\"lib\\u002fcommon\\u002fencoder\",\"lib\\u002fcommon\\u002fencoder\",\"lib\\u002fcommon\\u002fencoder\",\"lib\\u002fcommon\\u002ffastapi\",\"lib\\u002fcommon\\u002ffastapi\",\"lib\\u002fcommon\\u002ffields\",\"lib\\u002fcommon\\u002ffields\",\"lib\\u002fcommon\\u002ffields\",\"lib\\u002fcommon\\u002ffields\",\"lib\\u002fcommon\\u002ffile\",\"lib\\u002fcommon\\u002ffile\",\"lib\\u002fcommon\",\"lib\\u002fcommon\\u002flock\",\"lib\\u002fcommon\\u002flock\",\"lib\\u002fcommon\\u002fmapping\",\"lib\\u002fcommon\\u002fmapping\",\"lib\\u002fcommon\\u002fmapping\",\"lib\\u002fcommon\\u002fobject_storage\",\"lib\\u002fcommon\\u002fobject_storage\",\"lib\\u002fcommon\\u002fobject_storage\",\"lib\\u002fcommon\\u002fobject_storage\",\"lib\\u002fcommon\\u002fobject_storage\",\"lib\\u002fcommon\\u002fobject_storage\",\"lib\\u002fcommon\\u002fobject_storage\",\"lib\\u002fcommon\",\"lib\\u002fcommon\\u002fredis_channel\",\"lib\\u002fcommon\\u002fredis_channel\",\"lib\\u002fcommon\",\"lib\\u002fdict\\u002fanonymize\",\"lib\\u002fdict\\u002fanonymize\",\"lib\\u002fdict\\u002fdiff\",\"lib\\u002fdict\\u002fdiff\",\"lib\\u002fdict\\u002fdiff\",\"lib\\u002fdict\\u002fdotnotation\",\"lib\\u002fdict\\u002fdotnotation\",\"lib\\u002fdict\\u002fpatch\",\"lib\\u002fdict\\u002fpatch\",\"lib\\u002fdict\\u002fpatch\",\"lib\\u002flogging\",\"lib\\u002flogging\",\"lib\\u002flogging\",\"migrations\",\"migrations\",\"migrations\",\"migrations\",\"migrations\",\"migrations\",\"migrations\",\"migrations\",\"migrations\",\"migrations\",\"migrations\",\"migrations\",\"migrations\",\"migrations\",\"migrations\",\"migrations\",\"migrations\",\"migrations\",\"migrations\",\"migrations\",\"migrations\",\"migrations\",\"migrations\",\"migrations\",\"migrations\",\"migrations\",\"migrations\",\"migrations\",\"migrations\",\"migrations\",\"migrations\",\"migrations\",\"migrations\",\"migrations\",\"migrations\",\"migrations\",\"migrations\",\"migrations\",\"migrations\",\"migrations\",\"migrations\",\"migrations\",\"migrations\",\"migrations\",\"migrations\",\"migrations\",\"migrations\",\"migrations\",\"migrations\",\"migrations\",\"migrations\",\"migrations\",\"migrations\",\"migrations\",\"migrations\",\"migrations\",\"migrations\",\"migrations\",\"migrations\",\"migrations\",\"migrations\",\"migrations\",\"migrations\",\"migrations\",\"migrations\",\"migrations\",\"migrations\",\"migrations\",\"migrations\",\"migrations\",\"migrations\",\"migrations\",\"migrations\",\"migrations\",\"migrations\",\"migrations\",\"migrations\",\"migrations\",\"migrations\",\"migrations\",\"migrations\",\"migrations\",\"migrations\",\"migrations\",\"migrations\",\"migrations\",\"migrations\",\"migrations\",\"migrations\",\"migrations\",\"migrations\",\"migrations\",\"migrations\",\"migrations\",\"migrations\",\"migrations\",\"migrations\",\"migrations\",\"migrations\",\"migrations\",\"migrations\",\"migrations\",\"migrations\",\"migrations\",\"migrations\",\"migrations\",\"migrations\",\"migrations\",\"migrations\",\"migrations\",\"migrations\",\"migrations\",\"migrations\",\"migrations\",\"migrations\",\"migrations\",\"migrations\",\"migrations\",\"migrations\",\"migrations\",\"migrations\",\"migrations\",\"migrations\",\"migrations\",\"migrations\",\"migrations\",\"migrations\",\"migrations\",\"migrations\",\"migrations\",\"migrations\",\"migrations\",\"migrations\",\"migrations\",\"migrations\",\"migrations\",\"migrations\",\"migrations\",\"migrations\",\"migrations\",\"migrations\",\"migrations\",\"migrations\",\"migrations\",\"migrations\",\"migrations\",\"migrations\",\"migrations\",\"migrations\",\"migrations\",\"migrations\",\"migrations\",\"migrations\",\"migrations\",\"migrations\",\"migrations\",\"migrations\",\"migrations\",\"migrations\",\"migrations\",\"migrations\",\"migrations\",\"migrations\",\"migrations\",\"migrations\",\"migrations\",\"migrations\",\"migrations\",\"migrations\",\"migrations\",\"migrations\",\"migrations\",\"migrations\",\"migrations\",\"migrations\",\"migrations\",\"migrations\",\"migrations\",\"migrations\",\"migrations\",\"migrations\",\"migrations\",\"migrations\",\"migrations\",\"migrations\",\"migrations\",\"migrations\",\"migrations\",\"migrations\",\"migrations\",\"migrations\",\"migrations\",\"migrations\",\"migrations\",\"migrations\",\"migrations\",\"migrations\",\"migrations\",\"migrations\",\"migrations\",\"migrations\",\"migrations\",\"migrations\",\"migrations\",\"migrations\",\"migrations\",\"migrations\",\"migrations\",\"migrations\",\"migrations\",\"migrations\",\"migrations\",\"migrations\",\"migrations\",\"migrations\",\"migrations\",\"migrations\",\"migrations\",\"migrations\",\"migrations\",\"migrations\",\"migrations\",\"migrations\",\"migrations\",\"migrations\",\"migrations\",\"migrations\",\"migrations\",\"migrations\\u002futils\",\"migrations\\u002futils\",\"migrations_util\",\"migrations_util\",\"migrations_util\",\"migrations_util\",\"migrations_util\",\"migrations_util\",\"migrations_util\",null,null,null,null,null,null,null,\"requirements\",\"requirements\",null,null,null,null,null,null,null,null,null,null,\"tests\\u002fanalytics\\u002fapis\\u002ffastapi\\u002froutes\",\"tests\\u002fanalytics\\u002fapis\\u002ffastapi\\u002froutes\",\"tests\\u002fanalytics\\u002fbusiness\",\"tests\\u002fanalytics\",\"tests\\u002fanalytics\\u002ffixtures\\u002fdataset\",\"tests\\u002fanalytics\\u002ffixtures\\u002fdataset\",\"tests\\u002fanalytics\\u002ffixtures\",\"tests\\u002fanalytics\",\"tests\\u002fapp\\u002factions\",\"tests\\u002fapp\\u002factions\",\"tests\\u002fapp\\u002factions\",\"tests\\u002fapp\\u002factions\",\"tests\\u002fapp\\u002factions\",\"tests\\u002fapp\\u002fapis\\u002ffastapi\",\"tests\\u002fapp\\u002fapis\\u002ffastapi\\u002froutes\",\"tests\\u002fapp\\u002fapis\\u002ffastapi\\u002froutes\",\"tests\\u002fapp\\u002fapis\\u002ffastapi\\u002froutes\",\"tests\\u002fapp\\u002fapis\\u002ffastapi\\u002froutes\",\"tests\\u002fapp\\u002fapis\\u002ffastapi\\u002froutes\",\"tests\\u002fapp\\u002fapis\\u002ffastapi\\u002froutes\",\"tests\\u002fapp\\u002fapis\\u002ffastapi\\u002froutes\",\"tests\\u002fapp\\u002fapis\\u002ffastapi\\u002froutes\",\"tests\\u002fapp\\u002fapis\\u002ffastapi\\u002froutes\",\"tests\\u002fapp\\u002fapis\\u002ffastapi\\u002froutes\",\"tests\\u002fapp\\u002fapis\\u002ffastapi\\u002froutes\",\"tests\\u002fapp\\u002fapis\\u002ffastapi\\u002froutes\",\"tests\\u002fapp\\u002fapis\\u002ffastapi\\u002froutes\",\"tests\\u002fapp\\u002fapis\\u002ffastapi\\u002froutes\",\"tests\\u002fapp\\u002fapis\\u002ffastapi\\u002froutes\",\"tests\\u002fapp\\u002fapis\\u002ffastapi\\u002froutes\",\"tests\\u002fapp\\u002fapis\\u002ffastapi\\u002froutes\",\"tests\\u002fapp\\u002fapis\\u002ffastapi\\u002froutes\",\"tests\\u002fapp\\u002fapis\\u002ffastapi\\u002froutes\",\"tests\\u002fapp\\u002fapis\\u002ffastapi\\u002froutes\",\"tests\\u002fapp\\u002fapis\\u002ffastapi\\u002froutes\",\"tests\\u002fapp\\u002fbusiness_rule\\u002funiverse_form\",\"tests\\u002fapp\\u002fbusinesses\\u002fhandlers\",\"tests\\u002fapp\\u002fbusinesses\\u002fobservers\\u002fmagalu\",\"tests\\u002fapp\\u002fbusinesses\\u002fobservers\\u002fmagalu\",\"tests\\u002fapp\\u002fbusinesses\\u002fobservers\",\"tests\\u002fapp\\u002fbusinesses\\u002fobservers\",\"tests\\u002fapp\\u002fbusinesses\\u002fobservers\",\"tests\\u002fapp\\u002fbusinesses\\u002fobservers\",\"tests\\u002fapp\\u002fbusinesses\\u002fobservers\",\"tests\\u002fapp\\u002fbusinesses\\u002fobservers\",\"tests\\u002fapp\\u002fbusinesses\",\"tests\\u002fapp\\u002fbusinesses\",\"tests\\u002fapp\\u002fbusinesses\",\"tests\\u002fapp\\u002fbusinesses\",\"tests\\u002fapp\\u002fbusinesses\",\"tests\\u002fapp\\u002fdomains\",\"tests\\u002fapp\\u002fdomains\",\"tests\\u002fapp\\u002fintegrations\\u002fbackends\\u002fsebastian_api\",\"tests\\u002fapp\\u002fintegrations\\u002fbackends\",\"tests\\u002fapp\\u002fintegrations\\u002fbackends\",\"tests\\u002fapp\\u002fintegrations\\u002fbackends\",\"tests\\u002fapp\\u002fintegrations\\u002fbackends\",\"tests\\u002fapp\\u002fintegrations\\u002fbackends\",\"tests\\u002fapp\\u002fintegrations\\u002fdatalake\\u002fbackends\\u002ftetrix_kafka\\u002fhandlers\",\"tests\\u002fapp\\u002fintegrations\\u002fdatalake\\u002fbackends\\u002ftetrix_kafka\\u002fhandlers\",\"tests\\u002fapp\\u002fintegrations\\u002fdatalake\",\"tests\\u002fapp\\u002fintegrations\\u002fdb\\u002fmongo\",\"tests\\u002fapp\\u002fintegrations\\u002fpubsub\\u002fencoder\",\"tests\\u002fapp\\u002fintegrations\\u002fpubsub\\u002fkafka\",\"tests\\u002fapp\\u002fintegrations\\u002fpubsub\\u002fkafka\",\"tests\\u002fapp\\u002fintegrations\\u002fpubsub\\u002fkafka\",\"tests\\u002fapp\\u002fintegrations\\u002fpubsub\\u002fkafka\",\"tests\\u002fapp\\u002fintegrations\\u002fpubsub\",\"tests\\u002fapp\\u002fintegrations\\u002fpubsub\",\"tests\\u002fapp\\u002fintegrations\\u002frisk_analysis\",\"tests\\u002fapp\\u002fintegrations\\u002frisk_analysis\",\"tests\\u002fapp\\u002fintegrations\\u002fscheduler\\u002fimpl\\u002flite\\u002fjobstores\",\"tests\\u002fapp\\u002fintegrations\\u002fscheduler\\u002fimpl\\u002flite\",\"tests\\u002fapp\\u002fintegrations\\u002fseller_stock_info\",\"tests\\u002fapp\\u002frepositories\",\"tests\\u002fapp\\u002frepositories\",\"tests\\u002fapp\\u002fscript\\u002fimpl\\u002fpython\",\"tests\\u002fapp\\u002fscript\",\"tests\\u002fapp\\u002fscript\",\"tests\\u002fapp\\u002fscript\",\"tests\\u002fapp\",\"tests\\u002fapp\\u002futils\",\"tests\\u002fapp\\u002futils\",\"tests\\u002fapp\\u002futils\",\"tests\\u002fapp\\u002futils\",\"tests\\u002fapp\\u002futils\",\"tests\\u002fapp\\u002fworkers\\u002fdata_object_batch\\u002ftasks\",\"tests\\u002fapp\\u002fworkers\\u002fdata_object_batch\\u002ftasks\",\"tests\\u002fapp\\u002fworkers\\u002fdata_object_batch\",\"tests\\u002fapp\\u002fworkers\\u002ffreight\\u002ftasks\",\"tests\\u002fapp\\u002fworkers\\u002ffreight\",\"tests\\u002fapp\\u002fworkers\\u002flead\\u002ftasks\",\"tests\\u002fapp\\u002fworkers\\u002flead\",\"tests\\u002fapp\\u002fworkers\\u002fnetshoes\\u002ftasks\\u002fnetshoes_lead_mapper\",\"tests\\u002fapp\\u002fworkers\\u002fnetshoes\\u002ftasks\\u002fnetshoes_lead_mapper\",\"tests\\u002fapp\\u002fworkers\\u002fnetshoes\\u002ftasks\\u002fnetshoes_lead_mapper\",\"tests\\u002fapp\\u002fworkers\\u002fnetshoes\\u002ftasks\",\"tests\\u002fapp\\u002fworkers\\u002fnetshoes\",\"tests\\u002fapp\\u002fworkers\\u002fproduct\\u002ftasks\",\"tests\\u002fapp\\u002fworkers\\u002fproduct\",\"tests\\u002fapp\\u002fworkers\\u002frisk_analysis\",\"tests\\u002fapp\\u002fworkers\\u002frisk_analysis\",\"tests\\u002fapp\\u002fworkers\\u002fseller_account\\u002ftasks\",\"tests\\u002fapp\\u002fworkers\\u002fseller_account\",\"tests\\u002fapp\\u002fworkers\\u002fseller_contracts\\u002ftasks\",\"tests\\u002fapp\\u002fworkers\\u002fseller_contracts\\u002ftasks\",\"tests\\u002fapp\\u002fworkers\\u002fseller_contracts\",\"tests\\u002fapp\\u002fworkers\\u002fseller_orders\\u002ftasks\",\"tests\\u002fapp\\u002fworkers\\u002fseller_orders\\u002ftasks\",\"tests\\u002fapp\\u002fworkers\\u002fseller_orders\\u002ftasks\",\"tests\\u002fapp\\u002fworkers\\u002fseller_orders\",\"tests\\u002fapp\\u002fworkers\",\"tests\\u002fapp\\u002fworkers\",\"tests\\u002fapp\\u002fworkers\\u002fwebhook\\u002ftasks\",\"tests\\u002fapp\\u002fworkers\\u002fwebhook\\u002ftasks\",\"tests\\u002fapp\\u002fworkers\\u002fwebhook\",\"tests\\u002fapp\\u002fworkers\\u002fworkflow_retry\\u002ftasks\",\"tests\\u002fapp\\u002fworkers\\u002fworkflow_retry\",\"tests\\u002fapp\\u002fworkers\\u002fworkflow_wakeup\\u002ftasks\",\"tests\\u002fapp\\u002fworkers\\u002fworkflow_wakeup\",\"tests\\u002fapp\\u002fworkflow\\u002faddons\",\"tests\\u002fapp\\u002fworkflow\",\"tests\\u002fapp\\u002fworkflows\",\"tests\\u002fapp\\u002fworkflows\",\"tests\\u002fapp\\u002fworkflows\",\"tests\\u002fapp\\u002fworkflows\",\"tests\\u002fapp\\u002fworkflows\",\"tests\\u002fapp\\u002fworkflows\",\"tests\\u002fapp\\u002fworkflows\",\"tests\\u002fapp\\u002fworkflows\",\"tests\\u002fapp\\u002fworkflows\",\"tests\\u002fapp\\u002fworkflows\",\"tests\\u002fapp\\u002fworkflows\",\"tests\\u002fapp\\u002fworkflows\",\"tests\\u002fapp\\u002fworkflows\",\"tests\\u002fapp\\u002fworkflows\",\"tests\\u002fapp\\u002fworkflows\",\"tests\\u002fapp\\u002fworkflows\",\"tests\\u002fapp\\u002fworkflows\",\"tests\\u002fapp\\u002fworkflows\",\"tests\\u002fapp\\u002fworkflows\",\"tests\\u002fcommons\\u002fasync_worker\",\"tests\\u002fcommons\\u002fcache\\u002fstorage\",\"tests\\u002fcommons\\u002fcache\",\"tests\\u002fcommons\\u002flock\",\"tests\",\"tests\\u002ffixtures\",\"tests\\u002ffixtures\",\"tests\\u002ffixtures\\u002fbackends\",\"tests\\u002ffixtures\\u002fbackends\",\"tests\\u002ffixtures\\u002fbackends\",\"tests\\u002ffixtures\\u002fbackends\",\"tests\\u002ffixtures\\u002fbackends\",\"tests\\u002ffixtures\\u002fbackends\",\"tests\\u002ffixtures\\u002fbackends\",\"tests\\u002ffixtures\\u002fbackends\",\"tests\\u002ffixtures\\u002fbackends\",\"tests\\u002ffixtures\\u002fbackends\",\"tests\\u002ffixtures\\u002fbackends\",\"tests\\u002ffixtures\\u002fbackends\",\"tests\\u002ffixtures\\u002fbackends\",\"tests\\u002ffixtures\\u002fbackends\",\"tests\\u002ffixtures\\u002fbackends\",\"tests\\u002ffixtures\\u002fbackends\",\"tests\\u002ffixtures\\u002fbackends\",\"tests\\u002ffixtures\\u002fbackends\",\"tests\\u002ffixtures\\u002fbackends\",\"tests\\u002ffixtures\\u002fbackends\",\"tests\\u002ffixtures\\u002fbackends\",\"tests\\u002ffixtures\\u002fbackends\",\"tests\\u002ffixtures\\u002fbackends\",\"tests\\u002ffixtures\\u002fbackends\",\"tests\\u002ffixtures\\u002fbackends\",\"tests\\u002ffixtures\\u002fbackends\",\"tests\\u002ffixtures\\u002fbackends\",\"tests\\u002ffixtures\\u002fbackends\",\"tests\\u002ffixtures\\u002fbackends\",\"tests\\u002ffixtures\\u002fbackends\",\"tests\\u002ffixtures\\u002fbackends\",\"tests\\u002ffixtures\\u002fbackends\",\"tests\\u002ffixtures\\u002fbackends\",\"tests\\u002ffixtures\\u002fbackends\",\"tests\\u002ffixtures\\u002fbackends\",\"tests\\u002ffixtures\\u002fbackends\",\"tests\\u002ffixtures\\u002fbackends\",\"tests\\u002ffixtures\\u002fbackends\",\"tests\\u002ffixtures\\u002fbackends\",\"tests\\u002ffixtures\\u002fbackends\",\"tests\\u002ffixtures\\u002fbackends\",\"tests\\u002ffixtures\\u002fbackends\",\"tests\\u002ffixtures\\u002fbackends\",\"tests\\u002ffixtures\\u002fbackends\",\"tests\\u002ffixtures\\u002fbackends\",\"tests\\u002ffixtures\\u002fbackends\",\"tests\\u002ffixtures\\u002fbackends\",\"tests\\u002ffixtures\\u002fbackends\",\"tests\\u002ffixtures\\u002fbackends\",\"tests\\u002ffixtures\\u002fbackends\",\"tests\\u002ffixtures\\u002fbackends\",\"tests\\u002ffixtures\\u002fbackends\",\"tests\\u002ffixtures\",\"tests\\u002ffixtures\",\"tests\\u002ffixtures\",\"tests\\u002ffixtures\\u002fdomains\",\"tests\\u002ffixtures\\u002fdomains\",\"tests\\u002ffixtures\\u002fdomains\",\"tests\\u002ffixtures\\u002fdomains\",\"tests\\u002ffixtures\\u002fdomains\",\"tests\\u002ffixtures\\u002fdomains\",\"tests\\u002ffixtures\\u002fdomains\",\"tests\\u002ffixtures\\u002fdomains\",\"tests\\u002ffixtures\\u002fdomains\",\"tests\\u002ffixtures\\u002fdomains\",\"tests\\u002ffixtures\\u002fdomains\",\"tests\\u002ffixtures\\u002fdomains\",\"tests\\u002ffixtures\\u002fdomains\",\"tests\\u002ffixtures\",\"tests\\u002ffixtures\",\"tests\\u002ffixtures\",\"tests\\u002ffixtures\",\"tests\\u002ffixtures\",\"tests\\u002ffixtures\",\"tests\\u002ffixtures\",\"tests\\u002ffixtures\",\"tests\\u002ffixtures\",\"tests\\u002ffixtures\",\"tests\\u002fhopdb\\u002findex\",\"tests\\u002fhopdb\",\"tests\\u002fhopdb\",\"tests\\u002fhopdb\",\"tests\\u002flib\\u002fcommon\\u002fencoder\",\"tests\\u002flib\\u002fcommon\\u002ffields\",\"tests\\u002flib\\u002fcommon\\u002fobject_storage\",\"tests\\u002flib\\u002fdict\\u002fanonymize\",\"tests\\u002flib\\u002fdict\\u002fdiff\",\"tests\\u002flib\\u002fdict\\u002fdiff\",\"tests\\u002futils\\u002fbuilders\\u002fdomain\",\"tests\\u002futils\\u002fbuilders\\u002fdomain\",\"tests\\u002futils\",\"tests\\u002futils\",\"tests\\u002futils\",\"tests\\u002futils\",\"tests\\u002futils\",null,null,null,null,null,null,\".gitlab\",null,\"analytics\",\"analytics\\u002fapis\",\"analytics\\u002fapis\\u002ffastapi\",\"analytics\",\"analytics\",\"analytics\",\"analytics\",\"analytics\",\"analytics\",\"analytics\\u002fstandalone\",\"analytics\",\"analytics\",\"analytics\\u002fworkers\",null,\"app\",\"app\\u002fapis\",\"app\\u002fapis\",\"app\\u002fapis\\u002ffastapi\",\"app\\u002fapis\\u002ffastapi\",\"app\",\"app\\u002fbusinesses\",\"app\\u002fbusinesses\\u002fcore\",\"app\\u002fbusinesses\",\"app\\u002fbusinesses\",\"app\\u002fbusinesses\",\"app\\u002fbusinesses\\u002fobservers\",\"app\\u002fbusinesses\\u002fobservers\\u002fmagalu\",\"app\\u002fbusinesses\\u002fobservers\\u002fmagalu\",\"app\\u002fbusinesses\",\"app\",\"app\\u002fcommons\",\"app\\u002fcommons\\u002fasync_worker\",\"app\\u002fcommons\\u002fasync_worker\",\"app\\u002fcommons\",\"app\\u002fcommons\\u002fcache\",\"app\\u002fcommons\\u002fcache\\u002fimpl\",\"app\\u002fcommons\\u002fcache\\u002fimpl\",\"app\\u002fcommons\\u002fcache\\u002fimpl\\u002fstorage\",\"app\\u002fcommons\\u002fcache\\u002fimpl\\u002fstorage\",\"app\\u002fcommons\\u002fcache\",\"app\\u002fcommons\",\"app\\u002fcommons\",\"app\\u002fcommons\",\"app\\u002fcommons\",\"app\\u002fcommons\",\"app\\u002fcommons\",\"app\\u002fcommons\\u002ftranslations\",\"app\",\"app\",\"app\",\"app\",\"app\\u002feventbus\",\"app\",\"app\\u002fintegrations\",\"app\\u002fintegrations\\u002fbackends\",\"app\\u002fintegrations\\u002fbackends\",\"app\\u002fintegrations\\u002fbackends\",\"app\\u002fintegrations\\u002fbackends\",\"app\\u002fintegrations\\u002fbackends\",\"app\\u002fintegrations\\u002fbackends\",\"app\\u002fintegrations\\u002fbackends\",\"app\\u002fintegrations\\u002fbackends\",\"app\\u002fintegrations\\u002fbackends\",\"app\\u002fintegrations\\u002fbackends\",\"app\\u002fintegrations\\u002fbackends\",\"app\\u002fintegrations\\u002fbackends\",\"app\\u002fintegrations\\u002fbackends\",\"app\\u002fintegrations\\u002fbackends\",\"app\\u002fintegrations\\u002fbackends\",\"app\\u002fintegrations\\u002fbackends\",\"app\\u002fintegrations\\u002fbackends\",\"app\\u002fintegrations\\u002fbackends\",\"app\\u002fintegrations\\u002fbackends\",\"app\\u002fintegrations\\u002fbackends\",\"app\\u002fintegrations\",\"app\\u002fintegrations\\u002fdatalake\",\"app\\u002fintegrations\\u002fdatalake\\u002fbackends\",\"app\\u002fintegrations\",\"app\\u002fintegrations\\u002fdb\",\"app\\u002fintegrations\",\"app\\u002fintegrations\\u002fpubsub\",\"app\\u002fintegrations\\u002fpubsub\",\"app\\u002fintegrations\",\"app\\u002fintegrations\\u002frisk_analysis\",\"app\\u002fintegrations\\u002frisk_analysis\",\"app\\u002fintegrations\",\"app\\u002fintegrations\\u002fscheduler\",\"app\\u002fintegrations\\u002fscheduler\\u002fimpl\",\"app\\u002fintegrations\\u002fscheduler\\u002fimpl\\u002flite\",\"app\\u002fintegrations\\u002fscheduler\\u002fimpl\\u002flite\",\"app\\u002fintegrations\",\"app\",\"app\",\"app\\u002fpubsub\",\"app\",\"app\",\"app\\u002fscript\",\"app\\u002fscript\\u002fimpl\",\"app\",\"app\\u002futils\",\"app\",\"app\\u002fworkers\",\"app\\u002fworkers\\u002fdata_object_batch\",\"app\\u002fworkers\\u002fdata_object_batch\",\"app\\u002fworkers\\u002fdata_object_batch\",\"app\\u002fworkers\",\"app\\u002fworkers\\u002ffreight\",\"app\\u002fworkers\",\"app\\u002fworkers\\u002flead\",\"app\\u002fworkers\",\"app\\u002fworkers\\u002fnetshoes\",\"app\\u002fworkers\\u002fnetshoes\\u002ftasks\",\"app\\u002fworkers\",\"app\\u002fworkers\\u002fproduct\",\"app\\u002fworkers\",\"app\\u002fworkers\\u002frisk_analysis\",\"app\\u002fworkers\",\"app\\u002fworkers\",\"app\\u002fworkers\\u002fseller_account\",\"app\\u002fworkers\",\"app\\u002fworkers\\u002fseller_contract\",\"app\\u002fworkers\",\"app\\u002fworkers\\u002fseller_orders\",\"app\\u002fworkers\",\"app\\u002fworkers\\u002ftags\",\"app\\u002fworkers\",\"app\\u002fworkers\\u002fwebhook\",\"app\\u002fworkers\\u002fwebhook\\u002ftasks\",\"app\\u002fworkers\\u002fwebhook\\u002ftasks\\u002fwebhook_global\",\"app\\u002fworkers\",\"app\\u002fworkers\\u002fworkflow_retry\",\"app\\u002fworkers\",\"app\\u002fworkers\\u002fworkflow_wakeup\",\"app\",\"app\\u002fworkflow\",\"app\\u002fworkflow\",\"app\\u002fworkflow\",null,\"devtools\",\"devtools\\u002faction_scripts\",\"devtools\\u002faction_scripts\",\"devtools\\u002faction_scripts\",\"devtools\\u002faction_scripts\",\"devtools\\u002faction_scripts\",\"devtools\\u002faction_scripts\",\"devtools\",\"devtools\",\"devtools\",\"devtools\",\"devtools\",\"devtools\",null,\"docs\",\"docs\",null,\"hopdb\",\"hopdb\",\"hopdb\",\"hopdb\",\"hopdb\",null,\"lib\",\"lib\",\"lib\\u002fcommon\",\"lib\\u002fcommon\",\"lib\\u002fcommon\",\"lib\\u002fcommon\",\"lib\\u002fcommon\",\"lib\\u002fcommon\",\"lib\\u002fcommon\",\"lib\\u002fcommon\",\"lib\\u002fcommon\",\"lib\",\"lib\\u002fdict\",\"lib\\u002fdict\",\"lib\\u002fdict\",\"lib\\u002fdict\",\"lib\",null,\"migrations\",null,null,null,\"tests\",\"tests\\u002fanalytics\",\"tests\\u002fanalytics\\u002fapis\",\"tests\\u002fanalytics\\u002fapis\\u002ffastapi\",\"tests\\u002fanalytics\",\"tests\\u002fanalytics\",\"tests\\u002fanalytics\\u002ffixtures\",\"tests\",\"tests\\u002fapp\",\"tests\\u002fapp\",\"tests\\u002fapp\\u002fapis\",\"tests\\u002fapp\\u002fapis\\u002ffastapi\",\"tests\\u002fapp\",\"tests\\u002fapp\\u002fbusiness_rule\",\"tests\\u002fapp\",\"tests\\u002fapp\\u002fbusinesses\",\"tests\\u002fapp\\u002fbusinesses\",\"tests\\u002fapp\\u002fbusinesses\\u002fobservers\",\"tests\\u002fapp\",\"tests\\u002fapp\",\"tests\\u002fapp\\u002fintegrations\",\"tests\\u002fapp\\u002fintegrations\\u002fbackends\",\"tests\\u002fapp\\u002fintegrations\",\"tests\\u002fapp\\u002fintegrations\\u002fdatalake\",\"tests\\u002fapp\\u002fintegrations\\u002fdatalake\\u002fbackends\",\"tests\\u002fapp\\u002fintegrations\\u002fdatalake\\u002fbackends\\u002ftetrix_kafka\",\"tests\\u002fapp\\u002fintegrations\",\"tests\\u002fapp\\u002fintegrations\\u002fdb\",\"tests\\u002fapp\\u002fintegrations\",\"tests\\u002fapp\\u002fintegrations\\u002fpubsub\",\"tests\\u002fapp\\u002fintegrations\\u002fpubsub\",\"tests\\u002fapp\\u002fintegrations\",\"tests\\u002fapp\\u002fintegrations\",\"tests\\u002fapp\\u002fintegrations\\u002fscheduler\",\"tests\\u002fapp\\u002fintegrations\\u002fscheduler\\u002fimpl\",\"tests\\u002fapp\\u002fintegrations\\u002fscheduler\\u002fimpl\\u002flite\",\"tests\\u002fapp\\u002fintegrations\",\"tests\\u002fapp\",\"tests\\u002fapp\",\"tests\\u002fapp\\u002fscript\",\"tests\\u002fapp\\u002fscript\\u002fimpl\",\"tests\\u002fapp\",\"tests\\u002fapp\",\"tests\\u002fapp\\u002fworkers\",\"tests\\u002fapp\\u002fworkers\\u002fdata_object_batch\",\"tests\\u002fapp\\u002fworkers\",\"tests\\u002fapp\\u002fworkers\\u002ffreight\",\"tests\\u002fapp\\u002fworkers\",\"tests\\u002fapp\\u002fworkers\\u002flead\",\"tests\\u002fapp\\u002fworkers\",\"tests\\u002fapp\\u002fworkers\\u002fnetshoes\",\"tests\\u002fapp\\u002fworkers\\u002fnetshoes\\u002ftasks\",\"tests\\u002fapp\\u002fworkers\",\"tests\\u002fapp\\u002fworkers\\u002fproduct\",\"tests\\u002fapp\\u002fworkers\",\"tests\\u002fapp\\u002fworkers\",\"tests\\u002fapp\\u002fworkers\\u002fseller_account\",\"tests\\u002fapp\\u002fworkers\",\"tests\\u002fapp\\u002fworkers\\u002fseller_contracts\",\"tests\\u002fapp\\u002fworkers\",\"tests\\u002fapp\\u002fworkers\\u002fseller_orders\",\"tests\\u002fapp\\u002fworkers\",\"tests\\u002fapp\\u002fworkers\\u002fwebhook\",\"tests\\u002fapp\\u002fworkers\",\"tests\\u002fapp\\u002fworkers\\u002fworkflow_retry\",\"tests\\u002fapp\\u002fworkers\",\"tests\\u002fapp\\u002fworkers\\u002fworkflow_wakeup\",\"tests\\u002fapp\",\"tests\\u002fapp\\u002fworkflow\",\"tests\\u002fapp\",\"tests\",\"tests\\u002fcommons\",\"tests\\u002fcommons\",\"tests\\u002fcommons\\u002fcache\",\"tests\\u002fcommons\",\"tests\",\"tests\\u002ffixtures\",\"tests\\u002ffixtures\",\"tests\",\"tests\\u002fhopdb\",\"tests\",\"tests\\u002flib\",\"tests\\u002flib\\u002fcommon\",\"tests\\u002flib\\u002fcommon\",\"tests\\u002flib\\u002fcommon\",\"tests\\u002flib\",\"tests\\u002flib\\u002fdict\",\"tests\\u002flib\\u002fdict\",\"tests\",\"tests\\u002futils\",\"tests\\u002futils\\u002fbuilders\"],\"type\":\"treemap\"}],                        {\"template\":{\"data\":{\"histogram2dcontour\":[{\"type\":\"histogram2dcontour\",\"colorbar\":{\"outlinewidth\":0,\"ticks\":\"\"},\"colorscale\":[[0.0,\"#0d0887\"],[0.1111111111111111,\"#46039f\"],[0.2222222222222222,\"#7201a8\"],[0.3333333333333333,\"#9c179e\"],[0.4444444444444444,\"#bd3786\"],[0.5555555555555556,\"#d8576b\"],[0.6666666666666666,\"#ed7953\"],[0.7777777777777778,\"#fb9f3a\"],[0.8888888888888888,\"#fdca26\"],[1.0,\"#f0f921\"]]}],\"choropleth\":[{\"type\":\"choropleth\",\"colorbar\":{\"outlinewidth\":0,\"ticks\":\"\"}}],\"histogram2d\":[{\"type\":\"histogram2d\",\"colorbar\":{\"outlinewidth\":0,\"ticks\":\"\"},\"colorscale\":[[0.0,\"#0d0887\"],[0.1111111111111111,\"#46039f\"],[0.2222222222222222,\"#7201a8\"],[0.3333333333333333,\"#9c179e\"],[0.4444444444444444,\"#bd3786\"],[0.5555555555555556,\"#d8576b\"],[0.6666666666666666,\"#ed7953\"],[0.7777777777777778,\"#fb9f3a\"],[0.8888888888888888,\"#fdca26\"],[1.0,\"#f0f921\"]]}],\"heatmap\":[{\"type\":\"heatmap\",\"colorbar\":{\"outlinewidth\":0,\"ticks\":\"\"},\"colorscale\":[[0.0,\"#0d0887\"],[0.1111111111111111,\"#46039f\"],[0.2222222222222222,\"#7201a8\"],[0.3333333333333333,\"#9c179e\"],[0.4444444444444444,\"#bd3786\"],[0.5555555555555556,\"#d8576b\"],[0.6666666666666666,\"#ed7953\"],[0.7777777777777778,\"#fb9f3a\"],[0.8888888888888888,\"#fdca26\"],[1.0,\"#f0f921\"]]}],\"heatmapgl\":[{\"type\":\"heatmapgl\",\"colorbar\":{\"outlinewidth\":0,\"ticks\":\"\"},\"colorscale\":[[0.0,\"#0d0887\"],[0.1111111111111111,\"#46039f\"],[0.2222222222222222,\"#7201a8\"],[0.3333333333333333,\"#9c179e\"],[0.4444444444444444,\"#bd3786\"],[0.5555555555555556,\"#d8576b\"],[0.6666666666666666,\"#ed7953\"],[0.7777777777777778,\"#fb9f3a\"],[0.8888888888888888,\"#fdca26\"],[1.0,\"#f0f921\"]]}],\"contourcarpet\":[{\"type\":\"contourcarpet\",\"colorbar\":{\"outlinewidth\":0,\"ticks\":\"\"}}],\"contour\":[{\"type\":\"contour\",\"colorbar\":{\"outlinewidth\":0,\"ticks\":\"\"},\"colorscale\":[[0.0,\"#0d0887\"],[0.1111111111111111,\"#46039f\"],[0.2222222222222222,\"#7201a8\"],[0.3333333333333333,\"#9c179e\"],[0.4444444444444444,\"#bd3786\"],[0.5555555555555556,\"#d8576b\"],[0.6666666666666666,\"#ed7953\"],[0.7777777777777778,\"#fb9f3a\"],[0.8888888888888888,\"#fdca26\"],[1.0,\"#f0f921\"]]}],\"surface\":[{\"type\":\"surface\",\"colorbar\":{\"outlinewidth\":0,\"ticks\":\"\"},\"colorscale\":[[0.0,\"#0d0887\"],[0.1111111111111111,\"#46039f\"],[0.2222222222222222,\"#7201a8\"],[0.3333333333333333,\"#9c179e\"],[0.4444444444444444,\"#bd3786\"],[0.5555555555555556,\"#d8576b\"],[0.6666666666666666,\"#ed7953\"],[0.7777777777777778,\"#fb9f3a\"],[0.8888888888888888,\"#fdca26\"],[1.0,\"#f0f921\"]]}],\"mesh3d\":[{\"type\":\"mesh3d\",\"colorbar\":{\"outlinewidth\":0,\"ticks\":\"\"}}],\"scatter\":[{\"marker\":{\"line\":{\"color\":\"#283442\"}},\"type\":\"scatter\"}],\"parcoords\":[{\"type\":\"parcoords\",\"line\":{\"colorbar\":{\"outlinewidth\":0,\"ticks\":\"\"}}}],\"scatterpolargl\":[{\"type\":\"scatterpolargl\",\"marker\":{\"colorbar\":{\"outlinewidth\":0,\"ticks\":\"\"}}}],\"bar\":[{\"error_x\":{\"color\":\"#f2f5fa\"},\"error_y\":{\"color\":\"#f2f5fa\"},\"marker\":{\"line\":{\"color\":\"rgb(17,17,17)\",\"width\":0.5},\"pattern\":{\"fillmode\":\"overlay\",\"size\":10,\"solidity\":0.2}},\"type\":\"bar\"}],\"scattergeo\":[{\"type\":\"scattergeo\",\"marker\":{\"colorbar\":{\"outlinewidth\":0,\"ticks\":\"\"}}}],\"scatterpolar\":[{\"type\":\"scatterpolar\",\"marker\":{\"colorbar\":{\"outlinewidth\":0,\"ticks\":\"\"}}}],\"histogram\":[{\"marker\":{\"pattern\":{\"fillmode\":\"overlay\",\"size\":10,\"solidity\":0.2}},\"type\":\"histogram\"}],\"scattergl\":[{\"marker\":{\"line\":{\"color\":\"#283442\"}},\"type\":\"scattergl\"}],\"scatter3d\":[{\"type\":\"scatter3d\",\"line\":{\"colorbar\":{\"outlinewidth\":0,\"ticks\":\"\"}},\"marker\":{\"colorbar\":{\"outlinewidth\":0,\"ticks\":\"\"}}}],\"scattermapbox\":[{\"type\":\"scattermapbox\",\"marker\":{\"colorbar\":{\"outlinewidth\":0,\"ticks\":\"\"}}}],\"scatterternary\":[{\"type\":\"scatterternary\",\"marker\":{\"colorbar\":{\"outlinewidth\":0,\"ticks\":\"\"}}}],\"scattercarpet\":[{\"type\":\"scattercarpet\",\"marker\":{\"colorbar\":{\"outlinewidth\":0,\"ticks\":\"\"}}}],\"carpet\":[{\"aaxis\":{\"endlinecolor\":\"#A2B1C6\",\"gridcolor\":\"#506784\",\"linecolor\":\"#506784\",\"minorgridcolor\":\"#506784\",\"startlinecolor\":\"#A2B1C6\"},\"baxis\":{\"endlinecolor\":\"#A2B1C6\",\"gridcolor\":\"#506784\",\"linecolor\":\"#506784\",\"minorgridcolor\":\"#506784\",\"startlinecolor\":\"#A2B1C6\"},\"type\":\"carpet\"}],\"table\":[{\"cells\":{\"fill\":{\"color\":\"#506784\"},\"line\":{\"color\":\"rgb(17,17,17)\"}},\"header\":{\"fill\":{\"color\":\"#2a3f5f\"},\"line\":{\"color\":\"rgb(17,17,17)\"}},\"type\":\"table\"}],\"barpolar\":[{\"marker\":{\"line\":{\"color\":\"rgb(17,17,17)\",\"width\":0.5},\"pattern\":{\"fillmode\":\"overlay\",\"size\":10,\"solidity\":0.2}},\"type\":\"barpolar\"}],\"pie\":[{\"automargin\":true,\"type\":\"pie\"}]},\"layout\":{\"autotypenumbers\":\"strict\",\"colorway\":[\"#636efa\",\"#EF553B\",\"#00cc96\",\"#ab63fa\",\"#FFA15A\",\"#19d3f3\",\"#FF6692\",\"#B6E880\",\"#FF97FF\",\"#FECB52\"],\"font\":{\"color\":\"#f2f5fa\"},\"hovermode\":\"closest\",\"hoverlabel\":{\"align\":\"left\"},\"paper_bgcolor\":\"rgb(17,17,17)\",\"plot_bgcolor\":\"rgb(17,17,17)\",\"polar\":{\"bgcolor\":\"rgb(17,17,17)\",\"angularaxis\":{\"gridcolor\":\"#506784\",\"linecolor\":\"#506784\",\"ticks\":\"\"},\"radialaxis\":{\"gridcolor\":\"#506784\",\"linecolor\":\"#506784\",\"ticks\":\"\"}},\"ternary\":{\"bgcolor\":\"rgb(17,17,17)\",\"aaxis\":{\"gridcolor\":\"#506784\",\"linecolor\":\"#506784\",\"ticks\":\"\"},\"baxis\":{\"gridcolor\":\"#506784\",\"linecolor\":\"#506784\",\"ticks\":\"\"},\"caxis\":{\"gridcolor\":\"#506784\",\"linecolor\":\"#506784\",\"ticks\":\"\"}},\"coloraxis\":{\"colorbar\":{\"outlinewidth\":0,\"ticks\":\"\"}},\"colorscale\":{\"sequential\":[[0.0,\"#0d0887\"],[0.1111111111111111,\"#46039f\"],[0.2222222222222222,\"#7201a8\"],[0.3333333333333333,\"#9c179e\"],[0.4444444444444444,\"#bd3786\"],[0.5555555555555556,\"#d8576b\"],[0.6666666666666666,\"#ed7953\"],[0.7777777777777778,\"#fb9f3a\"],[0.8888888888888888,\"#fdca26\"],[1.0,\"#f0f921\"]],\"sequentialminus\":[[0.0,\"#0d0887\"],[0.1111111111111111,\"#46039f\"],[0.2222222222222222,\"#7201a8\"],[0.3333333333333333,\"#9c179e\"],[0.4444444444444444,\"#bd3786\"],[0.5555555555555556,\"#d8576b\"],[0.6666666666666666,\"#ed7953\"],[0.7777777777777778,\"#fb9f3a\"],[0.8888888888888888,\"#fdca26\"],[1.0,\"#f0f921\"]],\"diverging\":[[0,\"#8e0152\"],[0.1,\"#c51b7d\"],[0.2,\"#de77ae\"],[0.3,\"#f1b6da\"],[0.4,\"#fde0ef\"],[0.5,\"#f7f7f7\"],[0.6,\"#e6f5d0\"],[0.7,\"#b8e186\"],[0.8,\"#7fbc41\"],[0.9,\"#4d9221\"],[1,\"#276419\"]]},\"xaxis\":{\"gridcolor\":\"#283442\",\"linecolor\":\"#506784\",\"ticks\":\"\",\"title\":{\"standoff\":15},\"zerolinecolor\":\"#283442\",\"automargin\":true,\"zerolinewidth\":2},\"yaxis\":{\"gridcolor\":\"#283442\",\"linecolor\":\"#506784\",\"ticks\":\"\",\"title\":{\"standoff\":15},\"zerolinecolor\":\"#283442\",\"automargin\":true,\"zerolinewidth\":2},\"scene\":{\"xaxis\":{\"backgroundcolor\":\"rgb(17,17,17)\",\"gridcolor\":\"#506784\",\"linecolor\":\"#506784\",\"showbackground\":true,\"ticks\":\"\",\"zerolinecolor\":\"#C8D4E3\",\"gridwidth\":2},\"yaxis\":{\"backgroundcolor\":\"rgb(17,17,17)\",\"gridcolor\":\"#506784\",\"linecolor\":\"#506784\",\"showbackground\":true,\"ticks\":\"\",\"zerolinecolor\":\"#C8D4E3\",\"gridwidth\":2},\"zaxis\":{\"backgroundcolor\":\"rgb(17,17,17)\",\"gridcolor\":\"#506784\",\"linecolor\":\"#506784\",\"showbackground\":true,\"ticks\":\"\",\"zerolinecolor\":\"#C8D4E3\",\"gridwidth\":2}},\"shapedefaults\":{\"line\":{\"color\":\"#f2f5fa\"}},\"annotationdefaults\":{\"arrowcolor\":\"#f2f5fa\",\"arrowhead\":0,\"arrowwidth\":1},\"geo\":{\"bgcolor\":\"rgb(17,17,17)\",\"landcolor\":\"rgb(17,17,17)\",\"subunitcolor\":\"#506784\",\"showland\":true,\"showlakes\":true,\"lakecolor\":\"rgb(17,17,17)\"},\"title\":{\"x\":0.05},\"updatemenudefaults\":{\"bgcolor\":\"#506784\",\"borderwidth\":0},\"sliderdefaults\":{\"bgcolor\":\"#C8D4E3\",\"borderwidth\":1,\"bordercolor\":\"rgb(17,17,17)\",\"tickwidth\":0},\"mapbox\":{\"style\":\"dark\"}}},\"coloraxis\":{\"colorbar\":{\"title\":{\"text\":\"color\"}},\"colorscale\":[[0.0,\"rgb(103,0,31)\"],[0.1,\"rgb(178,24,43)\"],[0.2,\"rgb(214,96,77)\"],[0.3,\"rgb(244,165,130)\"],[0.4,\"rgb(253,219,199)\"],[0.5,\"rgb(247,247,247)\"],[0.6,\"rgb(209,229,240)\"],[0.7,\"rgb(146,197,222)\"],[0.8,\"rgb(67,147,195)\"],[0.9,\"rgb(33,102,172)\"],[1.0,\"rgb(5,48,97)\"]]},\"legend\":{\"tracegroupgap\":0},\"margin\":{\"t\":50,\"l\":25,\"r\":25,\"b\":25},\"uniformtext\":{\"minsize\":10,\"mode\":\"hide\"},\"autosize\":false,\"width\":1000,\"height\":1000},                        {\"responsive\": true}                    ).then(function(){\n",
       "                            \n",
       "var gd = document.getElementById('c1b36abd-3622-4d1e-b90b-56828ce2bb56');\n",
       "var x = new MutationObserver(function (mutations, observer) {{\n",
       "        var display = window.getComputedStyle(gd).display;\n",
       "        if (!display || display === 'none') {{\n",
       "            console.log([gd, 'removed!']);\n",
       "            Plotly.purge(gd);\n",
       "            observer.disconnect();\n",
       "        }}\n",
       "}});\n",
       "\n",
       "// Listen for the removal of the full notebook cells\n",
       "var notebookContainer = gd.closest('#notebook-container');\n",
       "if (notebookContainer) {{\n",
       "    x.observe(notebookContainer, {childList: true});\n",
       "}}\n",
       "\n",
       "// Listen for the clearing of the current output cell\n",
       "var outputEl = gd.closest('.output');\n",
       "if (outputEl) {{\n",
       "    x.observe(outputEl, {childList: true});\n",
       "}}\n",
       "\n",
       "                        })                };                });            </script>        </div>"
      ]
     },
     "metadata": {},
     "output_type": "display_data"
    }
   ],
   "source": [
    "import plotly.express as px\n",
    "import pandas as pd\n",
    "import numpy as np\n",
    "df_all_files = pd.read_csv('all_files2.csv')\n",
    "fig = px.treemap(\n",
    "    names = df_all_files['filename'],\n",
    "    parents = df_all_files['path'],\n",
    "    color=df_scores_file['ownership'],\n",
    "    hover_data=[df_all_files['filename'],df_scores_file['main-dev']],\n",
    "    color_continuous_scale='RdBu',\n",
    "    #color_continuous_midpoint=np.average(np.zeros(len(df_all_files)), weights=np.ones(len(df_all_files)))\n",
    ")\n",
    "#fig.update_traces(marker=dict(cornerradius=5))\n",
    "fig.update_layout(\n",
    "    uniformtext=dict(minsize=10, mode='hide'),\n",
    "    margin = dict(t=50, l=25, r=25, b=25),\n",
    "    autosize=False,\n",
    "    width=1000,\n",
    "    height=1000\n",
    ")\n",
    "\n",
    "fig.write_html(\"map.html\")\n",
    "\n",
    "#from IPython.core.display import HTML\n",
    "#HTML(fig.to_html(full_html=True))\n",
    "fig"
   ]
  }
 ],
 "metadata": {
  "kernelspec": {
   "display_name": "Python 3",
   "language": "python",
   "name": "python3"
  },
  "language_info": {
   "codemirror_mode": {
    "name": "ipython",
    "version": 2
   },
   "file_extension": ".py",
   "mimetype": "text/x-python",
   "name": "python",
   "nbconvert_exporter": "python",
   "pygments_lexer": "ipython2",
   "version": "2.7.6"
  }
 },
 "nbformat": 4,
 "nbformat_minor": 5
}
